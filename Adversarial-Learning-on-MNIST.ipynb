{
 "cells": [
  {
   "cell_type": "markdown",
   "metadata": {
    "id": "N_G0ddoulBej",
    "pycharm": {
     "name": "#%% md\n"
    }
   },
   "source": [
    "## Load the Adult Data"
   ]
  },
  {
   "cell_type": "code",
   "execution_count": 19,
   "metadata": {
    "colab": {
     "base_uri": "https://localhost:8080/"
    },
    "executionInfo": {
     "elapsed": 952,
     "status": "ok",
     "timestamp": 1652819221821,
     "user": {
      "displayName": "Ian Hardy",
      "userId": "01608928063074550753"
     },
     "user_tz": 420
    },
    "id": "JaPRBx11-3Ye",
    "outputId": "fc8ee316-88f6-46b4-c20b-96a549e9ea7e"
   },
   "outputs": [
    {
     "name": "stdout",
     "output_type": "stream",
     "text": [
      "Drive already mounted at /content/drive; to attempt to forcibly remount, call drive.mount(\"/content/drive\", force_remount=True).\n"
     ]
    }
   ],
   "source": [
    "## If Running in google colab\n",
    "from google.colab import drive\n",
    "drive.mount('/content/drive')\n",
    "\n"
   ]
  },
  {
   "cell_type": "code",
   "execution_count": 20,
   "metadata": {
    "executionInfo": {
     "elapsed": 5,
     "status": "ok",
     "timestamp": 1652819221822,
     "user": {
      "displayName": "Ian Hardy",
      "userId": "01608928063074550753"
     },
     "user_tz": 420
    },
    "id": "vjaT7Kcg_DXB"
   },
   "outputs": [],
   "source": [
    "dir_path = '/content/drive/MyDrive/CSE_248/'\n"
   ]
  },
  {
   "cell_type": "code",
   "execution_count": 22,
   "metadata": {
    "colab": {
     "base_uri": "https://localhost:8080/"
    },
    "executionInfo": {
     "elapsed": 4254,
     "status": "ok",
     "timestamp": 1652819233953,
     "user": {
      "displayName": "Ian Hardy",
      "userId": "01608928063074550753"
     },
     "user_tz": 420
    },
    "id": "gPffwDCNlIv6",
    "outputId": "e01dc489-ec8c-4c68-fe22-578f50fa4885"
   },
   "outputs": [
    {
     "name": "stdout",
     "output_type": "stream",
     "text": [
      "Requirement already satisfied: torchattacks in /usr/local/lib/python3.7/dist-packages (3.2.6)\n"
     ]
    }
   ],
   "source": [
    "!pip install torchattacks"
   ]
  },
  {
   "cell_type": "code",
   "execution_count": 2,
   "metadata": {
    "executionInfo": {
     "elapsed": 168,
     "status": "ok",
     "timestamp": 1652819938630,
     "user": {
      "displayName": "Ian Hardy",
      "userId": "01608928063074550753"
     },
     "user_tz": 420
    },
    "id": "HouILEUYlBeo",
    "pycharm": {
     "name": "#%%\n"
    }
   },
   "outputs": [],
   "source": [
    "import numpy as np\n",
    "import torch\n",
    "import torchattacks\n",
    "from torch.utils.data import TensorDataset, DataLoader\n",
    "\n"
   ]
  },
  {
   "cell_type": "markdown",
   "metadata": {
    "id": "qwqg7d74lBep",
    "pycharm": {
     "name": "#%% md\n"
    }
   },
   "source": [
    "Load the MNIST dataset as numpy array."
   ]
  },
  {
   "cell_type": "code",
   "execution_count": 3,
   "metadata": {
    "executionInfo": {
     "elapsed": 216,
     "status": "ok",
     "timestamp": 1652819939460,
     "user": {
      "displayName": "Ian Hardy",
      "userId": "01608928063074550753"
     },
     "user_tz": 420
    },
    "id": "eTRlujiVpiOC"
   },
   "outputs": [],
   "source": [
    "from sklearn import datasets\n",
    "mnist = datasets.load_digits()\n"
   ]
  },
  {
   "cell_type": "code",
   "execution_count": 4,
   "metadata": {
    "colab": {
     "base_uri": "https://localhost:8080/"
    },
    "executionInfo": {
     "elapsed": 5,
     "status": "ok",
     "timestamp": 1652819939859,
     "user": {
      "displayName": "Ian Hardy",
      "userId": "01608928063074550753"
     },
     "user_tz": 420
    },
    "id": "0j2OMIFzplEI",
    "outputId": "fedc215d-ccfb-4c13-efd1-f1ed9ca79a89"
   },
   "outputs": [
    {
     "data": {
      "text/plain": [
       "dict_keys(['data', 'target', 'frame', 'feature_names', 'target_names', 'images', 'DESCR'])"
      ]
     },
     "execution_count": 4,
     "metadata": {},
     "output_type": "execute_result"
    }
   ],
   "source": [
    "mnist.keys()"
   ]
  },
  {
   "cell_type": "code",
   "execution_count": 5,
   "metadata": {
    "colab": {
     "base_uri": "https://localhost:8080/"
    },
    "executionInfo": {
     "elapsed": 5,
     "status": "ok",
     "timestamp": 1652819940390,
     "user": {
      "displayName": "Ian Hardy",
      "userId": "01608928063074550753"
     },
     "user_tz": 420
    },
    "id": "hstAzhGUpsuV",
    "outputId": "edea648e-ed0c-44f5-fbf4-53c54dd6032d"
   },
   "outputs": [
    {
     "data": {
      "text/plain": [
       "(1797, 64)"
      ]
     },
     "execution_count": 5,
     "metadata": {},
     "output_type": "execute_result"
    }
   ],
   "source": [
    "mnist['data'].shape"
   ]
  },
  {
   "cell_type": "code",
   "execution_count": 6,
   "metadata": {
    "colab": {
     "base_uri": "https://localhost:8080/"
    },
    "executionInfo": {
     "elapsed": 4,
     "status": "ok",
     "timestamp": 1652819940988,
     "user": {
      "displayName": "Ian Hardy",
      "userId": "01608928063074550753"
     },
     "user_tz": 420
    },
    "id": "atASvhdBtcRv",
    "outputId": "5d309dbf-5139-4045-e1ea-399ce16d2806"
   },
   "outputs": [
    {
     "data": {
      "text/plain": [
       "array([False,  True, False, ..., False, False, False])"
      ]
     },
     "execution_count": 6,
     "metadata": {},
     "output_type": "execute_result"
    }
   ],
   "source": [
    "mnist['target']==1"
   ]
  },
  {
   "cell_type": "code",
   "execution_count": 7,
   "metadata": {
    "colab": {
     "base_uri": "https://localhost:8080/"
    },
    "executionInfo": {
     "elapsed": 5,
     "status": "ok",
     "timestamp": 1652819941505,
     "user": {
      "displayName": "Ian Hardy",
      "userId": "01608928063074550753"
     },
     "user_tz": 420
    },
    "id": "BuZ_bzgnth3s",
    "outputId": "8940a35a-3995-4861-e24f-e7aae7dc3b4d"
   },
   "outputs": [
    {
     "data": {
      "text/plain": [
       "array([ True, False, False, ..., False, False, False])"
      ]
     },
     "execution_count": 7,
     "metadata": {},
     "output_type": "execute_result"
    }
   ],
   "source": [
    "mnist['target']==0"
   ]
  },
  {
   "cell_type": "code",
   "execution_count": 8,
   "metadata": {
    "executionInfo": {
     "elapsed": 185,
     "status": "ok",
     "timestamp": 1652820034423,
     "user": {
      "displayName": "Ian Hardy",
      "userId": "01608928063074550753"
     },
     "user_tz": 420
    },
    "id": "bb5tEyySpxll"
   },
   "outputs": [],
   "source": [
    "z_targ = mnist['target']==0\n",
    "o_targ = mnist['target']==1\n",
    "features = mnist['data'][[a or b for a, b in zip(z_targ, o_targ)]]\n",
    "label = mnist['target'][[a or b for a, b in zip(z_targ, o_targ)]]"
   ]
  },
  {
   "cell_type": "markdown",
   "metadata": {
    "id": "354lFgeXlBep",
    "pycharm": {
     "name": "#%% md\n"
    }
   },
   "source": [
    "Load the numpy array as torch tensors."
   ]
  },
  {
   "cell_type": "code",
   "execution_count": 9,
   "metadata": {
    "colab": {
     "base_uri": "https://localhost:8080/"
    },
    "executionInfo": {
     "elapsed": 5,
     "status": "ok",
     "timestamp": 1652820035184,
     "user": {
      "displayName": "Ian Hardy",
      "userId": "01608928063074550753"
     },
     "user_tz": 420
    },
    "id": "yZ4WiV0JlBeq",
    "outputId": "d0b4e5e1-2965-4951-a606-8f8e9e4c0ea2",
    "pycharm": {
     "name": "#%%\n"
    }
   },
   "outputs": [
    {
     "name": "stdout",
     "output_type": "stream",
     "text": [
      "(360, 64) (360,)\n",
      "[0.00000000e+00 1.66666667e-02 3.31111111e+00 1.11305556e+01\n",
      " 1.08472222e+01 4.51944444e+00 5.19444444e-01 0.00000000e+00\n",
      " 0.00000000e+00 4.86111111e-01 8.27500000e+00 1.30638889e+01\n",
      " 1.27333333e+01 9.89444444e+00 1.08611111e+00 0.00000000e+00\n",
      " 5.55555556e-03 2.40277778e+00 1.06250000e+01 1.01138889e+01\n",
      " 8.20000000e+00 9.75277778e+00 2.09444444e+00 0.00000000e+00\n",
      " 2.77777778e-03 3.69166667e+00 1.08750000e+01 8.20833333e+00\n",
      " 7.07777778e+00 7.64166667e+00 3.37500000e+00 0.00000000e+00\n",
      " 0.00000000e+00 3.48611111e+00 9.16666667e+00 6.44166667e+00\n",
      " 6.94444444e+00 7.14444444e+00 3.70555556e+00 0.00000000e+00\n",
      " 0.00000000e+00 1.94722222e+00 9.18611111e+00 6.01666667e+00\n",
      " 7.53888889e+00 8.56388889e+00 3.07222222e+00 0.00000000e+00\n",
      " 0.00000000e+00 4.52777778e-01 8.85555556e+00 1.04583333e+01\n",
      " 1.19805556e+01 1.04416667e+01 2.23055556e+00 3.25000000e-01\n",
      " 0.00000000e+00 5.55555556e-03 3.18888889e+00 1.13250000e+01\n",
      " 1.31750000e+01 7.02500000e+00 1.67777778e+00 7.55555556e-01] [0.         0.16583124 3.31794597 4.88218527 4.08744596 4.91026812\n",
      " 1.57926133 0.         0.         1.33949675 5.8146785  4.16584344\n",
      " 4.42480382 5.33020452 2.23627329 0.         0.10526275 2.95738117\n",
      " 5.74707051 6.09834462 6.95413546 5.48356059 2.69711208 0.\n",
      " 0.05263138 3.35359467 4.92650851 7.12884886 7.31471542 5.12097403\n",
      " 3.56073299 0.         0.         3.19979624 5.3696679  6.93837457\n",
      " 7.26079443 5.11221003 3.95839084 0.         0.         2.3523022\n",
      " 6.196444   6.63825195 6.77566224 5.59675763 3.84567658 0.\n",
      " 0.         1.04774523 5.78707585 5.13954575 4.11192841 5.81969238\n",
      " 3.48323919 1.43466508 0.         0.07432827 3.08092499 4.93203108\n",
      " 2.95614943 5.43721104 4.11454811 2.94415093]\n"
     ]
    }
   ],
   "source": [
    "print(features.shape, label.shape)\n",
    "\n",
    "import torchvision\n",
    "mean = np.mean(features, axis=0)\n",
    "std = np.std(features, axis=0)\n",
    "\n",
    "transforms=torchvision.transforms.Normalize(mean=mean, std=std)\n",
    "print(mean, std)\n",
    "# torchvision.transforms.Normalize(\n",
    "#       [, meanOfChannel2, meanOfChannel3] \n",
    "#     , [stdOfChannel1, stdOfChannel2, stdOfChannel3] \n",
    "# )"
   ]
  },
  {
   "cell_type": "code",
   "execution_count": 10,
   "metadata": {
    "colab": {
     "base_uri": "https://localhost:8080/"
    },
    "executionInfo": {
     "elapsed": 3,
     "status": "ok",
     "timestamp": 1652820035365,
     "user": {
      "displayName": "Ian Hardy",
      "userId": "01608928063074550753"
     },
     "user_tz": 420
    },
    "id": "TizDYn50lBer",
    "outputId": "0a392534-56fb-4664-be31-d1d22c024b82",
    "pycharm": {
     "name": "#%%\n"
    }
   },
   "outputs": [
    {
     "name": "stdout",
     "output_type": "stream",
     "text": [
      "The training data has the size of 288 and the val has the size of 72\n"
     ]
    }
   ],
   "source": [
    "SEED = 0\n",
    "BATCH_SIZE = 128 \n",
    "\n",
    "\n",
    "\n",
    "# generate the training data index and validation data index\n",
    "np.random.seed(SEED)\n",
    "random_index = np.random.rand(len(features))  \n",
    "random_index = np.argsort(random_index)\n",
    "train_index = random_index[: int(len(features)*0.8)]  # 80% data for training\n",
    "val_index = random_index[int(len(features)*0.8):]\n",
    "\n",
    "\n",
    "# generate the training data and validation data\n",
    "train_data = features[train_index]\n",
    "train_label = label[train_index]\n",
    "val_data = features[val_index]\n",
    "val_label = label[val_index]\n",
    "print('The training data has the size of {} and the val has the size of {}'.format(str(len(train_data)), str(len(val_data))))\n",
    "\n",
    "\n",
    "# prepare the dataloader\n",
    "train_dataset = TensorDataset(torch.Tensor(train_data).float(), torch.Tensor(train_label))\n",
    "val_dataset = TensorDataset(torch.Tensor(val_data).float(), torch.Tensor(val_label))\n",
    "train_loader = DataLoader(train_dataset, batch_size=BATCH_SIZE, shuffle=True, pin_memory=True, num_workers=0) \n",
    "val_loader = DataLoader(val_dataset, batch_size=BATCH_SIZE, shuffle=False, pin_memory=True, num_workers=0, drop_last=False)\n",
    "\n"
   ]
  },
  {
   "cell_type": "code",
   "execution_count": 12,
   "metadata": {
    "executionInfo": {
     "elapsed": 223,
     "status": "ok",
     "timestamp": 1652820035808,
     "user": {
      "displayName": "Ian Hardy",
      "userId": "01608928063074550753"
     },
     "user_tz": 420
    },
    "id": "TXEiiHM9lBes",
    "pycharm": {
     "name": "#%%\n"
    }
   },
   "outputs": [],
   "source": [
    "import torch.nn as nn\n",
    "from torch.nn.functional import normalize\n",
    "\n",
    "# prepare our network\n",
    "class my_net(nn.Module):\n",
    "    def __init__(self, input_dim=64, emb_dim=64, mlp_ratio=4, num_classes=2): \n",
    "        super().__init__()  \n",
    "        \n",
    "        self.embedding = nn.Linear(input_dim, emb_dim)\n",
    "        self.block1 = nn.Sequential(\n",
    "            nn.Linear(emb_dim, emb_dim*mlp_ratio),\n",
    "             nn.GELU(),\n",
    "             nn.Linear(emb_dim*mlp_ratio, emb_dim),\n",
    "             )\n",
    "        self.block2 = nn.Sequential(\n",
    "            nn.Linear(emb_dim, emb_dim*mlp_ratio),\n",
    "             nn.GELU(),\n",
    "             nn.Linear(emb_dim*mlp_ratio, emb_dim),\n",
    "             )\n",
    "        self.cls = nn.Sequential(\n",
    "             nn.LayerNorm(emb_dim),\n",
    "             nn.Linear(emb_dim,  num_classes) \n",
    "        )\n",
    "    \n",
    "    def forward(self, x):\n",
    "        \n",
    "        x = self.embedding(x)\n",
    "        x = self.block1(x)             \n",
    "        x = self.cls(x)\n",
    "        \n",
    "        return x\n",
    "\n",
    "\n",
    "def topk(output, target, ks=(1,)):\n",
    "    \"\"\"Returns one boolean vector for each k, whether the target is within the output's top-k.\"\"\"\n",
    "    batch_size = output.size(0)\n",
    "    _, pred = output.topk(max(ks), 1, True, True)\n",
    "    pred = pred.t()\n",
    "    correct = pred.eq(target.view(1, -1).expand_as(pred))\n",
    "    return [correct[:k].max(0)[0].float().mean() for k in ks]\n",
    "\n",
    "def normalization(tensor):\n",
    "    return normalize(tensor, p=2.0, dim = 0)"
   ]
  },
  {
   "cell_type": "code",
   "execution_count": 86,
   "metadata": {
    "colab": {
     "base_uri": "https://localhost:8080/"
    },
    "executionInfo": {
     "elapsed": 834,
     "status": "ok",
     "timestamp": 1652820046585,
     "user": {
      "displayName": "Ian Hardy",
      "userId": "01608928063074550753"
     },
     "user_tz": 420
    },
    "id": "NZk7Sg2ZlBes",
    "outputId": "f1ef66d9-8118-4fb8-e00e-1bbfaac00ebe",
    "pycharm": {
     "name": "#%%\n"
    }
   },
   "outputs": [
    {
     "name": "stdout",
     "output_type": "stream",
     "text": [
      "Epoch 0 Current Step 0/3: loss is 0.920116\n",
      "------------------------------------------------\n",
      "Epoch 0 Validation acc is 0.416667\n",
      "Epoch 1 Current Step 0/3: loss is 3.498508\n",
      "------------------------------------------------\n",
      "Epoch 1 Validation acc is 0.583333\n",
      "Epoch 2 Current Step 0/3: loss is 2.351151\n",
      "------------------------------------------------\n",
      "Epoch 2 Validation acc is 0.416667\n",
      "Epoch 3 Current Step 0/3: loss is 1.635259\n",
      "------------------------------------------------\n",
      "Epoch 3 Validation acc is 0.583333\n",
      "Epoch 4 Current Step 0/3: loss is 0.921628\n",
      "------------------------------------------------\n",
      "Epoch 4 Validation acc is 0.416667\n",
      "Epoch 5 Current Step 0/3: loss is 0.734901\n",
      "------------------------------------------------\n",
      "Epoch 5 Validation acc is 0.416667\n",
      "Epoch 6 Current Step 0/3: loss is 0.651293\n",
      "------------------------------------------------\n",
      "Epoch 6 Validation acc is 0.583333\n",
      "Epoch 7 Current Step 0/3: loss is 0.757719\n",
      "------------------------------------------------\n",
      "Epoch 7 Validation acc is 0.416667\n",
      "Epoch 8 Current Step 0/3: loss is 0.632900\n",
      "------------------------------------------------\n",
      "Epoch 8 Validation acc is 0.986111\n",
      "Epoch 9 Current Step 0/3: loss is 0.433567\n",
      "------------------------------------------------\n",
      "Epoch 9 Validation acc is 1.000000\n",
      "Epoch 10 Current Step 0/3: loss is 0.276775\n",
      "------------------------------------------------\n",
      "Epoch 10 Validation acc is 0.888889\n",
      "Epoch 11 Current Step 0/3: loss is 0.121781\n",
      "------------------------------------------------\n",
      "Epoch 11 Validation acc is 1.000000\n",
      "Epoch 12 Current Step 0/3: loss is 0.046333\n",
      "------------------------------------------------\n",
      "Epoch 12 Validation acc is 1.000000\n",
      "Epoch 13 Current Step 0/3: loss is 0.034992\n",
      "------------------------------------------------\n",
      "Epoch 13 Validation acc is 1.000000\n",
      "Epoch 14 Current Step 0/3: loss is 0.001521\n",
      "------------------------------------------------\n",
      "Epoch 14 Validation acc is 0.944444\n",
      "Epoch 15 Current Step 0/3: loss is 0.114869\n",
      "------------------------------------------------\n",
      "Epoch 15 Validation acc is 1.000000\n",
      "Epoch 16 Current Step 0/3: loss is 0.015160\n",
      "------------------------------------------------\n",
      "Epoch 16 Validation acc is 1.000000\n",
      "Epoch 17 Current Step 0/3: loss is 0.040830\n",
      "------------------------------------------------\n",
      "Epoch 17 Validation acc is 1.000000\n",
      "Epoch 18 Current Step 0/3: loss is 0.016162\n",
      "------------------------------------------------\n",
      "Epoch 18 Validation acc is 0.958333\n",
      "Epoch 19 Current Step 0/3: loss is 0.030983\n",
      "------------------------------------------------\n",
      "Epoch 19 Validation acc is 0.972222\n",
      "Epoch 20 Current Step 0/3: loss is 0.017499\n",
      "------------------------------------------------\n",
      "Epoch 20 Validation acc is 1.000000\n",
      "Epoch 21 Current Step 0/3: loss is 0.000052\n",
      "------------------------------------------------\n",
      "Epoch 21 Validation acc is 1.000000\n",
      "Epoch 22 Current Step 0/3: loss is 0.000054\n",
      "------------------------------------------------\n",
      "Epoch 22 Validation acc is 1.000000\n",
      "Epoch 23 Current Step 0/3: loss is 0.000003\n",
      "------------------------------------------------\n",
      "Epoch 23 Validation acc is 1.000000\n",
      "Epoch 24 Current Step 0/3: loss is 0.000005\n",
      "------------------------------------------------\n",
      "Epoch 24 Validation acc is 1.000000\n",
      "Epoch 25 Current Step 0/3: loss is 0.000276\n",
      "------------------------------------------------\n",
      "Epoch 25 Validation acc is 1.000000\n",
      "Epoch 26 Current Step 0/3: loss is 0.000044\n",
      "------------------------------------------------\n",
      "Epoch 26 Validation acc is 1.000000\n",
      "Epoch 27 Current Step 0/3: loss is 0.000003\n",
      "------------------------------------------------\n",
      "Epoch 27 Validation acc is 1.000000\n",
      "Epoch 28 Current Step 0/3: loss is 0.000213\n",
      "------------------------------------------------\n",
      "Epoch 28 Validation acc is 1.000000\n",
      "Epoch 29 Current Step 0/3: loss is 0.000083\n",
      "------------------------------------------------\n",
      "Epoch 29 Validation acc is 1.000000\n",
      "Epoch 30 Current Step 0/3: loss is 0.000257\n",
      "------------------------------------------------\n",
      "Epoch 30 Validation acc is 1.000000\n",
      "Epoch 31 Current Step 0/3: loss is 0.000001\n",
      "------------------------------------------------\n",
      "Epoch 31 Validation acc is 1.000000\n",
      "Epoch 32 Current Step 0/3: loss is 0.000040\n",
      "------------------------------------------------\n",
      "Epoch 32 Validation acc is 1.000000\n",
      "Epoch 33 Current Step 0/3: loss is 0.000073\n",
      "------------------------------------------------\n",
      "Epoch 33 Validation acc is 1.000000\n",
      "Epoch 34 Current Step 0/3: loss is 0.000002\n",
      "------------------------------------------------\n",
      "Epoch 34 Validation acc is 1.000000\n",
      "Epoch 35 Current Step 0/3: loss is 0.000003\n",
      "------------------------------------------------\n",
      "Epoch 35 Validation acc is 1.000000\n",
      "Epoch 36 Current Step 0/3: loss is 0.000001\n",
      "------------------------------------------------\n",
      "Epoch 36 Validation acc is 1.000000\n",
      "Epoch 37 Current Step 0/3: loss is 0.000039\n",
      "------------------------------------------------\n",
      "Epoch 37 Validation acc is 1.000000\n",
      "Epoch 38 Current Step 0/3: loss is 0.000001\n",
      "------------------------------------------------\n",
      "Epoch 38 Validation acc is 1.000000\n",
      "Epoch 39 Current Step 0/3: loss is 0.000002\n",
      "------------------------------------------------\n",
      "Epoch 39 Validation acc is 1.000000\n"
     ]
    }
   ],
   "source": [
    "LR = 0.1\n",
    "NUM_EPOCH = 40\n",
    "LOG_STEP = 200\n",
    "\n",
    "\n",
    "our_net = my_net()\n",
    "criterion = torch.nn.CrossEntropyLoss()\n",
    "optim = torch.optim.SGD(our_net.parameters(), lr=LR, momentum=0.9)\n",
    "scheduler = torch.optim.lr_scheduler.CosineAnnealingLR(optim, T_max=NUM_EPOCH)\n",
    "\n",
    "train_all_loss = []\n",
    "val_all_loss = []\n",
    "train_acc = []\n",
    "val_acc = []\n",
    "\n",
    "for epoch in range(NUM_EPOCH):\n",
    "    our_net.train()\n",
    "    avg_top1 = []\n",
    "    for batch_id, (train_sample, train_labels) in enumerate(train_loader):   \n",
    "        \n",
    "        train_labels = train_labels.long()\n",
    "        # output = our_net(normalization(train_sample, mean=mean, std=std))\n",
    "        output = our_net(normalization(train_sample))\n",
    "        loss = criterion(output, train_labels)\n",
    "        optim.zero_grad()\n",
    "        loss.backward()\n",
    "        optim.step()\n",
    "        train_all_loss.append(loss.item())\n",
    "        top1 = topk(output, train_labels, ks=(1,))\n",
    "        avg_top1.extend(top1)\n",
    "        if batch_id % LOG_STEP ==0:\n",
    "            print('Epoch {} Current Step {}/{}: loss is {losses:.6f}'\n",
    "                  .format(str(epoch) ,str(batch_id), str(len(train_loader)), losses = loss.item()))\n",
    "    train_acc.append(np.mean(avg_top1))\n",
    "    our_net.eval()\n",
    "    avg_top1 = []\n",
    "    with torch.no_grad():\n",
    "        for  batch_id, (val_sample, val_labels) in enumerate(val_loader):\n",
    "            val_labels = val_labels.long()\n",
    "            # outputs = our_net(normalization(val_sample, mean=mean, std=std).float())\n",
    "            outputs = our_net(normalization(val_sample))\n",
    "            loss = criterion(outputs, val_labels)\n",
    "            val_all_loss.append(loss.item())\n",
    "            top1 = topk(outputs, val_labels, ks=(1,))\n",
    "            avg_top1.extend(top1)\n",
    "        print('------------------------------------------------')\n",
    "        print('Epoch {} Validation acc is {top1:.6f}'\n",
    "                  .format(str(epoch), top1 = np.mean(avg_top1)))\n",
    "    val_acc.append(np.mean(avg_top1))\n",
    "        \n",
    "        "
   ]
  },
  {
   "cell_type": "code",
   "execution_count": 87,
   "metadata": {
    "colab": {
     "base_uri": "https://localhost:8080/",
     "height": 635
    },
    "executionInfo": {
     "elapsed": 572,
     "status": "ok",
     "timestamp": 1652820054839,
     "user": {
      "displayName": "Ian Hardy",
      "userId": "01608928063074550753"
     },
     "user_tz": 420
    },
    "id": "MgEC3qmKlBet",
    "outputId": "03f2d05d-792e-43c0-8467-410391349dad",
    "pycharm": {
     "name": "#%%\n"
    }
   },
   "outputs": [
    {
     "data": {
      "image/png": "[encoded data removed]",
      "text/plain": [
       "<Figure size 1440x720 with 1 Axes>"
      ]
     },
     "metadata": {},
     "output_type": "display_data"
    }
   ],
   "source": [
    "import matplotlib.pyplot as plt\n",
    "import matplotlib\n",
    "import matplotlib.pylab as pylab\n",
    "import numpy as np\n",
    "import os\n",
    "import matplotlib.pyplot as plt\n",
    "import matplotlib\n",
    "import matplotlib.pylab as pylab\n",
    "import numpy as np\n",
    "import os\n",
    "\n",
    "\n",
    "# plot the loss and acc\n",
    "def plot_loss_fig(train_loss, val_loss):\n",
    "    myparams = {\n",
    "\n",
    "   'axes.labelsize': '20',\n",
    "\n",
    "   'xtick.labelsize': '20',\n",
    "\n",
    "   'ytick.labelsize': '20',\n",
    "\n",
    "   'lines.linewidth': 2,\n",
    "\n",
    "   'legend.fontsize': '15',\n",
    "\n",
    "   'font.family': 'Times New Roman',\n",
    "}\n",
    "\n",
    "    pylab.rcParams.update(myparams) \n",
    "\n",
    "    plt.style.use('ggplot')\n",
    "    fig = plt.figure(figsize=(20,10))\n",
    "\n",
    "    plt.plot(range(len(train_loss)), train_loss, label = 'train loss')\n",
    "    plt.plot(range(len(val_loss)), val_loss, label = 'val loss')\n",
    "    \n",
    "    plt.grid(True)  # add grid\n",
    "    plt.legend()\n",
    "    plt.title(\"Train/Val Loss\")  \n",
    "    plt.ylabel('Loss') \n",
    "    plt.xlabel('Number of Steps ')\n",
    "plot_loss_fig(train_all_loss, val_all_loss)"
   ]
  },
  {
   "cell_type": "code",
   "execution_count": 88,
   "metadata": {
    "colab": {
     "base_uri": "https://localhost:8080/",
     "height": 635
    },
    "executionInfo": {
     "elapsed": 540,
     "status": "ok",
     "timestamp": 1652820060507,
     "user": {
      "displayName": "Ian Hardy",
      "userId": "01608928063074550753"
     },
     "user_tz": 420
    },
    "id": "WxF7MWYqlBeu",
    "outputId": "b3cb196d-d9a0-4f22-8ae3-d036fbfa02df",
    "pycharm": {
     "name": "#%%\n"
    }
   },
   "outputs": [
    {
     "data": {
      "image/png": "[encoded data removed]",
      "text/plain": [
       "<Figure size 1440x720 with 1 Axes>"
      ]
     },
     "metadata": {},
     "output_type": "display_data"
    }
   ],
   "source": [
    "import matplotlib.pyplot as plt\n",
    "import matplotlib\n",
    "import matplotlib.pylab as pylab\n",
    "import numpy as np\n",
    "import os\n",
    "import matplotlib.pyplot as plt\n",
    "import matplotlib\n",
    "import matplotlib.pylab as pylab\n",
    "import numpy as np\n",
    "import os\n",
    "\n",
    "\n",
    "# plot the acc and acc\n",
    "def plot_acc_fig(train_acc, val_acc):\n",
    "    myparams = {\n",
    "\n",
    "   'axes.labelsize': '20',\n",
    "\n",
    "   'xtick.labelsize': '20',\n",
    "\n",
    "   'ytick.labelsize': '20',\n",
    "\n",
    "   'lines.linewidth': 2,\n",
    "\n",
    "   'legend.fontsize': '15',\n",
    "\n",
    "   'font.family': 'Times New Roman',\n",
    "}\n",
    "\n",
    "    pylab.rcParams.update(myparams) \n",
    "\n",
    "    plt.style.use('ggplot')\n",
    "    fig = plt.figure(figsize=(20,10))\n",
    "\n",
    "    plt.plot(range(len(train_acc)), train_acc, label = 'train loss')\n",
    "    plt.plot(range(len(val_acc)), val_acc, label = 'val loss')\n",
    "    \n",
    "    plt.grid(True)  # add grid\n",
    "    plt.legend()\n",
    "    plt.title(\"Train/Val Acc\")  \n",
    "    plt.ylabel('Acc') \n",
    "    plt.xlabel('Number of Epochs ')\n",
    "plot_acc_fig(train_acc, val_acc)"
   ]
  },
  {
   "cell_type": "code",
   "execution_count": 89,
   "metadata": {
    "executionInfo": {
     "elapsed": 141,
     "status": "ok",
     "timestamp": 1652820065941,
     "user": {
      "displayName": "Ian Hardy",
      "userId": "01608928063074550753"
     },
     "user_tz": 420
    },
    "id": "rANc3skVlBew"
   },
   "outputs": [],
   "source": [
    "torch.save(our_net.state_dict(), dir_path+'naturally_trained_model_mnist.pt')"
   ]
  },
  {
   "cell_type": "markdown",
   "metadata": {
    "id": "0NejlU4smu-Q"
   },
   "source": [
    "# Adversarial Training Procedure\n"
   ]
  },
  {
   "cell_type": "code",
   "execution_count": 119,
   "metadata": {
    "colab": {
     "base_uri": "https://localhost:8080/"
    },
    "executionInfo": {
     "elapsed": 16975,
     "status": "ok",
     "timestamp": 1652821017663,
     "user": {
      "displayName": "Ian Hardy",
      "userId": "01608928063074550753"
     },
     "user_tz": 420
    },
    "id": "RF_w5cBSs84F",
    "outputId": "3177a483-083c-40c7-bb1c-4cabff4bea19"
   },
   "outputs": [
    {
     "name": "stdout",
     "output_type": "stream",
     "text": [
      "Epoch 0 Current Step 0/3: loss is 1.187668\n",
      "------------------------------------------------\n",
      "Epoch 0 Validation acc is 0.819444\n",
      "Epoch 1 Current Step 0/3: loss is 0.789829\n",
      "------------------------------------------------\n",
      "Epoch 1 Validation acc is 0.583333\n",
      "Epoch 2 Current Step 0/3: loss is 0.793104\n",
      "------------------------------------------------\n",
      "Epoch 2 Validation acc is 0.416667\n",
      "Epoch 3 Current Step 0/3: loss is 0.787252\n",
      "------------------------------------------------\n",
      "Epoch 3 Validation acc is 0.847222\n",
      "Epoch 4 Current Step 0/3: loss is 0.742940\n",
      "------------------------------------------------\n",
      "Epoch 4 Validation acc is 0.777778\n",
      "Epoch 5 Current Step 0/3: loss is 0.738191\n",
      "------------------------------------------------\n",
      "Epoch 5 Validation acc is 0.416667\n",
      "Epoch 6 Current Step 0/3: loss is 0.714114\n",
      "------------------------------------------------\n",
      "Epoch 6 Validation acc is 0.694444\n",
      "Epoch 7 Current Step 0/3: loss is 0.715536\n",
      "------------------------------------------------\n",
      "Epoch 7 Validation acc is 0.583333\n",
      "Epoch 8 Current Step 0/3: loss is 0.726512\n",
      "------------------------------------------------\n",
      "Epoch 8 Validation acc is 0.416667\n",
      "Epoch 9 Current Step 0/3: loss is 0.709360\n",
      "------------------------------------------------\n",
      "Epoch 9 Validation acc is 0.416667\n",
      "Epoch 10 Current Step 0/3: loss is 0.714343\n",
      "------------------------------------------------\n",
      "Epoch 10 Validation acc is 0.583333\n",
      "Epoch 11 Current Step 0/3: loss is 0.730654\n",
      "------------------------------------------------\n",
      "Epoch 11 Validation acc is 0.416667\n",
      "Epoch 12 Current Step 0/3: loss is 0.702909\n",
      "------------------------------------------------\n",
      "Epoch 12 Validation acc is 0.416667\n",
      "Epoch 13 Current Step 0/3: loss is 0.710935\n",
      "------------------------------------------------\n",
      "Epoch 13 Validation acc is 0.583333\n",
      "Epoch 14 Current Step 0/3: loss is 0.696659\n",
      "------------------------------------------------\n",
      "Epoch 14 Validation acc is 0.416667\n",
      "Epoch 15 Current Step 0/3: loss is 0.702610\n",
      "------------------------------------------------\n",
      "Epoch 15 Validation acc is 0.416667\n",
      "Epoch 16 Current Step 0/3: loss is 0.719750\n",
      "------------------------------------------------\n",
      "Epoch 16 Validation acc is 1.000000\n",
      "Epoch 17 Current Step 0/3: loss is 0.697718\n",
      "------------------------------------------------\n",
      "Epoch 17 Validation acc is 0.583333\n",
      "Epoch 18 Current Step 0/3: loss is 0.698519\n",
      "------------------------------------------------\n",
      "Epoch 18 Validation acc is 0.416667\n",
      "Epoch 19 Current Step 0/3: loss is 0.726350\n",
      "------------------------------------------------\n",
      "Epoch 19 Validation acc is 0.416667\n",
      "Epoch 20 Current Step 0/3: loss is 0.708971\n",
      "------------------------------------------------\n",
      "Epoch 20 Validation acc is 0.583333\n",
      "Epoch 21 Current Step 0/3: loss is 0.698434\n",
      "------------------------------------------------\n",
      "Epoch 21 Validation acc is 0.416667\n",
      "Epoch 22 Current Step 0/3: loss is 0.697929\n",
      "------------------------------------------------\n",
      "Epoch 22 Validation acc is 0.416667\n",
      "Epoch 23 Current Step 0/3: loss is 0.699606\n",
      "------------------------------------------------\n",
      "Epoch 23 Validation acc is 0.416667\n",
      "Epoch 24 Current Step 0/3: loss is 0.706480\n",
      "------------------------------------------------\n",
      "Epoch 24 Validation acc is 0.416667\n",
      "Epoch 25 Current Step 0/3: loss is 0.683647\n",
      "------------------------------------------------\n",
      "Epoch 25 Validation acc is 0.694444\n",
      "Epoch 26 Current Step 0/3: loss is 0.698689\n",
      "------------------------------------------------\n",
      "Epoch 26 Validation acc is 0.583333\n",
      "Epoch 27 Current Step 0/3: loss is 0.695617\n",
      "------------------------------------------------\n",
      "Epoch 27 Validation acc is 0.416667\n",
      "Epoch 28 Current Step 0/3: loss is 0.721890\n",
      "------------------------------------------------\n",
      "Epoch 28 Validation acc is 0.416667\n",
      "Epoch 29 Current Step 0/3: loss is 0.706980\n",
      "------------------------------------------------\n",
      "Epoch 29 Validation acc is 0.652778\n",
      "Epoch 30 Current Step 0/3: loss is 0.698279\n",
      "------------------------------------------------\n",
      "Epoch 30 Validation acc is 0.583333\n",
      "Epoch 31 Current Step 0/3: loss is 0.707523\n",
      "------------------------------------------------\n",
      "Epoch 31 Validation acc is 0.416667\n",
      "Epoch 32 Current Step 0/3: loss is 0.694754\n",
      "------------------------------------------------\n",
      "Epoch 32 Validation acc is 0.416667\n",
      "Epoch 33 Current Step 0/3: loss is 0.704713\n",
      "------------------------------------------------\n",
      "Epoch 33 Validation acc is 0.583333\n",
      "Epoch 34 Current Step 0/3: loss is 0.700927\n",
      "------------------------------------------------\n",
      "Epoch 34 Validation acc is 0.416667\n",
      "Epoch 35 Current Step 0/3: loss is 0.693187\n",
      "------------------------------------------------\n",
      "Epoch 35 Validation acc is 0.416667\n",
      "Epoch 36 Current Step 0/3: loss is 0.710030\n",
      "------------------------------------------------\n",
      "Epoch 36 Validation acc is 0.958333\n",
      "Epoch 37 Current Step 0/3: loss is 0.697352\n",
      "------------------------------------------------\n",
      "Epoch 37 Validation acc is 0.416667\n",
      "Epoch 38 Current Step 0/3: loss is 0.701918\n",
      "------------------------------------------------\n",
      "Epoch 38 Validation acc is 0.416667\n",
      "Epoch 39 Current Step 0/3: loss is 0.695050\n",
      "------------------------------------------------\n",
      "Epoch 39 Validation acc is 0.916667\n",
      "Epoch 40 Current Step 0/3: loss is 0.699599\n",
      "------------------------------------------------\n",
      "Epoch 40 Validation acc is 0.583333\n",
      "Epoch 41 Current Step 0/3: loss is 0.701062\n",
      "------------------------------------------------\n",
      "Epoch 41 Validation acc is 0.416667\n",
      "Epoch 42 Current Step 0/3: loss is 0.721681\n",
      "------------------------------------------------\n",
      "Epoch 42 Validation acc is 0.416667\n",
      "Epoch 43 Current Step 0/3: loss is 0.700817\n",
      "------------------------------------------------\n",
      "Epoch 43 Validation acc is 1.000000\n",
      "Epoch 44 Current Step 0/3: loss is 0.697766\n",
      "------------------------------------------------\n",
      "Epoch 44 Validation acc is 0.652778\n",
      "Epoch 45 Current Step 0/3: loss is 0.699646\n",
      "------------------------------------------------\n",
      "Epoch 45 Validation acc is 0.416667\n",
      "Epoch 46 Current Step 0/3: loss is 0.702836\n",
      "------------------------------------------------\n",
      "Epoch 46 Validation acc is 0.416667\n",
      "Epoch 47 Current Step 0/3: loss is 0.694843\n",
      "------------------------------------------------\n",
      "Epoch 47 Validation acc is 0.583333\n",
      "Epoch 48 Current Step 0/3: loss is 0.697692\n",
      "------------------------------------------------\n",
      "Epoch 48 Validation acc is 0.583333\n",
      "Epoch 49 Current Step 0/3: loss is 0.703320\n",
      "------------------------------------------------\n",
      "Epoch 49 Validation acc is 0.416667\n",
      "Epoch 50 Current Step 0/3: loss is 0.719288\n",
      "------------------------------------------------\n",
      "Epoch 50 Validation acc is 0.625000\n",
      "Epoch 51 Current Step 0/3: loss is 0.694247\n",
      "------------------------------------------------\n",
      "Epoch 51 Validation acc is 0.583333\n",
      "Epoch 52 Current Step 0/3: loss is 0.715013\n",
      "------------------------------------------------\n",
      "Epoch 52 Validation acc is 0.416667\n",
      "Epoch 53 Current Step 0/3: loss is 0.701782\n",
      "------------------------------------------------\n",
      "Epoch 53 Validation acc is 0.416667\n",
      "Epoch 54 Current Step 0/3: loss is 0.687298\n",
      "------------------------------------------------\n",
      "Epoch 54 Validation acc is 0.583333\n",
      "Epoch 55 Current Step 0/3: loss is 0.711684\n",
      "------------------------------------------------\n",
      "Epoch 55 Validation acc is 0.416667\n",
      "Epoch 56 Current Step 0/3: loss is 0.698413\n",
      "------------------------------------------------\n",
      "Epoch 56 Validation acc is 0.416667\n",
      "Epoch 57 Current Step 0/3: loss is 0.699765\n",
      "------------------------------------------------\n",
      "Epoch 57 Validation acc is 0.583333\n",
      "Epoch 58 Current Step 0/3: loss is 0.705965\n",
      "------------------------------------------------\n",
      "Epoch 58 Validation acc is 0.902778\n",
      "Epoch 59 Current Step 0/3: loss is 0.703820\n",
      "------------------------------------------------\n",
      "Epoch 59 Validation acc is 0.416667\n",
      "Epoch 60 Current Step 0/3: loss is 0.719347\n",
      "------------------------------------------------\n",
      "Epoch 60 Validation acc is 0.930556\n",
      "Epoch 61 Current Step 0/3: loss is 0.700736\n",
      "------------------------------------------------\n",
      "Epoch 61 Validation acc is 0.583333\n",
      "Epoch 62 Current Step 0/3: loss is 0.706090\n",
      "------------------------------------------------\n",
      "Epoch 62 Validation acc is 0.416667\n",
      "Epoch 63 Current Step 0/3: loss is 0.702752\n",
      "------------------------------------------------\n",
      "Epoch 63 Validation acc is 0.416667\n",
      "Epoch 64 Current Step 0/3: loss is 0.706334\n",
      "------------------------------------------------\n",
      "Epoch 64 Validation acc is 0.930556\n",
      "Epoch 65 Current Step 0/3: loss is 0.698814\n",
      "------------------------------------------------\n",
      "Epoch 65 Validation acc is 1.000000\n",
      "Epoch 66 Current Step 0/3: loss is 0.704442\n",
      "------------------------------------------------\n",
      "Epoch 66 Validation acc is 0.722222\n",
      "Epoch 67 Current Step 0/3: loss is 0.702551\n",
      "------------------------------------------------\n",
      "Epoch 67 Validation acc is 0.416667\n",
      "Epoch 68 Current Step 0/3: loss is 0.712099\n",
      "------------------------------------------------\n",
      "Epoch 68 Validation acc is 0.583333\n",
      "Epoch 69 Current Step 0/3: loss is 0.741512\n",
      "------------------------------------------------\n",
      "Epoch 69 Validation acc is 0.416667\n",
      "Epoch 70 Current Step 0/3: loss is 0.754079\n",
      "------------------------------------------------\n",
      "Epoch 70 Validation acc is 0.791667\n",
      "Epoch 71 Current Step 0/3: loss is 0.703784\n",
      "------------------------------------------------\n",
      "Epoch 71 Validation acc is 0.638889\n",
      "Epoch 72 Current Step 0/3: loss is 0.723616\n",
      "------------------------------------------------\n",
      "Epoch 72 Validation acc is 0.958333\n",
      "Epoch 73 Current Step 0/3: loss is 0.703138\n",
      "------------------------------------------------\n",
      "Epoch 73 Validation acc is 0.416667\n",
      "Epoch 74 Current Step 0/3: loss is 0.718119\n",
      "------------------------------------------------\n",
      "Epoch 74 Validation acc is 0.930556\n",
      "Epoch 75 Current Step 0/3: loss is 0.707265\n",
      "------------------------------------------------\n",
      "Epoch 75 Validation acc is 0.986111\n",
      "Epoch 76 Current Step 0/3: loss is 0.705924\n",
      "------------------------------------------------\n",
      "Epoch 76 Validation acc is 0.902778\n",
      "Epoch 77 Current Step 0/3: loss is 0.713508\n",
      "------------------------------------------------\n",
      "Epoch 77 Validation acc is 0.819444\n",
      "Epoch 78 Current Step 0/3: loss is 0.707234\n",
      "------------------------------------------------\n",
      "Epoch 78 Validation acc is 0.750000\n",
      "Epoch 79 Current Step 0/3: loss is 0.702962\n",
      "------------------------------------------------\n",
      "Epoch 79 Validation acc is 0.972222\n",
      "Epoch 80 Current Step 0/3: loss is 0.721806\n",
      "------------------------------------------------\n",
      "Epoch 80 Validation acc is 0.958333\n",
      "Epoch 81 Current Step 0/3: loss is 0.709078\n",
      "------------------------------------------------\n",
      "Epoch 81 Validation acc is 0.750000\n",
      "Epoch 82 Current Step 0/3: loss is 0.707325\n",
      "------------------------------------------------\n",
      "Epoch 82 Validation acc is 0.972222\n",
      "Epoch 83 Current Step 0/3: loss is 0.713485\n",
      "------------------------------------------------\n",
      "Epoch 83 Validation acc is 0.958333\n",
      "Epoch 84 Current Step 0/3: loss is 0.709053\n",
      "------------------------------------------------\n",
      "Epoch 84 Validation acc is 0.902778\n",
      "Epoch 85 Current Step 0/3: loss is 0.724131\n",
      "------------------------------------------------\n",
      "Epoch 85 Validation acc is 0.986111\n",
      "Epoch 86 Current Step 0/3: loss is 0.733475\n",
      "------------------------------------------------\n",
      "Epoch 86 Validation acc is 0.930556\n",
      "Epoch 87 Current Step 0/3: loss is 0.717972\n",
      "------------------------------------------------\n",
      "Epoch 87 Validation acc is 0.930556\n",
      "Epoch 88 Current Step 0/3: loss is 0.707074\n",
      "------------------------------------------------\n",
      "Epoch 88 Validation acc is 1.000000\n",
      "Epoch 89 Current Step 0/3: loss is 0.730005\n",
      "------------------------------------------------\n",
      "Epoch 89 Validation acc is 0.958333\n",
      "Epoch 90 Current Step 0/3: loss is 0.724475\n",
      "------------------------------------------------\n",
      "Epoch 90 Validation acc is 0.944444\n",
      "Epoch 91 Current Step 0/3: loss is 0.741300\n",
      "------------------------------------------------\n",
      "Epoch 91 Validation acc is 0.944444\n",
      "Epoch 92 Current Step 0/3: loss is 0.719128\n",
      "------------------------------------------------\n",
      "Epoch 92 Validation acc is 0.944444\n",
      "Epoch 93 Current Step 0/3: loss is 0.742824\n",
      "------------------------------------------------\n",
      "Epoch 93 Validation acc is 0.944444\n",
      "Epoch 94 Current Step 0/3: loss is 0.722999\n",
      "------------------------------------------------\n",
      "Epoch 94 Validation acc is 0.930556\n",
      "Epoch 95 Current Step 0/3: loss is 0.767046\n",
      "------------------------------------------------\n",
      "Epoch 95 Validation acc is 0.986111\n",
      "Epoch 96 Current Step 0/3: loss is 0.744504\n",
      "------------------------------------------------\n",
      "Epoch 96 Validation acc is 0.944444\n",
      "Epoch 97 Current Step 0/3: loss is 0.738373\n",
      "------------------------------------------------\n",
      "Epoch 97 Validation acc is 0.944444\n",
      "Epoch 98 Current Step 0/3: loss is 0.734115\n",
      "------------------------------------------------\n",
      "Epoch 98 Validation acc is 0.986111\n",
      "Epoch 99 Current Step 0/3: loss is 0.748392\n",
      "------------------------------------------------\n",
      "Epoch 99 Validation acc is 0.958333\n",
      "Epoch 100 Current Step 0/3: loss is 0.735158\n",
      "------------------------------------------------\n",
      "Epoch 100 Validation acc is 0.944444\n",
      "Epoch 101 Current Step 0/3: loss is 0.792370\n",
      "------------------------------------------------\n",
      "Epoch 101 Validation acc is 0.930556\n",
      "Epoch 102 Current Step 0/3: loss is 0.763088\n",
      "------------------------------------------------\n",
      "Epoch 102 Validation acc is 0.930556\n",
      "Epoch 103 Current Step 0/3: loss is 0.764866\n",
      "------------------------------------------------\n",
      "Epoch 103 Validation acc is 0.958333\n",
      "Epoch 104 Current Step 0/3: loss is 0.734513\n",
      "------------------------------------------------\n",
      "Epoch 104 Validation acc is 0.958333\n",
      "Epoch 105 Current Step 0/3: loss is 0.747745\n",
      "------------------------------------------------\n",
      "Epoch 105 Validation acc is 0.986111\n",
      "Epoch 106 Current Step 0/3: loss is 0.767243\n",
      "------------------------------------------------\n",
      "Epoch 106 Validation acc is 0.888889\n",
      "Epoch 107 Current Step 0/3: loss is 0.806696\n",
      "------------------------------------------------\n",
      "Epoch 107 Validation acc is 1.000000\n",
      "Epoch 108 Current Step 0/3: loss is 0.807817\n",
      "------------------------------------------------\n",
      "Epoch 108 Validation acc is 0.888889\n",
      "Epoch 109 Current Step 0/3: loss is 0.817888\n",
      "------------------------------------------------\n",
      "Epoch 109 Validation acc is 0.944444\n",
      "Epoch 110 Current Step 0/3: loss is 0.740260\n",
      "------------------------------------------------\n",
      "Epoch 110 Validation acc is 0.958333\n",
      "Epoch 111 Current Step 0/3: loss is 0.739512\n",
      "------------------------------------------------\n",
      "Epoch 111 Validation acc is 0.944444\n",
      "Epoch 112 Current Step 0/3: loss is 0.774775\n",
      "------------------------------------------------\n",
      "Epoch 112 Validation acc is 0.986111\n",
      "Epoch 113 Current Step 0/3: loss is 0.745467\n",
      "------------------------------------------------\n",
      "Epoch 113 Validation acc is 0.930556\n",
      "Epoch 114 Current Step 0/3: loss is 0.748317\n",
      "------------------------------------------------\n",
      "Epoch 114 Validation acc is 0.958333\n",
      "Epoch 115 Current Step 0/3: loss is 0.755635\n",
      "------------------------------------------------\n",
      "Epoch 115 Validation acc is 0.958333\n",
      "Epoch 116 Current Step 0/3: loss is 0.735765\n",
      "------------------------------------------------\n",
      "Epoch 116 Validation acc is 0.930556\n",
      "Epoch 117 Current Step 0/3: loss is 0.805917\n",
      "------------------------------------------------\n",
      "Epoch 117 Validation acc is 0.944444\n",
      "Epoch 118 Current Step 0/3: loss is 0.772474\n",
      "------------------------------------------------\n",
      "Epoch 118 Validation acc is 0.930556\n",
      "Epoch 119 Current Step 0/3: loss is 0.782029\n",
      "------------------------------------------------\n",
      "Epoch 119 Validation acc is 0.972222\n",
      "Epoch 120 Current Step 0/3: loss is 0.762610\n",
      "------------------------------------------------\n",
      "Epoch 120 Validation acc is 0.930556\n",
      "Epoch 121 Current Step 0/3: loss is 0.779558\n",
      "------------------------------------------------\n",
      "Epoch 121 Validation acc is 0.958333\n",
      "Epoch 122 Current Step 0/3: loss is 0.750101\n",
      "------------------------------------------------\n",
      "Epoch 122 Validation acc is 0.958333\n",
      "Epoch 123 Current Step 0/3: loss is 0.747648\n",
      "------------------------------------------------\n",
      "Epoch 123 Validation acc is 0.930556\n",
      "Epoch 124 Current Step 0/3: loss is 0.775644\n",
      "------------------------------------------------\n",
      "Epoch 124 Validation acc is 0.958333\n",
      "Epoch 125 Current Step 0/3: loss is 0.741157\n",
      "------------------------------------------------\n",
      "Epoch 125 Validation acc is 0.958333\n",
      "Epoch 126 Current Step 0/3: loss is 0.751921\n",
      "------------------------------------------------\n",
      "Epoch 126 Validation acc is 0.958333\n",
      "Epoch 127 Current Step 0/3: loss is 0.752764\n",
      "------------------------------------------------\n",
      "Epoch 127 Validation acc is 0.958333\n",
      "Epoch 128 Current Step 0/3: loss is 0.759930\n",
      "------------------------------------------------\n",
      "Epoch 128 Validation acc is 0.958333\n",
      "Epoch 129 Current Step 0/3: loss is 0.741400\n",
      "------------------------------------------------\n",
      "Epoch 129 Validation acc is 0.958333\n",
      "Epoch 130 Current Step 0/3: loss is 0.785329\n",
      "------------------------------------------------\n",
      "Epoch 130 Validation acc is 0.958333\n",
      "Epoch 131 Current Step 0/3: loss is 0.756099\n",
      "------------------------------------------------\n",
      "Epoch 131 Validation acc is 0.944444\n",
      "Epoch 132 Current Step 0/3: loss is 0.732486\n",
      "------------------------------------------------\n",
      "Epoch 132 Validation acc is 0.958333\n",
      "Epoch 133 Current Step 0/3: loss is 0.732087\n",
      "------------------------------------------------\n",
      "Epoch 133 Validation acc is 0.958333\n",
      "Epoch 134 Current Step 0/3: loss is 0.731777\n",
      "------------------------------------------------\n",
      "Epoch 134 Validation acc is 0.958333\n",
      "Epoch 135 Current Step 0/3: loss is 0.733153\n",
      "------------------------------------------------\n",
      "Epoch 135 Validation acc is 0.958333\n",
      "Epoch 136 Current Step 0/3: loss is 0.766415\n",
      "------------------------------------------------\n",
      "Epoch 136 Validation acc is 0.930556\n",
      "Epoch 137 Current Step 0/3: loss is 0.844886\n",
      "------------------------------------------------\n",
      "Epoch 137 Validation acc is 0.944444\n",
      "Epoch 138 Current Step 0/3: loss is 0.732809\n",
      "------------------------------------------------\n",
      "Epoch 138 Validation acc is 0.958333\n",
      "Epoch 139 Current Step 0/3: loss is 0.765609\n",
      "------------------------------------------------\n",
      "Epoch 139 Validation acc is 0.944444\n",
      "Epoch 140 Current Step 0/3: loss is 0.792044\n",
      "------------------------------------------------\n",
      "Epoch 140 Validation acc is 0.958333\n",
      "Epoch 141 Current Step 0/3: loss is 0.728438\n",
      "------------------------------------------------\n",
      "Epoch 141 Validation acc is 0.958333\n",
      "Epoch 142 Current Step 0/3: loss is 0.772924\n",
      "------------------------------------------------\n",
      "Epoch 142 Validation acc is 0.930556\n",
      "Epoch 143 Current Step 0/3: loss is 0.795641\n",
      "------------------------------------------------\n",
      "Epoch 143 Validation acc is 0.958333\n",
      "Epoch 144 Current Step 0/3: loss is 0.765974\n",
      "------------------------------------------------\n",
      "Epoch 144 Validation acc is 0.958333\n",
      "Epoch 145 Current Step 0/3: loss is 0.778884\n",
      "------------------------------------------------\n",
      "Epoch 145 Validation acc is 0.916667\n",
      "Epoch 146 Current Step 0/3: loss is 0.811962\n",
      "------------------------------------------------\n",
      "Epoch 146 Validation acc is 0.972222\n",
      "Epoch 147 Current Step 0/3: loss is 0.773194\n",
      "------------------------------------------------\n",
      "Epoch 147 Validation acc is 0.944444\n",
      "Epoch 148 Current Step 0/3: loss is 0.829305\n",
      "------------------------------------------------\n",
      "Epoch 148 Validation acc is 0.958333\n",
      "Epoch 149 Current Step 0/3: loss is 0.760714\n",
      "------------------------------------------------\n",
      "Epoch 149 Validation acc is 0.972222\n",
      "Epoch 150 Current Step 0/3: loss is 0.755925\n",
      "------------------------------------------------\n",
      "Epoch 150 Validation acc is 0.958333\n",
      "Epoch 151 Current Step 0/3: loss is 0.768484\n",
      "------------------------------------------------\n",
      "Epoch 151 Validation acc is 0.958333\n",
      "Epoch 152 Current Step 0/3: loss is 0.775649\n",
      "------------------------------------------------\n",
      "Epoch 152 Validation acc is 0.958333\n",
      "Epoch 153 Current Step 0/3: loss is 0.767693\n",
      "------------------------------------------------\n",
      "Epoch 153 Validation acc is 0.958333\n",
      "Epoch 154 Current Step 0/3: loss is 0.736798\n",
      "------------------------------------------------\n",
      "Epoch 154 Validation acc is 0.958333\n",
      "Epoch 155 Current Step 0/3: loss is 0.752790\n",
      "------------------------------------------------\n",
      "Epoch 155 Validation acc is 0.958333\n",
      "Epoch 156 Current Step 0/3: loss is 0.744744\n",
      "------------------------------------------------\n",
      "Epoch 156 Validation acc is 0.958333\n",
      "Epoch 157 Current Step 0/3: loss is 0.729490\n",
      "------------------------------------------------\n",
      "Epoch 157 Validation acc is 0.958333\n",
      "Epoch 158 Current Step 0/3: loss is 0.748303\n",
      "------------------------------------------------\n",
      "Epoch 158 Validation acc is 0.944444\n",
      "Epoch 159 Current Step 0/3: loss is 0.726694\n",
      "------------------------------------------------\n",
      "Epoch 159 Validation acc is 0.972222\n",
      "Epoch 160 Current Step 0/3: loss is 0.743430\n",
      "------------------------------------------------\n",
      "Epoch 160 Validation acc is 0.958333\n",
      "Epoch 161 Current Step 0/3: loss is 0.725306\n",
      "------------------------------------------------\n",
      "Epoch 161 Validation acc is 0.944444\n",
      "Epoch 162 Current Step 0/3: loss is 0.782550\n",
      "------------------------------------------------\n",
      "Epoch 162 Validation acc is 0.972222\n",
      "Epoch 163 Current Step 0/3: loss is 0.761528\n",
      "------------------------------------------------\n",
      "Epoch 163 Validation acc is 0.944444\n",
      "Epoch 164 Current Step 0/3: loss is 0.768743\n",
      "------------------------------------------------\n",
      "Epoch 164 Validation acc is 0.958333\n",
      "Epoch 165 Current Step 0/3: loss is 0.717342\n",
      "------------------------------------------------\n",
      "Epoch 165 Validation acc is 0.958333\n",
      "Epoch 166 Current Step 0/3: loss is 0.759646\n",
      "------------------------------------------------\n",
      "Epoch 166 Validation acc is 0.958333\n",
      "Epoch 167 Current Step 0/3: loss is 0.773468\n",
      "------------------------------------------------\n",
      "Epoch 167 Validation acc is 0.958333\n",
      "Epoch 168 Current Step 0/3: loss is 0.730995\n",
      "------------------------------------------------\n",
      "Epoch 168 Validation acc is 0.958333\n",
      "Epoch 169 Current Step 0/3: loss is 0.751106\n",
      "------------------------------------------------\n",
      "Epoch 169 Validation acc is 0.958333\n",
      "Epoch 170 Current Step 0/3: loss is 0.746804\n",
      "------------------------------------------------\n",
      "Epoch 170 Validation acc is 0.958333\n",
      "Epoch 171 Current Step 0/3: loss is 0.792177\n",
      "------------------------------------------------\n",
      "Epoch 171 Validation acc is 0.958333\n",
      "Epoch 172 Current Step 0/3: loss is 0.778558\n",
      "------------------------------------------------\n",
      "Epoch 172 Validation acc is 0.958333\n",
      "Epoch 173 Current Step 0/3: loss is 0.724678\n",
      "------------------------------------------------\n",
      "Epoch 173 Validation acc is 0.958333\n",
      "Epoch 174 Current Step 0/3: loss is 0.763662\n",
      "------------------------------------------------\n",
      "Epoch 174 Validation acc is 0.944444\n",
      "Epoch 175 Current Step 0/3: loss is 0.785937\n",
      "------------------------------------------------\n",
      "Epoch 175 Validation acc is 0.958333\n",
      "Epoch 176 Current Step 0/3: loss is 0.748168\n",
      "------------------------------------------------\n",
      "Epoch 176 Validation acc is 0.958333\n",
      "Epoch 177 Current Step 0/3: loss is 0.758869\n",
      "------------------------------------------------\n",
      "Epoch 177 Validation acc is 0.958333\n",
      "Epoch 178 Current Step 0/3: loss is 0.725847\n",
      "------------------------------------------------\n",
      "Epoch 178 Validation acc is 0.958333\n",
      "Epoch 179 Current Step 0/3: loss is 0.779301\n",
      "------------------------------------------------\n",
      "Epoch 179 Validation acc is 0.958333\n",
      "Epoch 180 Current Step 0/3: loss is 0.746638\n",
      "------------------------------------------------\n",
      "Epoch 180 Validation acc is 0.958333\n",
      "Epoch 181 Current Step 0/3: loss is 0.790017\n",
      "------------------------------------------------\n",
      "Epoch 181 Validation acc is 0.958333\n",
      "Epoch 182 Current Step 0/3: loss is 0.750428\n",
      "------------------------------------------------\n",
      "Epoch 182 Validation acc is 0.944444\n",
      "Epoch 183 Current Step 0/3: loss is 0.785315\n",
      "------------------------------------------------\n",
      "Epoch 183 Validation acc is 0.958333\n",
      "Epoch 184 Current Step 0/3: loss is 0.724964\n",
      "------------------------------------------------\n",
      "Epoch 184 Validation acc is 0.958333\n",
      "Epoch 185 Current Step 0/3: loss is 0.771996\n",
      "------------------------------------------------\n",
      "Epoch 185 Validation acc is 0.958333\n",
      "Epoch 186 Current Step 0/3: loss is 0.737837\n",
      "------------------------------------------------\n",
      "Epoch 186 Validation acc is 0.958333\n",
      "Epoch 187 Current Step 0/3: loss is 0.732914\n",
      "------------------------------------------------\n",
      "Epoch 187 Validation acc is 0.958333\n",
      "Epoch 188 Current Step 0/3: loss is 0.754661\n",
      "------------------------------------------------\n",
      "Epoch 188 Validation acc is 0.958333\n",
      "Epoch 189 Current Step 0/3: loss is 0.741961\n",
      "------------------------------------------------\n",
      "Epoch 189 Validation acc is 0.972222\n",
      "Epoch 190 Current Step 0/3: loss is 0.763310\n",
      "------------------------------------------------\n",
      "Epoch 190 Validation acc is 0.958333\n",
      "Epoch 191 Current Step 0/3: loss is 0.776672\n",
      "------------------------------------------------\n",
      "Epoch 191 Validation acc is 0.958333\n",
      "Epoch 192 Current Step 0/3: loss is 0.744088\n",
      "------------------------------------------------\n",
      "Epoch 192 Validation acc is 0.958333\n",
      "Epoch 193 Current Step 0/3: loss is 0.785430\n",
      "------------------------------------------------\n",
      "Epoch 193 Validation acc is 0.958333\n",
      "Epoch 194 Current Step 0/3: loss is 0.723643\n",
      "------------------------------------------------\n",
      "Epoch 194 Validation acc is 0.958333\n",
      "Epoch 195 Current Step 0/3: loss is 0.746752\n",
      "------------------------------------------------\n",
      "Epoch 195 Validation acc is 0.958333\n",
      "Epoch 196 Current Step 0/3: loss is 0.762141\n",
      "------------------------------------------------\n",
      "Epoch 196 Validation acc is 0.958333\n",
      "Epoch 197 Current Step 0/3: loss is 0.785208\n",
      "------------------------------------------------\n",
      "Epoch 197 Validation acc is 0.958333\n",
      "Epoch 198 Current Step 0/3: loss is 0.747541\n",
      "------------------------------------------------\n",
      "Epoch 198 Validation acc is 0.958333\n",
      "Epoch 199 Current Step 0/3: loss is 0.755337\n",
      "------------------------------------------------\n",
      "Epoch 199 Validation acc is 0.958333\n"
     ]
    }
   ],
   "source": [
    "import copy \n",
    "\n",
    "LR = 0.01\n",
    "NUM_EPOCH = 200\n",
    "LOG_STEP = 200\n",
    "\n",
    "adv_net = my_net()\n",
    "criterion = torch.nn.CrossEntropyLoss()\n",
    "optim = torch.optim.SGD(adv_net.parameters(), lr=LR, momentum=0.9)\n",
    "scheduler = torch.optim.lr_scheduler.CosineAnnealingLR(optim, T_max=NUM_EPOCH)\n",
    "\n",
    "train_all_loss = []\n",
    "val_all_loss = []\n",
    "train_acc = []\n",
    "val_acc = []\n",
    "\n",
    "attacker = torchattacks.PGD(adv_net, eps=16/255, alpha=2/255, steps=20, random_start=True)\n",
    "for epoch in range(NUM_EPOCH):\n",
    "    adv_net.train()\n",
    "    avg_top1 = []\n",
    "    for batch_id, (train_sample, train_labels) in enumerate(train_loader): \n",
    "        train_labels = train_labels.long()\n",
    "        # Generate adv. examples to mix in \n",
    "        atk_inds = np.random.choice(range(train_sample.shape[0]), size=train_sample.shape[0], replace=False)\n",
    "        orig_inds = [ind for ind in range(train_sample.shape[0]) if ind not in atk_inds]\n",
    "        #adv_samples = attacker(normalization(train_sample[atk_inds], mean=mean, std=std).float(), train_labels[atk_inds])\n",
    "        adv_samples = attacker(normalization(train_sample[atk_inds]), train_labels[atk_inds])\n",
    "        orig_samples = train_sample[orig_inds]\n",
    "        mixed_set = torch.cat((adv_samples, orig_samples))\n",
    "        mixed_labels = torch.cat((train_labels[atk_inds], train_labels[orig_inds]))\n",
    "        \n",
    "        # output = adv_net(normalization(mixed_set, mean=mean, std=std).float())\n",
    "        output = adv_net(normalization(mixed_set).float())\n",
    "        loss = criterion(output, mixed_labels)\n",
    "        optim.zero_grad()\n",
    "        loss.backward()\n",
    "        optim.step()\n",
    "        train_all_loss.append(loss.item())\n",
    "        top1 = topk(output, train_labels, ks=(1,))\n",
    "        avg_top1.extend(top1)\n",
    "        if batch_id % LOG_STEP ==0:\n",
    "            print('Epoch {} Current Step {}/{}: loss is {losses:.6f}'\n",
    "                  .format(str(epoch) ,str(batch_id), str(len(train_loader)), losses = loss.item()))\n",
    "    train_acc.append(np.mean(avg_top1))\n",
    "    adv_net.eval()\n",
    "    avg_top1 = []\n",
    "    with torch.no_grad():\n",
    "        for  batch_id, (val_sample, val_labels) in enumerate(val_loader):\n",
    "            val_labels = val_labels.long()\n",
    "            # outputs = adv_net(normalization(val_sample, mean=mean, std=std).float())\n",
    "            outputs = adv_net(normalization(val_sample).float())\n",
    "            loss = criterion(outputs, val_labels)\n",
    "            val_all_loss.append(loss.item())\n",
    "            top1 = topk(outputs, val_labels, ks=(1,))\n",
    "            avg_top1.extend(top1)\n",
    "        print('------------------------------------------------')\n",
    "        print('Epoch {} Validation acc is {top1:.6f}'\n",
    "                  .format(str(epoch), top1 = np.mean(avg_top1)))\n",
    "    val_acc.append(np.mean(avg_top1))"
   ]
  },
  {
   "cell_type": "code",
   "execution_count": 120,
   "metadata": {
    "colab": {
     "base_uri": "https://localhost:8080/",
     "height": 635
    },
    "executionInfo": {
     "elapsed": 764,
     "status": "ok",
     "timestamp": 1652821020003,
     "user": {
      "displayName": "Ian Hardy",
      "userId": "01608928063074550753"
     },
     "user_tz": 420
    },
    "id": "bbCxMV0OTEIU",
    "outputId": "d5a485f4-f377-42bd-f888-7d2da24f67e6"
   },
   "outputs": [
    {
     "data": {
      "image/png": "[encoded data removed]",
      "text/plain": [
       "<Figure size 1440x720 with 1 Axes>"
      ]
     },
     "metadata": {},
     "output_type": "display_data"
    }
   ],
   "source": [
    "plot_loss_fig(train_all_loss, val_all_loss)"
   ]
  },
  {
   "cell_type": "code",
   "execution_count": 121,
   "metadata": {
    "colab": {
     "base_uri": "https://localhost:8080/",
     "height": 635
    },
    "executionInfo": {
     "elapsed": 724,
     "status": "ok",
     "timestamp": 1652821025123,
     "user": {
      "displayName": "Ian Hardy",
      "userId": "01608928063074550753"
     },
     "user_tz": 420
    },
    "id": "7HR1BaDlNEpT",
    "outputId": "7b33649a-cc66-4ee0-b8bb-26370cfb27f5"
   },
   "outputs": [
    {
     "data": {
      "image/png": "[encoded data removed]",
      "text/plain": [
       "<Figure size 1440x720 with 1 Axes>"
      ]
     },
     "metadata": {},
     "output_type": "display_data"
    }
   ],
   "source": [
    "plot_acc_fig(train_acc, val_acc)"
   ]
  },
  {
   "cell_type": "code",
   "execution_count": 122,
   "metadata": {
    "colab": {
     "base_uri": "https://localhost:8080/"
    },
    "executionInfo": {
     "elapsed": 1733,
     "status": "ok",
     "timestamp": 1652821030707,
     "user": {
      "displayName": "Ian Hardy",
      "userId": "01608928063074550753"
     },
     "user_tz": 420
    },
    "id": "DGx1kSBaQyB0",
    "outputId": "067682af-b289-495a-9983-17ef5c53dd38"
   },
   "outputs": [
    {
     "name": "stdout",
     "output_type": "stream",
     "text": [
      "Number Incorrect (natural model): 40\n",
      "Number Attempted (natural model): 72\n",
      "Number Incorrect (adversarially trained model): 28\n",
      "Number Attempted (adversarially trained model): 72\n"
     ]
    }
   ],
   "source": [
    "from torch import unsqueeze\n",
    "num_wrong_nat = 0\n",
    "num_attempt_nat = 0\n",
    "num_wrong_adv = 0\n",
    "num_attempt_adv = 0\n",
    "for batch_id, (train_sample, train_labels) in enumerate(val_loader):\n",
    "    for j in range(train_sample.shape[0]):\n",
    "        instance = unsqueeze(train_sample[j], 0)\n",
    "        label = unsqueeze(train_labels[j], 0)\n",
    "\n",
    "        attacker_nat = torchattacks.PGD(our_net, eps=8/255, alpha=2/255, steps=20, random_start=True)\n",
    "        adv_image = attacker_nat(normalization(instance).float(), label.long())\n",
    "        model_guess_nat = our_net(normalization(instance).float()).max(1).indices\n",
    "        adv_guess_nat = our_net(normalization(adv_image).float()).max(1).indices\n",
    "        if model_guess_nat !=  adv_guess_nat:\n",
    "            num_wrong_nat += 1\n",
    "        num_attempt_nat += 1\n",
    "\n",
    "        attacker_adv = torchattacks.PGD(adv_net, eps=8/255, alpha=2/255, steps=20, random_start=True)\n",
    "        adv_image = attacker_adv(normalization(instance).float(), label.long())\n",
    "        model_guess_adv = adv_net(normalization(instance).float()).max(1).indices\n",
    "        adv_guess_adv = adv_net(normalization(adv_image).float()).max(1).indices\n",
    "        if model_guess_adv !=  adv_guess_adv:\n",
    "            num_wrong_adv += 1\n",
    "        num_attempt_adv += 1\n",
    "\n",
    "print('Number Incorrect (natural model): {}'.format(num_wrong_nat))\n",
    "print('Number Attempted (natural model): {}'.format(num_attempt_nat))\n",
    "\n",
    "print('Number Incorrect (adversarially trained model): {}'.format(num_wrong_adv))\n",
    "print('Number Attempted (adversarially trained model): {}'.format(num_attempt_adv))"
   ]
  },
  {
   "cell_type": "code",
   "execution_count": 124,
   "metadata": {
    "executionInfo": {
     "elapsed": 153,
     "status": "ok",
     "timestamp": 1652821056715,
     "user": {
      "displayName": "Ian Hardy",
      "userId": "01608928063074550753"
     },
     "user_tz": 420
    },
    "id": "sz_m3ysB_Vtg"
   },
   "outputs": [],
   "source": [
    "torch.save(adv_net.state_dict(), dir_path+'adversarially_trained_model_mnist.pt')"
   ]
  },
  {
   "cell_type": "markdown",
   "metadata": {
    "id": "F_faTU9ca52W"
   },
   "source": [
    "# Recourse Generation\n"
   ]
  },
  {
   "cell_type": "code",
   "execution_count": null,
   "metadata": {
    "id": "WzOkuTPuUsC3"
   },
   "outputs": [],
   "source": [
    "! pip install carla-recourse"
   ]
  },
  {
   "cell_type": "code",
   "execution_count": 13,
   "metadata": {},
   "outputs": [
    {
     "data": {
      "text/plain": [
       "<All keys matched successfully>"
      ]
     },
     "execution_count": 13,
     "metadata": {},
     "output_type": "execute_result"
    }
   ],
   "source": [
    "nat_model_state = torch.load('naturally_trained_model_mnist.pt')\n",
    "nat_model = my_net()\n",
    "nat_model.load_state_dict(nat_model_state)\n",
    "\n",
    "adv_model_state = torch.load('adversarially_trained_model_mnist.pt')\n",
    "adv_model = my_net()\n",
    "adv_model.load_state_dict(adv_model_state)\n"
   ]
  },
  {
   "cell_type": "code",
   "execution_count": 14,
   "metadata": {
    "colab": {
     "base_uri": "https://localhost:8080/",
     "height": 168
    },
    "executionInfo": {
     "elapsed": 222,
     "status": "error",
     "timestamp": 1651777532410,
     "user": {
      "displayName": "Ian Hardy",
      "userId": "01608928063074550753"
     },
     "user_tz": 420
    },
    "id": "TT1Au4QVnOKN",
    "outputId": "8c925f20-1f7a-48a8-dda4-a59a91d4878a"
   },
   "outputs": [],
   "source": [
    "feature_cols = mnist['feature_names']"
   ]
  },
  {
   "cell_type": "code",
   "execution_count": 15,
   "metadata": {},
   "outputs": [
    {
     "data": {
      "text/html": [
       "<div>\n",
       "<style scoped>\n",
       "    .dataframe tbody tr th:only-of-type {\n",
       "        vertical-align: middle;\n",
       "    }\n",
       "\n",
       "    .dataframe tbody tr th {\n",
       "        vertical-align: top;\n",
       "    }\n",
       "\n",
       "    .dataframe thead th {\n",
       "        text-align: right;\n",
       "    }\n",
       "</style>\n",
       "<table border=\"1\" class=\"dataframe\">\n",
       "  <thead>\n",
       "    <tr style=\"text-align: right;\">\n",
       "      <th></th>\n",
       "      <th>pixel_0_0</th>\n",
       "      <th>pixel_0_1</th>\n",
       "      <th>pixel_0_2</th>\n",
       "      <th>pixel_0_3</th>\n",
       "      <th>pixel_0_4</th>\n",
       "      <th>pixel_0_5</th>\n",
       "      <th>pixel_0_6</th>\n",
       "      <th>pixel_0_7</th>\n",
       "      <th>pixel_1_0</th>\n",
       "      <th>pixel_1_1</th>\n",
       "      <th>...</th>\n",
       "      <th>pixel_6_7</th>\n",
       "      <th>pixel_7_0</th>\n",
       "      <th>pixel_7_1</th>\n",
       "      <th>pixel_7_2</th>\n",
       "      <th>pixel_7_3</th>\n",
       "      <th>pixel_7_4</th>\n",
       "      <th>pixel_7_5</th>\n",
       "      <th>pixel_7_6</th>\n",
       "      <th>pixel_7_7</th>\n",
       "      <th>Income_Greater_50k</th>\n",
       "    </tr>\n",
       "  </thead>\n",
       "  <tbody>\n",
       "    <tr>\n",
       "      <th>0</th>\n",
       "      <td>0.0</td>\n",
       "      <td>0.0</td>\n",
       "      <td>0.056219</td>\n",
       "      <td>0.056372</td>\n",
       "      <td>0.040921</td>\n",
       "      <td>0.007898</td>\n",
       "      <td>0.000000</td>\n",
       "      <td>0.0</td>\n",
       "      <td>0.0</td>\n",
       "      <td>0.0</td>\n",
       "      <td>...</td>\n",
       "      <td>0.0</td>\n",
       "      <td>0.0</td>\n",
       "      <td>0.0</td>\n",
       "      <td>0.071317</td>\n",
       "      <td>0.055468</td>\n",
       "      <td>0.039033</td>\n",
       "      <td>0.000000</td>\n",
       "      <td>0.000000</td>\n",
       "      <td>0.0</td>\n",
       "      <td>0</td>\n",
       "    </tr>\n",
       "    <tr>\n",
       "      <th>1</th>\n",
       "      <td>0.0</td>\n",
       "      <td>0.0</td>\n",
       "      <td>0.000000</td>\n",
       "      <td>0.052036</td>\n",
       "      <td>0.059107</td>\n",
       "      <td>0.039488</td>\n",
       "      <td>0.000000</td>\n",
       "      <td>0.0</td>\n",
       "      <td>0.0</td>\n",
       "      <td>0.0</td>\n",
       "      <td>...</td>\n",
       "      <td>0.0</td>\n",
       "      <td>0.0</td>\n",
       "      <td>0.0</td>\n",
       "      <td>0.000000</td>\n",
       "      <td>0.046934</td>\n",
       "      <td>0.062453</td>\n",
       "      <td>0.059330</td>\n",
       "      <td>0.000000</td>\n",
       "      <td>0.0</td>\n",
       "      <td>1</td>\n",
       "    </tr>\n",
       "    <tr>\n",
       "      <th>2</th>\n",
       "      <td>0.0</td>\n",
       "      <td>0.0</td>\n",
       "      <td>0.011244</td>\n",
       "      <td>0.039027</td>\n",
       "      <td>0.068201</td>\n",
       "      <td>0.086873</td>\n",
       "      <td>0.000000</td>\n",
       "      <td>0.0</td>\n",
       "      <td>0.0</td>\n",
       "      <td>0.0</td>\n",
       "      <td>...</td>\n",
       "      <td>0.0</td>\n",
       "      <td>0.0</td>\n",
       "      <td>0.0</td>\n",
       "      <td>0.011886</td>\n",
       "      <td>0.042668</td>\n",
       "      <td>0.050743</td>\n",
       "      <td>0.017799</td>\n",
       "      <td>0.000000</td>\n",
       "      <td>0.0</td>\n",
       "      <td>0</td>\n",
       "    </tr>\n",
       "    <tr>\n",
       "      <th>3</th>\n",
       "      <td>0.0</td>\n",
       "      <td>0.0</td>\n",
       "      <td>0.000000</td>\n",
       "      <td>0.000000</td>\n",
       "      <td>0.063654</td>\n",
       "      <td>0.102668</td>\n",
       "      <td>0.031702</td>\n",
       "      <td>0.0</td>\n",
       "      <td>0.0</td>\n",
       "      <td>0.0</td>\n",
       "      <td>...</td>\n",
       "      <td>0.0</td>\n",
       "      <td>0.0</td>\n",
       "      <td>0.0</td>\n",
       "      <td>0.000000</td>\n",
       "      <td>0.004267</td>\n",
       "      <td>0.050743</td>\n",
       "      <td>0.094927</td>\n",
       "      <td>0.011861</td>\n",
       "      <td>0.0</td>\n",
       "      <td>1</td>\n",
       "    </tr>\n",
       "    <tr>\n",
       "      <th>4</th>\n",
       "      <td>0.0</td>\n",
       "      <td>0.0</td>\n",
       "      <td>0.033731</td>\n",
       "      <td>0.056372</td>\n",
       "      <td>0.050014</td>\n",
       "      <td>0.055283</td>\n",
       "      <td>0.000000</td>\n",
       "      <td>0.0</td>\n",
       "      <td>0.0</td>\n",
       "      <td>0.0</td>\n",
       "      <td>...</td>\n",
       "      <td>0.0</td>\n",
       "      <td>0.0</td>\n",
       "      <td>0.0</td>\n",
       "      <td>0.023772</td>\n",
       "      <td>0.051201</td>\n",
       "      <td>0.050743</td>\n",
       "      <td>0.023732</td>\n",
       "      <td>0.000000</td>\n",
       "      <td>0.0</td>\n",
       "      <td>0</td>\n",
       "    </tr>\n",
       "  </tbody>\n",
       "</table>\n",
       "<p>5 rows × 65 columns</p>\n",
       "</div>"
      ],
      "text/plain": [
       "   pixel_0_0  pixel_0_1  pixel_0_2  pixel_0_3  pixel_0_4  pixel_0_5  \\\n",
       "0        0.0        0.0   0.056219   0.056372   0.040921   0.007898   \n",
       "1        0.0        0.0   0.000000   0.052036   0.059107   0.039488   \n",
       "2        0.0        0.0   0.011244   0.039027   0.068201   0.086873   \n",
       "3        0.0        0.0   0.000000   0.000000   0.063654   0.102668   \n",
       "4        0.0        0.0   0.033731   0.056372   0.050014   0.055283   \n",
       "\n",
       "   pixel_0_6  pixel_0_7  pixel_1_0  pixel_1_1  ...  pixel_6_7  pixel_7_0  \\\n",
       "0   0.000000        0.0        0.0        0.0  ...        0.0        0.0   \n",
       "1   0.000000        0.0        0.0        0.0  ...        0.0        0.0   \n",
       "2   0.000000        0.0        0.0        0.0  ...        0.0        0.0   \n",
       "3   0.031702        0.0        0.0        0.0  ...        0.0        0.0   \n",
       "4   0.000000        0.0        0.0        0.0  ...        0.0        0.0   \n",
       "\n",
       "   pixel_7_1  pixel_7_2  pixel_7_3  pixel_7_4  pixel_7_5  pixel_7_6  \\\n",
       "0        0.0   0.071317   0.055468   0.039033   0.000000   0.000000   \n",
       "1        0.0   0.000000   0.046934   0.062453   0.059330   0.000000   \n",
       "2        0.0   0.011886   0.042668   0.050743   0.017799   0.000000   \n",
       "3        0.0   0.000000   0.004267   0.050743   0.094927   0.011861   \n",
       "4        0.0   0.023772   0.051201   0.050743   0.023732   0.000000   \n",
       "\n",
       "   pixel_7_7  Income_Greater_50k  \n",
       "0        0.0                   0  \n",
       "1        0.0                   1  \n",
       "2        0.0                   0  \n",
       "3        0.0                   1  \n",
       "4        0.0                   0  \n",
       "\n",
       "[5 rows x 65 columns]"
      ]
     },
     "execution_count": 15,
     "metadata": {},
     "output_type": "execute_result"
    }
   ],
   "source": [
    "import pandas as pd\n",
    "df = pd.DataFrame(normalization(torch.tensor(features)).detach().numpy(), columns=feature_cols)\n",
    "df['Income_Greater_50k'] = label\n",
    "df['Income_Greater_50k'] = df['Income_Greater_50k'].astype(int)\n",
    "df.head()\n"
   ]
  },
  {
   "cell_type": "code",
   "execution_count": 16,
   "metadata": {},
   "outputs": [],
   "source": [
    "SEED = 0\n",
    "BATCH_SIZE = 128 \n",
    "\n",
    "\n",
    "\n",
    "# generate the training data index and validation data index\n",
    "np.random.seed(SEED)\n",
    "random_index = np.random.rand(len(features))  \n",
    "random_index = np.argsort(random_index)\n",
    "train_index = random_index[: int(len(features)*0.8)]  # 80% data for training\n",
    "val_index = random_index[int(len(features)*0.8):]\n",
    "\n",
    "\n",
    "# generate the training data and validation data\n",
    "train_data_df = df.iloc[train_index]\n",
    "val_data_df = df.iloc[val_index]\n"
   ]
  },
  {
   "cell_type": "code",
   "execution_count": 17,
   "metadata": {
    "id": "VpMiiZtdl_tP"
   },
   "outputs": [
    {
     "name": "stderr",
     "output_type": "stream",
     "text": [
      "/opt/anaconda3/envs/myenv/lib/python3.7/site-packages/tensorflow/python/framework/dtypes.py:516: FutureWarning: Passing (type, 1) or '1type' as a synonym of type is deprecated; in a future version of numpy, it will be understood as (type, (1,)) / '(1,)type'.\n",
      "  _np_qint8 = np.dtype([(\"qint8\", np.int8, 1)])\n",
      "/opt/anaconda3/envs/myenv/lib/python3.7/site-packages/tensorflow/python/framework/dtypes.py:517: FutureWarning: Passing (type, 1) or '1type' as a synonym of type is deprecated; in a future version of numpy, it will be understood as (type, (1,)) / '(1,)type'.\n",
      "  _np_quint8 = np.dtype([(\"quint8\", np.uint8, 1)])\n",
      "/opt/anaconda3/envs/myenv/lib/python3.7/site-packages/tensorflow/python/framework/dtypes.py:518: FutureWarning: Passing (type, 1) or '1type' as a synonym of type is deprecated; in a future version of numpy, it will be understood as (type, (1,)) / '(1,)type'.\n",
      "  _np_qint16 = np.dtype([(\"qint16\", np.int16, 1)])\n",
      "/opt/anaconda3/envs/myenv/lib/python3.7/site-packages/tensorflow/python/framework/dtypes.py:519: FutureWarning: Passing (type, 1) or '1type' as a synonym of type is deprecated; in a future version of numpy, it will be understood as (type, (1,)) / '(1,)type'.\n",
      "  _np_quint16 = np.dtype([(\"quint16\", np.uint16, 1)])\n",
      "/opt/anaconda3/envs/myenv/lib/python3.7/site-packages/tensorflow/python/framework/dtypes.py:520: FutureWarning: Passing (type, 1) or '1type' as a synonym of type is deprecated; in a future version of numpy, it will be understood as (type, (1,)) / '(1,)type'.\n",
      "  _np_qint32 = np.dtype([(\"qint32\", np.int32, 1)])\n",
      "/opt/anaconda3/envs/myenv/lib/python3.7/site-packages/tensorflow/python/framework/dtypes.py:525: FutureWarning: Passing (type, 1) or '1type' as a synonym of type is deprecated; in a future version of numpy, it will be understood as (type, (1,)) / '(1,)type'.\n",
      "  np_resource = np.dtype([(\"resource\", np.ubyte, 1)])\n",
      "/opt/anaconda3/envs/myenv/lib/python3.7/site-packages/tensorboard/compat/tensorflow_stub/dtypes.py:541: FutureWarning: Passing (type, 1) or '1type' as a synonym of type is deprecated; in a future version of numpy, it will be understood as (type, (1,)) / '(1,)type'.\n",
      "  _np_qint8 = np.dtype([(\"qint8\", np.int8, 1)])\n",
      "/opt/anaconda3/envs/myenv/lib/python3.7/site-packages/tensorboard/compat/tensorflow_stub/dtypes.py:542: FutureWarning: Passing (type, 1) or '1type' as a synonym of type is deprecated; in a future version of numpy, it will be understood as (type, (1,)) / '(1,)type'.\n",
      "  _np_quint8 = np.dtype([(\"quint8\", np.uint8, 1)])\n",
      "/opt/anaconda3/envs/myenv/lib/python3.7/site-packages/tensorboard/compat/tensorflow_stub/dtypes.py:543: FutureWarning: Passing (type, 1) or '1type' as a synonym of type is deprecated; in a future version of numpy, it will be understood as (type, (1,)) / '(1,)type'.\n",
      "  _np_qint16 = np.dtype([(\"qint16\", np.int16, 1)])\n",
      "/opt/anaconda3/envs/myenv/lib/python3.7/site-packages/tensorboard/compat/tensorflow_stub/dtypes.py:544: FutureWarning: Passing (type, 1) or '1type' as a synonym of type is deprecated; in a future version of numpy, it will be understood as (type, (1,)) / '(1,)type'.\n",
      "  _np_quint16 = np.dtype([(\"quint16\", np.uint16, 1)])\n",
      "/opt/anaconda3/envs/myenv/lib/python3.7/site-packages/tensorboard/compat/tensorflow_stub/dtypes.py:545: FutureWarning: Passing (type, 1) or '1type' as a synonym of type is deprecated; in a future version of numpy, it will be understood as (type, (1,)) / '(1,)type'.\n",
      "  _np_qint32 = np.dtype([(\"qint32\", np.int32, 1)])\n",
      "/opt/anaconda3/envs/myenv/lib/python3.7/site-packages/tensorboard/compat/tensorflow_stub/dtypes.py:550: FutureWarning: Passing (type, 1) or '1type' as a synonym of type is deprecated; in a future version of numpy, it will be understood as (type, (1,)) / '(1,)type'.\n",
      "  np_resource = np.dtype([(\"resource\", np.ubyte, 1)])\n",
      "Using TensorFlow backend.\n"
     ]
    },
    {
     "name": "stdout",
     "output_type": "stream",
     "text": [
      "[INFO] Using Python-MIP package version 1.12.0 [model.py <module>]\n"
     ]
    }
   ],
   "source": [
    "from carla import Data\n",
    "\n",
    "# Custom data set implementations need to inherit from the Data interface\n",
    "class IncomeDataset(Data):\n",
    "\n",
    "    def __init__(self, data, train, val, feature_cols):\n",
    "        # The data set can e.g. be loaded in the constructor\n",
    "        self._dataset = data\n",
    "        self._train = train\n",
    "        self._val = val\n",
    "        self.feature_cols = feature_cols\n",
    "\n",
    "    # List of all categorical features\n",
    "    @property\n",
    "    def categorical(self):\n",
    "        return []\n",
    "\n",
    "    # List of all continuous features\n",
    "    @property\n",
    "    def continuous(self):\n",
    "        return feature_cols\n",
    "\n",
    "    # List of all immutable features which\n",
    "    # should not be changed by the recourse method\n",
    "    @property\n",
    "    def immutables(self):\n",
    "        return []\n",
    "\n",
    "    # Feature name of the target column\n",
    "    @property\n",
    "    def target(self):\n",
    "        return 'Income_Greater_50k'\n",
    "    \n",
    "    @property\n",
    "    def df(self):\n",
    "        return self._dataset\n",
    "        pass\n",
    "\n",
    "    @property\n",
    "    def df_train(self):\n",
    "        return self._train\n",
    "\n",
    "    @property\n",
    "    def df_test(self):\n",
    "        return self._val\n",
    "\n",
    "    def transform(self, df):\n",
    "        new_vals = normalization(df.values, self._mean, self._std)\n",
    "        return pd.DataFrame(new_vals, columns=self._dataset.columns)\n",
    "\n",
    "    def inverse_transform(self, df):\n",
    "        new_vals = inverse_normalization(df.values, self._mean, self._std)\n",
    "        return pd.DataFrame(new_vals, columns=self._dataset.columns)\n",
    "    \n",
    "    def normalization(tensor, mean, std):\n",
    "        return ((tensor - mean) / std).float()\n",
    "    \n",
    "    def inverse_normalization(x, mean, std):\n",
    "        return (x*std)+mean\n",
    "    \n",
    "ds = IncomeDataset(df, train_data_df, val_data_df, feature_cols)"
   ]
  },
  {
   "cell_type": "code",
   "execution_count": 18,
   "metadata": {},
   "outputs": [],
   "source": [
    "from carla import MLModel\n",
    "\n",
    "# Custom black-box models need to inherit from\n",
    "# the MLModel interface\n",
    "class MyOwnModel(MLModel):\n",
    "    def __init__(self, data, model, feature_cols):\n",
    "        super().__init__(data)\n",
    "        # The constructor can be used to load or build an\n",
    "        # arbitrary black-box-model\n",
    "        self._mymodel = model\n",
    "        self.feature_cols = feature_cols\n",
    "\n",
    "    # List of the feature order the ml model was trained on\n",
    "    @property\n",
    "    def feature_input_order(self):\n",
    "        return self.feature_cols\n",
    "    # The ML framework the model was trained on\n",
    "    @property\n",
    "    def backend(self):\n",
    "        return \"pytorch\"\n",
    "\n",
    "    # The black-box model object\n",
    "    @property\n",
    "    def raw_model(self):\n",
    "        return self._mymodel\n",
    "\n",
    "    # The predict function outputs\n",
    "    # the continuous prediction of the model\n",
    "    def predict(self, x):\n",
    "        if isinstance(x, np.ndarray):\n",
    "            x = torch.Tensor(x)\n",
    "        elif isinstance(x, pd.DataFrame):\n",
    "            x = torch.Tensor(x.values)\n",
    "        return self._mymodel(x).max(1).indices\n",
    "\n",
    "    # The predict_proba method outputs\n",
    "    # the prediction as class probabilities\n",
    "    def predict_proba(self, x):\n",
    "        if isinstance(x, np.ndarray):\n",
    "            x = torch.Tensor(x)\n",
    "        elif isinstance(x, pd.DataFrame):\n",
    "            x = torch.Tensor(x.values)\n",
    "        logits = self._mymodel(x)\n",
    "        probs = torch.nn.functional.softmax(logits, dim=1)\n",
    "        return probs.detach().numpy()\n",
    "    \n",
    "nat_model_carla = MyOwnModel(ds, nat_model, feature_cols)\n",
    "adv_model_carla = MyOwnModel(ds, adv_model, feature_cols)"
   ]
  },
  {
   "cell_type": "code",
   "execution_count": 19,
   "metadata": {},
   "outputs": [],
   "source": [
    "#from carla import OnlineCatalog, MLModelCatalog\n",
    "from carla.recourse_methods import GrowingSpheres\n",
    "\n",
    "# # get factuals from the data to generate counterfactual examples\n",
    "factuals = ds.df\n",
    "\n",
    "# # load a recourse model and pass black box model\n",
    "gs_1 = GrowingSpheres(nat_model_carla)\n",
    "\n",
    "# # generate counterfactual examples\n",
    "counterfactuals_1 = gs_1.get_counterfactuals(factuals)\n",
    "\n",
    "# # load a recourse model and pass black box model\n",
    "gs_2 = GrowingSpheres(adv_model_carla)\n",
    "\n",
    "# # generate counterfactual examples\n",
    "counterfactuals_2 = gs_2.get_counterfactuals(factuals)\n"
   ]
  },
  {
   "cell_type": "code",
   "execution_count": 20,
   "metadata": {},
   "outputs": [
    {
     "data": {
      "text/html": [
       "<div>\n",
       "<style scoped>\n",
       "    .dataframe tbody tr th:only-of-type {\n",
       "        vertical-align: middle;\n",
       "    }\n",
       "\n",
       "    .dataframe tbody tr th {\n",
       "        vertical-align: top;\n",
       "    }\n",
       "\n",
       "    .dataframe thead th {\n",
       "        text-align: right;\n",
       "    }\n",
       "</style>\n",
       "<table border=\"1\" class=\"dataframe\">\n",
       "  <thead>\n",
       "    <tr style=\"text-align: right;\">\n",
       "      <th></th>\n",
       "      <th>pixel_0_0</th>\n",
       "      <th>pixel_0_1</th>\n",
       "      <th>pixel_0_2</th>\n",
       "      <th>pixel_0_3</th>\n",
       "      <th>pixel_0_4</th>\n",
       "      <th>...</th>\n",
       "      <th>pixel_7_4</th>\n",
       "      <th>pixel_7_5</th>\n",
       "      <th>pixel_7_6</th>\n",
       "      <th>pixel_7_7</th>\n",
       "      <th>Income_Greater_50k</th>\n",
       "    </tr>\n",
       "  </thead>\n",
       "  <tbody>\n",
       "    <tr>\n",
       "      <th>0</th>\n",
       "      <td>0.0</td>\n",
       "      <td>0.0</td>\n",
       "      <td>0.056219</td>\n",
       "      <td>0.056372</td>\n",
       "      <td>0.040921</td>\n",
       "      <td>...</td>\n",
       "      <td>0.039033</td>\n",
       "      <td>0.000000</td>\n",
       "      <td>0.000000</td>\n",
       "      <td>0.0</td>\n",
       "      <td>0</td>\n",
       "    </tr>\n",
       "    <tr>\n",
       "      <th>1</th>\n",
       "      <td>0.0</td>\n",
       "      <td>0.0</td>\n",
       "      <td>0.000000</td>\n",
       "      <td>0.052036</td>\n",
       "      <td>0.059107</td>\n",
       "      <td>...</td>\n",
       "      <td>0.062453</td>\n",
       "      <td>0.059330</td>\n",
       "      <td>0.000000</td>\n",
       "      <td>0.0</td>\n",
       "      <td>1</td>\n",
       "    </tr>\n",
       "    <tr>\n",
       "      <th>2</th>\n",
       "      <td>0.0</td>\n",
       "      <td>0.0</td>\n",
       "      <td>0.011244</td>\n",
       "      <td>0.039027</td>\n",
       "      <td>0.068201</td>\n",
       "      <td>...</td>\n",
       "      <td>0.050743</td>\n",
       "      <td>0.017799</td>\n",
       "      <td>0.000000</td>\n",
       "      <td>0.0</td>\n",
       "      <td>0</td>\n",
       "    </tr>\n",
       "    <tr>\n",
       "      <th>3</th>\n",
       "      <td>0.0</td>\n",
       "      <td>0.0</td>\n",
       "      <td>0.000000</td>\n",
       "      <td>0.000000</td>\n",
       "      <td>0.063654</td>\n",
       "      <td>...</td>\n",
       "      <td>0.050743</td>\n",
       "      <td>0.094927</td>\n",
       "      <td>0.011861</td>\n",
       "      <td>0.0</td>\n",
       "      <td>1</td>\n",
       "    </tr>\n",
       "    <tr>\n",
       "      <th>4</th>\n",
       "      <td>0.0</td>\n",
       "      <td>0.0</td>\n",
       "      <td>0.033731</td>\n",
       "      <td>0.056372</td>\n",
       "      <td>0.050014</td>\n",
       "      <td>...</td>\n",
       "      <td>0.050743</td>\n",
       "      <td>0.023732</td>\n",
       "      <td>0.000000</td>\n",
       "      <td>0.0</td>\n",
       "      <td>0</td>\n",
       "    </tr>\n",
       "    <tr>\n",
       "      <th>...</th>\n",
       "      <td>...</td>\n",
       "      <td>...</td>\n",
       "      <td>...</td>\n",
       "      <td>...</td>\n",
       "      <td>...</td>\n",
       "      <td>...</td>\n",
       "      <td>...</td>\n",
       "      <td>...</td>\n",
       "      <td>...</td>\n",
       "      <td>...</td>\n",
       "      <td>...</td>\n",
       "    </tr>\n",
       "    <tr>\n",
       "      <th>355</th>\n",
       "      <td>0.0</td>\n",
       "      <td>0.0</td>\n",
       "      <td>0.011244</td>\n",
       "      <td>0.052036</td>\n",
       "      <td>0.045467</td>\n",
       "      <td>...</td>\n",
       "      <td>0.046840</td>\n",
       "      <td>0.059330</td>\n",
       "      <td>0.000000</td>\n",
       "      <td>0.0</td>\n",
       "      <td>1</td>\n",
       "    </tr>\n",
       "    <tr>\n",
       "      <th>356</th>\n",
       "      <td>0.0</td>\n",
       "      <td>0.0</td>\n",
       "      <td>0.089950</td>\n",
       "      <td>0.052036</td>\n",
       "      <td>0.050014</td>\n",
       "      <td>...</td>\n",
       "      <td>0.046840</td>\n",
       "      <td>0.041531</td>\n",
       "      <td>0.000000</td>\n",
       "      <td>0.0</td>\n",
       "      <td>1</td>\n",
       "    </tr>\n",
       "    <tr>\n",
       "      <th>357</th>\n",
       "      <td>0.0</td>\n",
       "      <td>0.0</td>\n",
       "      <td>0.056219</td>\n",
       "      <td>0.069381</td>\n",
       "      <td>0.045467</td>\n",
       "      <td>...</td>\n",
       "      <td>0.062453</td>\n",
       "      <td>0.047464</td>\n",
       "      <td>0.011861</td>\n",
       "      <td>0.0</td>\n",
       "      <td>0</td>\n",
       "    </tr>\n",
       "    <tr>\n",
       "      <th>358</th>\n",
       "      <td>0.0</td>\n",
       "      <td>0.0</td>\n",
       "      <td>0.067463</td>\n",
       "      <td>0.052036</td>\n",
       "      <td>0.054561</td>\n",
       "      <td>...</td>\n",
       "      <td>0.039033</td>\n",
       "      <td>0.023732</td>\n",
       "      <td>0.000000</td>\n",
       "      <td>0.0</td>\n",
       "      <td>1</td>\n",
       "    </tr>\n",
       "    <tr>\n",
       "      <th>359</th>\n",
       "      <td>0.0</td>\n",
       "      <td>0.0</td>\n",
       "      <td>0.067463</td>\n",
       "      <td>0.069381</td>\n",
       "      <td>0.059107</td>\n",
       "      <td>...</td>\n",
       "      <td>0.054646</td>\n",
       "      <td>0.035598</td>\n",
       "      <td>0.000000</td>\n",
       "      <td>0.0</td>\n",
       "      <td>0</td>\n",
       "    </tr>\n",
       "  </tbody>\n",
       "</table>\n",
       "<p>360 rows × 65 columns</p>\n",
       "</div>"
      ],
      "text/plain": [
       "     pixel_0_0  pixel_0_1  pixel_0_2  pixel_0_3  pixel_0_4  ...  pixel_7_4  \\\n",
       "0          0.0        0.0   0.056219   0.056372   0.040921  ...   0.039033   \n",
       "1          0.0        0.0   0.000000   0.052036   0.059107  ...   0.062453   \n",
       "2          0.0        0.0   0.011244   0.039027   0.068201  ...   0.050743   \n",
       "3          0.0        0.0   0.000000   0.000000   0.063654  ...   0.050743   \n",
       "4          0.0        0.0   0.033731   0.056372   0.050014  ...   0.050743   \n",
       "..         ...        ...        ...        ...        ...  ...        ...   \n",
       "355        0.0        0.0   0.011244   0.052036   0.045467  ...   0.046840   \n",
       "356        0.0        0.0   0.089950   0.052036   0.050014  ...   0.046840   \n",
       "357        0.0        0.0   0.056219   0.069381   0.045467  ...   0.062453   \n",
       "358        0.0        0.0   0.067463   0.052036   0.054561  ...   0.039033   \n",
       "359        0.0        0.0   0.067463   0.069381   0.059107  ...   0.054646   \n",
       "\n",
       "     pixel_7_5  pixel_7_6  pixel_7_7  Income_Greater_50k  \n",
       "0     0.000000   0.000000        0.0                   0  \n",
       "1     0.059330   0.000000        0.0                   1  \n",
       "2     0.017799   0.000000        0.0                   0  \n",
       "3     0.094927   0.011861        0.0                   1  \n",
       "4     0.023732   0.000000        0.0                   0  \n",
       "..         ...        ...        ...                 ...  \n",
       "355   0.059330   0.000000        0.0                   1  \n",
       "356   0.041531   0.000000        0.0                   1  \n",
       "357   0.047464   0.011861        0.0                   0  \n",
       "358   0.023732   0.000000        0.0                   1  \n",
       "359   0.035598   0.000000        0.0                   0  \n",
       "\n",
       "[360 rows x 65 columns]"
      ]
     },
     "execution_count": 20,
     "metadata": {},
     "output_type": "execute_result"
    }
   ],
   "source": [
    "factuals"
   ]
  },
  {
   "cell_type": "code",
   "execution_count": 21,
   "metadata": {},
   "outputs": [
    {
     "data": {
      "text/plain": [
       "182"
      ]
     },
     "execution_count": 21,
     "metadata": {},
     "output_type": "execute_result"
    }
   ],
   "source": [
    "sum(factuals['Income_Greater_50k']==1)"
   ]
  },
  {
   "cell_type": "code",
   "execution_count": 22,
   "metadata": {},
   "outputs": [
    {
     "data": {
      "text/html": [
       "<div>\n",
       "<style scoped>\n",
       "    .dataframe tbody tr th:only-of-type {\n",
       "        vertical-align: middle;\n",
       "    }\n",
       "\n",
       "    .dataframe tbody tr th {\n",
       "        vertical-align: top;\n",
       "    }\n",
       "\n",
       "    .dataframe thead th {\n",
       "        text-align: right;\n",
       "    }\n",
       "</style>\n",
       "<table border=\"1\" class=\"dataframe\">\n",
       "  <thead>\n",
       "    <tr style=\"text-align: right;\">\n",
       "      <th></th>\n",
       "      <th>pixel_0_0</th>\n",
       "      <th>pixel_0_1</th>\n",
       "      <th>pixel_0_2</th>\n",
       "      <th>pixel_0_3</th>\n",
       "      <th>pixel_0_4</th>\n",
       "      <th>...</th>\n",
       "      <th>pixel_7_4</th>\n",
       "      <th>pixel_7_5</th>\n",
       "      <th>pixel_7_6</th>\n",
       "      <th>pixel_7_7</th>\n",
       "      <th>Income_Greater_50k</th>\n",
       "    </tr>\n",
       "  </thead>\n",
       "  <tbody>\n",
       "    <tr>\n",
       "      <th>0</th>\n",
       "      <td>-0.035814</td>\n",
       "      <td>0.029500</td>\n",
       "      <td>0.039840</td>\n",
       "      <td>0.006716</td>\n",
       "      <td>0.034521</td>\n",
       "      <td>...</td>\n",
       "      <td>0.001591</td>\n",
       "      <td>0.004209</td>\n",
       "      <td>0.007193</td>\n",
       "      <td>0.018580</td>\n",
       "      <td>1.0</td>\n",
       "    </tr>\n",
       "    <tr>\n",
       "      <th>1</th>\n",
       "      <td>NaN</td>\n",
       "      <td>NaN</td>\n",
       "      <td>NaN</td>\n",
       "      <td>NaN</td>\n",
       "      <td>NaN</td>\n",
       "      <td>...</td>\n",
       "      <td>NaN</td>\n",
       "      <td>NaN</td>\n",
       "      <td>NaN</td>\n",
       "      <td>NaN</td>\n",
       "      <td>NaN</td>\n",
       "    </tr>\n",
       "    <tr>\n",
       "      <th>2</th>\n",
       "      <td>-0.017755</td>\n",
       "      <td>0.020394</td>\n",
       "      <td>0.042232</td>\n",
       "      <td>0.073438</td>\n",
       "      <td>0.058927</td>\n",
       "      <td>...</td>\n",
       "      <td>0.053524</td>\n",
       "      <td>0.032450</td>\n",
       "      <td>-0.016101</td>\n",
       "      <td>0.026651</td>\n",
       "      <td>1.0</td>\n",
       "    </tr>\n",
       "    <tr>\n",
       "      <th>3</th>\n",
       "      <td>NaN</td>\n",
       "      <td>NaN</td>\n",
       "      <td>NaN</td>\n",
       "      <td>NaN</td>\n",
       "      <td>NaN</td>\n",
       "      <td>...</td>\n",
       "      <td>NaN</td>\n",
       "      <td>NaN</td>\n",
       "      <td>NaN</td>\n",
       "      <td>NaN</td>\n",
       "      <td>NaN</td>\n",
       "    </tr>\n",
       "    <tr>\n",
       "      <th>4</th>\n",
       "      <td>0.038217</td>\n",
       "      <td>0.085426</td>\n",
       "      <td>0.006062</td>\n",
       "      <td>0.038547</td>\n",
       "      <td>0.096315</td>\n",
       "      <td>...</td>\n",
       "      <td>0.017478</td>\n",
       "      <td>0.001574</td>\n",
       "      <td>-0.011549</td>\n",
       "      <td>0.002887</td>\n",
       "      <td>1.0</td>\n",
       "    </tr>\n",
       "    <tr>\n",
       "      <th>...</th>\n",
       "      <td>...</td>\n",
       "      <td>...</td>\n",
       "      <td>...</td>\n",
       "      <td>...</td>\n",
       "      <td>...</td>\n",
       "      <td>...</td>\n",
       "      <td>...</td>\n",
       "      <td>...</td>\n",
       "      <td>...</td>\n",
       "      <td>...</td>\n",
       "      <td>...</td>\n",
       "    </tr>\n",
       "    <tr>\n",
       "      <th>355</th>\n",
       "      <td>NaN</td>\n",
       "      <td>NaN</td>\n",
       "      <td>NaN</td>\n",
       "      <td>NaN</td>\n",
       "      <td>NaN</td>\n",
       "      <td>...</td>\n",
       "      <td>NaN</td>\n",
       "      <td>NaN</td>\n",
       "      <td>NaN</td>\n",
       "      <td>NaN</td>\n",
       "      <td>NaN</td>\n",
       "    </tr>\n",
       "    <tr>\n",
       "      <th>356</th>\n",
       "      <td>NaN</td>\n",
       "      <td>NaN</td>\n",
       "      <td>NaN</td>\n",
       "      <td>NaN</td>\n",
       "      <td>NaN</td>\n",
       "      <td>...</td>\n",
       "      <td>NaN</td>\n",
       "      <td>NaN</td>\n",
       "      <td>NaN</td>\n",
       "      <td>NaN</td>\n",
       "      <td>NaN</td>\n",
       "    </tr>\n",
       "    <tr>\n",
       "      <th>357</th>\n",
       "      <td>0.005472</td>\n",
       "      <td>0.001703</td>\n",
       "      <td>0.051472</td>\n",
       "      <td>0.051645</td>\n",
       "      <td>0.045986</td>\n",
       "      <td>...</td>\n",
       "      <td>0.072518</td>\n",
       "      <td>0.049526</td>\n",
       "      <td>0.033992</td>\n",
       "      <td>-0.030046</td>\n",
       "      <td>1.0</td>\n",
       "    </tr>\n",
       "    <tr>\n",
       "      <th>358</th>\n",
       "      <td>NaN</td>\n",
       "      <td>NaN</td>\n",
       "      <td>NaN</td>\n",
       "      <td>NaN</td>\n",
       "      <td>NaN</td>\n",
       "      <td>...</td>\n",
       "      <td>NaN</td>\n",
       "      <td>NaN</td>\n",
       "      <td>NaN</td>\n",
       "      <td>NaN</td>\n",
       "      <td>NaN</td>\n",
       "    </tr>\n",
       "    <tr>\n",
       "      <th>359</th>\n",
       "      <td>0.060916</td>\n",
       "      <td>0.012785</td>\n",
       "      <td>0.131762</td>\n",
       "      <td>0.050579</td>\n",
       "      <td>0.089771</td>\n",
       "      <td>...</td>\n",
       "      <td>0.020536</td>\n",
       "      <td>-0.015680</td>\n",
       "      <td>0.063459</td>\n",
       "      <td>-0.044468</td>\n",
       "      <td>1.0</td>\n",
       "    </tr>\n",
       "  </tbody>\n",
       "</table>\n",
       "<p>360 rows × 65 columns</p>\n",
       "</div>"
      ],
      "text/plain": [
       "     pixel_0_0  pixel_0_1  pixel_0_2  pixel_0_3  pixel_0_4  ...  pixel_7_4  \\\n",
       "0    -0.035814   0.029500   0.039840   0.006716   0.034521  ...   0.001591   \n",
       "1          NaN        NaN        NaN        NaN        NaN  ...        NaN   \n",
       "2    -0.017755   0.020394   0.042232   0.073438   0.058927  ...   0.053524   \n",
       "3          NaN        NaN        NaN        NaN        NaN  ...        NaN   \n",
       "4     0.038217   0.085426   0.006062   0.038547   0.096315  ...   0.017478   \n",
       "..         ...        ...        ...        ...        ...  ...        ...   \n",
       "355        NaN        NaN        NaN        NaN        NaN  ...        NaN   \n",
       "356        NaN        NaN        NaN        NaN        NaN  ...        NaN   \n",
       "357   0.005472   0.001703   0.051472   0.051645   0.045986  ...   0.072518   \n",
       "358        NaN        NaN        NaN        NaN        NaN  ...        NaN   \n",
       "359   0.060916   0.012785   0.131762   0.050579   0.089771  ...   0.020536   \n",
       "\n",
       "     pixel_7_5  pixel_7_6  pixel_7_7  Income_Greater_50k  \n",
       "0     0.004209   0.007193   0.018580                 1.0  \n",
       "1          NaN        NaN        NaN                 NaN  \n",
       "2     0.032450  -0.016101   0.026651                 1.0  \n",
       "3          NaN        NaN        NaN                 NaN  \n",
       "4     0.001574  -0.011549   0.002887                 1.0  \n",
       "..         ...        ...        ...                 ...  \n",
       "355        NaN        NaN        NaN                 NaN  \n",
       "356        NaN        NaN        NaN                 NaN  \n",
       "357   0.049526   0.033992  -0.030046                 1.0  \n",
       "358        NaN        NaN        NaN                 NaN  \n",
       "359  -0.015680   0.063459  -0.044468                 1.0  \n",
       "\n",
       "[360 rows x 65 columns]"
      ]
     },
     "execution_count": 22,
     "metadata": {},
     "output_type": "execute_result"
    }
   ],
   "source": [
    "counterfactuals_1"
   ]
  },
  {
   "cell_type": "code",
   "execution_count": 23,
   "metadata": {},
   "outputs": [
    {
     "data": {
      "text/html": [
       "<div>\n",
       "<style scoped>\n",
       "    .dataframe tbody tr th:only-of-type {\n",
       "        vertical-align: middle;\n",
       "    }\n",
       "\n",
       "    .dataframe tbody tr th {\n",
       "        vertical-align: top;\n",
       "    }\n",
       "\n",
       "    .dataframe thead th {\n",
       "        text-align: right;\n",
       "    }\n",
       "</style>\n",
       "<table border=\"1\" class=\"dataframe\">\n",
       "  <thead>\n",
       "    <tr style=\"text-align: right;\">\n",
       "      <th></th>\n",
       "      <th>pixel_0_0</th>\n",
       "      <th>pixel_0_1</th>\n",
       "      <th>pixel_0_2</th>\n",
       "      <th>pixel_0_3</th>\n",
       "      <th>pixel_0_4</th>\n",
       "      <th>...</th>\n",
       "      <th>pixel_7_4</th>\n",
       "      <th>pixel_7_5</th>\n",
       "      <th>pixel_7_6</th>\n",
       "      <th>pixel_7_7</th>\n",
       "      <th>Income_Greater_50k</th>\n",
       "    </tr>\n",
       "  </thead>\n",
       "  <tbody>\n",
       "    <tr>\n",
       "      <th>0</th>\n",
       "      <td>0.016625</td>\n",
       "      <td>0.002213</td>\n",
       "      <td>0.053804</td>\n",
       "      <td>0.031427</td>\n",
       "      <td>0.061996</td>\n",
       "      <td>...</td>\n",
       "      <td>-0.009914</td>\n",
       "      <td>-0.053396</td>\n",
       "      <td>0.047499</td>\n",
       "      <td>0.085197</td>\n",
       "      <td>1.0</td>\n",
       "    </tr>\n",
       "    <tr>\n",
       "      <th>1</th>\n",
       "      <td>NaN</td>\n",
       "      <td>NaN</td>\n",
       "      <td>NaN</td>\n",
       "      <td>NaN</td>\n",
       "      <td>NaN</td>\n",
       "      <td>...</td>\n",
       "      <td>NaN</td>\n",
       "      <td>NaN</td>\n",
       "      <td>NaN</td>\n",
       "      <td>NaN</td>\n",
       "      <td>NaN</td>\n",
       "    </tr>\n",
       "    <tr>\n",
       "      <th>2</th>\n",
       "      <td>-0.001740</td>\n",
       "      <td>0.005977</td>\n",
       "      <td>-0.068165</td>\n",
       "      <td>0.053351</td>\n",
       "      <td>-0.048530</td>\n",
       "      <td>...</td>\n",
       "      <td>0.112356</td>\n",
       "      <td>0.011885</td>\n",
       "      <td>-0.049018</td>\n",
       "      <td>0.080475</td>\n",
       "      <td>1.0</td>\n",
       "    </tr>\n",
       "    <tr>\n",
       "      <th>3</th>\n",
       "      <td>NaN</td>\n",
       "      <td>NaN</td>\n",
       "      <td>NaN</td>\n",
       "      <td>NaN</td>\n",
       "      <td>NaN</td>\n",
       "      <td>...</td>\n",
       "      <td>NaN</td>\n",
       "      <td>NaN</td>\n",
       "      <td>NaN</td>\n",
       "      <td>NaN</td>\n",
       "      <td>NaN</td>\n",
       "    </tr>\n",
       "    <tr>\n",
       "      <th>4</th>\n",
       "      <td>0.024893</td>\n",
       "      <td>0.110888</td>\n",
       "      <td>0.022472</td>\n",
       "      <td>0.044603</td>\n",
       "      <td>0.019754</td>\n",
       "      <td>...</td>\n",
       "      <td>-0.000861</td>\n",
       "      <td>-0.009192</td>\n",
       "      <td>0.037574</td>\n",
       "      <td>0.017920</td>\n",
       "      <td>1.0</td>\n",
       "    </tr>\n",
       "    <tr>\n",
       "      <th>...</th>\n",
       "      <td>...</td>\n",
       "      <td>...</td>\n",
       "      <td>...</td>\n",
       "      <td>...</td>\n",
       "      <td>...</td>\n",
       "      <td>...</td>\n",
       "      <td>...</td>\n",
       "      <td>...</td>\n",
       "      <td>...</td>\n",
       "      <td>...</td>\n",
       "      <td>...</td>\n",
       "    </tr>\n",
       "    <tr>\n",
       "      <th>355</th>\n",
       "      <td>NaN</td>\n",
       "      <td>NaN</td>\n",
       "      <td>NaN</td>\n",
       "      <td>NaN</td>\n",
       "      <td>NaN</td>\n",
       "      <td>...</td>\n",
       "      <td>NaN</td>\n",
       "      <td>NaN</td>\n",
       "      <td>NaN</td>\n",
       "      <td>NaN</td>\n",
       "      <td>NaN</td>\n",
       "    </tr>\n",
       "    <tr>\n",
       "      <th>356</th>\n",
       "      <td>NaN</td>\n",
       "      <td>NaN</td>\n",
       "      <td>NaN</td>\n",
       "      <td>NaN</td>\n",
       "      <td>NaN</td>\n",
       "      <td>...</td>\n",
       "      <td>NaN</td>\n",
       "      <td>NaN</td>\n",
       "      <td>NaN</td>\n",
       "      <td>NaN</td>\n",
       "      <td>NaN</td>\n",
       "    </tr>\n",
       "    <tr>\n",
       "      <th>357</th>\n",
       "      <td>0.100079</td>\n",
       "      <td>0.060570</td>\n",
       "      <td>0.136893</td>\n",
       "      <td>0.014068</td>\n",
       "      <td>0.069958</td>\n",
       "      <td>...</td>\n",
       "      <td>-0.003357</td>\n",
       "      <td>0.073205</td>\n",
       "      <td>0.028445</td>\n",
       "      <td>0.035249</td>\n",
       "      <td>1.0</td>\n",
       "    </tr>\n",
       "    <tr>\n",
       "      <th>358</th>\n",
       "      <td>NaN</td>\n",
       "      <td>NaN</td>\n",
       "      <td>NaN</td>\n",
       "      <td>NaN</td>\n",
       "      <td>NaN</td>\n",
       "      <td>...</td>\n",
       "      <td>NaN</td>\n",
       "      <td>NaN</td>\n",
       "      <td>NaN</td>\n",
       "      <td>NaN</td>\n",
       "      <td>NaN</td>\n",
       "    </tr>\n",
       "    <tr>\n",
       "      <th>359</th>\n",
       "      <td>-0.133177</td>\n",
       "      <td>0.059716</td>\n",
       "      <td>-0.011684</td>\n",
       "      <td>0.167413</td>\n",
       "      <td>-0.012876</td>\n",
       "      <td>...</td>\n",
       "      <td>0.018249</td>\n",
       "      <td>0.081628</td>\n",
       "      <td>-0.009265</td>\n",
       "      <td>0.062737</td>\n",
       "      <td>1.0</td>\n",
       "    </tr>\n",
       "  </tbody>\n",
       "</table>\n",
       "<p>360 rows × 65 columns</p>\n",
       "</div>"
      ],
      "text/plain": [
       "     pixel_0_0  pixel_0_1  pixel_0_2  pixel_0_3  pixel_0_4  ...  pixel_7_4  \\\n",
       "0     0.016625   0.002213   0.053804   0.031427   0.061996  ...  -0.009914   \n",
       "1          NaN        NaN        NaN        NaN        NaN  ...        NaN   \n",
       "2    -0.001740   0.005977  -0.068165   0.053351  -0.048530  ...   0.112356   \n",
       "3          NaN        NaN        NaN        NaN        NaN  ...        NaN   \n",
       "4     0.024893   0.110888   0.022472   0.044603   0.019754  ...  -0.000861   \n",
       "..         ...        ...        ...        ...        ...  ...        ...   \n",
       "355        NaN        NaN        NaN        NaN        NaN  ...        NaN   \n",
       "356        NaN        NaN        NaN        NaN        NaN  ...        NaN   \n",
       "357   0.100079   0.060570   0.136893   0.014068   0.069958  ...  -0.003357   \n",
       "358        NaN        NaN        NaN        NaN        NaN  ...        NaN   \n",
       "359  -0.133177   0.059716  -0.011684   0.167413  -0.012876  ...   0.018249   \n",
       "\n",
       "     pixel_7_5  pixel_7_6  pixel_7_7  Income_Greater_50k  \n",
       "0    -0.053396   0.047499   0.085197                 1.0  \n",
       "1          NaN        NaN        NaN                 NaN  \n",
       "2     0.011885  -0.049018   0.080475                 1.0  \n",
       "3          NaN        NaN        NaN                 NaN  \n",
       "4    -0.009192   0.037574   0.017920                 1.0  \n",
       "..         ...        ...        ...                 ...  \n",
       "355        NaN        NaN        NaN                 NaN  \n",
       "356        NaN        NaN        NaN                 NaN  \n",
       "357   0.073205   0.028445   0.035249                 1.0  \n",
       "358        NaN        NaN        NaN                 NaN  \n",
       "359   0.081628  -0.009265   0.062737                 1.0  \n",
       "\n",
       "[360 rows x 65 columns]"
      ]
     },
     "execution_count": 23,
     "metadata": {},
     "output_type": "execute_result"
    }
   ],
   "source": [
    "counterfactuals_2"
   ]
  },
  {
   "cell_type": "code",
   "execution_count": 80,
   "metadata": {},
   "outputs": [
    {
     "data": {
      "text/plain": [
       "178"
      ]
     },
     "execution_count": 80,
     "metadata": {},
     "output_type": "execute_result"
    }
   ],
   "source": [
    "factuals.shape[0]-sum(factuals['Income_Greater_50k']==1)"
   ]
  },
  {
   "cell_type": "code",
   "execution_count": 81,
   "metadata": {},
   "outputs": [
    {
     "data": {
      "text/plain": [
       "178"
      ]
     },
     "execution_count": 81,
     "metadata": {},
     "output_type": "execute_result"
    }
   ],
   "source": [
    "sum(counterfactuals_1['pixel_0_0'].notnull())"
   ]
  },
  {
   "cell_type": "code",
   "execution_count": 82,
   "metadata": {},
   "outputs": [
    {
     "data": {
      "text/plain": [
       "1.0"
      ]
     },
     "execution_count": 82,
     "metadata": {},
     "output_type": "execute_result"
    }
   ],
   "source": [
    "sum(counterfactuals_1['pixel_0_0'].notnull())/(factuals.shape[0]-sum(factuals['Income_Greater_50k']==1))"
   ]
  },
  {
   "cell_type": "code",
   "execution_count": 83,
   "metadata": {},
   "outputs": [
    {
     "data": {
      "text/plain": [
       "1.3202247191011236"
      ]
     },
     "execution_count": 83,
     "metadata": {},
     "output_type": "execute_result"
    }
   ],
   "source": [
    "sum(counterfactuals_2['pixel_0_0'].notnull())/(factuals.shape[0]-sum(factuals['Income_Greater_50k']==1))"
   ]
  },
  {
   "cell_type": "code",
   "execution_count": 45,
   "metadata": {},
   "outputs": [],
   "source": [
    "import numpy as np\n",
    "import pandas as pd\n",
    "from sklearn.neighbors import NearestNeighbors\n",
    "from typing import List\n",
    "\n",
    "from carla.models.api import MLModel\n",
    "from carla.recourse_methods.api import RecourseMethod\n",
    "from carla.evaluation.distances import get_distances\n",
    "\n",
    "\n",
    "def yNN_manifold(\n",
    "    factuals: Data,\n",
    "    counterfactuals: pd.DataFrame,\n",
    "    recourse_method: RecourseMethod,\n",
    "    mlmodel: MLModel,\n",
    "    y: int = 10,\n",
    "    dist_type: int =1,\n",
    ")-> List[float]:\n",
    "    \"\"\"\n",
    "    TODO\n",
    "    Parameters\n",
    "    ----------\n",
    "    counterfactuals: Generated counterfactual examples\n",
    "    recourse_method: Method we want to benchmark\n",
    "    y: Number of\n",
    "\n",
    "    Returns\n",
    "    -------\n",
    "    List[List[float]]\n",
    "    \"\"\"\n",
    "    distances = []\n",
    "    N = counterfactuals.shape[0]\n",
    "\n",
    "    positive_class = factuals.df.loc[factuals.df.index[factuals.df[factuals.target]==1]]\n",
    "    \n",
    "    nbrs = NearestNeighbors(n_neighbors=y).fit(positive_class.values)\n",
    "\n",
    "    for i, row in counterfactuals.iterrows():\n",
    "        if pd.isna(row).any():\n",
    "            distances.append(np.nan)\n",
    "            continue\n",
    "        knn = nbrs.kneighbors(row.values.reshape((1, -1)), y, return_distance=False)[0]\n",
    "        distances_local = 0\n",
    "        \n",
    "        for idx in knn:\n",
    "            neighbour = positive_class.iloc[idx]\n",
    "            neighbour = neighbour.drop(mlmodel.data.target)\n",
    "            neighbour = neighbour.values.reshape((1, -1))\n",
    "            row_copy = row.drop(mlmodel.data.target)\n",
    "            row_copy = row_copy.values.reshape((1, -1))\n",
    "            \n",
    "            distances_local += get_distances(row_copy, neighbour)[0][dist_type]\n",
    "        distances.append((1 / y) * distances_local)\n",
    "    return distances\n",
    "\n",
    "def sphere_manifold(\n",
    "    factuals: Data,\n",
    "    counterfactuals: pd.DataFrame,\n",
    "    recourse_method: RecourseMethod,\n",
    "    mlmodel: MLModel,\n",
    "    sphere_factor: float = 0.8,\n",
    "    dist_type: int = 2,\n",
    ")-> List[List[float]]:\n",
    "    \"\"\"\n",
    "    TODO\n",
    "    Parameters\n",
    "    ----------\n",
    "    counterfactuals: Generated counterfactual examples\n",
    "    recourse_method: Method we want to benchmark\n",
    "    y: Number of\n",
    "\n",
    "    Returns\n",
    "    -------\n",
    "    List[List[float]]\n",
    "    \"\"\"\n",
    "    distances = []\n",
    "    N = counterfactuals.shape[0]\n",
    "\n",
    "    positive_class = factuals.df.loc[factuals.df.index[factuals.df[factuals.target]==1]]\n",
    "    \n",
    "    for i, row in counterfactuals.iterrows():\n",
    "        if pd.isna(row).any():\n",
    "            distances.append(np.nan)\n",
    "            continue\n",
    "        all_deltas = np.asarray(factuals.df.drop(mlmodel.data.target, axis=1) - row.drop(mlmodel.data.target))\n",
    "        all_dists = np.sum(np.square(np.abs(all_deltas)), axis=1, dtype=np.float)\n",
    "        all_euc_dist = np.sqrt(all_dists)\n",
    "        radius = np.mean(all_euc_dist)*sphere_factor\n",
    "\n",
    "        pos_deltas = np.asarray(positive_class.drop(mlmodel.data.target, axis=1) - row.drop(mlmodel.data.target))\n",
    "        pos_dists = np.sum(np.square(np.abs(pos_deltas)), axis=1, dtype=np.float)\n",
    "        pos_euc_dist = np.sqrt(pos_dists)\n",
    "        relevant_neighbors = np.where(pos_euc_dist < radius)[0]\n",
    "        #print(relevant_neighbors)\n",
    "        if len(relevant_neighbors) == 0:\n",
    "            distances.append(np.nan)\n",
    "        else:\n",
    "            relevant_distances = pos_euc_dist[relevant_neighbors]\n",
    "            distances.append(np.mean(relevant_distances))\n",
    "        \n",
    "    return distances\n",
    "\n"
   ]
  },
  {
   "cell_type": "code",
   "execution_count": 46,
   "metadata": {},
   "outputs": [],
   "source": [
    "ynn_1 = yNN_manifold(ds, counterfactuals_1, gs_1, nat_model_carla)\n",
    "ynn_2 = yNN_manifold(ds, counterfactuals_2, gs_2, adv_model_carla)\n"
   ]
  },
  {
   "cell_type": "code",
   "execution_count": 47,
   "metadata": {},
   "outputs": [],
   "source": [
    "sphere_1 = sphere_manifold(ds, counterfactuals_1, gs_1, nat_model_carla)\n",
    "sphere_2 = sphere_manifold(ds, counterfactuals_2, gs_2, adv_model_carla)\n"
   ]
  },
  {
   "cell_type": "code",
   "execution_count": 27,
   "metadata": {},
   "outputs": [],
   "source": [
    "ynn_1 = [val for val in ynn_1 if not pd.isnull(val)]\n",
    "ynn_2 = [val for val in ynn_2 if not pd.isnull(val)]\n"
   ]
  },
  {
   "cell_type": "code",
   "execution_count": 28,
   "metadata": {},
   "outputs": [
    {
     "data": {
      "text/plain": [
       "2.353357767815421"
      ]
     },
     "execution_count": 28,
     "metadata": {},
     "output_type": "execute_result"
    }
   ],
   "source": [
    "np.mean(ynn_1)"
   ]
  },
  {
   "cell_type": "code",
   "execution_count": 29,
   "metadata": {},
   "outputs": [
    {
     "data": {
      "text/plain": [
       "2.6282805039590342"
      ]
     },
     "execution_count": 29,
     "metadata": {},
     "output_type": "execute_result"
    }
   ],
   "source": [
    "np.mean(ynn_2)"
   ]
  },
  {
   "cell_type": "code",
   "execution_count": 30,
   "metadata": {},
   "outputs": [
    {
     "data": {
      "image/png": "[encoded data removed]",
      "text/plain": [
       "<Figure size 432x288 with 1 Axes>"
      ]
     },
     "metadata": {
      "needs_background": "light"
     },
     "output_type": "display_data"
    }
   ],
   "source": [
    "import matplotlib.pyplot as plt\n",
    "\n",
    "plt.figure()\n",
    "plt.boxplot([ynn_1, ynn_2])\n",
    "plt.title('Avg. Distance to 5 Nearest Neighbors- MNIST')\n",
    "plt.xticks([1, 2], ['Naturally Trained', 'Adversarially Trained'])\n",
    "plt.show()"
   ]
  },
  {
   "cell_type": "code",
   "execution_count": 31,
   "metadata": {},
   "outputs": [],
   "source": [
    "sphere_1 = [val for val in sphere_1 if not pd.isnull(val)]\n",
    "sphere_2 = [val for val in sphere_2 if not pd.isnull(val)]\n"
   ]
  },
  {
   "cell_type": "code",
   "execution_count": 32,
   "metadata": {},
   "outputs": [
    {
     "data": {
      "text/plain": [
       "0.29254440784846625"
      ]
     },
     "execution_count": 32,
     "metadata": {},
     "output_type": "execute_result"
    }
   ],
   "source": [
    "np.mean(sphere_1)"
   ]
  },
  {
   "cell_type": "code",
   "execution_count": 33,
   "metadata": {},
   "outputs": [
    {
     "data": {
      "text/plain": [
       "0.2760134906213657"
      ]
     },
     "execution_count": 33,
     "metadata": {},
     "output_type": "execute_result"
    }
   ],
   "source": [
    "np.mean(sphere_2)"
   ]
  },
  {
   "cell_type": "code",
   "execution_count": 34,
   "metadata": {},
   "outputs": [
    {
     "data": {
      "image/png": "[encoded data removed]",
      "text/plain": [
       "<Figure size 432x288 with 1 Axes>"
      ]
     },
     "metadata": {
      "needs_background": "light"
     },
     "output_type": "display_data"
    }
   ],
   "source": [
    "import matplotlib.pyplot as plt\n",
    "\n",
    "plt.figure()\n",
    "plt.boxplot([sphere_1, sphere_2])\n",
    "plt.title('Avg. Distance to Nearest Neighbors in L2 Sphere- MNIST')\n",
    "plt.xticks([1, 2], ['Naturally Trained', 'Adversarially Trained'])\n",
    "plt.show()"
   ]
  },
  {
   "cell_type": "code",
   "execution_count": 52,
   "metadata": {},
   "outputs": [],
   "source": [
    "def dist(\n",
    "    factuals: Data,\n",
    "    counterfactuals: pd.DataFrame,\n",
    "    recourse_method: RecourseMethod,\n",
    "    mlmodel: MLModel,\n",
    "    y: int = 5,\n",
    "    dist_type: int = 1,\n",
    ")-> List[float]:\n",
    "    \"\"\"\n",
    "    TODO\n",
    "    Parameters\n",
    "    ----------\n",
    "    counterfactuals: Generated counterfactual examples\n",
    "    recourse_method: Method we want to benchmark\n",
    "    y: Number of\n",
    "\n",
    "    Returns\n",
    "    -------\n",
    "    List[List[float]]\n",
    "    \"\"\"\n",
    "    distances = []\n",
    "    N = counterfactuals.shape[0]\n",
    "\n",
    "    for i, row in counterfactuals.iterrows():\n",
    "        if pd.isna(row).any():\n",
    "            distances.append(np.nan)\n",
    "            continue\n",
    "            \n",
    "        original = factuals.df.drop(mlmodel.data.target, axis=1).iloc[i].values.reshape((1,-1))\n",
    "        \n",
    "        row_copy = row.drop(mlmodel.data.target)\n",
    "        row_copy = row_copy.values.reshape((1, -1))\n",
    "        distances.append(get_distances(row_copy, original)[0][dist_type])\n",
    "    return distances\n",
    "\n",
    "dist_1 = dist(ds, counterfactuals_1, gs_1, nat_model_carla)\n",
    "dist_2 = dist(ds, counterfactuals_2, gs_2, adv_model_carla)\n",
    "\n"
   ]
  },
  {
   "cell_type": "code",
   "execution_count": 36,
   "metadata": {},
   "outputs": [],
   "source": [
    "dist_1 = [val for val in dist_1 if not pd.isnull(val)]\n",
    "dist_2 = [val for val in dist_2 if not pd.isnull(val)]\n"
   ]
  },
  {
   "cell_type": "code",
   "execution_count": 37,
   "metadata": {},
   "outputs": [
    {
     "data": {
      "image/png": "[encoded data removed]",
      "text/plain": [
       "<Figure size 432x288 with 1 Axes>"
      ]
     },
     "metadata": {
      "needs_background": "light"
     },
     "output_type": "display_data"
    }
   ],
   "source": [
    "import matplotlib.pyplot as plt\n",
    "\n",
    "plt.figure()\n",
    "plt.boxplot([dist_1, dist_2])\n",
    "plt.title('Avg. Distance from Original Point')\n",
    "plt.xticks([1, 2], ['Naturally Trained', 'Adversarially Trained'])\n",
    "plt.show()"
   ]
  },
  {
   "cell_type": "code",
   "execution_count": 53,
   "metadata": {},
   "outputs": [
    {
     "data": {
      "text/plain": [
       "360"
      ]
     },
     "execution_count": 53,
     "metadata": {},
     "output_type": "execute_result"
    }
   ],
   "source": [
    "len(dist_1)"
   ]
  },
  {
   "cell_type": "code",
   "execution_count": 54,
   "metadata": {},
   "outputs": [
    {
     "data": {
      "text/plain": [
       "360"
      ]
     },
     "execution_count": 54,
     "metadata": {},
     "output_type": "execute_result"
    }
   ],
   "source": [
    "len(ynn_1)"
   ]
  },
  {
   "cell_type": "code",
   "execution_count": 55,
   "metadata": {},
   "outputs": [
    {
     "data": {
      "text/plain": [
       "Text(0, 0.5, 'Proximity to Positive Manifold')"
      ]
     },
     "execution_count": 55,
     "metadata": {},
     "output_type": "execute_result"
    },
    {
     "data": {
      "image/png": "[encoded data removed]",
      "text/plain": [
       "<Figure size 432x288 with 1 Axes>"
      ]
     },
     "metadata": {
      "needs_background": "light"
     },
     "output_type": "display_data"
    }
   ],
   "source": [
    "plt.scatter(dist_1, ynn_1)\n",
    "plt.title('Natural Model')\n",
    "plt.xlabel('Distance from Original Point')\n",
    "plt.ylabel('Proximity to Positive Manifold')"
   ]
  },
  {
   "cell_type": "code",
   "execution_count": 56,
   "metadata": {},
   "outputs": [
    {
     "data": {
      "text/plain": [
       "Text(0, 0.5, 'Proximity to Positive Manifold')"
      ]
     },
     "execution_count": 56,
     "metadata": {},
     "output_type": "execute_result"
    },
    {
     "data": {
      "image/png": "[encoded data removed]",
      "text/plain": [
       "<Figure size 432x288 with 1 Axes>"
      ]
     },
     "metadata": {
      "needs_background": "light"
     },
     "output_type": "display_data"
    }
   ],
   "source": [
    "plt.scatter(dist_2, ynn_2)\n",
    "plt.title('Adversarially Trained Model')\n",
    "plt.xlabel('Distance from Original Point')\n",
    "plt.ylabel('Proximity to Positive Manifold')"
   ]
  },
  {
   "cell_type": "code",
   "execution_count": 57,
   "metadata": {},
   "outputs": [
    {
     "data": {
      "text/plain": [
       "Text(0, 0.5, 'Proximity to Positive Manifold')"
      ]
     },
     "execution_count": 57,
     "metadata": {},
     "output_type": "execute_result"
    },
    {
     "data": {
      "image/png": "[encoded data removed]",
      "text/plain": [
       "<Figure size 432x288 with 1 Axes>"
      ]
     },
     "metadata": {
      "needs_background": "light"
     },
     "output_type": "display_data"
    }
   ],
   "source": [
    "plt.scatter(dist_1, sphere_1)\n",
    "plt.title('Natural Model')\n",
    "plt.xlabel('Distance from Original Point')\n",
    "plt.ylabel('Proximity to Positive Manifold')"
   ]
  },
  {
   "cell_type": "code",
   "execution_count": 58,
   "metadata": {},
   "outputs": [
    {
     "data": {
      "text/plain": [
       "Text(0, 0.5, 'Proximity to Positive Manifold')"
      ]
     },
     "execution_count": 58,
     "metadata": {},
     "output_type": "execute_result"
    },
    {
     "data": {
      "image/png": "[encoded data removed]",
      "text/plain": [
       "<Figure size 432x288 with 1 Axes>"
      ]
     },
     "metadata": {
      "needs_background": "light"
     },
     "output_type": "display_data"
    }
   ],
   "source": [
    "plt.scatter(dist_2, sphere_2)\n",
    "plt.title('Natural Model')\n",
    "plt.xlabel('Distance from Original Point')\n",
    "plt.ylabel('Proximity to Positive Manifold')"
   ]
  },
  {
   "cell_type": "code",
   "execution_count": null,
   "metadata": {
    "colab": {
     "base_uri": "https://localhost:8080/",
     "height": 240
    },
    "executionInfo": {
     "elapsed": 258,
     "status": "error",
     "timestamp": 1651776890106,
     "user": {
      "displayName": "Ian Hardy",
      "userId": "01608928063074550753"
     },
     "user_tz": 420
    },
    "id": "E9oxOpuDh1DG",
    "outputId": "48222a67-79d6-4431-d876-a24b4c41c75a"
   },
   "outputs": [
    {
     "ename": "NameError",
     "evalue": "ignored",
     "output_type": "error",
     "traceback": [
      "\u001b[0;31m---------------------------------------------------------------------------\u001b[0m",
      "\u001b[0;31mNameError\u001b[0m                                 Traceback (most recent call last)",
      "\u001b[0;32m<ipython-input-2-5e5e199643c9>\u001b[0m in \u001b[0;36m<module>\u001b[0;34m\u001b[0m\n\u001b[1;32m      4\u001b[0m \u001b[0;31m# load a catalog dataset\u001b[0m\u001b[0;34m\u001b[0m\u001b[0;34m\u001b[0m\u001b[0;34m\u001b[0m\u001b[0m\n\u001b[1;32m      5\u001b[0m \u001b[0mdata_name\u001b[0m \u001b[0;34m=\u001b[0m \u001b[0;34m\"adult\"\u001b[0m\u001b[0;34m\u001b[0m\u001b[0;34m\u001b[0m\u001b[0m\n\u001b[0;32m----> 6\u001b[0;31m \u001b[0mdataset\u001b[0m \u001b[0;34m=\u001b[0m \u001b[0mOnlineCatalog\u001b[0m\u001b[0;34m(\u001b[0m\u001b[0mdata_name\u001b[0m\u001b[0;34m)\u001b[0m\u001b[0;34m\u001b[0m\u001b[0;34m\u001b[0m\u001b[0m\n\u001b[0m\u001b[1;32m      7\u001b[0m \u001b[0;34m\u001b[0m\u001b[0m\n\u001b[1;32m      8\u001b[0m \u001b[0mdataset\u001b[0m\u001b[0;34m.\u001b[0m\u001b[0mraw\u001b[0m\u001b[0;34m\u001b[0m\u001b[0;34m\u001b[0m\u001b[0m\n",
      "\u001b[0;31mNameError\u001b[0m: name 'OnlineCatalog' is not defined"
     ]
    }
   ],
   "source": [
    "#from carla import OnlineCatalog, MLModelCatalog\n",
    "from carla.recourse_methods import GrowingSpheres\n",
    "\n",
    "# load a catalog dataset\n",
    "data_name = \"adult\"\n",
    "dataset = OnlineCatalog(data_name)\n",
    "\n",
    "dataset.raw\n",
    "\n",
    "# load artificial neural network from catalog\n",
    "model = MLModelCatalog(dataset, \"ann\")\n",
    "\n",
    "# get factuals from the data to generate counterfactual examples\n",
    "factuals = dataset.raw.iloc[:10]\n",
    "\n",
    "# load a recourse model and pass black box model\n",
    "gs = GrowingSpheres(model)\n",
    "\n",
    "# generate counterfactual examples\n",
    "counterfactuals = gs.get_counterfactuals(factuals)\n"
   ]
  },
  {
   "cell_type": "code",
   "execution_count": null,
   "metadata": {
    "id": "o2M1TMGLa5El"
   },
   "outputs": [],
   "source": [
    "factuals = \n",
    "gs = GrowingSpheres(our_net)\n",
    "\n",
    "# generate counterfactual examples\n",
    "counterfactuals = gs.get_counterfactuals(factuals)"
   ]
  },
  {
   "cell_type": "code",
   "execution_count": null,
   "metadata": {
    "id": "dcw4q9H5a5IH"
   },
   "outputs": [],
   "source": []
  },
  {
   "cell_type": "code",
   "execution_count": null,
   "metadata": {
    "id": "QvOQjKATa5LF"
   },
   "outputs": [],
   "source": []
  }
 ],
 "metadata": {
  "colab": {
   "collapsed_sections": [],
   "name": "Adversarial-Learning-on-MNIST.ipynb",
   "provenance": []
  },
  "kernelspec": {
   "display_name": "myenv",
   "language": "python",
   "name": "myenv"
  },
  "language_info": {
   "codemirror_mode": {
    "name": "ipython",
    "version": 3
   },
   "file_extension": ".py",
   "mimetype": "text/x-python",
   "name": "python",
   "nbconvert_exporter": "python",
   "pygments_lexer": "ipython3",
   "version": "3.7.13"
  }
 },
 "nbformat": 4,
 "nbformat_minor": 1
}
