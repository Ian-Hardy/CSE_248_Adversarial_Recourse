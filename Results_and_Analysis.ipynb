{
 "cells": [
  {
   "cell_type": "code",
   "execution_count": 18,
   "id": "3d74d3a8",
   "metadata": {},
   "outputs": [],
   "source": [
    "import numpy as np\n",
    "import pandas as pd\n",
    "import torch\n",
    "import torch.nn as nn\n",
    "import torchvision\n",
    "import torchvision.transforms as transforms\n",
    "import torchvision.models as models\n",
    "import torchvision.datasets as datasets\n",
    "from torch.utils.data import Subset\n",
    "import matplotlib.pyplot as plt\n",
    "from torch import unsqueeze\n",
    "import torchattacks\n",
    "from torch.utils.data import TensorDataset, DataLoader\n",
    "from carla import Data\n",
    "import numpy as np\n",
    "import pandas as pd\n",
    "from sklearn.neighbors import NearestNeighbors\n",
    "from typing import List\n",
    "\n",
    "from carla import MLModel\n",
    "from carla import Data\n",
    "from carla.models.api import MLModel\n",
    "from carla.recourse_methods.api import RecourseMethod\n",
    "from carla.evaluation.distances import get_distances\n",
    "\n",
    "import torch.nn as nn\n",
    "from torch.nn.functional import normalize"
   ]
  },
  {
   "cell_type": "markdown",
   "id": "6f67843c",
   "metadata": {},
   "source": [
    "# Unconstrained-- Fashion MNIST\n"
   ]
  },
  {
   "cell_type": "markdown",
   "id": "97a36eb8",
   "metadata": {},
   "source": [
    "## Growing Spheres\n"
   ]
  },
  {
   "cell_type": "code",
   "execution_count": 3,
   "id": "b58c7798",
   "metadata": {},
   "outputs": [],
   "source": [
    "# Load Data, Serialized Model Objects, and Generated Counterfactuals\n",
    "\n",
    "# Data\n",
    "# Image preprocessing modules\n",
    "transform = transforms.Compose([\n",
    "        transforms.Resize(32),\n",
    "        transforms.ToTensor()\n",
    "    ])\n",
    "\n",
    "# Download data \n",
    "train_data = datasets.FashionMNIST(root = '.',\n",
    "                              train = True,\n",
    "                              download = True, \n",
    "                              transform=transform)\n",
    "test_data = datasets.FashionMNIST(root = '.',\n",
    "                             train = False, \n",
    "                             download = True, \n",
    "                             transform=transform)\n",
    "\n",
    "features_train = np.zeros((12000, 32, 32))\n",
    "label_train = np.zeros((12000,))\n",
    "count = 0\n",
    "for i in range(train_data.data.shape[0]):\n",
    "    features, label = train_data.__getitem__(i)\n",
    "    if label == 0 or label == 1:\n",
    "        features_train[count] = features.detach().numpy()\n",
    "        label_train[count] = label\n",
    "        count += 1\n",
    "\n",
    "features_train = np.asarray(features_train)\n",
    "label_train = np.asarray(label_train)\n",
    "\n",
    "features_test = np.zeros((2000, 32, 32))\n",
    "label_test = np.zeros((2000,))\n",
    "count = 0\n",
    "for i in range(test_data.data.shape[0]):\n",
    "    features, label = test_data.__getitem__(i)\n",
    "    if label == 0 or label == 1:\n",
    "        features_test[count] = features.detach().numpy()\n",
    "        label_test[count] = label\n",
    "        count += 1\n",
    "\n",
    "features_test = np.asarray(features_test)\n",
    "label_test = np.asarray(label_test)\n",
    "\n",
    "BATCH_SIZE = 128 \n",
    "# prepare the dataloader\n",
    "train_dataset = TensorDataset(torch.flatten(torch.Tensor(features_train).float(), start_dim=1), torch.Tensor(label_train))\n",
    "val_dataset = TensorDataset(torch.flatten(torch.Tensor(features_test).float(), start_dim=1), torch.Tensor(label_test))\n",
    "train_loader = DataLoader(train_dataset, batch_size=BATCH_SIZE, shuffle=True, pin_memory=True, num_workers=0) \n",
    "val_loader = DataLoader(val_dataset, batch_size=BATCH_SIZE, shuffle=False, pin_memory=True, num_workers=0, drop_last=False)\n",
    "\n",
    "feature_cols = []\n",
    "for i in range(32):\n",
    "    for j in range(32):\n",
    "        feature_cols.append('pixel_{}_{}'.format(i, j))\n",
    "\n",
    "features_train = torch.flatten(torch.Tensor(features_train).float(), start_dim=1).detach().numpy()\n",
    "df = pd.DataFrame(features_train, columns=feature_cols)\n",
    "df['Income_Greater_50k'] = label_train\n",
    "df['Income_Greater_50k'] = df['Income_Greater_50k'].astype(int)\n",
    "df.head()\n",
    "\n",
    "SEED = 0\n",
    "BATCH_SIZE = 128 \n",
    "\n",
    "\n",
    "\n",
    "# generate the training data index and validation data index\n",
    "np.random.seed(SEED)\n",
    "random_index = np.random.rand(len(features_train))  \n",
    "random_index = np.argsort(random_index)\n",
    "train_index = random_index[: int(len(features_train)*0.8)]  # 80% data for training\n",
    "val_index = random_index[int(len(features_train)*0.8):]\n",
    "\n",
    "\n",
    "# generate the training data and validation data\n",
    "train_data_df = df.iloc[train_index]\n",
    "val_data_df = df.iloc[val_index]\n",
    "\n",
    "\n",
    "\n",
    "# Custom data set implementations need to inherit from the Data interface\n",
    "class IncomeDataset(Data):\n",
    "\n",
    "    def __init__(self, data, train, val, feature_cols):\n",
    "        # The data set can e.g. be loaded in the constructor\n",
    "        self._dataset = data\n",
    "        self._train = train\n",
    "        self._val = val\n",
    "        self.feature_cols = feature_cols\n",
    "\n",
    "    # List of all categorical features\n",
    "    @property\n",
    "    def categorical(self):\n",
    "        return []\n",
    "\n",
    "    # List of all continuous features\n",
    "    @property\n",
    "    def continuous(self):\n",
    "        return self.feature_cols\n",
    "\n",
    "    # List of all immutable features which\n",
    "    # should not be changed by the recourse method\n",
    "    @property\n",
    "    def immutables(self):\n",
    "        return []\n",
    "\n",
    "    # Feature name of the target column\n",
    "    @property\n",
    "    def target(self):\n",
    "        return 'Income_Greater_50k'\n",
    "    \n",
    "    @property\n",
    "    def df(self):\n",
    "        return self._dataset\n",
    "        pass\n",
    "\n",
    "    @property\n",
    "    def df_train(self):\n",
    "        return self._train\n",
    "\n",
    "    @property\n",
    "    def df_test(self):\n",
    "        return self._val\n",
    "\n",
    "    def transform(self, df):\n",
    "        new_vals = normalization(df.values, self._mean, self._std)\n",
    "        return pd.DataFrame(new_vals, columns=self._dataset.columns)\n",
    "\n",
    "    def inverse_transform(self, df):\n",
    "        new_vals = inverse_normalization(df.values, self._mean, self._std)\n",
    "        return pd.DataFrame(new_vals, columns=self._dataset.columns)\n",
    "    \n",
    "    def normalization(tensor, mean, std):\n",
    "        return ((tensor - mean) / std).float()\n",
    "    \n",
    "    def inverse_normalization(x, mean, std):\n",
    "        return (x*std)+mean\n",
    "    \n",
    "ds = IncomeDataset(df, train_data_df, val_data_df, feature_cols)\n",
    "\n"
   ]
  },
  {
   "cell_type": "code",
   "execution_count": 7,
   "id": "3706c7f1",
   "metadata": {},
   "outputs": [],
   "source": [
    "# Model Definition & Load\n",
    "\n",
    "# prepare our network\n",
    "class my_net(nn.Module):\n",
    "    def __init__(self, input_dim=1024, emb_dim=64, mlp_ratio=4, num_classes=2): \n",
    "        super().__init__()  \n",
    "        \n",
    "        self.embedding = nn.Linear(input_dim, emb_dim)\n",
    "        self.block1 = nn.Sequential(\n",
    "            nn.Linear(emb_dim, emb_dim*mlp_ratio),\n",
    "             nn.GELU(),\n",
    "             nn.Linear(emb_dim*mlp_ratio, emb_dim),\n",
    "             )\n",
    "        self.block2 = nn.Sequential(\n",
    "            nn.Linear(emb_dim, emb_dim*mlp_ratio),\n",
    "             nn.GELU(),\n",
    "             nn.Linear(emb_dim*mlp_ratio, emb_dim),\n",
    "             )\n",
    "        self.cls = nn.Sequential(\n",
    "             nn.LayerNorm(emb_dim),\n",
    "             nn.Linear(emb_dim,  num_classes) \n",
    "        )\n",
    "    \n",
    "    def forward(self, x):\n",
    "        \n",
    "        x = self.embedding(x)\n",
    "        x = self.block1(x)             \n",
    "        x = self.cls(x)\n",
    "        \n",
    "        return x\n",
    "\n",
    "\n",
    "def topk(output, target, ks=(1,)):\n",
    "    \"\"\"Returns one boolean vector for each k, whether the target is within the output's top-k.\"\"\"\n",
    "    batch_size = output.size(0)\n",
    "    _, pred = output.topk(max(ks), 1, True, True)\n",
    "    pred = pred.t()\n",
    "    correct = pred.eq(target.view(1, -1).expand_as(pred))\n",
    "    return [correct[:k].max(0)[0].float().mean() for k in ks]\n",
    "\n",
    "def normalization(tensor):\n",
    "    return normalize(tensor, p=2.0, dim = 0)\n",
    "\n",
    "nat_model_state = torch.load('model_artifacts/naturally_trained_model_fashion.pt')\n",
    "nat_model = my_net()\n",
    "nat_model.load_state_dict(nat_model_state)\n",
    "\n",
    "adv_model_state = torch.load('model_artifacts/adversarially_trained_model_fashion.pt')\n",
    "adv_model = my_net()\n",
    "adv_model.load_state_dict(adv_model_state)\n",
    "\n",
    "# Custom black-box models need to inherit from\n",
    "# the MLModel interface\n",
    "class MyOwnModel(MLModel):\n",
    "    def __init__(self, data, model, feature_cols):\n",
    "        super().__init__(data)\n",
    "        # The constructor can be used to load or build an\n",
    "        # arbitrary black-box-model\n",
    "        self._mymodel = model\n",
    "        self.feature_cols = feature_cols\n",
    "\n",
    "    # List of the feature order the ml model was trained on\n",
    "    @property\n",
    "    def feature_input_order(self):\n",
    "        return self.feature_cols\n",
    "    # The ML framework the model was trained on\n",
    "    @property\n",
    "    def backend(self):\n",
    "        return \"pytorch\"\n",
    "\n",
    "    # The black-box model object\n",
    "    @property\n",
    "    def raw_model(self):\n",
    "        return self._mymodel\n",
    "\n",
    "    # The predict function outputs\n",
    "    # the continuous prediction of the model\n",
    "    def predict(self, x):\n",
    "        if isinstance(x, np.ndarray):\n",
    "            x = torch.from_numpy(x)\n",
    "        elif isinstance(x, pd.DataFrame):\n",
    "            x = torch.Tensor(x.values)\n",
    "        return self._mymodel(x).max(1).indices\n",
    "\n",
    "    # The predict_proba method outputs\n",
    "    # the prediction as class probabilities\n",
    "    def predict_proba(self, x):\n",
    "        if isinstance(x, np.ndarray):\n",
    "            x = torch.Tensor(x)\n",
    "        elif isinstance(x, pd.DataFrame):\n",
    "            x = torch.Tensor(x.values)\n",
    "        logits = self._mymodel(x)\n",
    "        probs = torch.nn.functional.softmax(logits, dim=1)\n",
    "        return probs.detach().numpy()\n",
    "    \n",
    "nat_model_carla = MyOwnModel(ds, nat_model, feature_cols)\n",
    "adv_model_carla = MyOwnModel(ds, adv_model, feature_cols)\n"
   ]
  },
  {
   "cell_type": "code",
   "execution_count": 10,
   "id": "a582e09f",
   "metadata": {},
   "outputs": [],
   "source": [
    "# Load Generated Counterfactuals\n",
    "factuals = ds.df[:500]\n",
    "counterfactuals_1 = pd.read_csv('data_artifacts/fashion/gs_cfs_natural_model_fashion.csv').drop('Unnamed: 0', axis=1)\n",
    "counterfactuals_2 = pd.read_csv('data_artifacts/fashion/gs_cfs_adv_model_fashion.csv').drop('Unnamed: 0', axis=1)\n"
   ]
  },
  {
   "cell_type": "markdown",
   "id": "6872501c",
   "metadata": {},
   "source": [
    "### Success Rate"
   ]
  },
  {
   "cell_type": "code",
   "execution_count": 12,
   "id": "2559a1da",
   "metadata": {},
   "outputs": [
    {
     "name": "stdout",
     "output_type": "stream",
     "text": [
      "Success Rate of Naturally Trained Model (Growing Spheres, Fashion): 1\n",
      "Success Rate of Adversarially Trained Model (Growing Spheres, Fashion): 1\n"
     ]
    }
   ],
   "source": [
    "print('Success Rate of Naturally Trained Model (Growing Spheres, Fashion): {}'.format(min(1, sum(counterfactuals_1['pixel_0_0'].notnull())/(factuals.shape[0]-sum(factuals['Income_Greater_50k']==1)))))\n",
    "print('Success Rate of Adversarially Trained Model (Growing Spheres, Fashion): {}'.format(min(1, sum(counterfactuals_1['pixel_0_0'].notnull())/(factuals.shape[0]-sum(factuals['Income_Greater_50k']==1)))))\n"
   ]
  },
  {
   "cell_type": "markdown",
   "id": "3f1991d0",
   "metadata": {},
   "source": [
    "### Distance From Original Point"
   ]
  },
  {
   "cell_type": "code",
   "execution_count": 16,
   "id": "3887e440",
   "metadata": {},
   "outputs": [],
   "source": [
    "def dist(\n",
    "    factuals: Data,\n",
    "    counterfactuals: pd.DataFrame,\n",
    "    mlmodel: MLModel,\n",
    "    dist_type: int = 1,\n",
    ")-> List[float]:\n",
    "    \"\"\"\n",
    "    TODO\n",
    "    Parameters\n",
    "    ----------\n",
    "    counterfactuals: Generated counterfactual examples\n",
    "    recourse_method: Method we want to benchmark\n",
    "    y: Number of\n",
    "\n",
    "    Returns\n",
    "    -------\n",
    "    List[List[float]]\n",
    "    \"\"\"\n",
    "    distances = []\n",
    "    N = counterfactuals.shape[0]\n",
    "\n",
    "    for i, row in counterfactuals.iterrows():\n",
    "        if pd.isna(row).any():\n",
    "            distances.append(np.nan)\n",
    "            continue\n",
    "            \n",
    "        original = factuals.df.drop(mlmodel.data.target, axis=1).iloc[i].values.reshape((1,-1))\n",
    "        row_copy = row.drop(mlmodel.data.target)\n",
    "        row_copy = row_copy.values.reshape((1, -1))\n",
    "        distances.append(get_distances(row_copy, original)[0][dist_type])\n",
    "    return distances\n",
    "\n",
    "dist_1 = dist(ds, counterfactuals_1, nat_model_carla)\n",
    "dist_2 = dist(ds, counterfactuals_2, adv_model_carla)\n"
   ]
  },
  {
   "cell_type": "code",
   "execution_count": 17,
   "id": "147220bc",
   "metadata": {},
   "outputs": [
    {
     "data": {
      "image/png": "[encoded data removed]",
      "text/plain": [
       "<Figure size 432x288 with 1 Axes>"
      ]
     },
     "metadata": {
      "needs_background": "light"
     },
     "output_type": "display_data"
    }
   ],
   "source": [
    "plt.figure()\n",
    "plt.boxplot([[val for val in dist_1 if not pd.isnull(val)], [val for val in dist_2 if not pd.isnull(val)]])\n",
    "plt.title('Avg. Distance from Original Point')\n",
    "plt.xticks([1, 2], ['Naturally Trained', 'Adversarially Trained'])\n",
    "plt.show()\n",
    "\n"
   ]
  },
  {
   "cell_type": "markdown",
   "id": "d19dc9d4",
   "metadata": {},
   "source": [
    "### Distance to Positive Manifold"
   ]
  },
  {
   "cell_type": "code",
   "execution_count": 45,
   "id": "8fbd1668",
   "metadata": {},
   "outputs": [],
   "source": [
    "def yNN_manifold(\n",
    "    factuals: Data,\n",
    "    counterfactuals: pd.DataFrame,\n",
    "    mlmodel: MLModel,\n",
    "    y: int = 1,\n",
    "    dist_type: int =1,\n",
    ")-> List[float]:\n",
    "    \"\"\"\n",
    "    TODO\n",
    "    Parameters\n",
    "    ----------\n",
    "    counterfactuals: Generated counterfactual examples\n",
    "    recourse_method: Method we want to benchmark\n",
    "    y: Number of\n",
    "\n",
    "    Returns\n",
    "    -------\n",
    "    List[List[float]]\n",
    "    \"\"\"\n",
    "    distances = []\n",
    "    N = counterfactuals.shape[0]\n",
    "\n",
    "    positive_class = factuals.df.loc[factuals.df.index[factuals.df[factuals.target]==1]]\n",
    "    \n",
    "    nbrs = NearestNeighbors(n_neighbors=y).fit(positive_class.values)\n",
    "\n",
    "    for i, row in counterfactuals.iterrows():\n",
    "        if pd.isna(row).any() or factuals.df.iloc[i][mlmodel.data.target]==1:\n",
    "            distances.append(np.nan)\n",
    "            continue\n",
    "        \n",
    "        knn = nbrs.kneighbors(factuals.df.iloc[i].values.reshape((1,-1)), 1, return_distance=False)[0]\n",
    "        original = factuals.df.drop(mlmodel.data.target, axis=1).iloc[i].values.reshape((1,-1))\n",
    "        neighbour = positive_class.iloc[knn[0]]\n",
    "        neighbour = neighbour.drop(mlmodel.data.target)\n",
    "        neighbour = neighbour.values.reshape((1, -1))\n",
    "        distance_original_to_closest_pos = get_distances(original, neighbour)[0][dist_type]\n",
    "        \n",
    "        knn = nbrs.kneighbors(row.values.reshape((1, -1)), y, return_distance=False)[0]\n",
    "        distances_local = 0\n",
    "        \n",
    "        for idx in knn:\n",
    "            neighbour = positive_class.iloc[idx]\n",
    "            neighbour = neighbour.drop(mlmodel.data.target)\n",
    "            neighbour = neighbour.values.reshape((1, -1))\n",
    "            row_copy = row.drop(mlmodel.data.target)\n",
    "            row_copy = row_copy.values.reshape((1, -1))\n",
    "            \n",
    "            distances_local += get_distances(row_copy, neighbour)[0][dist_type]\n",
    "        distances.append(((1 / y) * distances_local)/distance_original_to_closest_pos)\n",
    "    return distances\n",
    "\n",
    "def sphere_manifold(\n",
    "    factuals: Data,\n",
    "    counterfactuals: pd.DataFrame,\n",
    "    mlmodel: MLModel,\n",
    "    sphere_factor: float = 0.8,\n",
    "    dist_type: int = 2,\n",
    ")-> List[List[float]]:\n",
    "    \"\"\"\n",
    "    TODO\n",
    "    Parameters\n",
    "    ----------\n",
    "    counterfactuals: Generated counterfactual examples\n",
    "    recourse_method: Method we want to benchmark\n",
    "    y: Number of\n",
    "\n",
    "    Returns\n",
    "    -------\n",
    "    List[List[float]]\n",
    "    \"\"\"\n",
    "    distances = []\n",
    "    N = counterfactuals.shape[0]\n",
    "\n",
    "    positive_class = factuals.df.loc[factuals.df.index[factuals.df[factuals.target]==1]]\n",
    "    \n",
    "    for i, row in counterfactuals.iterrows():\n",
    "        if pd.isna(row).any() or factuals.df.iloc[i][mlmodel.data.target]==1:\n",
    "            distances.append(np.nan)\n",
    "            continue\n",
    "        all_deltas = np.asarray(factuals.df.drop(mlmodel.data.target, axis=1) - row.drop(mlmodel.data.target))\n",
    "        all_dists = np.sum(np.square(np.abs(all_deltas)), axis=1, dtype=np.float)\n",
    "        all_euc_dist = np.sqrt(all_dists)\n",
    "        radius = np.mean(all_euc_dist)*sphere_factor\n",
    "\n",
    "        pos_deltas = np.asarray(positive_class.drop(mlmodel.data.target, axis=1) - row.drop(mlmodel.data.target))\n",
    "        pos_dists = np.sum(np.square(np.abs(pos_deltas)), axis=1, dtype=np.float)\n",
    "        pos_euc_dist = np.sqrt(pos_dists)\n",
    "        relevant_neighbors = np.where(pos_euc_dist < radius)[0]\n",
    "        #print(relevant_neighbors)\n",
    "        if len(relevant_neighbors) == 0:\n",
    "            distances.append(np.nan)\n",
    "        else:\n",
    "            relevant_distances = pos_euc_dist[relevant_neighbors]\n",
    "            distances.append(np.mean(relevant_distances))\n",
    "        \n",
    "    return distances\n"
   ]
  },
  {
   "cell_type": "code",
   "execution_count": 46,
   "id": "b4f55345",
   "metadata": {},
   "outputs": [],
   "source": [
    "ynn_1 = yNN_manifold(ds, counterfactuals_1, nat_model_carla)\n",
    "ynn_2 = yNN_manifold(ds, counterfactuals_2, adv_model_carla)\n",
    "\n",
    "sphere_1 = sphere_manifold(ds, counterfactuals_1, nat_model_carla)\n",
    "sphere_2 = sphere_manifold(ds, counterfactuals_2, adv_model_carla)"
   ]
  },
  {
   "cell_type": "code",
   "execution_count": 47,
   "id": "7e8e23aa",
   "metadata": {},
   "outputs": [
    {
     "data": {
      "image/png": "[encoded data removed]",
      "text/plain": [
       "<Figure size 432x288 with 1 Axes>"
      ]
     },
     "metadata": {
      "needs_background": "light"
     },
     "output_type": "display_data"
    }
   ],
   "source": [
    "import matplotlib.pyplot as plt\n",
    "\n",
    "plt.figure()\n",
    "plt.boxplot([[val for val in ynn_1 if not pd.isnull(val)], [val for val in ynn_2 if not pd.isnull(val)]])\n",
    "plt.title('Avg. Distance to 5 Nearest Neighbors- Fashion')\n",
    "plt.xticks([1, 2], ['Naturally Trained', 'Adversarially Trained'])\n",
    "plt.show()"
   ]
  },
  {
   "cell_type": "code",
   "execution_count": 48,
   "id": "89c18079",
   "metadata": {},
   "outputs": [
    {
     "data": {
      "image/png": "[encoded data removed]",
      "text/plain": [
       "<Figure size 432x288 with 1 Axes>"
      ]
     },
     "metadata": {
      "needs_background": "light"
     },
     "output_type": "display_data"
    }
   ],
   "source": [
    "import matplotlib.pyplot as plt\n",
    "\n",
    "plt.figure()\n",
    "plt.boxplot([[val for val in sphere_1 if not pd.isnull(val)], [val for val in sphere_2 if not pd.isnull(val)]])\n",
    "plt.title('Avg. Distance to Nearest Neighbors in L2 Sphere- MNIST')\n",
    "plt.xticks([1, 2], ['Naturally Trained', 'Adversarially Trained'])\n",
    "plt.show()"
   ]
  },
  {
   "cell_type": "markdown",
   "id": "1e4ed0a1",
   "metadata": {},
   "source": [
    "### Normalized Distance from Original Point"
   ]
  },
  {
   "cell_type": "code",
   "execution_count": 31,
   "id": "405633a4",
   "metadata": {},
   "outputs": [
    {
     "ename": "NameError",
     "evalue": "name 'neighbour' is not defined",
     "output_type": "error",
     "traceback": [
      "\u001b[0;31m---------------------------------------------------------------------------\u001b[0m",
      "\u001b[0;31mNameError\u001b[0m                                 Traceback (most recent call last)",
      "\u001b[0;32m/var/folders/_c/8lzbqcz53c12ll3lxq05rr2c0000gn/T/ipykernel_37906/2952660130.py\u001b[0m in \u001b[0;36m<module>\u001b[0;34m\u001b[0m\n\u001b[1;32m     44\u001b[0m     \u001b[0;32mreturn\u001b[0m \u001b[0mdistances\u001b[0m\u001b[0;34m\u001b[0m\u001b[0;34m\u001b[0m\u001b[0m\n\u001b[1;32m     45\u001b[0m \u001b[0;34m\u001b[0m\u001b[0m\n\u001b[0;32m---> 46\u001b[0;31m \u001b[0mnorm_dist_1\u001b[0m \u001b[0;34m=\u001b[0m \u001b[0mnorm_dist\u001b[0m\u001b[0;34m(\u001b[0m\u001b[0mds\u001b[0m\u001b[0;34m,\u001b[0m \u001b[0mcounterfactuals_1\u001b[0m\u001b[0;34m,\u001b[0m \u001b[0mnat_model_carla\u001b[0m\u001b[0;34m)\u001b[0m\u001b[0;34m\u001b[0m\u001b[0;34m\u001b[0m\u001b[0m\n\u001b[0m\u001b[1;32m     47\u001b[0m \u001b[0mnorm_dist_2\u001b[0m \u001b[0;34m=\u001b[0m \u001b[0mnorm_dist\u001b[0m\u001b[0;34m(\u001b[0m\u001b[0mds\u001b[0m\u001b[0;34m,\u001b[0m \u001b[0mcounterfactuals_2\u001b[0m\u001b[0;34m,\u001b[0m \u001b[0madv_model_carla\u001b[0m\u001b[0;34m)\u001b[0m\u001b[0;34m\u001b[0m\u001b[0;34m\u001b[0m\u001b[0m\n",
      "\u001b[0;32m/var/folders/_c/8lzbqcz53c12ll3lxq05rr2c0000gn/T/ipykernel_37906/2952660130.py\u001b[0m in \u001b[0;36mnorm_dist\u001b[0;34m(factuals, counterfactuals, mlmodel, dist_type)\u001b[0m\n\u001b[1;32m     33\u001b[0m \u001b[0;34m\u001b[0m\u001b[0m\n\u001b[1;32m     34\u001b[0m         \u001b[0mknn\u001b[0m \u001b[0;34m=\u001b[0m \u001b[0mnbrs\u001b[0m\u001b[0;34m.\u001b[0m\u001b[0mkneighbors\u001b[0m\u001b[0;34m(\u001b[0m\u001b[0mfactuals\u001b[0m\u001b[0;34m.\u001b[0m\u001b[0mdf\u001b[0m\u001b[0;34m.\u001b[0m\u001b[0miloc\u001b[0m\u001b[0;34m[\u001b[0m\u001b[0mi\u001b[0m\u001b[0;34m]\u001b[0m\u001b[0;34m.\u001b[0m\u001b[0mvalues\u001b[0m\u001b[0;34m.\u001b[0m\u001b[0mreshape\u001b[0m\u001b[0;34m(\u001b[0m\u001b[0;34m(\u001b[0m\u001b[0;36m1\u001b[0m\u001b[0;34m,\u001b[0m\u001b[0;34m-\u001b[0m\u001b[0;36m1\u001b[0m\u001b[0;34m)\u001b[0m\u001b[0;34m)\u001b[0m\u001b[0;34m,\u001b[0m \u001b[0;36m1\u001b[0m\u001b[0;34m,\u001b[0m \u001b[0mreturn_distance\u001b[0m\u001b[0;34m=\u001b[0m\u001b[0;32mFalse\u001b[0m\u001b[0;34m)\u001b[0m\u001b[0;34m[\u001b[0m\u001b[0;36m0\u001b[0m\u001b[0;34m]\u001b[0m\u001b[0;34m\u001b[0m\u001b[0;34m\u001b[0m\u001b[0m\n\u001b[0;32m---> 35\u001b[0;31m         \u001b[0mdistance_original_to_closest_pos\u001b[0m \u001b[0;34m=\u001b[0m \u001b[0mget_distances\u001b[0m\u001b[0;34m(\u001b[0m\u001b[0moriginal\u001b[0m\u001b[0;34m,\u001b[0m \u001b[0mneighbour\u001b[0m\u001b[0;34m)\u001b[0m\u001b[0;34m[\u001b[0m\u001b[0;36m0\u001b[0m\u001b[0;34m]\u001b[0m\u001b[0;34m[\u001b[0m\u001b[0mdist_type\u001b[0m\u001b[0;34m]\u001b[0m\u001b[0;34m\u001b[0m\u001b[0;34m\u001b[0m\u001b[0m\n\u001b[0m\u001b[1;32m     36\u001b[0m \u001b[0;34m\u001b[0m\u001b[0m\n\u001b[1;32m     37\u001b[0m \u001b[0;34m\u001b[0m\u001b[0m\n",
      "\u001b[0;31mNameError\u001b[0m: name 'neighbour' is not defined"
     ]
    }
   ],
   "source": [
    "def norm_dist(\n",
    "    factuals: Data,\n",
    "    counterfactuals: pd.DataFrame,\n",
    "    mlmodel: MLModel,\n",
    "    dist_type: int = 1,\n",
    ")-> List[float]:\n",
    "    \"\"\"\n",
    "    TODO\n",
    "    Parameters\n",
    "    ----------\n",
    "    counterfactuals: Generated counterfactual examples\n",
    "    recourse_method: Method we want to benchmark\n",
    "    y: Number of\n",
    "\n",
    "    Returns\n",
    "    -------\n",
    "    List[List[float]]\n",
    "    \"\"\"\n",
    "    distances = []\n",
    "    N = counterfactuals.shape[0]\n",
    "    \n",
    "    positive_class = factuals.df.loc[factuals.df.index[factuals.df[factuals.target]==1]]\n",
    "    \n",
    "    nbrs = NearestNeighbors(n_neighbors=1).fit(positive_class.values)\n",
    "    \n",
    "\n",
    "    for i, row in counterfactuals.iterrows():\n",
    "        if pd.isna(row).any() or factuals.df.iloc[i][mlmodel.data.target]==1:\n",
    "            distances.append(np.nan)\n",
    "            continue\n",
    "        \n",
    "        original = factuals.df.drop(mlmodel.data.target, axis=1).iloc[i].values.reshape((1,-1))\n",
    "        neighbour = positive_class.iloc[knn[0]]\n",
    "        neighbour = neighbour.drop(mlmodel.data.target)\n",
    "        neighbour = neighbour.values.reshape((1, -1))\n",
    "        \n",
    "        knn = nbrs.kneighbors(factuals.df.iloc[i].values.reshape((1,-1)), 1, return_distance=False)[0]\n",
    "        distance_original_to_closest_pos = get_distances(original, neighbour)[0][dist_type]\n",
    "        \n",
    "            \n",
    "        row_copy = row.drop(mlmodel.data.target)\n",
    "        row_copy = row_copy.values.reshape((1, -1))\n",
    "        \n",
    "        distance_cf_to_original = get_distances(row_copy, original)[0][dist_type]\n",
    "        \n",
    "        distances.append(distance_cf_to_original/distance_original_to_closest_pos)\n",
    "    return distances\n",
    "\n",
    "norm_dist_1 = norm_dist(ds, counterfactuals_1, nat_model_carla)\n",
    "norm_dist_2 = norm_dist(ds, counterfactuals_2, adv_model_carla)"
   ]
  },
  {
   "cell_type": "code",
   "execution_count": 28,
   "id": "a70a69af",
   "metadata": {},
   "outputs": [
    {
     "data": {
      "image/png": "[encoded data removed]",
      "text/plain": [
       "<Figure size 432x288 with 1 Axes>"
      ]
     },
     "metadata": {
      "needs_background": "light"
     },
     "output_type": "display_data"
    }
   ],
   "source": [
    "plt.figure()\n",
    "plt.boxplot([[val for val in norm_dist_1 if not pd.isnull(val)], [val for val in norm_dist_2 if not pd.isnull(val)]])\n",
    "plt.title('Avg. Normalized Distance from Original Point')\n",
    "plt.xticks([1, 2], ['Naturally Trained', 'Adversarially Trained'])\n",
    "plt.show()"
   ]
  },
  {
   "cell_type": "markdown",
   "id": "668fe99d",
   "metadata": {},
   "source": [
    "### Plotting Normalized Distance From Original vs. Manifold Proximity"
   ]
  },
  {
   "cell_type": "code",
   "execution_count": 49,
   "id": "f44ce116",
   "metadata": {
    "scrolled": true
   },
   "outputs": [
    {
     "data": {
      "text/plain": [
       "Text(0, 0.5, 'Proximity to Positive Manifold')"
      ]
     },
     "execution_count": 49,
     "metadata": {},
     "output_type": "execute_result"
    },
    {
     "data": {
      "image/png": "[encoded data removed]",
      "text/plain": [
       "<Figure size 432x288 with 1 Axes>"
      ]
     },
     "metadata": {
      "needs_background": "light"
     },
     "output_type": "display_data"
    }
   ],
   "source": [
    "plt.scatter(norm_dist_1, ynn_1)\n",
    "plt.title('Natural Model')\n",
    "plt.xlabel('Distance from Original Point')\n",
    "plt.ylabel('Proximity to Positive Manifold')\n"
   ]
  },
  {
   "cell_type": "code",
   "execution_count": 57,
   "id": "3fb0cae3",
   "metadata": {},
   "outputs": [
    {
     "data": {
      "image/png": "[encoded data removed]",
      "text/plain": [
       "<Figure size 432x288 with 1 Axes>"
      ]
     },
     "metadata": {
      "needs_background": "light"
     },
     "output_type": "display_data"
    }
   ],
   "source": [
    "x = [val for val in norm_dist_1 if not pd.isnull(val)]\n",
    "y = [val for val in ynn_1 if not pd.isnull(val)]\n",
    "heatmap, xedges, yedges = np.histogram2d(x, y, bins=50)\n",
    "extent = [xedges[0], xedges[-1], yedges[0], yedges[-1]]\n",
    "\n",
    "plt.clf()\n",
    "plt.imshow(heatmap.T, extent=extent, origin='lower')\n",
    "plt.show()"
   ]
  },
  {
   "cell_type": "code",
   "execution_count": 50,
   "id": "7affd366",
   "metadata": {},
   "outputs": [
    {
     "data": {
      "text/plain": [
       "Text(0, 0.5, 'Proximity to Positive Manifold')"
      ]
     },
     "execution_count": 50,
     "metadata": {},
     "output_type": "execute_result"
    },
    {
     "data": {
      "image/png": "[encoded data removed]",
      "text/plain": [
       "<Figure size 432x288 with 1 Axes>"
      ]
     },
     "metadata": {
      "needs_background": "light"
     },
     "output_type": "display_data"
    }
   ],
   "source": [
    "plt.scatter(norm_dist_2, ynn_2)\n",
    "plt.title('Adversarial Model')\n",
    "plt.xlabel('Distance from Original Point')\n",
    "plt.ylabel('Proximity to Positive Manifold')\n"
   ]
  },
  {
   "cell_type": "code",
   "execution_count": 58,
   "id": "531b720a",
   "metadata": {},
   "outputs": [
    {
     "data": {
      "image/png": "[encoded data removed]",
      "text/plain": [
       "<Figure size 432x288 with 1 Axes>"
      ]
     },
     "metadata": {
      "needs_background": "light"
     },
     "output_type": "display_data"
    }
   ],
   "source": [
    "x = [val for val in norm_dist_2 if not pd.isnull(val)]\n",
    "y = [val for val in ynn_2 if not pd.isnull(val)]\n",
    "heatmap, xedges, yedges = np.histogram2d(x, y, bins=50)\n",
    "extent = [xedges[0], xedges[-1], yedges[0], yedges[-1]]\n",
    "\n",
    "plt.clf()\n",
    "plt.imshow(heatmap.T, extent=extent, origin='lower')\n",
    "plt.show()"
   ]
  },
  {
   "cell_type": "code",
   "execution_count": 63,
   "id": "3b7f4f14",
   "metadata": {},
   "outputs": [
    {
     "ename": "KeyboardInterrupt",
     "evalue": "",
     "output_type": "error",
     "traceback": [
      "\u001b[0;31m---------------------------------------------------------------------------\u001b[0m",
      "\u001b[0;31mKeyboardInterrupt\u001b[0m                         Traceback (most recent call last)",
      "\u001b[0;32m/var/folders/_c/8lzbqcz53c12ll3lxq05rr2c0000gn/T/ipykernel_37906/2617714261.py\u001b[0m in \u001b[0;36m<module>\u001b[0;34m\u001b[0m\n\u001b[1;32m     20\u001b[0m \u001b[0;34m\u001b[0m\u001b[0m\n\u001b[1;32m     21\u001b[0m \u001b[0mX\u001b[0m\u001b[0;34m,\u001b[0m \u001b[0mY\u001b[0m \u001b[0;34m=\u001b[0m \u001b[0mnp\u001b[0m\u001b[0;34m.\u001b[0m\u001b[0mmeshgrid\u001b[0m\u001b[0;34m(\u001b[0m\u001b[0mx\u001b[0m\u001b[0;34m,\u001b[0m \u001b[0my\u001b[0m\u001b[0;34m)\u001b[0m\u001b[0;34m\u001b[0m\u001b[0;34m\u001b[0m\u001b[0m\n\u001b[0;32m---> 22\u001b[0;31m \u001b[0mZ1\u001b[0m \u001b[0;34m=\u001b[0m \u001b[0mbivariate_normal\u001b[0m\u001b[0;34m(\u001b[0m\u001b[0mX\u001b[0m\u001b[0;34m,\u001b[0m \u001b[0mY\u001b[0m\u001b[0;34m,\u001b[0m \u001b[0;36m2\u001b[0m\u001b[0;34m,\u001b[0m \u001b[0;36m2\u001b[0m\u001b[0;34m,\u001b[0m \u001b[0;36m0\u001b[0m\u001b[0;34m,\u001b[0m \u001b[0;36m0\u001b[0m\u001b[0;34m)\u001b[0m\u001b[0;34m\u001b[0m\u001b[0;34m\u001b[0m\u001b[0m\n\u001b[0m\u001b[1;32m     23\u001b[0m \u001b[0mZ2\u001b[0m \u001b[0;34m=\u001b[0m \u001b[0mbivariate_normal\u001b[0m\u001b[0;34m(\u001b[0m\u001b[0mX\u001b[0m\u001b[0;34m,\u001b[0m \u001b[0mY\u001b[0m\u001b[0;34m,\u001b[0m \u001b[0;36m4\u001b[0m\u001b[0;34m,\u001b[0m \u001b[0;36m1\u001b[0m\u001b[0;34m,\u001b[0m \u001b[0;36m1\u001b[0m\u001b[0;34m,\u001b[0m \u001b[0;36m1\u001b[0m\u001b[0;34m)\u001b[0m\u001b[0;34m\u001b[0m\u001b[0;34m\u001b[0m\u001b[0m\n\u001b[1;32m     24\u001b[0m \u001b[0mZD\u001b[0m \u001b[0;34m=\u001b[0m \u001b[0mZ2\u001b[0m \u001b[0;34m-\u001b[0m \u001b[0mZ1\u001b[0m\u001b[0;34m\u001b[0m\u001b[0;34m\u001b[0m\u001b[0m\n",
      "\u001b[0;32m/var/folders/_c/8lzbqcz53c12ll3lxq05rr2c0000gn/T/ipykernel_37906/2617714261.py\u001b[0m in \u001b[0;36mbivariate_normal\u001b[0;34m(X, Y, sigmax, sigmay, mux, muy, sigmaxy)\u001b[0m\n\u001b[1;32m     10\u001b[0m     \u001b[0mat\u001b[0m \u001b[0mmathworld\u001b[0m\u001b[0;34m.\u001b[0m\u001b[0;34m\u001b[0m\u001b[0;34m\u001b[0m\u001b[0m\n\u001b[1;32m     11\u001b[0m     \"\"\"\n\u001b[0;32m---> 12\u001b[0;31m     \u001b[0mXmu\u001b[0m \u001b[0;34m=\u001b[0m \u001b[0mX\u001b[0m\u001b[0;34m-\u001b[0m\u001b[0mmux\u001b[0m\u001b[0;34m\u001b[0m\u001b[0;34m\u001b[0m\u001b[0m\n\u001b[0m\u001b[1;32m     13\u001b[0m     \u001b[0mYmu\u001b[0m \u001b[0;34m=\u001b[0m \u001b[0mY\u001b[0m\u001b[0;34m-\u001b[0m\u001b[0mmuy\u001b[0m\u001b[0;34m\u001b[0m\u001b[0;34m\u001b[0m\u001b[0m\n\u001b[1;32m     14\u001b[0m \u001b[0;34m\u001b[0m\u001b[0m\n",
      "\u001b[0;31mKeyboardInterrupt\u001b[0m: "
     ]
    }
   ],
   "source": [
    "from matplotlib import cm as CM\n",
    "from matplotlib import mlab as ML\n",
    "\n",
    "def bivariate_normal(X, Y, sigmax=1.0, sigmay=1.0,\n",
    "                 mux=0.0, muy=0.0, sigmaxy=0.0):\n",
    "    \"\"\"\n",
    "    Bivariate Gaussian distribution for equal shape *X*, *Y*.\n",
    "    See `bivariate normal\n",
    "    <http://mathworld.wolfram.com/BivariateNormalDistribution.html>`_\n",
    "    at mathworld.\n",
    "    \"\"\"\n",
    "    Xmu = X-mux\n",
    "    Ymu = Y-muy\n",
    "\n",
    "    rho = sigmaxy/(sigmax*sigmay)\n",
    "    z = Xmu**2/sigmax**2 + Ymu**2/sigmay**2 - 2*rho*Xmu*Ymu/(sigmax*sigmay)\n",
    "    denom = 2*np.pi*sigmax*sigmay*np.sqrt(1-rho**2)\n",
    "    return np.exp(-z/(2*(1-rho**2))) / denom\n",
    "\n",
    "\n",
    "X, Y = np.meshgrid(x, y)\n",
    "Z1 = bivariate_normal(X, Y, 2, 2, 0, 0)\n",
    "Z2 = bivariate_normal(X, Y, 4, 1, 1, 1)\n",
    "ZD = Z2 - Z1\n",
    "x = X.ravel()\n",
    "y = Y.ravel()\n",
    "z = ZD.ravel()\n",
    "gridsize=30\n",
    "plt.subplot(111)\n",
    "\n",
    "plt.hexbin(x, y, C=z, gridsize=gridsize, cmap=CM.jet, bins=None)\n",
    "plt.axis([x.min(), x.max(), y.min(), y.max()])\n",
    "\n",
    "cb = plt.colorbar()\n",
    "cb.set_label('mean value')\n",
    "plt.show()   "
   ]
  },
  {
   "cell_type": "markdown",
   "id": "0e37f3d0",
   "metadata": {},
   "source": [
    "### Connectedness"
   ]
  },
  {
   "cell_type": "code",
   "execution_count": 51,
   "id": "49a29090",
   "metadata": {},
   "outputs": [],
   "source": [
    "def connectedness(\n",
    "    factuals: Data,\n",
    "    counterfactuals: pd.DataFrame,\n",
    "    mlmodel: MLModel,\n",
    "    dist_type: int =1,\n",
    "):#-> List[float]:\n",
    "    \"\"\"\n",
    "    TODO\n",
    "    Parameters\n",
    "    ----------\n",
    "    counterfactuals: Generated counterfactual examples\n",
    "    recourse_method: Method we want to benchmark\n",
    "    y: Number of\n",
    "\n",
    "    Returns\n",
    "    -------\n",
    "    List[List[float]]\n",
    "    \"\"\"\n",
    "    crosses = []\n",
    "    N = counterfactuals.shape[0]\n",
    "\n",
    "    positive_class = factuals.df.loc[factuals.df.index[factuals.df[factuals.target]==1]]\n",
    "    \n",
    "    nbrs = NearestNeighbors(n_neighbors=1).fit(positive_class.values)\n",
    "\n",
    "    for i, row in counterfactuals.iterrows():\n",
    "        if pd.isna(row).any():\n",
    "            crosses.append(np.nan)\n",
    "            continue\n",
    "        knn = nbrs.kneighbors(row.values.reshape((1, -1)), 1, return_distance=False)[0]\n",
    "        cross = 0\n",
    "        row = row.drop(mlmodel.data.target)\n",
    "        for idx in knn:\n",
    "            neighbour = positive_class.iloc[idx]\n",
    "            neighbour = neighbour.drop(mlmodel.data.target)\n",
    "            step = (neighbour-row)/100\n",
    "            step_df = pd.DataFrame(columns = row.index, index = np.arange(100)).astype(neighbour.dtypes)\n",
    "            for j in range(100):\n",
    "                step_df.iloc[j] = (row+step*(j+1)).astype(np.float64)\n",
    "            preds = []\n",
    "            preds = mlmodel.predict_proba(step_df).argmax(1)\n",
    "            for j, pred in enumerate(preds):\n",
    "                if j < len(preds)-1:\n",
    "                    if pred == 1 and preds[j+1] == 0:\n",
    "                        cross += 1\n",
    "        crosses.append(cross)\n",
    "    return crosses"
   ]
  },
  {
   "cell_type": "code",
   "execution_count": 52,
   "id": "6f959c2c",
   "metadata": {},
   "outputs": [],
   "source": [
    "con_gs_1 = connectedness(ds, counterfactuals_1, nat_model_carla)\n",
    "con_gs_2 = connectedness(ds, counterfactuals_2, adv_model_carla)\n"
   ]
  },
  {
   "cell_type": "code",
   "execution_count": 53,
   "id": "bcac9f9a",
   "metadata": {},
   "outputs": [
    {
     "data": {
      "image/png": "[encoded data removed]",
      "text/plain": [
       "<Figure size 432x288 with 1 Axes>"
      ]
     },
     "metadata": {
      "needs_background": "light"
     },
     "output_type": "display_data"
    },
    {
     "data": {
      "image/png": "[encoded data removed]",
      "text/plain": [
       "<Figure size 432x288 with 1 Axes>"
      ]
     },
     "metadata": {
      "needs_background": "light"
     },
     "output_type": "display_data"
    }
   ],
   "source": [
    "plt.figure()\n",
    "plt.hist(con_gs_1)\n",
    "plt.xlabel('Connectedness Of Natural Model- Fashion MNIST')\n",
    "plt.show()\n",
    "\n",
    "plt.figure()\n",
    "plt.hist(con_gs_2)\n",
    "plt.xlabel('Connectedness Of Adversarial Model- Fashion MNIST')\n",
    "plt.show()"
   ]
  },
  {
   "cell_type": "markdown",
   "id": "0ead708a",
   "metadata": {},
   "source": [
    "# Constrained-- Adult\n"
   ]
  },
  {
   "cell_type": "markdown",
   "id": "3d170efa",
   "metadata": {},
   "source": [
    "## Growing Spheres"
   ]
  },
  {
   "cell_type": "code",
   "execution_count": null,
   "id": "10aed5ae",
   "metadata": {},
   "outputs": [],
   "source": [
    "# Load Data and Generated Counterfactuals ()"
   ]
  },
  {
   "cell_type": "code",
   "execution_count": null,
   "id": "e2e93408",
   "metadata": {},
   "outputs": [],
   "source": []
  },
  {
   "cell_type": "code",
   "execution_count": null,
   "id": "a0434484",
   "metadata": {},
   "outputs": [],
   "source": []
  },
  {
   "cell_type": "markdown",
   "id": "40f63e16",
   "metadata": {},
   "source": [
    "### Success Rate"
   ]
  },
  {
   "cell_type": "code",
   "execution_count": null,
   "id": "c1a5d3dc",
   "metadata": {},
   "outputs": [],
   "source": []
  },
  {
   "cell_type": "markdown",
   "id": "70cc34c8",
   "metadata": {},
   "source": [
    "### Distance From Original Point"
   ]
  },
  {
   "cell_type": "code",
   "execution_count": null,
   "id": "b411314a",
   "metadata": {},
   "outputs": [],
   "source": []
  },
  {
   "cell_type": "markdown",
   "id": "d66a6ae1",
   "metadata": {},
   "source": [
    "### Normalized Distance from Original Point"
   ]
  },
  {
   "cell_type": "code",
   "execution_count": null,
   "id": "acda74a1",
   "metadata": {},
   "outputs": [],
   "source": []
  },
  {
   "cell_type": "markdown",
   "id": "ebaf8547",
   "metadata": {},
   "source": [
    "### Distance to Positive Manifold"
   ]
  },
  {
   "cell_type": "code",
   "execution_count": null,
   "id": "39775948",
   "metadata": {},
   "outputs": [],
   "source": []
  },
  {
   "cell_type": "markdown",
   "id": "0a1e4e58",
   "metadata": {},
   "source": [
    "### Continuity"
   ]
  },
  {
   "cell_type": "code",
   "execution_count": null,
   "id": "5ad2d52a",
   "metadata": {},
   "outputs": [],
   "source": []
  },
  {
   "cell_type": "code",
   "execution_count": null,
   "id": "294bc389",
   "metadata": {},
   "outputs": [],
   "source": []
  },
  {
   "cell_type": "code",
   "execution_count": null,
   "id": "a65051ed",
   "metadata": {},
   "outputs": [],
   "source": []
  },
  {
   "cell_type": "markdown",
   "id": "5009aa43",
   "metadata": {},
   "source": [
    "## Actionable Recourse"
   ]
  },
  {
   "cell_type": "markdown",
   "id": "338f8786",
   "metadata": {},
   "source": [
    "### Success Rate"
   ]
  },
  {
   "cell_type": "code",
   "execution_count": null,
   "id": "7fcdea40",
   "metadata": {},
   "outputs": [],
   "source": []
  },
  {
   "cell_type": "code",
   "execution_count": null,
   "id": "b39b710e",
   "metadata": {},
   "outputs": [],
   "source": []
  },
  {
   "cell_type": "markdown",
   "id": "14f54388",
   "metadata": {},
   "source": [
    "### Distance From Original Point"
   ]
  },
  {
   "cell_type": "code",
   "execution_count": null,
   "id": "a16bf58f",
   "metadata": {},
   "outputs": [],
   "source": []
  },
  {
   "cell_type": "markdown",
   "id": "f64b0bf9",
   "metadata": {},
   "source": [
    "### Normalized Distance from Original Point"
   ]
  },
  {
   "cell_type": "code",
   "execution_count": null,
   "id": "56bf8cf1",
   "metadata": {},
   "outputs": [],
   "source": []
  },
  {
   "cell_type": "markdown",
   "id": "7f6e309c",
   "metadata": {},
   "source": [
    "### Distance to Positive Manifold"
   ]
  },
  {
   "cell_type": "code",
   "execution_count": null,
   "id": "31a28f85",
   "metadata": {},
   "outputs": [],
   "source": []
  },
  {
   "cell_type": "markdown",
   "id": "c08bb32d",
   "metadata": {},
   "source": [
    "### Continuity"
   ]
  },
  {
   "cell_type": "code",
   "execution_count": null,
   "id": "483de514",
   "metadata": {},
   "outputs": [],
   "source": []
  },
  {
   "cell_type": "code",
   "execution_count": null,
   "id": "43303ac6",
   "metadata": {},
   "outputs": [],
   "source": []
  },
  {
   "cell_type": "code",
   "execution_count": null,
   "id": "7c995217",
   "metadata": {},
   "outputs": [],
   "source": []
  }
 ],
 "metadata": {
  "kernelspec": {
   "display_name": "myenv",
   "language": "python",
   "name": "myenv"
  },
  "language_info": {
   "codemirror_mode": {
    "name": "ipython",
    "version": 3
   },
   "file_extension": ".py",
   "mimetype": "text/x-python",
   "name": "python",
   "nbconvert_exporter": "python",
   "pygments_lexer": "ipython3",
   "version": "3.7.13"
  }
 },
 "nbformat": 4,
 "nbformat_minor": 5
}
