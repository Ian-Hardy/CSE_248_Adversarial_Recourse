{
  "nbformat": 4,
  "nbformat_minor": 0,
  "metadata": {
    "colab": {
      "name": "counterfactual_examples.ipynb",
      "provenance": [],
      "authorship_tag": "ABX9TyNugHJH8u3coW0mFX10JhqF",
      "include_colab_link": true
    },
    "kernelspec": {
      "name": "python3",
      "display_name": "Python 3"
    },
    "language_info": {
      "name": "python"
    }
  },
  "cells": [
    {
      "cell_type": "markdown",
      "metadata": {
        "id": "view-in-github",
        "colab_type": "text"
      },
      "source": [
        "<a href=\"https://colab.research.google.com/github/Ian-Hardy/CSE_248_Adversarial_Recourse/blob/main/counterfactual_examples.ipynb\" target=\"_parent\"><img src=\"https://colab.research.google.com/assets/colab-badge.svg\" alt=\"Open In Colab\"/></a>"
      ]
    },
    {
      "cell_type": "code",
      "execution_count": null,
      "metadata": {
        "id": "pT7GrzhnyDxA"
      },
      "outputs": [],
      "source": [
        "!pip install carla-recourse\n",
        "!pip install torchattacks\n",
        "!pip install folktables"
      ]
    },
    {
      "cell_type": "code",
      "source": [
        "from carla import DataCatalog, MLModelCatalog\n",
        "from carla.recourse_methods import GrowingSpheres\n",
        "import numpy as np\n",
        "import pandas as pd\n",
        "import torch\n",
        "import torchattacks\n",
        "from torch.utils.data import TensorDataset, DataLoader\n",
        "from folktables import ACSDataSource, ACSEmployment, ACSIncome"
      ],
      "metadata": {
        "id": "kXe58cW8FQEK"
      },
      "execution_count": 40,
      "outputs": []
    },
    {
      "cell_type": "code",
      "source": [
        "# load a catalog dataset\n",
        "data_name = \"adult\"\n",
        "dataset = DataCatalog(data_name)\n",
        "\n",
        "# load artificial neural network from catalog\n",
        "model = MLModelCatalog(dataset, \"ann\")\n",
        "\n",
        "# get factuals from the data to generate counterfactual examples\n",
        "factuals = dataset.raw.iloc[:10]\n",
        "\n",
        "# load a recourse model and pass black box model\n",
        "gs = GrowingSpheres(model)\n",
        "\n",
        "# generate counterfactual examples\n",
        "counterfactuals = gs.get_counterfactuals(factuals)"
      ],
      "metadata": {
        "id": "BLJ9k7CvzEaT"
      },
      "execution_count": 33,
      "outputs": []
    },
    {
      "cell_type": "code",
      "source": [
        "print(counterfactuals.to_string())"
      ],
      "metadata": {
        "colab": {
          "base_uri": "https://localhost:8080/"
        },
        "id": "hBoh-tMhFhY3",
        "outputId": "e8d963e9-e4f5-43dc-ff6e-357832eb7382"
      },
      "execution_count": 43,
      "outputs": [
        {
          "output_type": "stream",
          "name": "stdout",
          "text": [
            "        age    fnlwgt  education-num  capital-gain  capital-loss  hours-per-week  workclass_Private  marital-status_Non-Married  occupation_Other  relationship_Non-Husband  race_White  sex_Male  native-country_US  income\n",
            "0  0.301370  0.018986       0.811158      0.091721     -0.082480        0.331942                0.0                         1.0               0.0                       1.0         1.0       1.0                1.0     1.0\n",
            "1  0.452055  0.093392       0.826856      0.040694     -0.007907        0.134105                0.0                         0.0               0.0                       0.0         1.0       1.0                1.0     1.0\n",
            "2  0.287671  0.159217       0.514999      0.040749      0.051167        0.287743                1.0                         0.0               1.0                       1.0         1.0       1.0                1.0     1.0\n",
            "3  0.493151  0.150286       0.469096      0.049194     -0.016526        0.315682                1.0                         0.0               1.0                       0.0         0.0       1.0                1.0     1.0\n",
            "4  0.150685  0.236171       0.808035      0.006771     -0.000036        0.399751                1.0                         0.0               0.0                       1.0         0.0       0.0                0.0     1.0\n",
            "5       NaN       NaN            NaN           NaN           NaN             NaN                NaN                         NaN               NaN                       NaN         NaN       NaN                NaN     NaN\n",
            "6  0.438356  0.123896       0.284188      0.088444     -0.015663        0.199106                1.0                         0.0               1.0                       0.0         0.0       0.0                0.0     1.0\n",
            "7  0.479452  0.154508       0.547984      0.030913      0.058428        0.504427                0.0                         0.0               0.0                       0.0         1.0       1.0                1.0     1.0\n",
            "8       NaN       NaN            NaN           NaN           NaN             NaN                NaN                         NaN               NaN                       NaN         NaN       NaN                NaN     NaN\n",
            "9       NaN       NaN            NaN           NaN           NaN             NaN                NaN                         NaN               NaN                       NaN         NaN       NaN                NaN     NaN\n"
          ]
        }
      ]
    },
    {
      "cell_type": "code",
      "source": [
        "data_source = ACSDataSource(survey_year='2014', horizon='1-Year', survey='person')\n",
        "ca_data = data_source.get_data(states=[\"CA\"], download=True)\n",
        "features, label, group = ACSIncome.df_to_numpy(ca_data)"
      ],
      "metadata": {
        "id": "IAk-Wbhj8g6v"
      },
      "execution_count": 34,
      "outputs": []
    },
    {
      "cell_type": "code",
      "source": [
        "# groups\n",
        "unique_groups = []\n",
        "for grop in group:\n",
        "    if grop not in unique_groups:\n",
        "        unique_groups.append(grop)\n",
        "print('Groups: ', unique_groups)"
      ],
      "metadata": {
        "colab": {
          "base_uri": "https://localhost:8080/"
        },
        "id": "XMyEyVLh-Sp7",
        "outputId": "59e83c92-a843-4437-97fa-1a461e83f63e"
      },
      "execution_count": 48,
      "outputs": [
        {
          "output_type": "stream",
          "name": "stdout",
          "text": [
            "Groups:  [1, 8, 6, 9, 2, 5, 7, 3, 4]\n"
          ]
        }
      ]
    },
    {
      "cell_type": "code",
      "source": [
        "print(features[0])"
      ],
      "metadata": {
        "colab": {
          "base_uri": "https://localhost:8080/"
        },
        "id": "n1i74w1iK4FD",
        "outputId": "bd2b33c6-809d-4695-e80f-3984cbfd12be"
      },
      "execution_count": 52,
      "outputs": [
        {
          "output_type": "stream",
          "name": "stdout",
          "text": [
            "[3.60e+01 1.00e+00 1.60e+01 5.00e+00 9.61e+03 2.20e+01 1.20e+01 3.50e+01\n",
            " 1.00e+00 1.00e+00]\n"
          ]
        }
      ]
    }
  ]
}