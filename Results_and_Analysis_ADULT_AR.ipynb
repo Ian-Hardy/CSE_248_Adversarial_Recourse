{
 "cells": [
  {
   "cell_type": "code",
   "execution_count": 2,
   "id": "d245b5e3",
   "metadata": {},
   "outputs": [],
   "source": [
    "import numpy as np\n",
    "import pandas as pd\n",
    "import torch\n",
    "import torch.nn as nn\n",
    "import torchvision\n",
    "import torchvision.transforms as transforms\n",
    "import torchvision.models as models\n",
    "import torchvision.datasets as datasets\n",
    "from torch.utils.data import Subset\n",
    "import matplotlib.pyplot as plt\n",
    "from torch import unsqueeze\n",
    "import torchattacks\n",
    "from torch.utils.data import TensorDataset, DataLoader\n",
    "from carla import Data\n",
    "import numpy as np\n",
    "import pandas as pd\n",
    "from sklearn.neighbors import NearestNeighbors\n",
    "from typing import List\n",
    "\n",
    "from carla import MLModel\n",
    "from carla import Data\n",
    "from carla.models.api import MLModel\n",
    "from carla.recourse_methods.api import RecourseMethod\n",
    "from carla.evaluation.distances import get_distances\n",
    "\n",
    "from carla.models.catalog import MLModelCatalog\n",
    "from carla.data.catalog import OnlineCatalog\n",
    "\n",
    "import torch.nn as nn\n",
    "from torch.nn.functional import normalize"
   ]
  },
  {
   "cell_type": "markdown",
   "id": "7fd77693",
   "metadata": {},
   "source": [
    "# Constrained-- Adult\n"
   ]
  },
  {
   "cell_type": "markdown",
   "id": "3ed7449c",
   "metadata": {},
   "source": [
    "## Actionable Recourse\n"
   ]
  },
  {
   "cell_type": "code",
   "execution_count": 4,
   "id": "f6d37de7",
   "metadata": {},
   "outputs": [],
   "source": [
    "data_name = \"adult\"\n",
    "ds= OnlineCatalog(data_name)"
   ]
  },
  {
   "cell_type": "code",
   "execution_count": 12,
   "id": "d2861443",
   "metadata": {},
   "outputs": [
    {
     "name": "stderr",
     "output_type": "stream",
     "text": [
      "/opt/anaconda3/envs/myenv/lib/python3.7/site-packages/torch/serialization.py:591: UserWarning: 'torch.load' received a zip file that looks like a TorchScript archive dispatching to 'torch.jit.load' (call 'torch.jit.load' directly to silence this warning)\n",
      "  \" silence this warning)\", UserWarning)\n"
     ]
    }
   ],
   "source": [
    "# Model Definition & Load\n",
    "    \n",
    "nat_model_carla = MLModelCatalog(ds, \"ann\", backend='pytorch')\n",
    "adv_model_carla = MLModelCatalog(ds, \"ann\", backend='pytorch')\n"
   ]
  },
  {
   "cell_type": "code",
   "execution_count": 13,
   "id": "28d487a3",
   "metadata": {},
   "outputs": [],
   "source": [
    "# Load Generated Counterfactuals\n",
    "factuals = ds.df[:500]\n",
    "counterfactuals_1 = pd.read_csv('data_artifacts/adult/actionable_recourse/ar_cfs_nat_model_adult.csv').drop('Unnamed: 0', axis=1)\n",
    "counterfactuals_2 = pd.read_csv('data_artifacts/adult/actionable_recourse/ar_cfs_adv_model_adult.csv').drop('Unnamed: 0', axis=1)\n"
   ]
  },
  {
   "cell_type": "markdown",
   "id": "a0068bfb",
   "metadata": {},
   "source": [
    "### Success Rate"
   ]
  },
  {
   "cell_type": "code",
   "execution_count": 14,
   "id": "98e66b89",
   "metadata": {},
   "outputs": [
    {
     "name": "stdout",
     "output_type": "stream",
     "text": [
      "Success Rate of Naturally Trained Model (Growing Spheres, Fashion): 0.37209302325581395\n",
      "Success Rate of Adversarially Trained Model (Growing Spheres, Fashion): 0.3953488372093023\n"
     ]
    }
   ],
   "source": [
    "print('Success Rate of Naturally Trained Model (Growing Spheres, Fashion): {}'.format(min(1, sum(counterfactuals_1['age'].notnull())/(factuals.shape[0]-sum(factuals['income']==1)))))\n",
    "print('Success Rate of Adversarially Trained Model (Growing Spheres, Fashion): {}'.format(min(1, sum(counterfactuals_2['age'].notnull())/(factuals.shape[0]-sum(factuals['income']==1)))))\n"
   ]
  },
  {
   "cell_type": "markdown",
   "id": "ac896032",
   "metadata": {},
   "source": [
    "### Distance From Original Point"
   ]
  },
  {
   "cell_type": "code",
   "execution_count": 65,
   "id": "d9d1dabe",
   "metadata": {},
   "outputs": [],
   "source": [
    "def dist(\n",
    "    factuals: Data,\n",
    "    counterfactuals: pd.DataFrame,\n",
    "    mlmodel: MLModel,\n",
    "    dist_type: int = 1,\n",
    ")-> List[float]:\n",
    "    \"\"\"\n",
    "    TODO\n",
    "    Parameters\n",
    "    ----------\n",
    "    counterfactuals: Generated counterfactual examples\n",
    "    recourse_method: Method we want to benchmark\n",
    "    y: Number of\n",
    "\n",
    "    Returns\n",
    "    -------\n",
    "    List[List[float]]\n",
    "    \"\"\"\n",
    "    distances = []\n",
    "    N = counterfactuals.shape[0]\n",
    "\n",
    "    for i, row in counterfactuals.iterrows():\n",
    "        if pd.isna(row).any() or factuals.df.iloc[i][mlmodel.data.target]==1:\n",
    "            distances.append(np.nan)\n",
    "            continue\n",
    "            \n",
    "        original = factuals.df.drop(mlmodel.data.target, axis=1).iloc[i].values.reshape((1,-1))\n",
    "        row_copy = row.drop(mlmodel.data.target)\n",
    "        row_copy = row_copy.values.reshape((1, -1))\n",
    "        distances.append(get_distances(row_copy, original)[0][dist_type])\n",
    "    return distances\n",
    "\n",
    "dist_1 = dist(ds, counterfactuals_1, nat_model_carla)\n",
    "dist_2 = dist(ds, counterfactuals_2, adv_model_carla)\n"
   ]
  },
  {
   "cell_type": "code",
   "execution_count": 106,
   "id": "c0906216",
   "metadata": {},
   "outputs": [
    {
     "data": {
      "image/png": "[encoded data removed]",
      "text/plain": [
       "<Figure size 432x288 with 1 Axes>"
      ]
     },
     "metadata": {
      "needs_background": "light"
     },
     "output_type": "display_data"
    }
   ],
   "source": [
    "import seaborn as sns\n",
    "thing = ['natural']*len([val for val in dist_1 if not pd.isnull(val)])+['adversarial']*len([val for val in dist_2 if not pd.isnull(val)])\n",
    "df=pd.DataFrame(columns = ['ynn_dist', 'model_type'])\n",
    "df['ynn_dist'] = [val for val in dist_1 if not pd.isnull(val)] + [val for val in dist_2 if not pd.isnull(val)]\n",
    "df['model_type'] = thing\n",
    "colors = [\"#8DC63F\", \"#0F9AD6\", \"#013C5B\", \"#698795\", \"#000000\"]\n",
    "sns.set_palette(sns.color_palette(colors))\n",
    "\n",
    "ax = sns.violinplot(x=\"ynn_dist\", \n",
    "                    y=\"model_type\", \n",
    "                    data=df).set(title='Distance From Original Point to Counterfactual- AR, Adult')\n"
   ]
  },
  {
   "cell_type": "code",
   "execution_count": 66,
   "id": "91f40a7f",
   "metadata": {},
   "outputs": [
    {
     "data": {
      "image/png": "[encoded data removed]",
      "text/plain": [
       "<Figure size 432x288 with 1 Axes>"
      ]
     },
     "metadata": {
      "needs_background": "light"
     },
     "output_type": "display_data"
    }
   ],
   "source": [
    "plt.figure()\n",
    "plt.boxplot([[val for val in dist_1 if not pd.isnull(val)], [val for val in dist_2 if not pd.isnull(val)]])\n",
    "plt.title('Avg. Distance from Original Point')\n",
    "plt.xticks([1, 2], ['Naturally Trained', 'Adversarially Trained'])\n",
    "plt.show()\n",
    "\n"
   ]
  },
  {
   "cell_type": "markdown",
   "id": "3702a8c7",
   "metadata": {},
   "source": [
    "### Distance to Positive Manifold"
   ]
  },
  {
   "cell_type": "code",
   "execution_count": 67,
   "id": "51289258",
   "metadata": {},
   "outputs": [],
   "source": [
    "def yNN_manifold(\n",
    "    factuals: Data,\n",
    "    counterfactuals: pd.DataFrame,\n",
    "    mlmodel: MLModel,\n",
    "    y: int = 5,\n",
    "    dist_type: int =1,\n",
    ")-> List[float]:\n",
    "    \"\"\"\n",
    "    TODO\n",
    "    Parameters\n",
    "    ----------\n",
    "    counterfactuals: Generated counterfactual examples\n",
    "    recourse_method: Method we want to benchmark\n",
    "    y: Number of\n",
    "\n",
    "    Returns\n",
    "    -------\n",
    "    List[List[float]]\n",
    "    \"\"\"\n",
    "    distances = []\n",
    "    N = counterfactuals.shape[0]\n",
    "\n",
    "    positive_class = factuals.df.loc[factuals.df.index[factuals.df[factuals.target]==1]]\n",
    "    \n",
    "    nbrs = NearestNeighbors(n_neighbors=y).fit(positive_class.values)\n",
    "\n",
    "    for i, row in counterfactuals.iterrows():\n",
    "        if pd.isna(row).any() or factuals.df.iloc[i][mlmodel.data.target]==1:\n",
    "            distances.append(np.nan)\n",
    "            continue\n",
    "        knn = nbrs.kneighbors(factuals.df.iloc[i].values.reshape((1,-1)), 1, return_distance=False)[0]\n",
    "        original = factuals.df.drop(mlmodel.data.target, axis=1).iloc[i].values.reshape((1,-1))\n",
    "        neighbour = positive_class.iloc[knn[0]]\n",
    "        neighbour = neighbour.drop(mlmodel.data.target)\n",
    "        neighbour = neighbour.values.reshape((1, -1))\n",
    "        distance_original_to_closest_pos = get_distances(original, neighbour)[0][dist_type]\n",
    "        knn = nbrs.kneighbors(row.values.reshape((1, -1)), y, return_distance=False)[0]\n",
    "        distances_local = 0\n",
    "        \n",
    "        for idx in knn:\n",
    "            neighbour = positive_class.iloc[idx]\n",
    "            neighbour = neighbour.drop(mlmodel.data.target)\n",
    "            neighbour = neighbour.values.reshape((1, -1))\n",
    "            row_copy = row.drop(mlmodel.data.target)\n",
    "            row_copy = row_copy.values.reshape((1, -1))\n",
    "            \n",
    "            distances_local += get_distances(row_copy, neighbour)[0][dist_type]\n",
    "        distances.append((1 / y) * distances_local)\n",
    "    return distances\n",
    "\n",
    "def sphere_manifold(\n",
    "    factuals: Data,\n",
    "    counterfactuals: pd.DataFrame,\n",
    "    mlmodel: MLModel,\n",
    "    sphere_factor: float = 0.8,\n",
    "    dist_type: int = 2,\n",
    ")-> List[List[float]]:\n",
    "    \"\"\"\n",
    "    TODO\n",
    "    Parameters\n",
    "    ----------\n",
    "    counterfactuals: Generated counterfactual examples\n",
    "    recourse_method: Method we want to benchmark\n",
    "    y: Number of\n",
    "\n",
    "    Returns\n",
    "    -------\n",
    "    List[List[float]]\n",
    "    \"\"\"\n",
    "    distances = []\n",
    "    N = counterfactuals.shape[0]\n",
    "\n",
    "    positive_class = factuals.df.loc[factuals.df.index[factuals.df[factuals.target]==1]]\n",
    "    \n",
    "    for i, row in counterfactuals.iterrows():\n",
    "        if pd.isna(row).any() or factuals.df.iloc[i][mlmodel.data.target]==1:\n",
    "            distances.append(np.nan)\n",
    "            continue\n",
    "        all_deltas = np.asarray(factuals.df.drop(mlmodel.data.target, axis=1) - row.drop(mlmodel.data.target))\n",
    "        all_dists = np.sum(np.square(np.abs(all_deltas)), axis=1, dtype=np.float)\n",
    "        all_euc_dist = np.sqrt(all_dists)\n",
    "        radius = np.mean(all_euc_dist)*sphere_factor\n",
    "\n",
    "        pos_deltas = np.asarray(positive_class.drop(mlmodel.data.target, axis=1) - row.drop(mlmodel.data.target))\n",
    "        pos_dists = np.sum(np.square(np.abs(pos_deltas)), axis=1, dtype=np.float)\n",
    "        pos_euc_dist = np.sqrt(pos_dists)\n",
    "        relevant_neighbors = np.where(pos_euc_dist < radius)[0]\n",
    "        #print(relevant_neighbors)\n",
    "        if len(relevant_neighbors) == 0:\n",
    "            distances.append(np.nan)\n",
    "        else:\n",
    "            relevant_distances = pos_euc_dist[relevant_neighbors]\n",
    "            distances.append(np.mean(relevant_distances))\n",
    "        \n",
    "    return distances\n"
   ]
  },
  {
   "cell_type": "code",
   "execution_count": 68,
   "id": "bd0b5c6a",
   "metadata": {},
   "outputs": [],
   "source": [
    "ynn_1 = yNN_manifold(ds, counterfactuals_1, nat_model_carla)\n",
    "ynn_2 = yNN_manifold(ds, counterfactuals_2, adv_model_carla)\n",
    "\n",
    "sphere_1 = sphere_manifold(ds, counterfactuals_1, nat_model_carla)\n",
    "sphere_2 = sphere_manifold(ds, counterfactuals_2, adv_model_carla)"
   ]
  },
  {
   "cell_type": "code",
   "execution_count": 107,
   "id": "eebd331f",
   "metadata": {},
   "outputs": [
    {
     "data": {
      "image/png": "[encoded data removed]",
      "text/plain": [
       "<Figure size 432x288 with 1 Axes>"
      ]
     },
     "metadata": {
      "needs_background": "light"
     },
     "output_type": "display_data"
    }
   ],
   "source": [
    "import seaborn as sns\n",
    "thing = ['natural']*len([val for val in ynn_1 if not pd.isnull(val)])+['adversarial']*len([val for val in ynn_2 if not pd.isnull(val)])\n",
    "df=pd.DataFrame(columns = ['ynn_dist', 'model_type'])\n",
    "df['ynn_dist'] = [val for val in ynn_1 if not pd.isnull(val)] + [val for val in ynn_2 if not pd.isnull(val)]\n",
    "df['model_type'] = thing\n",
    "colors = [\"#8DC63F\", \"#0F9AD6\", \"#013C5B\", \"#698795\", \"#000000\"]\n",
    "sns.set_palette(sns.color_palette(colors))\n",
    "\n",
    "ax = sns.violinplot(x=\"ynn_dist\", \n",
    "                    y=\"model_type\", \n",
    "                    data=df).set(title='Avg. Distance to 5 Nearest Neighbors- Adult, AR, 5NN')\n"
   ]
  },
  {
   "cell_type": "code",
   "execution_count": 99,
   "id": "c4b0ec26",
   "metadata": {},
   "outputs": [
    {
     "data": {
      "image/png": "[encoded data removed]",
      "text/plain": [
       "<Figure size 432x288 with 1 Axes>"
      ]
     },
     "metadata": {
      "needs_background": "light"
     },
     "output_type": "display_data"
    }
   ],
   "source": [
    "import matplotlib.pyplot as plt\n",
    "\n",
    "plt.figure()\n",
    "plt.boxplot([[val for val in ynn_1 if not pd.isnull(val)], [val for val in ynn_2 if not pd.isnull(val)]])\n",
    "plt.title('Avg. Distance to 5 Nearest Neighbors- Adult')\n",
    "plt.xticks([1, 2], ['Naturally Trained', 'Adversarially Trained'])\n",
    "plt.show()"
   ]
  },
  {
   "cell_type": "code",
   "execution_count": 108,
   "id": "83617967",
   "metadata": {},
   "outputs": [
    {
     "data": {
      "image/png": "[encoded data removed]",
      "text/plain": [
       "<Figure size 432x288 with 1 Axes>"
      ]
     },
     "metadata": {
      "needs_background": "light"
     },
     "output_type": "display_data"
    }
   ],
   "source": [
    "import seaborn as sns\n",
    "thing = ['natural']*len([val for val in sphere_1 if not pd.isnull(val)])+['adversarial']*len([val for val in sphere_2 if not pd.isnull(val)])\n",
    "df=pd.DataFrame(columns = ['ynn_dist', 'model_type'])\n",
    "df['ynn_dist'] = [val for val in sphere_1 if not pd.isnull(val)] + [val for val in sphere_2 if not pd.isnull(val)]\n",
    "df['model_type'] = thing\n",
    "colors = [\"#8DC63F\", \"#0F9AD6\", \"#013C5B\", \"#698795\", \"#000000\"]\n",
    "sns.set_palette(sns.color_palette(colors))\n",
    "\n",
    "ax = sns.violinplot(x=\"ynn_dist\", \n",
    "                    y=\"model_type\", \n",
    "                    data=df).set(title='Avg. Distance to 5 Nearest Neighbors- Adult, AR, Sphere')\n"
   ]
  },
  {
   "cell_type": "code",
   "execution_count": 70,
   "id": "f6e91f3d",
   "metadata": {},
   "outputs": [
    {
     "data": {
      "image/png": "[encoded data removed]",
      "text/plain": [
       "<Figure size 432x288 with 1 Axes>"
      ]
     },
     "metadata": {
      "needs_background": "light"
     },
     "output_type": "display_data"
    }
   ],
   "source": [
    "import matplotlib.pyplot as plt\n",
    "\n",
    "plt.figure()\n",
    "plt.boxplot([[val for val in sphere_1 if not pd.isnull(val)], [val for val in sphere_2 if not pd.isnull(val)]])\n",
    "plt.title('Avg. Distance to Nearest Neighbors in L2 Sphere- MNIST')\n",
    "plt.xticks([1, 2], ['Naturally Trained', 'Adversarially Trained'])\n",
    "plt.show()"
   ]
  },
  {
   "cell_type": "markdown",
   "id": "19ebe06b",
   "metadata": {},
   "source": [
    "### Normalized Distance from Original Point"
   ]
  },
  {
   "cell_type": "code",
   "execution_count": 71,
   "id": "2005c648",
   "metadata": {},
   "outputs": [],
   "source": [
    "def norm_dist(\n",
    "    factuals: Data,\n",
    "    counterfactuals: pd.DataFrame,\n",
    "    mlmodel: MLModel,\n",
    "    dist_type: int = 1,\n",
    ")-> List[float]:\n",
    "    \"\"\"\n",
    "    TODO\n",
    "    Parameters\n",
    "    ----------\n",
    "    counterfactuals: Generated counterfactual examples\n",
    "    recourse_method: Method we want to benchmark\n",
    "    y: Number of\n",
    "\n",
    "    Returns\n",
    "    -------\n",
    "    List[List[float]]\n",
    "    \"\"\"\n",
    "    distances = []\n",
    "    N = counterfactuals.shape[0]\n",
    "    \n",
    "    positive_class = factuals.df.loc[factuals.df.index[factuals.df[factuals.target]==1]]\n",
    "    \n",
    "    nbrs = NearestNeighbors(n_neighbors=1).fit(positive_class.values)\n",
    "    \n",
    "\n",
    "    for i, row in counterfactuals.iterrows():\n",
    "        if pd.isna(row).any() or factuals.df.iloc[i][mlmodel.data.target]==1:\n",
    "            distances.append(np.nan)\n",
    "            continue\n",
    "        knn = nbrs.kneighbors(factuals.df.iloc[i].values.reshape((1,-1)), 1, return_distance=False)[0]\n",
    "        original = factuals.df.drop(mlmodel.data.target, axis=1).iloc[i].values.reshape((1,-1))\n",
    "        neighbour = positive_class.iloc[knn[0]]\n",
    "        neighbour = neighbour.drop(mlmodel.data.target)\n",
    "        neighbour = neighbour.values.reshape((1, -1))\n",
    "        \n",
    "        distance_original_to_closest_pos = get_distances(original, neighbour)[0][dist_type]\n",
    "        \n",
    "            \n",
    "        row_copy = row.drop(mlmodel.data.target)\n",
    "        row_copy = row_copy.values.reshape((1, -1))\n",
    "        \n",
    "        distance_cf_to_original = get_distances(row_copy, original)[0][dist_type]\n",
    "        \n",
    "        distances.append(distance_cf_to_original/distance_original_to_closest_pos)\n",
    "    return distances\n",
    "\n",
    "norm_dist_1 = norm_dist(ds, counterfactuals_1, nat_model_carla)\n",
    "norm_dist_2 = norm_dist(ds, counterfactuals_2, adv_model_carla)"
   ]
  },
  {
   "cell_type": "code",
   "execution_count": 72,
   "id": "93637cd6",
   "metadata": {},
   "outputs": [
    {
     "data": {
      "image/png": "[encoded data removed]",
      "text/plain": [
       "<Figure size 432x288 with 1 Axes>"
      ]
     },
     "metadata": {
      "needs_background": "light"
     },
     "output_type": "display_data"
    }
   ],
   "source": [
    "plt.figure()\n",
    "plt.boxplot([[val for val in norm_dist_1 if not pd.isnull(val)], [val for val in norm_dist_2 if not pd.isnull(val)]])\n",
    "plt.title('Avg. Normalized Distance from Original Point')\n",
    "plt.xticks([1, 2], ['Naturally Trained', 'Adversarially Trained'])\n",
    "plt.show()"
   ]
  },
  {
   "cell_type": "markdown",
   "id": "696ef940",
   "metadata": {},
   "source": [
    "### Plotting Normalized Distance From Original vs. Manifold Proximity"
   ]
  },
  {
   "cell_type": "code",
   "execution_count": 73,
   "id": "aa6eeb74",
   "metadata": {
    "scrolled": true
   },
   "outputs": [
    {
     "data": {
      "text/plain": [
       "Text(0, 0.5, 'Proximity to Positive Manifold')"
      ]
     },
     "execution_count": 73,
     "metadata": {},
     "output_type": "execute_result"
    },
    {
     "data": {
      "image/png": "[encoded data removed]",
      "text/plain": [
       "<Figure size 432x288 with 1 Axes>"
      ]
     },
     "metadata": {
      "needs_background": "light"
     },
     "output_type": "display_data"
    }
   ],
   "source": [
    "plt.scatter(dist_1, ynn_1)\n",
    "plt.title('Natural Model')\n",
    "plt.xlabel('Distance from Original Point')\n",
    "plt.ylabel('Proximity to Positive Manifold')\n"
   ]
  },
  {
   "cell_type": "code",
   "execution_count": 74,
   "id": "c9ba212a",
   "metadata": {},
   "outputs": [
    {
     "data": {
      "text/plain": [
       "144"
      ]
     },
     "execution_count": 74,
     "metadata": {},
     "output_type": "execute_result"
    }
   ],
   "source": [
    "len(x)"
   ]
  },
  {
   "cell_type": "code",
   "execution_count": 75,
   "id": "0fc3a8d2",
   "metadata": {},
   "outputs": [
    {
     "data": {
      "text/plain": [
       "104"
      ]
     },
     "execution_count": 75,
     "metadata": {},
     "output_type": "execute_result"
    }
   ],
   "source": [
    "len(y)"
   ]
  },
  {
   "cell_type": "code",
   "execution_count": 76,
   "id": "369da0c0",
   "metadata": {},
   "outputs": [
    {
     "data": {
      "image/png": "[encoded data removed]",
      "text/plain": [
       "<Figure size 432x288 with 1 Axes>"
      ]
     },
     "metadata": {
      "needs_background": "light"
     },
     "output_type": "display_data"
    }
   ],
   "source": [
    "x = [val for val in dist_1 if not pd.isnull(val)]\n",
    "y = [val for val in ynn_1 if not pd.isnull(val)]\n",
    "heatmap, xedges, yedges = np.histogram2d(x, y, bins=50)\n",
    "extent = [xedges[0], xedges[-1], yedges[0], yedges[-1]]\n",
    "\n",
    "plt.clf()\n",
    "plt.imshow(heatmap.T, extent=extent, origin='lower')\n",
    "plt.show()"
   ]
  },
  {
   "cell_type": "code",
   "execution_count": 79,
   "id": "683cf8ae",
   "metadata": {},
   "outputs": [
    {
     "data": {
      "text/plain": [
       "Text(0, 0.5, 'Proximity to Positive Manifold')"
      ]
     },
     "execution_count": 79,
     "metadata": {},
     "output_type": "execute_result"
    },
    {
     "data": {
      "image/png": "[encoded data removed]",
      "text/plain": [
       "<Figure size 432x288 with 1 Axes>"
      ]
     },
     "metadata": {
      "needs_background": "light"
     },
     "output_type": "display_data"
    }
   ],
   "source": [
    "plt.scatter(dist_2, ynn_2)\n",
    "plt.title('Adversarial Model')\n",
    "plt.xlabel('Distance from Original Point')\n",
    "plt.ylabel('Proximity to Positive Manifold')\n"
   ]
  },
  {
   "cell_type": "code",
   "execution_count": 80,
   "id": "7c14b657",
   "metadata": {},
   "outputs": [
    {
     "data": {
      "image/png": "[encoded data removed]",
      "text/plain": [
       "<Figure size 432x288 with 1 Axes>"
      ]
     },
     "metadata": {
      "needs_background": "light"
     },
     "output_type": "display_data"
    }
   ],
   "source": [
    "x = [val for val in dist_2 if not pd.isnull(val)]\n",
    "y = [val for val in ynn_2 if not pd.isnull(val)]\n",
    "heatmap, xedges, yedges = np.histogram2d(x, y, bins=50)\n",
    "extent = [xedges[0], xedges[-1], yedges[0], yedges[-1]]\n",
    "\n",
    "plt.clf()\n",
    "plt.imshow(heatmap.T, extent=extent, origin='lower')\n",
    "plt.show()"
   ]
  },
  {
   "cell_type": "markdown",
   "id": "ca4f3d87",
   "metadata": {},
   "source": [
    "### Connectedness"
   ]
  },
  {
   "cell_type": "code",
   "execution_count": 90,
   "id": "db0567e0",
   "metadata": {},
   "outputs": [],
   "source": [
    "con_ar_1 = pd.read_csv('data_artifacts/adult/actionable_recourse/connectedness_natural_adult_ar.csv').drop('Unnamed: 0', axis=1)\n",
    "con_ar_2 = pd.read_csv('data_artifacts/adult/actionable_recourse/connectedness_adv_adult_ar.csv').drop('Unnamed: 0', axis=1)\n"
   ]
  },
  {
   "cell_type": "code",
   "execution_count": 91,
   "id": "624523c1",
   "metadata": {},
   "outputs": [
    {
     "data": {
      "text/html": [
       "<div>\n",
       "<style scoped>\n",
       "    .dataframe tbody tr th:only-of-type {\n",
       "        vertical-align: middle;\n",
       "    }\n",
       "\n",
       "    .dataframe tbody tr th {\n",
       "        vertical-align: top;\n",
       "    }\n",
       "\n",
       "    .dataframe thead th {\n",
       "        text-align: right;\n",
       "    }\n",
       "</style>\n",
       "<table border=\"1\" class=\"dataframe\">\n",
       "  <thead>\n",
       "    <tr style=\"text-align: right;\">\n",
       "      <th></th>\n",
       "      <th>0</th>\n",
       "    </tr>\n",
       "  </thead>\n",
       "  <tbody>\n",
       "    <tr>\n",
       "      <th>0</th>\n",
       "      <td>1.0</td>\n",
       "    </tr>\n",
       "    <tr>\n",
       "      <th>1</th>\n",
       "      <td>NaN</td>\n",
       "    </tr>\n",
       "    <tr>\n",
       "      <th>2</th>\n",
       "      <td>NaN</td>\n",
       "    </tr>\n",
       "    <tr>\n",
       "      <th>3</th>\n",
       "      <td>NaN</td>\n",
       "    </tr>\n",
       "    <tr>\n",
       "      <th>4</th>\n",
       "      <td>1.0</td>\n",
       "    </tr>\n",
       "    <tr>\n",
       "      <th>...</th>\n",
       "      <td>...</td>\n",
       "    </tr>\n",
       "    <tr>\n",
       "      <th>495</th>\n",
       "      <td>1.0</td>\n",
       "    </tr>\n",
       "    <tr>\n",
       "      <th>496</th>\n",
       "      <td>NaN</td>\n",
       "    </tr>\n",
       "    <tr>\n",
       "      <th>497</th>\n",
       "      <td>NaN</td>\n",
       "    </tr>\n",
       "    <tr>\n",
       "      <th>498</th>\n",
       "      <td>1.0</td>\n",
       "    </tr>\n",
       "    <tr>\n",
       "      <th>499</th>\n",
       "      <td>NaN</td>\n",
       "    </tr>\n",
       "  </tbody>\n",
       "</table>\n",
       "<p>500 rows × 1 columns</p>\n",
       "</div>"
      ],
      "text/plain": [
       "       0\n",
       "0    1.0\n",
       "1    NaN\n",
       "2    NaN\n",
       "3    NaN\n",
       "4    1.0\n",
       "..   ...\n",
       "495  1.0\n",
       "496  NaN\n",
       "497  NaN\n",
       "498  1.0\n",
       "499  NaN\n",
       "\n",
       "[500 rows x 1 columns]"
      ]
     },
     "execution_count": 91,
     "metadata": {},
     "output_type": "execute_result"
    }
   ],
   "source": [
    "con_ar_1"
   ]
  },
  {
   "cell_type": "code",
   "execution_count": 87,
   "id": "a3560015",
   "metadata": {},
   "outputs": [
    {
     "data": {
      "text/plain": [
       "['0']"
      ]
     },
     "execution_count": 87,
     "metadata": {},
     "output_type": "execute_result"
    }
   ],
   "source": [
    "con_ar_2"
   ]
  },
  {
   "cell_type": "code",
   "execution_count": 92,
   "id": "52b75347",
   "metadata": {},
   "outputs": [],
   "source": [
    "con_ar_1 = [val for val in con_ar_1.values if not pd.isnull(val)]\n",
    "con_ar_2 = [val for val in con_ar_2.values if not pd.isnull(val)]"
   ]
  },
  {
   "cell_type": "code",
   "execution_count": 109,
   "id": "f9588e79",
   "metadata": {},
   "outputs": [
    {
     "data": {
      "image/png": "[encoded data removed]",
      "text/plain": [
       "<Figure size 720x360 with 1 Axes>"
      ]
     },
     "metadata": {
      "needs_background": "light"
     },
     "output_type": "display_data"
    }
   ],
   "source": [
    "# Numbers of pairs of bars you want\n",
    "N = 2\n",
    "\n",
    "# Data on X-axis\n",
    "\n",
    "# Specify the values of blue bars (height)\n",
    "blue_bar = (sum([1 if val == 0 else 0 for val in con_ar_1]), sum([1 if val > 0 else 0 for val in con_ar_1]))\n",
    "# Specify the values of orange bars (height)\n",
    "orange_bar = (sum([1 if val == 0 else 0 for val in con_ar_2]), sum([1 if val >0 else 0 for val in con_ar_2]))\n",
    "\n",
    "# Position of bars on x-axis\n",
    "ind = np.arange(N)\n",
    "\n",
    "# Figure size\n",
    "plt.figure(figsize=(10,5))\n",
    "\n",
    "# Width of a bar \n",
    "width = 0.3       \n",
    "\n",
    "# Plotting\n",
    "plt.bar(ind, blue_bar , width, label='Natural')\n",
    "plt.bar(ind + width, orange_bar, width, label='Adversarial')\n",
    "\n",
    "plt.xlabel('Number of Discontinuities')\n",
    "plt.title('Connectedness of Natural vs. Adversarial Counterfactuals-- Adult, AR')\n",
    "\n",
    "# xticks()\n",
    "# First argument - A list of positions at which ticks should be placed\n",
    "# Second argument -  A list of labels to place at the given locations\n",
    "plt.xticks(ind + width / 2, ('0', '1'))\n",
    "\n",
    "# Finding the best position for legends and putting it\n",
    "plt.legend(loc='best')\n",
    "plt.show()"
   ]
  },
  {
   "cell_type": "code",
   "execution_count": null,
   "id": "61ddc095",
   "metadata": {},
   "outputs": [],
   "source": []
  }
 ],
 "metadata": {
  "kernelspec": {
   "display_name": "myenv",
   "language": "python",
   "name": "myenv"
  },
  "language_info": {
   "codemirror_mode": {
    "name": "ipython",
    "version": 3
   },
   "file_extension": ".py",
   "mimetype": "text/x-python",
   "name": "python",
   "nbconvert_exporter": "python",
   "pygments_lexer": "ipython3",
   "version": "3.7.13"
  }
 },
 "nbformat": 4,
 "nbformat_minor": 5
}
