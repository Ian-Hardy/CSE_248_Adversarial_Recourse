{
 "cells": [
  {
   "cell_type": "markdown",
   "metadata": {
    "id": "N_G0ddoulBej",
    "pycharm": {
     "name": "#%% md\n"
    }
   },
   "source": [
    "## Load the Adult Data"
   ]
  },
  {
   "cell_type": "code",
   "execution_count": 1,
   "metadata": {
    "colab": {
     "base_uri": "https://localhost:8080/"
    },
    "id": "JaPRBx11-3Ye",
    "outputId": "ce068bb6-99ad-4a4b-d8fd-ce043940f92f"
   },
   "outputs": [
    {
     "name": "stdout",
     "output_type": "stream",
     "text": [
      "Drive already mounted at /content/drive; to attempt to forcibly remount, call drive.mount(\"/content/drive\", force_remount=True).\n"
     ]
    }
   ],
   "source": [
    "## If Running in google colab\n",
    "from google.colab import drive\n",
    "drive.mount('/content/drive')\n",
    "\n"
   ]
  },
  {
   "cell_type": "code",
   "execution_count": 2,
   "metadata": {
    "id": "vjaT7Kcg_DXB"
   },
   "outputs": [],
   "source": [
    "dir_path = '/content/drive/MyDrive/CSE_248/'\n"
   ]
  },
  {
   "cell_type": "code",
   "execution_count": 1,
   "metadata": {
    "colab": {
     "base_uri": "https://localhost:8080/"
    },
    "id": "3C1yPvemlBem",
    "outputId": "1ae6c566-e56b-4a80-a07e-6605045b4bcc",
    "pycharm": {
     "is_executing": true,
     "name": "#%%\n"
    }
   },
   "outputs": [
    {
     "name": "stdout",
     "output_type": "stream",
     "text": [
      "Requirement already satisfied: torch in /opt/anaconda3/envs/myenv/lib/python3.7/site-packages (1.7.0)\n",
      "Collecting folktables\n",
      "  Downloading folktables-0.0.11.tar.gz (10 kB)\n",
      "Requirement already satisfied: typing-extensions in /opt/anaconda3/envs/myenv/lib/python3.7/site-packages (from torch) (4.2.0)\n",
      "Requirement already satisfied: numpy in /opt/anaconda3/envs/myenv/lib/python3.7/site-packages (from torch) (1.19.4)\n",
      "Requirement already satisfied: future in /opt/anaconda3/envs/myenv/lib/python3.7/site-packages (from torch) (0.18.2)\n",
      "Requirement already satisfied: dataclasses in /opt/anaconda3/envs/myenv/lib/python3.7/site-packages (from torch) (0.6)\n",
      "Requirement already satisfied: pandas in /opt/anaconda3/envs/myenv/lib/python3.7/site-packages (from folktables) (1.1.4)\n",
      "Collecting requests\n",
      "  Using cached requests-2.27.1-py2.py3-none-any.whl (63 kB)\n",
      "Collecting sklearn\n",
      "  Using cached sklearn-0.0-py2.py3-none-any.whl\n",
      "Requirement already satisfied: python-dateutil>=2.7.3 in /opt/anaconda3/envs/myenv/lib/python3.7/site-packages (from pandas->folktables) (2.8.2)\n",
      "Requirement already satisfied: pytz>=2017.2 in /opt/anaconda3/envs/myenv/lib/python3.7/site-packages (from pandas->folktables) (2022.1)\n",
      "Requirement already satisfied: six>=1.5 in /opt/anaconda3/envs/myenv/lib/python3.7/site-packages (from python-dateutil>=2.7.3->pandas->folktables) (1.16.0)\n",
      "Collecting idna<4,>=2.5\n",
      "  Using cached idna-3.3-py3-none-any.whl (61 kB)\n",
      "Collecting charset-normalizer~=2.0.0\n",
      "  Using cached charset_normalizer-2.0.12-py3-none-any.whl (39 kB)\n",
      "Requirement already satisfied: certifi>=2017.4.17 in /opt/anaconda3/envs/myenv/lib/python3.7/site-packages (from requests->folktables) (2021.10.8)\n",
      "Collecting urllib3<1.27,>=1.21.1\n",
      "  Using cached urllib3-1.26.9-py2.py3-none-any.whl (138 kB)\n",
      "Requirement already satisfied: scikit-learn in /opt/anaconda3/envs/myenv/lib/python3.7/site-packages (from sklearn->folktables) (0.23.2)\n",
      "Requirement already satisfied: scipy>=0.19.1 in /opt/anaconda3/envs/myenv/lib/python3.7/site-packages (from scikit-learn->sklearn->folktables) (1.7.3)\n",
      "Requirement already satisfied: threadpoolctl>=2.0.0 in /opt/anaconda3/envs/myenv/lib/python3.7/site-packages (from scikit-learn->sklearn->folktables) (3.1.0)\n",
      "Requirement already satisfied: joblib>=0.11 in /opt/anaconda3/envs/myenv/lib/python3.7/site-packages (from scikit-learn->sklearn->folktables) (1.1.0)\n",
      "Building wheels for collected packages: folktables\n",
      "  Building wheel for folktables (setup.py) ... \u001b[?25ldone\n",
      "\u001b[?25h  Created wheel for folktables: filename=folktables-0.0.11-py3-none-any.whl size=6772 sha256=5adacc1e77fb25f581b9bea5bc06c58a7eddb5557d20d60a6a52fded6a90a991\n",
      "  Stored in directory: /Users/ianhardy/Library/Caches/pip/wheels/bd/63/b8/24d3f5d2c70002c68c1fe8e78e1de20fcbcb7a2ef3f56147b7\n",
      "Successfully built folktables\n",
      "Installing collected packages: urllib3, idna, charset-normalizer, sklearn, requests, folktables\n",
      "Successfully installed charset-normalizer-2.0.12 folktables-0.0.11 idna-3.3 requests-2.27.1 sklearn-0.0 urllib3-1.26.9\n"
     ]
    }
   ],
   "source": [
    "!pip install torch folktables"
   ]
  },
  {
   "cell_type": "code",
   "execution_count": 2,
   "metadata": {
    "colab": {
     "base_uri": "https://localhost:8080/"
    },
    "id": "gPffwDCNlIv6",
    "outputId": "bc143a86-4e39-46bb-8130-84766624fbad"
   },
   "outputs": [
    {
     "name": "stdout",
     "output_type": "stream",
     "text": [
      "Collecting torchattacks\n",
      "  Downloading torchattacks-3.2.6-py3-none-any.whl (105 kB)\n",
      "\u001b[K     |████████████████████████████████| 105 kB 5.6 MB/s eta 0:00:01\n",
      "\u001b[?25hInstalling collected packages: torchattacks\n",
      "Successfully installed torchattacks-3.2.6\n"
     ]
    }
   ],
   "source": [
    "!pip install torchattacks"
   ]
  },
  {
   "cell_type": "code",
   "execution_count": 1,
   "metadata": {
    "id": "HouILEUYlBeo",
    "pycharm": {
     "name": "#%%\n"
    }
   },
   "outputs": [],
   "source": [
    "import numpy as np\n",
    "import torch\n",
    "import torchattacks\n",
    "from torch.utils.data import TensorDataset, DataLoader\n",
    "from folktables import ACSDataSource, ACSEmployment, ACSIncome"
   ]
  },
  {
   "cell_type": "markdown",
   "metadata": {
    "id": "qwqg7d74lBep",
    "pycharm": {
     "name": "#%% md\n"
    }
   },
   "source": [
    "Load the Adult dataset as numpy array."
   ]
  },
  {
   "cell_type": "code",
   "execution_count": 2,
   "metadata": {
    "id": "3E5MTlYWlBep",
    "pycharm": {
     "name": "#%%\n"
    }
   },
   "outputs": [],
   "source": [
    "data_source = ACSDataSource(survey_year='2014', horizon='1-Year', survey='person')\n",
    "ca_data = data_source.get_data(states=[\"CA\"], download=True)\n",
    "features, label, group = ACSIncome.df_to_numpy(ca_data)"
   ]
  },
  {
   "cell_type": "code",
   "execution_count": 3,
   "metadata": {
    "colab": {
     "base_uri": "https://localhost:8080/"
    },
    "id": "zceJzNihmZFw",
    "outputId": "76f2b0fc-73bb-437e-db5e-dba7850bf1e2"
   },
   "outputs": [
    {
     "data": {
      "text/plain": [
       "array([[36.,  1., 16., ..., 35.,  1.,  1.],\n",
       "       [47.,  1., 20., ..., 60.,  2.,  1.],\n",
       "       [20.,  1., 19., ..., 40.,  1.,  1.],\n",
       "       ...,\n",
       "       [40.,  1., 21., ..., 30.,  2.,  1.],\n",
       "       [40.,  3., 20., ..., 56.,  1.,  1.],\n",
       "       [19.,  1., 18., ..., 12.,  2.,  1.]])"
      ]
     },
     "execution_count": 3,
     "metadata": {},
     "output_type": "execute_result"
    }
   ],
   "source": [
    "features"
   ]
  },
  {
   "cell_type": "code",
   "execution_count": 4,
   "metadata": {
    "colab": {
     "base_uri": "https://localhost:8080/"
    },
    "id": "YhAzYU1tndZl",
    "outputId": "5d58e416-e3f7-49a8-b6da-d47b45be075d"
   },
   "outputs": [
    {
     "data": {
      "text/plain": [
       "array([False, False, False, ..., False,  True, False])"
      ]
     },
     "execution_count": 4,
     "metadata": {},
     "output_type": "execute_result"
    }
   ],
   "source": [
    "label"
   ]
  },
  {
   "cell_type": "code",
   "execution_count": 5,
   "metadata": {},
   "outputs": [
    {
     "ename": "NameError",
     "evalue": "name 'dataset' is not defined",
     "output_type": "error",
     "traceback": [
      "\u001b[0;31m---------------------------------------------------------------------------\u001b[0m",
      "\u001b[0;31mNameError\u001b[0m                                 Traceback (most recent call last)",
      "\u001b[0;32m/var/folders/_c/8lzbqcz53c12ll3lxq05rr2c0000gn/T/ipykernel_3902/2967416927.py\u001b[0m in \u001b[0;36m<module>\u001b[0;34m\u001b[0m\n\u001b[0;32m----> 1\u001b[0;31m \u001b[0mdataset\u001b[0m\u001b[0;34m.\u001b[0m\u001b[0m_df\u001b[0m\u001b[0;34m.\u001b[0m\u001b[0mcolumns\u001b[0m\u001b[0;34m\u001b[0m\u001b[0;34m\u001b[0m\u001b[0m\n\u001b[0m",
      "\u001b[0;31mNameError\u001b[0m: name 'dataset' is not defined"
     ]
    }
   ],
   "source": [
    "dataset._df.columns"
   ]
  },
  {
   "cell_type": "code",
   "execution_count": null,
   "metadata": {},
   "outputs": [],
   "source": [
    "model._model.layers"
   ]
  },
  {
   "cell_type": "code",
   "execution_count": 2,
   "metadata": {},
   "outputs": [
    {
     "name": "stderr",
     "output_type": "stream",
     "text": [
      "/opt/anaconda3/envs/myenv/lib/python3.7/site-packages/tensorflow/python/framework/dtypes.py:516: FutureWarning: Passing (type, 1) or '1type' as a synonym of type is deprecated; in a future version of numpy, it will be understood as (type, (1,)) / '(1,)type'.\n",
      "  _np_qint8 = np.dtype([(\"qint8\", np.int8, 1)])\n",
      "/opt/anaconda3/envs/myenv/lib/python3.7/site-packages/tensorflow/python/framework/dtypes.py:517: FutureWarning: Passing (type, 1) or '1type' as a synonym of type is deprecated; in a future version of numpy, it will be understood as (type, (1,)) / '(1,)type'.\n",
      "  _np_quint8 = np.dtype([(\"quint8\", np.uint8, 1)])\n",
      "/opt/anaconda3/envs/myenv/lib/python3.7/site-packages/tensorflow/python/framework/dtypes.py:518: FutureWarning: Passing (type, 1) or '1type' as a synonym of type is deprecated; in a future version of numpy, it will be understood as (type, (1,)) / '(1,)type'.\n",
      "  _np_qint16 = np.dtype([(\"qint16\", np.int16, 1)])\n",
      "/opt/anaconda3/envs/myenv/lib/python3.7/site-packages/tensorflow/python/framework/dtypes.py:519: FutureWarning: Passing (type, 1) or '1type' as a synonym of type is deprecated; in a future version of numpy, it will be understood as (type, (1,)) / '(1,)type'.\n",
      "  _np_quint16 = np.dtype([(\"quint16\", np.uint16, 1)])\n",
      "/opt/anaconda3/envs/myenv/lib/python3.7/site-packages/tensorflow/python/framework/dtypes.py:520: FutureWarning: Passing (type, 1) or '1type' as a synonym of type is deprecated; in a future version of numpy, it will be understood as (type, (1,)) / '(1,)type'.\n",
      "  _np_qint32 = np.dtype([(\"qint32\", np.int32, 1)])\n",
      "/opt/anaconda3/envs/myenv/lib/python3.7/site-packages/tensorflow/python/framework/dtypes.py:525: FutureWarning: Passing (type, 1) or '1type' as a synonym of type is deprecated; in a future version of numpy, it will be understood as (type, (1,)) / '(1,)type'.\n",
      "  np_resource = np.dtype([(\"resource\", np.ubyte, 1)])\n",
      "/opt/anaconda3/envs/myenv/lib/python3.7/site-packages/tensorboard/compat/tensorflow_stub/dtypes.py:541: FutureWarning: Passing (type, 1) or '1type' as a synonym of type is deprecated; in a future version of numpy, it will be understood as (type, (1,)) / '(1,)type'.\n",
      "  _np_qint8 = np.dtype([(\"qint8\", np.int8, 1)])\n",
      "/opt/anaconda3/envs/myenv/lib/python3.7/site-packages/tensorboard/compat/tensorflow_stub/dtypes.py:542: FutureWarning: Passing (type, 1) or '1type' as a synonym of type is deprecated; in a future version of numpy, it will be understood as (type, (1,)) / '(1,)type'.\n",
      "  _np_quint8 = np.dtype([(\"quint8\", np.uint8, 1)])\n",
      "/opt/anaconda3/envs/myenv/lib/python3.7/site-packages/tensorboard/compat/tensorflow_stub/dtypes.py:543: FutureWarning: Passing (type, 1) or '1type' as a synonym of type is deprecated; in a future version of numpy, it will be understood as (type, (1,)) / '(1,)type'.\n",
      "  _np_qint16 = np.dtype([(\"qint16\", np.int16, 1)])\n",
      "/opt/anaconda3/envs/myenv/lib/python3.7/site-packages/tensorboard/compat/tensorflow_stub/dtypes.py:544: FutureWarning: Passing (type, 1) or '1type' as a synonym of type is deprecated; in a future version of numpy, it will be understood as (type, (1,)) / '(1,)type'.\n",
      "  _np_quint16 = np.dtype([(\"quint16\", np.uint16, 1)])\n",
      "/opt/anaconda3/envs/myenv/lib/python3.7/site-packages/tensorboard/compat/tensorflow_stub/dtypes.py:545: FutureWarning: Passing (type, 1) or '1type' as a synonym of type is deprecated; in a future version of numpy, it will be understood as (type, (1,)) / '(1,)type'.\n",
      "  _np_qint32 = np.dtype([(\"qint32\", np.int32, 1)])\n",
      "/opt/anaconda3/envs/myenv/lib/python3.7/site-packages/tensorboard/compat/tensorflow_stub/dtypes.py:550: FutureWarning: Passing (type, 1) or '1type' as a synonym of type is deprecated; in a future version of numpy, it will be understood as (type, (1,)) / '(1,)type'.\n",
      "  np_resource = np.dtype([(\"resource\", np.ubyte, 1)])\n",
      "Using TensorFlow backend.\n"
     ]
    },
    {
     "name": "stdout",
     "output_type": "stream",
     "text": [
      "[INFO] Using Python-MIP package version 1.12.0 [model.py <module>]\n"
     ]
    },
    {
     "name": "stderr",
     "output_type": "stream",
     "text": [
      "/opt/anaconda3/envs/myenv/lib/python3.7/site-packages/torch/serialization.py:591: UserWarning: 'torch.load' received a zip file that looks like a TorchScript archive dispatching to 'torch.jit.load' (call 'torch.jit.load' directly to silence this warning)\n",
      "  \" silence this warning)\", UserWarning)\n",
      "/Users/ianhardy/Documents/CSE_248/CSE_248_Adversarial_Recourse/carla/models/catalog/ANN_TORCH/model_ann.py:56: UserWarning: Implicit dimension choice for softmax has been deprecated. Change the call to include dim=X as an argument.\n",
      "  x = self.softmax(x)\n"
     ]
    },
    {
     "name": "stdout",
     "output_type": "stream",
     "text": [
      "balance on test set 0.23883245958934032, balance on test set 0.2408256880733945\n",
      "Epoch 0/9\n",
      "----------\n",
      "train Loss: 0.4299 Acc: 0.7808\n",
      "\n",
      "test Loss: 0.3901 Acc: 0.8140\n",
      "\n",
      "Epoch 1/9\n",
      "----------\n",
      "train Loss: 0.3769 Acc: 0.8214\n",
      "\n",
      "test Loss: 0.3760 Acc: 0.8308\n",
      "\n",
      "Epoch 2/9\n",
      "----------\n",
      "train Loss: 0.3578 Acc: 0.8322\n",
      "\n",
      "test Loss: 0.3580 Acc: 0.8362\n",
      "\n",
      "Epoch 3/9\n",
      "----------\n",
      "train Loss: 0.3491 Acc: 0.8369\n",
      "\n",
      "test Loss: 0.3751 Acc: 0.8188\n",
      "\n",
      "Epoch 4/9\n",
      "----------\n",
      "train Loss: 0.3438 Acc: 0.8402\n",
      "\n",
      "test Loss: 0.3510 Acc: 0.8327\n",
      "\n",
      "Epoch 5/9\n",
      "----------\n",
      "train Loss: 0.3397 Acc: 0.8424\n",
      "\n",
      "test Loss: 0.3399 Acc: 0.8430\n",
      "\n",
      "Epoch 6/9\n",
      "----------\n",
      "train Loss: 0.3370 Acc: 0.8401\n",
      "\n",
      "test Loss: 0.3464 Acc: 0.8370\n",
      "\n",
      "Epoch 7/9\n",
      "----------\n",
      "train Loss: 0.3358 Acc: 0.8417\n",
      "\n",
      "test Loss: 0.3368 Acc: 0.8408\n",
      "\n",
      "Epoch 8/9\n",
      "----------\n",
      "train Loss: 0.3351 Acc: 0.8433\n",
      "\n",
      "test Loss: 0.3702 Acc: 0.8308\n",
      "\n",
      "Epoch 9/9\n",
      "----------\n",
      "train Loss: 0.3326 Acc: 0.8455\n",
      "\n",
      "test Loss: 0.3293 Acc: 0.8485\n",
      "\n"
     ]
    }
   ],
   "source": [
    "from carla.models.catalog import MLModelCatalog\n",
    "from carla.data.catalog import OnlineCatalog\n",
    "\n",
    "data_name = \"adult\"\n",
    "dataset = OnlineCatalog(data_name)\n",
    "\n",
    "nat_model = MLModelCatalog(dataset, \"ann\", backend='pytorch')\n",
    "\n",
    "nat_model.train(learning_rate = 0.01,\n",
    "                epochs = 10,\n",
    "                batch_size = 512,\n",
    "                force_train = True,\n",
    "                hidden_size = [13, 9, 3])"
   ]
  },
  {
   "cell_type": "code",
   "execution_count": 3,
   "metadata": {
    "scrolled": true
   },
   "outputs": [
    {
     "name": "stderr",
     "output_type": "stream",
     "text": [
      "/opt/anaconda3/envs/myenv/lib/python3.7/site-packages/torch/serialization.py:591: UserWarning: 'torch.load' received a zip file that looks like a TorchScript archive dispatching to 'torch.jit.load' (call 'torch.jit.load' directly to silence this warning)\n",
      "  \" silence this warning)\", UserWarning)\n",
      "/Users/ianhardy/Documents/CSE_248/CSE_248_Adversarial_Recourse/carla/models/catalog/ANN_TORCH/model_ann.py:56: UserWarning: Implicit dimension choice for softmax has been deprecated. Change the call to include dim=X as an argument.\n",
      "  x = self.softmax(x)\n"
     ]
    },
    {
     "name": "stdout",
     "output_type": "stream",
     "text": [
      "balance on test set 0.23883245958934032, balance on test set 0.2408256880733945\n",
      "Epoch 0/29\n",
      "----------\n",
      "train Loss: 0.4420 Acc: 0.7821\n",
      "\n",
      "test Loss: 0.3940 Acc: 0.8173\n",
      "\n",
      "Epoch 1/29\n",
      "----------\n",
      "train Loss: 0.4094 Acc: 0.7972\n",
      "\n",
      "test Loss: 0.3776 Acc: 0.8175\n",
      "\n",
      "Epoch 2/29\n",
      "----------\n",
      "train Loss: 0.4035 Acc: 0.8014\n",
      "\n",
      "test Loss: 0.3726 Acc: 0.8180\n",
      "\n",
      "Epoch 3/29\n",
      "----------\n",
      "train Loss: 0.4005 Acc: 0.8053\n",
      "\n",
      "test Loss: 0.3646 Acc: 0.8313\n",
      "\n",
      "Epoch 4/29\n",
      "----------\n",
      "train Loss: 0.3991 Acc: 0.8046\n",
      "\n",
      "test Loss: 0.3740 Acc: 0.8308\n",
      "\n",
      "Epoch 5/29\n",
      "----------\n",
      "train Loss: 0.3973 Acc: 0.8051\n",
      "\n",
      "test Loss: 0.3684 Acc: 0.8245\n",
      "\n",
      "Epoch 6/29\n",
      "----------\n",
      "train Loss: 0.3959 Acc: 0.8067\n",
      "\n",
      "test Loss: 0.3675 Acc: 0.8253\n",
      "\n",
      "Epoch 7/29\n",
      "----------\n",
      "train Loss: 0.3949 Acc: 0.8098\n",
      "\n",
      "test Loss: 0.3657 Acc: 0.8264\n",
      "\n",
      "Epoch 8/29\n",
      "----------\n",
      "train Loss: 0.3949 Acc: 0.8085\n",
      "\n",
      "test Loss: 0.3607 Acc: 0.8319\n",
      "\n",
      "Epoch 9/29\n",
      "----------\n",
      "train Loss: 0.3925 Acc: 0.8107\n",
      "\n",
      "test Loss: 0.3620 Acc: 0.8284\n",
      "\n",
      "Epoch 10/29\n",
      "----------\n",
      "train Loss: 0.3915 Acc: 0.8089\n",
      "\n",
      "test Loss: 0.3668 Acc: 0.8245\n",
      "\n",
      "Epoch 11/29\n",
      "----------\n",
      "train Loss: 0.3905 Acc: 0.8107\n",
      "\n",
      "test Loss: 0.3592 Acc: 0.8304\n",
      "\n",
      "Epoch 12/29\n",
      "----------\n",
      "train Loss: 0.3910 Acc: 0.8092\n",
      "\n",
      "test Loss: 0.3556 Acc: 0.8312\n",
      "\n",
      "Epoch 13/29\n",
      "----------\n",
      "train Loss: 0.3905 Acc: 0.8105\n",
      "\n",
      "test Loss: 0.3691 Acc: 0.8271\n",
      "\n",
      "Epoch 14/29\n",
      "----------\n",
      "train Loss: 0.3909 Acc: 0.8088\n",
      "\n",
      "test Loss: 0.3583 Acc: 0.8295\n",
      "\n",
      "Epoch 15/29\n",
      "----------\n",
      "train Loss: 0.3891 Acc: 0.8109\n",
      "\n",
      "test Loss: 0.3576 Acc: 0.8298\n",
      "\n",
      "Epoch 16/29\n",
      "----------\n",
      "train Loss: 0.3886 Acc: 0.8115\n",
      "\n",
      "test Loss: 0.3616 Acc: 0.8260\n",
      "\n",
      "Epoch 17/29\n",
      "----------\n",
      "train Loss: 0.3888 Acc: 0.8108\n",
      "\n",
      "test Loss: 0.3711 Acc: 0.8218\n",
      "\n",
      "Epoch 18/29\n",
      "----------\n",
      "train Loss: 0.3869 Acc: 0.8118\n",
      "\n",
      "test Loss: 0.3649 Acc: 0.8219\n",
      "\n",
      "Epoch 19/29\n",
      "----------\n",
      "train Loss: 0.3863 Acc: 0.8120\n",
      "\n",
      "test Loss: 0.3593 Acc: 0.8259\n",
      "\n",
      "Epoch 20/29\n",
      "----------\n",
      "train Loss: 0.3856 Acc: 0.8130\n",
      "\n",
      "test Loss: 0.3633 Acc: 0.8265\n",
      "\n",
      "Epoch 21/29\n",
      "----------\n",
      "train Loss: 0.3801 Acc: 0.8151\n",
      "\n",
      "test Loss: 0.3581 Acc: 0.8307\n",
      "\n",
      "Epoch 22/29\n",
      "----------\n",
      "train Loss: 0.3783 Acc: 0.8157\n",
      "\n",
      "test Loss: 0.3491 Acc: 0.8341\n",
      "\n",
      "Epoch 23/29\n",
      "----------\n",
      "train Loss: 0.3766 Acc: 0.8176\n",
      "\n",
      "test Loss: 0.3550 Acc: 0.8304\n",
      "\n",
      "Epoch 24/29\n",
      "----------\n",
      "train Loss: 0.3743 Acc: 0.8192\n",
      "\n",
      "test Loss: 0.3533 Acc: 0.8313\n",
      "\n",
      "Epoch 25/29\n",
      "----------\n",
      "train Loss: 0.3754 Acc: 0.8184\n",
      "\n",
      "test Loss: 0.3481 Acc: 0.8345\n",
      "\n",
      "Epoch 26/29\n",
      "----------\n",
      "train Loss: 0.3719 Acc: 0.8203\n",
      "\n",
      "test Loss: 0.3501 Acc: 0.8345\n",
      "\n",
      "Epoch 27/29\n",
      "----------\n",
      "train Loss: 0.3728 Acc: 0.8199\n",
      "\n",
      "test Loss: 0.3447 Acc: 0.8343\n",
      "\n",
      "Epoch 28/29\n",
      "----------\n",
      "train Loss: 0.3730 Acc: 0.8189\n",
      "\n",
      "test Loss: 0.3455 Acc: 0.8358\n",
      "\n",
      "Epoch 29/29\n",
      "----------\n",
      "train Loss: 0.3734 Acc: 0.8195\n",
      "\n",
      "test Loss: 0.3449 Acc: 0.8364\n",
      "\n"
     ]
    },
    {
     "ename": "NameError",
     "evalue": "name 'GrowingSpheres' is not defined",
     "output_type": "error",
     "traceback": [
      "\u001b[0;31m---------------------------------------------------------------------------\u001b[0m",
      "\u001b[0;31mNameError\u001b[0m                                 Traceback (most recent call last)",
      "\u001b[0;32m/var/folders/_c/8lzbqcz53c12ll3lxq05rr2c0000gn/T/ipykernel_29942/3353039864.py\u001b[0m in \u001b[0;36m<module>\u001b[0;34m\u001b[0m\n\u001b[1;32m     21\u001b[0m \u001b[0;34m\u001b[0m\u001b[0m\n\u001b[1;32m     22\u001b[0m \u001b[0;31m# load a recourse model and pass black box model\u001b[0m\u001b[0;34m\u001b[0m\u001b[0;34m\u001b[0m\u001b[0;34m\u001b[0m\u001b[0m\n\u001b[0;32m---> 23\u001b[0;31m \u001b[0mgs\u001b[0m \u001b[0;34m=\u001b[0m \u001b[0mGrowingSpheres\u001b[0m\u001b[0;34m(\u001b[0m\u001b[0mmodel\u001b[0m\u001b[0;34m)\u001b[0m\u001b[0;34m\u001b[0m\u001b[0;34m\u001b[0m\u001b[0m\n\u001b[0m\u001b[1;32m     24\u001b[0m \u001b[0;34m\u001b[0m\u001b[0m\n\u001b[1;32m     25\u001b[0m \u001b[0;31m# generate counterfactual examples\u001b[0m\u001b[0;34m\u001b[0m\u001b[0;34m\u001b[0m\u001b[0;34m\u001b[0m\u001b[0m\n",
      "\u001b[0;31mNameError\u001b[0m: name 'GrowingSpheres' is not defined"
     ]
    }
   ],
   "source": [
    "from carla.models.catalog import MLModelCatalog\n",
    "from carla.data.catalog import OnlineCatalog\n",
    "# load a catalog dataset\n",
    "data_name = \"adult\"\n",
    "dataset = OnlineCatalog(data_name)\n",
    "\n",
    "# load artificial neural network from catalog\n",
    "adv_model = MLModelCatalog(dataset, \"ann\", backend='pytorch')\n",
    "\n",
    "adv_model.train(learning_rate = 0.01,\n",
    "                epochs = 30,\n",
    "                batch_size = 512,\n",
    "                force_train = True,\n",
    "                hidden_size = [13, 9, 3], \n",
    "                adv = True, \n",
    "                radius = 8/255\n",
    "               )\n",
    "\n",
    "# get factuals from the data to generate counterfactual examples\n",
    "factuals = dataset._df.iloc[:10]\n",
    "\n",
    "# load a recourse model and pass black box model\n",
    "gs = GrowingSpheres(model)\n",
    "\n",
    "# generate counterfactual examples\n",
    "counterfactuals = gs.get_counterfactuals(factuals)"
   ]
  },
  {
   "cell_type": "code",
   "execution_count": 5,
   "metadata": {},
   "outputs": [
    {
     "name": "stdout",
     "output_type": "stream",
     "text": [
      "The training data has the size of 36624 and the val has the size of 12208\n"
     ]
    }
   ],
   "source": [
    "SEED = 0\n",
    "BATCH_SIZE = 128 \n",
    "\n",
    "\n",
    "# generate the training data and validation data\n",
    "train_data = dataset.df_train.drop('income', axis=1).values\n",
    "train_label = dataset.df_train['income'].values\n",
    "val_data = dataset.df_test.drop('income', axis=1).values\n",
    "val_label = dataset.df_test['income'].values\n",
    "print('The training data has the size of {} and the val has the size of {}'.format(str(len(train_data)), str(len(val_data))))\n",
    "\n",
    "\n",
    "# prepare the dataloader\n",
    "train_dataset = TensorDataset(torch.Tensor(train_data).float(), torch.Tensor(train_label))\n",
    "val_dataset = TensorDataset(torch.Tensor(val_data).float(), torch.Tensor(val_label))\n",
    "train_loader = DataLoader(train_dataset, batch_size=BATCH_SIZE, shuffle=True, pin_memory=True, num_workers=0) \n",
    "val_loader = DataLoader(val_dataset, batch_size=BATCH_SIZE, shuffle=False, pin_memory=True, num_workers=0, drop_last=False)\n"
   ]
  },
  {
   "cell_type": "code",
   "execution_count": 6,
   "metadata": {},
   "outputs": [
    {
     "name": "stdout",
     "output_type": "stream",
     "text": [
      "Natural model accuracy: 0.7933238636363636\n",
      "Natural model adversarial fool rate: 0.8473011363636364\n",
      "Adversarial model accuracy: 0.7876420454545454\n",
      "Adversarial model adversarial fool rate: 0.7400568181818182\n"
     ]
    }
   ],
   "source": [
    "from torch import unsqueeze\n",
    "num_wrong_nat = 0\n",
    "num_attempt_nat = 0\n",
    "num_wrong_adv = 0\n",
    "num_attempt_adv = 0\n",
    "adv_correct = 0\n",
    "nat_correct = 0\n",
    "adv_guesses = []\n",
    "for batch_id, (train_sample, train_labels) in enumerate(train_loader):\n",
    "    if batch_id > 10:\n",
    "        break\n",
    "    for j in range(train_sample.shape[0]):\n",
    "        instance = unsqueeze(train_sample[j], 0)\n",
    "        label = unsqueeze(train_labels[j], 0)\n",
    "\n",
    "        attacker_nat = torchattacks.PGD(nat_model._model, eps=1, alpha=0.01, steps=50, random_start=True)\n",
    "        adv_image = attacker_nat(instance.float(), label.long())\n",
    "        model_guess_nat = nat_model._model(instance.float()).max(1).indices\n",
    "        adv_guess_nat = nat_model._model(adv_image.float()).max(1).indices\n",
    "        if model_guess_nat !=  adv_guess_nat:\n",
    "            num_wrong_nat += 1\n",
    "        num_attempt_nat += 1\n",
    "        \n",
    "        attacker_adv = torchattacks.PGD(adv_model._model, eps=1, alpha=0.01, steps=50, random_start=True)\n",
    "        adv_image = attacker_adv(instance.float(), label.long())\n",
    "        model_guess_adv = adv_model._model(instance.float()).max(1).indices\n",
    "        adv_guess_adv = adv_model._model(adv_image.float()).max(1).indices\n",
    "        if model_guess_adv !=  adv_guess_adv:\n",
    "            num_wrong_adv += 1\n",
    "        num_attempt_adv += 1\n",
    "        \n",
    "        if model_guess_adv == label:\n",
    "            adv_correct +=1\n",
    "            \n",
    "        if model_guess_nat == label:\n",
    "            nat_correct +=1\n",
    "        adv_guesses.append(model_guess_adv)\n",
    "            \n",
    "print('Natural model accuracy: {}'.format(nat_correct/num_attempt_nat))\n",
    "print('Natural model adversarial fool rate: {}'.format(num_wrong_nat/num_attempt_nat))\n",
    "            \n",
    "print('Adversarial model accuracy: {}'.format(adv_correct/num_attempt_nat))\n",
    "print('Adversarial model adversarial fool rate: {}'.format(num_wrong_adv/num_attempt_nat))\n"
   ]
  },
  {
   "cell_type": "code",
   "execution_count": 7,
   "metadata": {},
   "outputs": [
    {
     "data": {
      "text/plain": [
       "tensor([95])"
      ]
     },
     "execution_count": 7,
     "metadata": {},
     "output_type": "execute_result"
    }
   ],
   "source": [
    "sum(adv_guesses)"
   ]
  },
  {
   "cell_type": "code",
   "execution_count": 42,
   "metadata": {},
   "outputs": [
    {
     "data": {
      "text/plain": [
       "tensor([[0.0000, 0.1928, 0.4000, 0.0000, 0.0000, 0.0816, 1.0000, 1.0000, 1.0000,\n",
       "         1.0000, 1.0000, 0.0000, 1.0000]])"
      ]
     },
     "execution_count": 42,
     "metadata": {},
     "output_type": "execute_result"
    }
   ],
   "source": [
    "instance"
   ]
  },
  {
   "cell_type": "code",
   "execution_count": 43,
   "metadata": {},
   "outputs": [
    {
     "data": {
      "text/plain": [
       "tensor([[0.0000, 1.0000, 0.1422, 0.0000, 0.0000, 1.0000, 0.8297, 0.0000, 0.9276,\n",
       "         1.0000, 0.0000, 1.0000, 0.0000]])"
      ]
     },
     "execution_count": 43,
     "metadata": {},
     "output_type": "execute_result"
    }
   ],
   "source": [
    "adv_image"
   ]
  },
  {
   "cell_type": "code",
   "execution_count": null,
   "metadata": {},
   "outputs": [],
   "source": [
    "adv_model = copy.deepcopy(model)\n"
   ]
  },
  {
   "cell_type": "code",
   "execution_count": 203,
   "metadata": {},
   "outputs": [
    {
     "data": {
      "text/plain": [
       "age                           0.000000\n",
       "capital-gain                 -0.058071\n",
       "capital-loss                 -0.037792\n",
       "education-num                -0.019781\n",
       "fnlwgt                        0.007973\n",
       "hours-per-week                0.004201\n",
       "income                       -1.000000\n",
       "marital-status_Non-Married    0.000000\n",
       "native-country_US             0.000000\n",
       "occupation_Other              0.000000\n",
       "race_White                    0.000000\n",
       "relationship_Non-Husband      0.000000\n",
       "sex_Male                      0.000000\n",
       "workclass_Private             0.000000\n",
       "Name: 0, dtype: float64"
      ]
     },
     "execution_count": 203,
     "metadata": {},
     "output_type": "execute_result"
    }
   ],
   "source": [
    "(factuals-counterfactuals).iloc[0]"
   ]
  },
  {
   "cell_type": "code",
   "execution_count": 196,
   "metadata": {},
   "outputs": [
    {
     "data": {
      "text/html": [
       "<div>\n",
       "<style scoped>\n",
       "    .dataframe tbody tr th:only-of-type {\n",
       "        vertical-align: middle;\n",
       "    }\n",
       "\n",
       "    .dataframe tbody tr th {\n",
       "        vertical-align: top;\n",
       "    }\n",
       "\n",
       "    .dataframe thead th {\n",
       "        text-align: right;\n",
       "    }\n",
       "</style>\n",
       "<table border=\"1\" class=\"dataframe\">\n",
       "  <thead>\n",
       "    <tr style=\"text-align: right;\">\n",
       "      <th></th>\n",
       "      <th>age</th>\n",
       "      <th>fnlwgt</th>\n",
       "      <th>education-num</th>\n",
       "      <th>capital-gain</th>\n",
       "      <th>capital-loss</th>\n",
       "      <th>...</th>\n",
       "      <th>relationship_Non-Husband</th>\n",
       "      <th>race_White</th>\n",
       "      <th>sex_Male</th>\n",
       "      <th>native-country_US</th>\n",
       "      <th>income</th>\n",
       "    </tr>\n",
       "  </thead>\n",
       "  <tbody>\n",
       "    <tr>\n",
       "      <th>0</th>\n",
       "      <td>0.301370</td>\n",
       "      <td>0.036158</td>\n",
       "      <td>0.819781</td>\n",
       "      <td>0.079811</td>\n",
       "      <td>0.037792</td>\n",
       "      <td>...</td>\n",
       "      <td>1.0</td>\n",
       "      <td>1.0</td>\n",
       "      <td>1.0</td>\n",
       "      <td>1.0</td>\n",
       "      <td>1.0</td>\n",
       "    </tr>\n",
       "    <tr>\n",
       "      <th>1</th>\n",
       "      <td>0.452055</td>\n",
       "      <td>0.178927</td>\n",
       "      <td>0.757786</td>\n",
       "      <td>0.015219</td>\n",
       "      <td>0.064408</td>\n",
       "      <td>...</td>\n",
       "      <td>0.0</td>\n",
       "      <td>1.0</td>\n",
       "      <td>1.0</td>\n",
       "      <td>1.0</td>\n",
       "      <td>1.0</td>\n",
       "    </tr>\n",
       "    <tr>\n",
       "      <th>2</th>\n",
       "      <td>0.287671</td>\n",
       "      <td>0.067679</td>\n",
       "      <td>0.513888</td>\n",
       "      <td>0.145753</td>\n",
       "      <td>0.018718</td>\n",
       "      <td>...</td>\n",
       "      <td>1.0</td>\n",
       "      <td>0.0</td>\n",
       "      <td>1.0</td>\n",
       "      <td>1.0</td>\n",
       "      <td>1.0</td>\n",
       "    </tr>\n",
       "    <tr>\n",
       "      <th>3</th>\n",
       "      <td>0.493151</td>\n",
       "      <td>0.188674</td>\n",
       "      <td>0.388265</td>\n",
       "      <td>0.085814</td>\n",
       "      <td>-0.019347</td>\n",
       "      <td>...</td>\n",
       "      <td>0.0</td>\n",
       "      <td>0.0</td>\n",
       "      <td>1.0</td>\n",
       "      <td>1.0</td>\n",
       "      <td>1.0</td>\n",
       "    </tr>\n",
       "    <tr>\n",
       "      <th>4</th>\n",
       "      <td>0.150685</td>\n",
       "      <td>0.210081</td>\n",
       "      <td>0.785659</td>\n",
       "      <td>0.022424</td>\n",
       "      <td>0.024865</td>\n",
       "      <td>...</td>\n",
       "      <td>1.0</td>\n",
       "      <td>0.0</td>\n",
       "      <td>0.0</td>\n",
       "      <td>0.0</td>\n",
       "      <td>1.0</td>\n",
       "    </tr>\n",
       "    <tr>\n",
       "      <th>5</th>\n",
       "      <td>NaN</td>\n",
       "      <td>NaN</td>\n",
       "      <td>NaN</td>\n",
       "      <td>NaN</td>\n",
       "      <td>NaN</td>\n",
       "      <td>...</td>\n",
       "      <td>NaN</td>\n",
       "      <td>NaN</td>\n",
       "      <td>NaN</td>\n",
       "      <td>NaN</td>\n",
       "      <td>NaN</td>\n",
       "    </tr>\n",
       "    <tr>\n",
       "      <th>6</th>\n",
       "      <td>0.438356</td>\n",
       "      <td>0.113843</td>\n",
       "      <td>0.306971</td>\n",
       "      <td>0.152850</td>\n",
       "      <td>-0.007225</td>\n",
       "      <td>...</td>\n",
       "      <td>0.0</td>\n",
       "      <td>0.0</td>\n",
       "      <td>0.0</td>\n",
       "      <td>0.0</td>\n",
       "      <td>1.0</td>\n",
       "    </tr>\n",
       "    <tr>\n",
       "      <th>7</th>\n",
       "      <td>0.479452</td>\n",
       "      <td>0.154004</td>\n",
       "      <td>0.568500</td>\n",
       "      <td>0.047440</td>\n",
       "      <td>0.027922</td>\n",
       "      <td>...</td>\n",
       "      <td>0.0</td>\n",
       "      <td>1.0</td>\n",
       "      <td>1.0</td>\n",
       "      <td>1.0</td>\n",
       "      <td>1.0</td>\n",
       "    </tr>\n",
       "    <tr>\n",
       "      <th>8</th>\n",
       "      <td>NaN</td>\n",
       "      <td>NaN</td>\n",
       "      <td>NaN</td>\n",
       "      <td>NaN</td>\n",
       "      <td>NaN</td>\n",
       "      <td>...</td>\n",
       "      <td>NaN</td>\n",
       "      <td>NaN</td>\n",
       "      <td>NaN</td>\n",
       "      <td>NaN</td>\n",
       "      <td>NaN</td>\n",
       "    </tr>\n",
       "    <tr>\n",
       "      <th>9</th>\n",
       "      <td>NaN</td>\n",
       "      <td>NaN</td>\n",
       "      <td>NaN</td>\n",
       "      <td>NaN</td>\n",
       "      <td>NaN</td>\n",
       "      <td>...</td>\n",
       "      <td>NaN</td>\n",
       "      <td>NaN</td>\n",
       "      <td>NaN</td>\n",
       "      <td>NaN</td>\n",
       "      <td>NaN</td>\n",
       "    </tr>\n",
       "  </tbody>\n",
       "</table>\n",
       "<p>10 rows × 14 columns</p>\n",
       "</div>"
      ],
      "text/plain": [
       "        age    fnlwgt  education-num  capital-gain  capital-loss  ...  \\\n",
       "0  0.301370  0.036158       0.819781      0.079811      0.037792  ...   \n",
       "1  0.452055  0.178927       0.757786      0.015219      0.064408  ...   \n",
       "2  0.287671  0.067679       0.513888      0.145753      0.018718  ...   \n",
       "3  0.493151  0.188674       0.388265      0.085814     -0.019347  ...   \n",
       "4  0.150685  0.210081       0.785659      0.022424      0.024865  ...   \n",
       "5       NaN       NaN            NaN           NaN           NaN  ...   \n",
       "6  0.438356  0.113843       0.306971      0.152850     -0.007225  ...   \n",
       "7  0.479452  0.154004       0.568500      0.047440      0.027922  ...   \n",
       "8       NaN       NaN            NaN           NaN           NaN  ...   \n",
       "9       NaN       NaN            NaN           NaN           NaN  ...   \n",
       "\n",
       "   relationship_Non-Husband  race_White  sex_Male  native-country_US  income  \n",
       "0                       1.0         1.0       1.0                1.0     1.0  \n",
       "1                       0.0         1.0       1.0                1.0     1.0  \n",
       "2                       1.0         0.0       1.0                1.0     1.0  \n",
       "3                       0.0         0.0       1.0                1.0     1.0  \n",
       "4                       1.0         0.0       0.0                0.0     1.0  \n",
       "5                       NaN         NaN       NaN                NaN     NaN  \n",
       "6                       0.0         0.0       0.0                0.0     1.0  \n",
       "7                       0.0         1.0       1.0                1.0     1.0  \n",
       "8                       NaN         NaN       NaN                NaN     NaN  \n",
       "9                       NaN         NaN       NaN                NaN     NaN  \n",
       "\n",
       "[10 rows x 14 columns]"
      ]
     },
     "execution_count": 196,
     "metadata": {},
     "output_type": "execute_result"
    }
   ],
   "source": [
    "counterfactuals"
   ]
  },
  {
   "cell_type": "markdown",
   "metadata": {
    "id": "354lFgeXlBep",
    "pycharm": {
     "name": "#%% md\n"
    }
   },
   "source": [
    "Load the numpy array as torch tensors."
   ]
  },
  {
   "cell_type": "code",
   "execution_count": 7,
   "metadata": {
    "colab": {
     "base_uri": "https://localhost:8080/"
    },
    "id": "yZ4WiV0JlBeq",
    "outputId": "5fb03178-3ff4-4148-e816-fd4bbfd1c050",
    "pycharm": {
     "name": "#%%\n"
    }
   },
   "outputs": [
    {
     "name": "stdout",
     "output_type": "stream",
     "text": [
      "(183941, 10) (183941,) [1 1 1 ... 1 1 1]\n",
      "[0 0 0 ... 0 1 0]\n",
      "[4.25959955e+01 2.13534775e+00 1.82591157e+01 2.59421227e+00\n",
      " 4.09451381e+03 9.85371396e+01 2.39410463e+00 3.75533459e+01\n",
      " 1.46659527e+00 2.94694494e+00] [1.45125584e+01 1.87004811e+00 4.03001797e+00 1.82616454e+00\n",
      " 2.55685362e+03 1.25330860e+02 4.35867541e+00 1.30693068e+01\n",
      " 4.98882876e-01 2.85988350e+00]\n"
     ]
    }
   ],
   "source": [
    "print(features.shape, label.shape , group)\n",
    "label = label.astype(int)\n",
    "print(label)\n",
    "import torchvision\n",
    "mean = np.mean(features, axis=0)\n",
    "std = np.std(features, axis=0)\n",
    "\n",
    "transforms=torchvision.transforms.Normalize(mean=mean, std=std)\n",
    "print(mean, std)\n",
    "# torchvision.transforms.Normalize(\n",
    "#       [, meanOfChannel2, meanOfChannel3] \n",
    "#     , [stdOfChannel1, stdOfChannel2, stdOfChannel3] \n",
    "# )"
   ]
  },
  {
   "cell_type": "code",
   "execution_count": 8,
   "metadata": {
    "colab": {
     "base_uri": "https://localhost:8080/"
    },
    "id": "TizDYn50lBer",
    "outputId": "c75a3f40-1951-4bdf-a437-0b7e8ebf2b47",
    "pycharm": {
     "name": "#%%\n"
    }
   },
   "outputs": [
    {
     "name": "stdout",
     "output_type": "stream",
     "text": [
      "The training data has the size of 147152 and the val has the size of 36789\n"
     ]
    }
   ],
   "source": [
    "SEED = 0\n",
    "BATCH_SIZE = 128 \n",
    "\n",
    "\n",
    "\n",
    "# generate the training data index and validation data index\n",
    "np.random.seed(SEED)\n",
    "random_index = np.random.rand(len(features))  \n",
    "random_index = np.argsort(random_index)\n",
    "train_index = random_index[: int(len(features)*0.8)]  # 80% data for training\n",
    "val_index = random_index[int(len(features)*0.8):]\n",
    "\n",
    "\n",
    "# generate the training data and validation data\n",
    "train_data = features[train_index]\n",
    "train_label = label[train_index]\n",
    "val_data = features[val_index]\n",
    "val_label = label[val_index]\n",
    "print('The training data has the size of {} and the val has the size of {}'.format(str(len(train_data)), str(len(val_data))))\n",
    "\n",
    "\n",
    "# prepare the dataloader\n",
    "train_dataset = TensorDataset(torch.Tensor(train_data).float(), torch.Tensor(train_label))\n",
    "val_dataset = TensorDataset(torch.Tensor(val_data).float(), torch.Tensor(val_label))\n",
    "train_loader = DataLoader(train_dataset, batch_size=BATCH_SIZE, shuffle=True, pin_memory=True, num_workers=0) \n",
    "val_loader = DataLoader(val_dataset, batch_size=BATCH_SIZE, shuffle=False, pin_memory=True, num_workers=0, drop_last=False)\n",
    "\n"
   ]
  },
  {
   "cell_type": "code",
   "execution_count": 9,
   "metadata": {
    "id": "TXEiiHM9lBes",
    "pycharm": {
     "name": "#%%\n"
    }
   },
   "outputs": [],
   "source": [
    "import torch.nn as nn\n",
    "\n",
    "# prepare our network\n",
    "class my_net(nn.Module):\n",
    "    def __init__(self, input_dim=10, emb_dim=64, mlp_ratio=4, num_classes=2): \n",
    "        super().__init__()  \n",
    "        \n",
    "        self.embedding = nn.Linear(input_dim, emb_dim)\n",
    "        self.block1 = nn.Sequential(\n",
    "            nn.Linear(emb_dim, emb_dim*mlp_ratio),\n",
    "             nn.GELU(),\n",
    "             nn.Linear(emb_dim*mlp_ratio, emb_dim),\n",
    "             )\n",
    "        self.block2 = nn.Sequential(\n",
    "            nn.Linear(emb_dim, emb_dim*mlp_ratio),\n",
    "             nn.GELU(),\n",
    "             nn.Linear(emb_dim*mlp_ratio, emb_dim),\n",
    "             )\n",
    "        self.cls = nn.Sequential(\n",
    "             nn.LayerNorm(emb_dim),\n",
    "             nn.Linear(emb_dim,  num_classes) \n",
    "        )\n",
    "    \n",
    "    def forward(self, x):\n",
    "        \n",
    "        x = self.embedding(x)\n",
    "        x = self.block1(x)             \n",
    "        x = self.cls(x)\n",
    "        \n",
    "        return x\n",
    "\n",
    "\n",
    "def topk(output, target, ks=(1,)):\n",
    "    \"\"\"Returns one boolean vector for each k, whether the target is within the output's top-k.\"\"\"\n",
    "    batch_size = output.size(0)\n",
    "    _, pred = output.topk(max(ks), 1, True, True)\n",
    "    pred = pred.t()\n",
    "    correct = pred.eq(target.view(1, -1).expand_as(pred))\n",
    "    return [correct[:k].max(0)[0].float().mean() for k in ks]\n",
    "\n",
    "def normalization(tensor, mean, std):\n",
    "    return ((tensor - mean) / std).float()"
   ]
  },
  {
   "cell_type": "code",
   "execution_count": 12,
   "metadata": {
    "colab": {
     "base_uri": "https://localhost:8080/"
    },
    "id": "NZk7Sg2ZlBes",
    "outputId": "2926a80c-fb45-4567-9997-0e7a5f9d56f1",
    "pycharm": {
     "name": "#%%\n"
    }
   },
   "outputs": [
    {
     "name": "stdout",
     "output_type": "stream",
     "text": [
      "Epoch 0 Current Step 0/1150: loss is 0.746694\n",
      "Epoch 0 Current Step 200/1150: loss is 0.428577\n",
      "Epoch 0 Current Step 400/1150: loss is 0.434818\n",
      "Epoch 0 Current Step 600/1150: loss is 0.355606\n",
      "Epoch 0 Current Step 800/1150: loss is 0.384464\n",
      "Epoch 0 Current Step 1000/1150: loss is 0.341268\n",
      "------------------------------------------------\n",
      "Epoch 0 Validation acc is 0.805502\n",
      "Epoch 1 Current Step 0/1150: loss is 0.368643\n",
      "Epoch 1 Current Step 200/1150: loss is 0.389124\n",
      "Epoch 1 Current Step 400/1150: loss is 0.463944\n",
      "Epoch 1 Current Step 600/1150: loss is 0.526325\n",
      "Epoch 1 Current Step 800/1150: loss is 0.435600\n",
      "Epoch 1 Current Step 1000/1150: loss is 0.393138\n",
      "------------------------------------------------\n",
      "Epoch 1 Validation acc is 0.807776\n",
      "Epoch 2 Current Step 0/1150: loss is 0.438288\n",
      "Epoch 2 Current Step 200/1150: loss is 0.381817\n",
      "Epoch 2 Current Step 400/1150: loss is 0.323124\n",
      "Epoch 2 Current Step 600/1150: loss is 0.426950\n",
      "Epoch 2 Current Step 800/1150: loss is 0.457255\n",
      "Epoch 2 Current Step 1000/1150: loss is 0.367431\n",
      "------------------------------------------------\n",
      "Epoch 2 Validation acc is 0.806490\n",
      "Epoch 3 Current Step 0/1150: loss is 0.397647\n",
      "Epoch 3 Current Step 200/1150: loss is 0.455891\n",
      "Epoch 3 Current Step 400/1150: loss is 0.401408\n",
      "Epoch 3 Current Step 600/1150: loss is 0.405500\n",
      "Epoch 3 Current Step 800/1150: loss is 0.291957\n",
      "Epoch 3 Current Step 1000/1150: loss is 0.385146\n",
      "------------------------------------------------\n",
      "Epoch 3 Validation acc is 0.803858\n",
      "Epoch 4 Current Step 0/1150: loss is 0.376835\n",
      "Epoch 4 Current Step 200/1150: loss is 0.490080\n",
      "Epoch 4 Current Step 400/1150: loss is 0.432957\n",
      "Epoch 4 Current Step 600/1150: loss is 0.357522\n",
      "Epoch 4 Current Step 800/1150: loss is 0.454382\n",
      "Epoch 4 Current Step 1000/1150: loss is 0.407718\n",
      "------------------------------------------------\n",
      "Epoch 4 Validation acc is 0.808563\n",
      "Epoch 5 Current Step 0/1150: loss is 0.323248\n",
      "Epoch 5 Current Step 200/1150: loss is 0.358677\n",
      "Epoch 5 Current Step 400/1150: loss is 0.426619\n",
      "Epoch 5 Current Step 600/1150: loss is 0.371658\n",
      "Epoch 5 Current Step 800/1150: loss is 0.374251\n",
      "Epoch 5 Current Step 1000/1150: loss is 0.307626\n",
      "------------------------------------------------\n",
      "Epoch 5 Validation acc is 0.798297\n",
      "Epoch 6 Current Step 0/1150: loss is 0.413287\n",
      "Epoch 6 Current Step 200/1150: loss is 0.374816\n",
      "Epoch 6 Current Step 400/1150: loss is 0.362859\n",
      "Epoch 6 Current Step 600/1150: loss is 0.365013\n",
      "Epoch 6 Current Step 800/1150: loss is 0.387454\n",
      "Epoch 6 Current Step 1000/1150: loss is 0.442365\n",
      "------------------------------------------------\n",
      "Epoch 6 Validation acc is 0.809865\n",
      "Epoch 7 Current Step 0/1150: loss is 0.374137\n",
      "Epoch 7 Current Step 200/1150: loss is 0.297610\n",
      "Epoch 7 Current Step 400/1150: loss is 0.436434\n",
      "Epoch 7 Current Step 600/1150: loss is 0.376979\n",
      "Epoch 7 Current Step 800/1150: loss is 0.439641\n",
      "Epoch 7 Current Step 1000/1150: loss is 0.331375\n",
      "------------------------------------------------\n",
      "Epoch 7 Validation acc is 0.807629\n",
      "Epoch 8 Current Step 0/1150: loss is 0.343246\n",
      "Epoch 8 Current Step 200/1150: loss is 0.470304\n",
      "Epoch 8 Current Step 400/1150: loss is 0.398493\n",
      "Epoch 8 Current Step 600/1150: loss is 0.393293\n",
      "Epoch 8 Current Step 800/1150: loss is 0.389507\n",
      "Epoch 8 Current Step 1000/1150: loss is 0.395910\n",
      "------------------------------------------------\n",
      "Epoch 8 Validation acc is 0.809609\n",
      "Epoch 9 Current Step 0/1150: loss is 0.344490\n",
      "Epoch 9 Current Step 200/1150: loss is 0.408422\n",
      "Epoch 9 Current Step 400/1150: loss is 0.414094\n",
      "Epoch 9 Current Step 600/1150: loss is 0.474936\n",
      "Epoch 9 Current Step 800/1150: loss is 0.337302\n",
      "Epoch 9 Current Step 1000/1150: loss is 0.423823\n",
      "------------------------------------------------\n",
      "Epoch 9 Validation acc is 0.809214\n"
     ]
    }
   ],
   "source": [
    "LR = 0.1\n",
    "NUM_EPOCH = 10\n",
    "LOG_STEP = 200\n",
    "\n",
    "\n",
    "our_net = my_net()\n",
    "criterion = torch.nn.CrossEntropyLoss()\n",
    "optim = torch.optim.SGD(our_net.parameters(), lr=LR, momentum=0.9)\n",
    "scheduler = torch.optim.lr_scheduler.CosineAnnealingLR(optim, T_max=NUM_EPOCH)\n",
    "\n",
    "train_all_loss = []\n",
    "val_all_loss = []\n",
    "train_acc = []\n",
    "val_acc = []\n",
    "\n",
    "for epoch in range(NUM_EPOCH):\n",
    "    our_net.train()\n",
    "    avg_top1 = []\n",
    "    for batch_id, (train_sample, train_labels) in enumerate(train_loader):   \n",
    "        \n",
    "        train_labels = train_labels.long()\n",
    "        output = our_net(normalization(train_sample, mean=mean, std=std))\n",
    "        loss = criterion(output, train_labels)\n",
    "        optim.zero_grad()\n",
    "        loss.backward()\n",
    "        optim.step()\n",
    "        train_all_loss.append(loss.item())\n",
    "        top1 = topk(output, train_labels, ks=(1,))\n",
    "        avg_top1.extend(top1)\n",
    "        if batch_id % LOG_STEP ==0:\n",
    "            print('Epoch {} Current Step {}/{}: loss is {losses:.6f}'\n",
    "                  .format(str(epoch) ,str(batch_id), str(len(train_loader)), losses = loss.item()))\n",
    "    train_acc.append(np.mean(avg_top1))\n",
    "    our_net.eval()\n",
    "    avg_top1 = []\n",
    "    with torch.no_grad():\n",
    "        for  batch_id, (val_sample, val_labels) in enumerate(val_loader):\n",
    "            val_labels = val_labels.long()\n",
    "            outputs = our_net(normalization(val_sample, mean=mean, std=std))\n",
    "            loss = criterion(outputs, val_labels)\n",
    "            val_all_loss.append(loss.item())\n",
    "            top1 = topk(outputs, val_labels, ks=(1,))\n",
    "            avg_top1.extend(top1)\n",
    "        print('------------------------------------------------')\n",
    "        print('Epoch {} Validation acc is {top1:.6f}'\n",
    "                  .format(str(epoch), top1 = np.mean(avg_top1)))\n",
    "    val_acc.append(np.mean(avg_top1))\n",
    "        \n",
    "        "
   ]
  },
  {
   "cell_type": "code",
   "execution_count": 13,
   "metadata": {
    "colab": {
     "base_uri": "https://localhost:8080/",
     "height": 706
    },
    "id": "MgEC3qmKlBet",
    "outputId": "45a28464-3e96-48e4-ce8a-4f343838c329",
    "pycharm": {
     "name": "#%%\n"
    }
   },
   "outputs": [
    {
     "name": "stderr",
     "output_type": "stream",
     "text": [
      "findfont: Font family ['Times New Roman'] not found. Falling back to DejaVu Sans.\n",
      "findfont: Font family ['Times New Roman'] not found. Falling back to DejaVu Sans.\n",
      "findfont: Font family ['Times New Roman'] not found. Falling back to DejaVu Sans.\n",
      "findfont: Font family ['Times New Roman'] not found. Falling back to DejaVu Sans.\n"
     ]
    },
    {
     "data": {
      "image/png": "[encoded data removed]",
      "text/plain": [
       "<Figure size 1440x720 with 1 Axes>"
      ]
     },
     "metadata": {},
     "output_type": "display_data"
    }
   ],
   "source": [
    "import matplotlib.pyplot as plt\n",
    "import matplotlib\n",
    "import matplotlib.pylab as pylab\n",
    "import numpy as np\n",
    "import os\n",
    "import matplotlib.pyplot as plt\n",
    "import matplotlib\n",
    "import matplotlib.pylab as pylab\n",
    "import numpy as np\n",
    "import os\n",
    "\n",
    "\n",
    "# plot the loss and acc\n",
    "def plot_loss_fig(train_loss, val_loss):\n",
    "    myparams = {\n",
    "\n",
    "   'axes.labelsize': '20',\n",
    "\n",
    "   'xtick.labelsize': '20',\n",
    "\n",
    "   'ytick.labelsize': '20',\n",
    "\n",
    "   'lines.linewidth': 2,\n",
    "\n",
    "   'legend.fontsize': '15',\n",
    "\n",
    "   'font.family': 'Times New Roman',\n",
    "}\n",
    "\n",
    "    pylab.rcParams.update(myparams) \n",
    "\n",
    "    plt.style.use('ggplot')\n",
    "    fig = plt.figure(figsize=(20,10))\n",
    "\n",
    "    plt.plot(range(len(train_loss)), train_loss, label = 'train loss')\n",
    "    plt.plot(range(len(val_loss)), val_loss, label = 'val loss')\n",
    "    \n",
    "    plt.grid(True)  # add grid\n",
    "    plt.legend()\n",
    "    plt.title(\"Train/Val Loss\")  \n",
    "    plt.ylabel('Loss') \n",
    "    plt.xlabel('Number of Steps ')\n",
    "plot_loss_fig(train_all_loss, val_all_loss)"
   ]
  },
  {
   "cell_type": "code",
   "execution_count": 14,
   "metadata": {
    "colab": {
     "base_uri": "https://localhost:8080/",
     "height": 635
    },
    "id": "WxF7MWYqlBeu",
    "outputId": "9ee3ac37-4138-492a-a491-88925a0d111b",
    "pycharm": {
     "name": "#%%\n"
    }
   },
   "outputs": [
    {
     "data": {
      "image/png": "[encoded data removed]",
      "text/plain": [
       "<Figure size 1440x720 with 1 Axes>"
      ]
     },
     "metadata": {},
     "output_type": "display_data"
    }
   ],
   "source": [
    "import matplotlib.pyplot as plt\n",
    "import matplotlib\n",
    "import matplotlib.pylab as pylab\n",
    "import numpy as np\n",
    "import os\n",
    "import matplotlib.pyplot as plt\n",
    "import matplotlib\n",
    "import matplotlib.pylab as pylab\n",
    "import numpy as np\n",
    "import os\n",
    "\n",
    "\n",
    "# plot the acc and acc\n",
    "def plot_acc_fig(train_acc, val_acc):\n",
    "    myparams = {\n",
    "\n",
    "   'axes.labelsize': '20',\n",
    "\n",
    "   'xtick.labelsize': '20',\n",
    "\n",
    "   'ytick.labelsize': '20',\n",
    "\n",
    "   'lines.linewidth': 2,\n",
    "\n",
    "   'legend.fontsize': '15',\n",
    "\n",
    "   'font.family': 'Times New Roman',\n",
    "}\n",
    "\n",
    "    pylab.rcParams.update(myparams) \n",
    "\n",
    "    plt.style.use('ggplot')\n",
    "    fig = plt.figure(figsize=(20,10))\n",
    "\n",
    "    plt.plot(range(len(train_acc)), train_acc, label = 'train loss')\n",
    "    plt.plot(range(len(val_acc)), val_acc, label = 'val loss')\n",
    "    \n",
    "    plt.grid(True)  # add grid\n",
    "    plt.legend()\n",
    "    plt.title(\"Train/Val Acc\")  \n",
    "    plt.ylabel('Acc') \n",
    "    plt.xlabel('Number of Epochs ')\n",
    "plot_acc_fig(train_acc, val_acc)"
   ]
  },
  {
   "cell_type": "code",
   "execution_count": 15,
   "metadata": {
    "id": "rANc3skVlBew"
   },
   "outputs": [],
   "source": [
    "torch.save(our_net.state_dict(), dir_path+'naturally_trained_model.pt')"
   ]
  },
  {
   "cell_type": "markdown",
   "metadata": {
    "id": "0NejlU4smu-Q"
   },
   "source": [
    "# Adversarial Training Procedure\n"
   ]
  },
  {
   "cell_type": "code",
   "execution_count": 16,
   "metadata": {
    "colab": {
     "base_uri": "https://localhost:8080/"
    },
    "id": "RF_w5cBSs84F",
    "outputId": "97f0613a-e694-49e7-b713-38edc16bbc73"
   },
   "outputs": [
    {
     "name": "stdout",
     "output_type": "stream",
     "text": [
      "Epoch 0 Current Step 0/1150: loss is 0.686393\n",
      "Epoch 0 Current Step 200/1150: loss is 0.529323\n",
      "Epoch 0 Current Step 400/1150: loss is 0.451397\n",
      "Epoch 0 Current Step 600/1150: loss is 0.543432\n",
      "Epoch 0 Current Step 800/1150: loss is 0.542321\n",
      "Epoch 0 Current Step 1000/1150: loss is 0.461087\n",
      "------------------------------------------------\n",
      "Epoch 0 Validation acc is 0.801128\n",
      "Epoch 1 Current Step 0/1150: loss is 0.561603\n",
      "Epoch 1 Current Step 200/1150: loss is 0.473327\n",
      "Epoch 1 Current Step 400/1150: loss is 0.488468\n",
      "Epoch 1 Current Step 600/1150: loss is 0.446754\n",
      "Epoch 1 Current Step 800/1150: loss is 0.514876\n",
      "Epoch 1 Current Step 1000/1150: loss is 0.557276\n",
      "------------------------------------------------\n",
      "Epoch 1 Validation acc is 0.801553\n",
      "Epoch 2 Current Step 0/1150: loss is 0.611508\n",
      "Epoch 2 Current Step 200/1150: loss is 0.562928\n",
      "Epoch 2 Current Step 400/1150: loss is 0.494411\n",
      "Epoch 2 Current Step 600/1150: loss is 0.589553\n",
      "Epoch 2 Current Step 800/1150: loss is 0.464500\n",
      "Epoch 2 Current Step 1000/1150: loss is 0.463731\n",
      "------------------------------------------------\n",
      "Epoch 2 Validation acc is 0.803614\n",
      "Epoch 3 Current Step 0/1150: loss is 0.457236\n",
      "Epoch 3 Current Step 200/1150: loss is 0.515775\n",
      "Epoch 3 Current Step 400/1150: loss is 0.486864\n",
      "Epoch 3 Current Step 600/1150: loss is 0.560202\n",
      "Epoch 3 Current Step 800/1150: loss is 0.427835\n",
      "Epoch 3 Current Step 1000/1150: loss is 0.508060\n",
      "------------------------------------------------\n",
      "Epoch 3 Validation acc is 0.803653\n",
      "Epoch 4 Current Step 0/1150: loss is 0.427750\n",
      "Epoch 4 Current Step 200/1150: loss is 0.571520\n",
      "Epoch 4 Current Step 400/1150: loss is 0.446457\n",
      "Epoch 4 Current Step 600/1150: loss is 0.681252\n",
      "Epoch 4 Current Step 800/1150: loss is 0.518399\n",
      "Epoch 4 Current Step 1000/1150: loss is 0.533531\n",
      "------------------------------------------------\n",
      "Epoch 4 Validation acc is 0.800230\n",
      "Epoch 5 Current Step 0/1150: loss is 0.540518\n",
      "Epoch 5 Current Step 200/1150: loss is 0.446680\n",
      "Epoch 5 Current Step 400/1150: loss is 0.482152\n",
      "Epoch 5 Current Step 600/1150: loss is 0.526356\n",
      "Epoch 5 Current Step 800/1150: loss is 0.473293\n",
      "Epoch 5 Current Step 1000/1150: loss is 0.455281\n",
      "------------------------------------------------\n",
      "Epoch 5 Validation acc is 0.804238\n",
      "Epoch 6 Current Step 0/1150: loss is 0.466712\n",
      "Epoch 6 Current Step 200/1150: loss is 0.489117\n",
      "Epoch 6 Current Step 400/1150: loss is 0.533985\n",
      "Epoch 6 Current Step 600/1150: loss is 0.478851\n",
      "Epoch 6 Current Step 800/1150: loss is 0.458412\n",
      "Epoch 6 Current Step 1000/1150: loss is 0.569672\n",
      "------------------------------------------------\n",
      "Epoch 6 Validation acc is 0.804971\n",
      "Epoch 7 Current Step 0/1150: loss is 0.508251\n",
      "Epoch 7 Current Step 200/1150: loss is 0.474382\n",
      "Epoch 7 Current Step 400/1150: loss is 0.489183\n",
      "Epoch 7 Current Step 600/1150: loss is 0.400119\n",
      "Epoch 7 Current Step 800/1150: loss is 0.480032\n",
      "Epoch 7 Current Step 1000/1150: loss is 0.440265\n",
      "------------------------------------------------\n",
      "Epoch 7 Validation acc is 0.805660\n",
      "Epoch 8 Current Step 0/1150: loss is 0.397708\n",
      "Epoch 8 Current Step 200/1150: loss is 0.431887\n",
      "Epoch 8 Current Step 400/1150: loss is 0.499222\n",
      "Epoch 8 Current Step 600/1150: loss is 0.531743\n",
      "Epoch 8 Current Step 800/1150: loss is 0.447824\n",
      "Epoch 8 Current Step 1000/1150: loss is 0.609690\n",
      "------------------------------------------------\n",
      "Epoch 8 Validation acc is 0.807656\n",
      "Epoch 9 Current Step 0/1150: loss is 0.464196\n",
      "Epoch 9 Current Step 200/1150: loss is 0.476495\n",
      "Epoch 9 Current Step 400/1150: loss is 0.502452\n",
      "Epoch 9 Current Step 600/1150: loss is 0.523543\n",
      "Epoch 9 Current Step 800/1150: loss is 0.441894\n",
      "Epoch 9 Current Step 1000/1150: loss is 0.482019\n",
      "------------------------------------------------\n",
      "Epoch 9 Validation acc is 0.807086\n",
      "Epoch 10 Current Step 0/1150: loss is 0.549642\n",
      "Epoch 10 Current Step 200/1150: loss is 0.545777\n",
      "Epoch 10 Current Step 400/1150: loss is 0.476547\n",
      "Epoch 10 Current Step 600/1150: loss is 0.579825\n",
      "Epoch 10 Current Step 800/1150: loss is 0.558952\n",
      "Epoch 10 Current Step 1000/1150: loss is 0.534571\n",
      "------------------------------------------------\n",
      "Epoch 10 Validation acc is 0.805346\n",
      "Epoch 11 Current Step 0/1150: loss is 0.387226\n",
      "Epoch 11 Current Step 200/1150: loss is 0.503825\n",
      "Epoch 11 Current Step 400/1150: loss is 0.413743\n",
      "Epoch 11 Current Step 600/1150: loss is 0.396846\n",
      "Epoch 11 Current Step 800/1150: loss is 0.471236\n",
      "Epoch 11 Current Step 1000/1150: loss is 0.398813\n",
      "------------------------------------------------\n",
      "Epoch 11 Validation acc is 0.806175\n",
      "Epoch 12 Current Step 0/1150: loss is 0.383178\n",
      "Epoch 12 Current Step 200/1150: loss is 0.494868\n",
      "Epoch 12 Current Step 400/1150: loss is 0.558850\n",
      "Epoch 12 Current Step 600/1150: loss is 0.458366\n",
      "Epoch 12 Current Step 800/1150: loss is 0.469645\n",
      "Epoch 12 Current Step 1000/1150: loss is 0.446057\n",
      "------------------------------------------------\n",
      "Epoch 12 Validation acc is 0.805644\n",
      "Epoch 13 Current Step 0/1150: loss is 0.520576\n",
      "Epoch 13 Current Step 200/1150: loss is 0.456253\n",
      "Epoch 13 Current Step 400/1150: loss is 0.418302\n",
      "Epoch 13 Current Step 600/1150: loss is 0.498103\n",
      "Epoch 13 Current Step 800/1150: loss is 0.486045\n",
      "Epoch 13 Current Step 1000/1150: loss is 0.569562\n",
      "------------------------------------------------\n",
      "Epoch 13 Validation acc is 0.805117\n",
      "Epoch 14 Current Step 0/1150: loss is 0.463932\n",
      "Epoch 14 Current Step 200/1150: loss is 0.449121\n",
      "Epoch 14 Current Step 400/1150: loss is 0.498786\n",
      "Epoch 14 Current Step 600/1150: loss is 0.474061\n",
      "Epoch 14 Current Step 800/1150: loss is 0.425226\n",
      "Epoch 14 Current Step 1000/1150: loss is 0.572271\n",
      "------------------------------------------------\n",
      "Epoch 14 Validation acc is 0.807923\n",
      "Epoch 15 Current Step 0/1150: loss is 0.428189\n",
      "Epoch 15 Current Step 200/1150: loss is 0.533418\n",
      "Epoch 15 Current Step 400/1150: loss is 0.469665\n",
      "Epoch 15 Current Step 600/1150: loss is 0.472424\n",
      "Epoch 15 Current Step 800/1150: loss is 0.507488\n",
      "Epoch 15 Current Step 1000/1150: loss is 0.516418\n",
      "------------------------------------------------\n",
      "Epoch 15 Validation acc is 0.806609\n",
      "Epoch 16 Current Step 0/1150: loss is 0.366725\n",
      "Epoch 16 Current Step 200/1150: loss is 0.388165\n",
      "Epoch 16 Current Step 400/1150: loss is 0.558731\n",
      "Epoch 16 Current Step 600/1150: loss is 0.565301\n",
      "Epoch 16 Current Step 800/1150: loss is 0.500476\n",
      "Epoch 16 Current Step 1000/1150: loss is 0.473964\n",
      "------------------------------------------------\n",
      "Epoch 16 Validation acc is 0.807846\n",
      "Epoch 17 Current Step 0/1150: loss is 0.531892\n",
      "Epoch 17 Current Step 200/1150: loss is 0.563667\n",
      "Epoch 17 Current Step 400/1150: loss is 0.483685\n",
      "Epoch 17 Current Step 600/1150: loss is 0.516906\n",
      "Epoch 17 Current Step 800/1150: loss is 0.392870\n",
      "Epoch 17 Current Step 1000/1150: loss is 0.491149\n",
      "------------------------------------------------\n",
      "Epoch 17 Validation acc is 0.805633\n",
      "Epoch 18 Current Step 0/1150: loss is 0.421131\n",
      "Epoch 18 Current Step 200/1150: loss is 0.505751\n",
      "Epoch 18 Current Step 400/1150: loss is 0.447245\n",
      "Epoch 18 Current Step 600/1150: loss is 0.494299\n",
      "Epoch 18 Current Step 800/1150: loss is 0.457071\n",
      "Epoch 18 Current Step 1000/1150: loss is 0.367301\n",
      "------------------------------------------------\n",
      "Epoch 18 Validation acc is 0.804265\n",
      "Epoch 19 Current Step 0/1150: loss is 0.394759\n",
      "Epoch 19 Current Step 200/1150: loss is 0.389941\n",
      "Epoch 19 Current Step 400/1150: loss is 0.476432\n",
      "Epoch 19 Current Step 600/1150: loss is 0.474591\n",
      "Epoch 19 Current Step 800/1150: loss is 0.467096\n",
      "Epoch 19 Current Step 1000/1150: loss is 0.515275\n",
      "------------------------------------------------\n",
      "Epoch 19 Validation acc is 0.806203\n",
      "Epoch 20 Current Step 0/1150: loss is 0.438323\n",
      "Epoch 20 Current Step 200/1150: loss is 0.465906\n",
      "Epoch 20 Current Step 400/1150: loss is 0.542931\n",
      "Epoch 20 Current Step 600/1150: loss is 0.557059\n",
      "Epoch 20 Current Step 800/1150: loss is 0.565680\n",
      "Epoch 20 Current Step 1000/1150: loss is 0.412915\n",
      "------------------------------------------------\n",
      "Epoch 20 Validation acc is 0.806854\n",
      "Epoch 21 Current Step 0/1150: loss is 0.438005\n",
      "Epoch 21 Current Step 200/1150: loss is 0.537432\n",
      "Epoch 21 Current Step 400/1150: loss is 0.473303\n",
      "Epoch 21 Current Step 600/1150: loss is 0.539522\n",
      "Epoch 21 Current Step 800/1150: loss is 0.455891\n",
      "Epoch 21 Current Step 1000/1150: loss is 0.437441\n",
      "------------------------------------------------\n",
      "Epoch 21 Validation acc is 0.808346\n",
      "Epoch 22 Current Step 0/1150: loss is 0.455548\n",
      "Epoch 22 Current Step 200/1150: loss is 0.542207\n",
      "Epoch 22 Current Step 400/1150: loss is 0.594197\n",
      "Epoch 22 Current Step 600/1150: loss is 0.473567\n",
      "Epoch 22 Current Step 800/1150: loss is 0.461071\n",
      "Epoch 22 Current Step 1000/1150: loss is 0.470671\n",
      "------------------------------------------------\n",
      "Epoch 22 Validation acc is 0.800467\n",
      "Epoch 23 Current Step 0/1150: loss is 0.549299\n",
      "Epoch 23 Current Step 200/1150: loss is 0.522646\n",
      "Epoch 23 Current Step 400/1150: loss is 0.459145\n",
      "Epoch 23 Current Step 600/1150: loss is 0.403712\n",
      "Epoch 23 Current Step 800/1150: loss is 0.408384\n",
      "Epoch 23 Current Step 1000/1150: loss is 0.465241\n",
      "------------------------------------------------\n",
      "Epoch 23 Validation acc is 0.807369\n",
      "Epoch 24 Current Step 0/1150: loss is 0.517442\n",
      "Epoch 24 Current Step 200/1150: loss is 0.431010\n",
      "Epoch 24 Current Step 400/1150: loss is 0.442247\n",
      "Epoch 24 Current Step 600/1150: loss is 0.507642\n",
      "Epoch 24 Current Step 800/1150: loss is 0.436446\n",
      "Epoch 24 Current Step 1000/1150: loss is 0.515435\n",
      "------------------------------------------------\n",
      "Epoch 24 Validation acc is 0.807527\n",
      "Epoch 25 Current Step 0/1150: loss is 0.442374\n",
      "Epoch 25 Current Step 200/1150: loss is 0.523458\n",
      "Epoch 25 Current Step 400/1150: loss is 0.443409\n",
      "Epoch 25 Current Step 600/1150: loss is 0.447852\n",
      "Epoch 25 Current Step 800/1150: loss is 0.482890\n",
      "Epoch 25 Current Step 1000/1150: loss is 0.517461\n",
      "------------------------------------------------\n",
      "Epoch 25 Validation acc is 0.807814\n",
      "Epoch 26 Current Step 0/1150: loss is 0.443632\n",
      "Epoch 26 Current Step 200/1150: loss is 0.432747\n",
      "Epoch 26 Current Step 400/1150: loss is 0.549889\n",
      "Epoch 26 Current Step 600/1150: loss is 0.478125\n",
      "Epoch 26 Current Step 800/1150: loss is 0.490418\n",
      "Epoch 26 Current Step 1000/1150: loss is 0.446325\n",
      "------------------------------------------------\n",
      "Epoch 26 Validation acc is 0.807477\n",
      "Epoch 27 Current Step 0/1150: loss is 0.453173\n",
      "Epoch 27 Current Step 200/1150: loss is 0.480728\n",
      "Epoch 27 Current Step 400/1150: loss is 0.451600\n",
      "Epoch 27 Current Step 600/1150: loss is 0.524686\n",
      "Epoch 27 Current Step 800/1150: loss is 0.485354\n",
      "Epoch 27 Current Step 1000/1150: loss is 0.538886\n",
      "------------------------------------------------\n",
      "Epoch 27 Validation acc is 0.807543\n",
      "Epoch 28 Current Step 0/1150: loss is 0.567533\n",
      "Epoch 28 Current Step 200/1150: loss is 0.589803\n",
      "Epoch 28 Current Step 400/1150: loss is 0.497314\n",
      "Epoch 28 Current Step 600/1150: loss is 0.443027\n",
      "Epoch 28 Current Step 800/1150: loss is 0.460768\n",
      "Epoch 28 Current Step 1000/1150: loss is 0.444099\n",
      "------------------------------------------------\n",
      "Epoch 28 Validation acc is 0.809008\n",
      "Epoch 29 Current Step 0/1150: loss is 0.493070\n",
      "Epoch 29 Current Step 200/1150: loss is 0.503427\n",
      "Epoch 29 Current Step 400/1150: loss is 0.476334\n",
      "Epoch 29 Current Step 600/1150: loss is 0.467306\n",
      "Epoch 29 Current Step 800/1150: loss is 0.528763\n",
      "Epoch 29 Current Step 1000/1150: loss is 0.437402\n",
      "------------------------------------------------\n",
      "Epoch 29 Validation acc is 0.807147\n",
      "Epoch 30 Current Step 0/1150: loss is 0.558394\n",
      "Epoch 30 Current Step 200/1150: loss is 0.511749\n",
      "Epoch 30 Current Step 400/1150: loss is 0.493928\n",
      "Epoch 30 Current Step 600/1150: loss is 0.542341\n",
      "Epoch 30 Current Step 800/1150: loss is 0.461035\n",
      "Epoch 30 Current Step 1000/1150: loss is 0.454135\n",
      "------------------------------------------------\n",
      "Epoch 30 Validation acc is 0.804939\n",
      "Epoch 31 Current Step 0/1150: loss is 0.445661\n",
      "Epoch 31 Current Step 200/1150: loss is 0.452454\n",
      "Epoch 31 Current Step 400/1150: loss is 0.515625\n",
      "Epoch 31 Current Step 600/1150: loss is 0.505721\n",
      "Epoch 31 Current Step 800/1150: loss is 0.541831\n",
      "Epoch 31 Current Step 1000/1150: loss is 0.447941\n",
      "------------------------------------------------\n",
      "Epoch 31 Validation acc is 0.809648\n",
      "Epoch 32 Current Step 0/1150: loss is 0.530729\n",
      "Epoch 32 Current Step 200/1150: loss is 0.485679\n",
      "Epoch 32 Current Step 400/1150: loss is 0.555819\n",
      "Epoch 32 Current Step 600/1150: loss is 0.492657\n",
      "Epoch 32 Current Step 800/1150: loss is 0.419861\n",
      "Epoch 32 Current Step 1000/1150: loss is 0.474429\n",
      "------------------------------------------------\n",
      "Epoch 32 Validation acc is 0.808221\n",
      "Epoch 33 Current Step 0/1150: loss is 0.433879\n",
      "Epoch 33 Current Step 200/1150: loss is 0.592632\n",
      "Epoch 33 Current Step 400/1150: loss is 0.416598\n",
      "Epoch 33 Current Step 600/1150: loss is 0.429067\n",
      "Epoch 33 Current Step 800/1150: loss is 0.503537\n",
      "Epoch 33 Current Step 1000/1150: loss is 0.472418\n",
      "------------------------------------------------\n",
      "Epoch 33 Validation acc is 0.804521\n",
      "Epoch 34 Current Step 0/1150: loss is 0.568088\n",
      "Epoch 34 Current Step 200/1150: loss is 0.440693\n",
      "Epoch 34 Current Step 400/1150: loss is 0.504527\n",
      "Epoch 34 Current Step 600/1150: loss is 0.474206\n",
      "Epoch 34 Current Step 800/1150: loss is 0.468446\n",
      "Epoch 34 Current Step 1000/1150: loss is 0.460562\n",
      "------------------------------------------------\n",
      "Epoch 34 Validation acc is 0.808318\n",
      "Epoch 35 Current Step 0/1150: loss is 0.494065\n",
      "Epoch 35 Current Step 200/1150: loss is 0.472991\n",
      "Epoch 35 Current Step 400/1150: loss is 0.517370\n",
      "Epoch 35 Current Step 600/1150: loss is 0.512600\n",
      "Epoch 35 Current Step 800/1150: loss is 0.486720\n",
      "Epoch 35 Current Step 1000/1150: loss is 0.527660\n",
      "------------------------------------------------\n",
      "Epoch 35 Validation acc is 0.807489\n",
      "Epoch 36 Current Step 0/1150: loss is 0.429507\n",
      "Epoch 36 Current Step 200/1150: loss is 0.474692\n",
      "Epoch 36 Current Step 400/1150: loss is 0.490576\n",
      "Epoch 36 Current Step 600/1150: loss is 0.461896\n",
      "Epoch 36 Current Step 800/1150: loss is 0.462924\n",
      "Epoch 36 Current Step 1000/1150: loss is 0.438215\n",
      "------------------------------------------------\n",
      "Epoch 36 Validation acc is 0.810136\n",
      "Epoch 37 Current Step 0/1150: loss is 0.387085\n",
      "Epoch 37 Current Step 200/1150: loss is 0.478159\n",
      "Epoch 37 Current Step 400/1150: loss is 0.417893\n",
      "Epoch 37 Current Step 600/1150: loss is 0.526544\n",
      "Epoch 37 Current Step 800/1150: loss is 0.518676\n",
      "Epoch 37 Current Step 1000/1150: loss is 0.486795\n",
      "------------------------------------------------\n",
      "Epoch 37 Validation acc is 0.807245\n",
      "Epoch 38 Current Step 0/1150: loss is 0.394411\n",
      "Epoch 38 Current Step 200/1150: loss is 0.509771\n",
      "Epoch 38 Current Step 400/1150: loss is 0.495184\n",
      "Epoch 38 Current Step 600/1150: loss is 0.515613\n",
      "Epoch 38 Current Step 800/1150: loss is 0.474529\n",
      "Epoch 38 Current Step 1000/1150: loss is 0.500848\n",
      "------------------------------------------------\n",
      "Epoch 38 Validation acc is 0.808020\n",
      "Epoch 39 Current Step 0/1150: loss is 0.490924\n",
      "Epoch 39 Current Step 200/1150: loss is 0.483247\n",
      "Epoch 39 Current Step 400/1150: loss is 0.431209\n",
      "Epoch 39 Current Step 600/1150: loss is 0.505404\n",
      "Epoch 39 Current Step 800/1150: loss is 0.539983\n",
      "Epoch 39 Current Step 1000/1150: loss is 0.475514\n",
      "------------------------------------------------\n",
      "Epoch 39 Validation acc is 0.808346\n"
     ]
    }
   ],
   "source": [
    "import copy \n",
    "\n",
    "LR = 0.01\n",
    "NUM_EPOCH = 40\n",
    "LOG_STEP = 200\n",
    "\n",
    "adv_net = my_net()\n",
    "criterion = torch.nn.CrossEntropyLoss()\n",
    "optim = torch.optim.SGD(adv_net.parameters(), lr=LR, momentum=0.9)\n",
    "scheduler = torch.optim.lr_scheduler.CosineAnnealingLR(optim, T_max=NUM_EPOCH)\n",
    "\n",
    "train_all_loss = []\n",
    "val_all_loss = []\n",
    "train_acc = []\n",
    "val_acc = []\n",
    "\n",
    "attacker = torchattacks.PGD(adv_net, eps=16/255, alpha=2/255, steps=20, random_start=True)\n",
    "for epoch in range(NUM_EPOCH):\n",
    "    adv_net.train()\n",
    "    avg_top1 = []\n",
    "    for batch_id, (train_sample, train_labels) in enumerate(train_loader): \n",
    "        train_labels = train_labels.long()\n",
    "        # Generate adv. examples to mix in \n",
    "        atk_inds = np.random.choice(range(train_sample.shape[0]), size=train_sample.shape[0]//2, replace=False)\n",
    "        orig_inds = [ind for ind in range(train_sample.shape[0]) if ind not in atk_inds]\n",
    "        adv_samples = attacker(normalization(train_sample[atk_inds], mean=mean, std=std).float(), train_labels[atk_inds])\n",
    "        orig_samples = train_sample[orig_inds]\n",
    "        mixed_set = torch.cat((adv_samples, orig_samples))\n",
    "        mixed_labels = torch.cat((train_labels[atk_inds], train_labels[orig_inds]))\n",
    "        \n",
    "        output = adv_net(normalization(mixed_set, mean=mean, std=std).float())\n",
    "        loss = criterion(output, mixed_labels)\n",
    "        optim.zero_grad()\n",
    "        loss.backward()\n",
    "        optim.step()\n",
    "        train_all_loss.append(loss.item())\n",
    "        top1 = topk(output, train_labels, ks=(1,))\n",
    "        avg_top1.extend(top1)\n",
    "        if batch_id % LOG_STEP ==0:\n",
    "            print('Epoch {} Current Step {}/{}: loss is {losses:.6f}'\n",
    "                  .format(str(epoch) ,str(batch_id), str(len(train_loader)), losses = loss.item()))\n",
    "    train_acc.append(np.mean(avg_top1))\n",
    "    adv_net.eval()\n",
    "    avg_top1 = []\n",
    "    with torch.no_grad():\n",
    "        for  batch_id, (val_sample, val_labels) in enumerate(val_loader):\n",
    "            val_labels = val_labels.long()\n",
    "            outputs = adv_net(normalization(val_sample, mean=mean, std=std).float())\n",
    "            loss = criterion(outputs, val_labels)\n",
    "            val_all_loss.append(loss.item())\n",
    "            top1 = topk(outputs, val_labels, ks=(1,))\n",
    "            avg_top1.extend(top1)\n",
    "        print('------------------------------------------------')\n",
    "        print('Epoch {} Validation acc is {top1:.6f}'\n",
    "                  .format(str(epoch), top1 = np.mean(avg_top1)))\n",
    "    val_acc.append(np.mean(avg_top1))"
   ]
  },
  {
   "cell_type": "code",
   "execution_count": 17,
   "metadata": {
    "colab": {
     "base_uri": "https://localhost:8080/",
     "height": 635
    },
    "id": "bbCxMV0OTEIU",
    "outputId": "d1c338dd-2f61-424e-b97c-5eac505a7187"
   },
   "outputs": [
    {
     "data": {
      "image/png": "[encoded data removed]",
      "text/plain": [
       "<Figure size 1440x720 with 1 Axes>"
      ]
     },
     "metadata": {},
     "output_type": "display_data"
    }
   ],
   "source": [
    "plot_loss_fig(train_all_loss, val_all_loss)"
   ]
  },
  {
   "cell_type": "code",
   "execution_count": 18,
   "metadata": {
    "colab": {
     "base_uri": "https://localhost:8080/",
     "height": 635
    },
    "id": "7HR1BaDlNEpT",
    "outputId": "deb89f2b-b557-4b0d-992f-ef979980385c"
   },
   "outputs": [
    {
     "data": {
      "image/png": "[encoded data removed]",
      "text/plain": [
       "<Figure size 1440x720 with 1 Axes>"
      ]
     },
     "metadata": {},
     "output_type": "display_data"
    }
   ],
   "source": [
    "plot_acc_fig(train_acc, val_acc)"
   ]
  },
  {
   "cell_type": "code",
   "execution_count": 19,
   "metadata": {
    "colab": {
     "base_uri": "https://localhost:8080/"
    },
    "id": "DGx1kSBaQyB0",
    "outputId": "9309606f-3d74-4a36-ffcd-8e5c92cd28a6",
    "scrolled": true
   },
   "outputs": [
    {
     "name": "stdout",
     "output_type": "stream",
     "text": [
      "Number Incorrect (natural model): 454\n",
      "Number Attempted (natural model): 1408\n",
      "Number Incorrect (adversarially trained model): 253\n",
      "Number Attempted (adversarially trained model): 1408\n"
     ]
    }
   ],
   "source": [
    "from torch import unsqueeze\n",
    "num_wrong_nat = 0\n",
    "num_attempt_nat = 0\n",
    "num_wrong_adv = 0\n",
    "num_attempt_adv = 0\n",
    "for batch_id, (train_sample, train_labels) in enumerate(train_loader):\n",
    "    if batch_id > 10:\n",
    "        break\n",
    "    for j in range(train_sample.shape[0]):\n",
    "        instance = unsqueeze(train_sample[j], 0)\n",
    "        label = unsqueeze(train_labels[j], 0)\n",
    "\n",
    "        attacker_nat = torchattacks.PGD(our_net, eps=16/255, alpha=2/255, steps=20, random_start=True)\n",
    "        adv_image = attacker_nat(normalization(instance, mean=mean, std=std).float(), label.long())\n",
    "        model_guess_nat = our_net(normalization(instance, mean=mean, std=std).float()).max(1).indices\n",
    "        adv_guess_nat = our_net(normalization(adv_image, mean=mean, std=std).float()).max(1).indices\n",
    "        if model_guess_nat !=  adv_guess_nat:\n",
    "            num_wrong_nat += 1\n",
    "        num_attempt_nat += 1\n",
    "\n",
    "        attacker_adv = torchattacks.PGD(adv_net, eps=16/255, alpha=2/255, steps=20, random_start=True)\n",
    "        adv_image = attacker_adv(normalization(instance, mean=mean, std=std).float(), label.long())\n",
    "        model_guess_adv = adv_net(normalization(instance, mean=mean, std=std).float()).max(1).indices\n",
    "        adv_guess_adv = adv_net(normalization(adv_image, mean=mean, std=std).float()).max(1).indices\n",
    "        if model_guess_adv !=  adv_guess_adv:\n",
    "            num_wrong_adv += 1\n",
    "        num_attempt_adv += 1\n",
    "\n",
    "print('Number Incorrect (natural model): {}'.format(num_wrong_nat))\n",
    "print('Number Attempted (natural model): {}'.format(num_attempt_nat))\n",
    "\n",
    "print('Number Incorrect (adversarially trained model): {}'.format(num_wrong_adv))\n",
    "print('Number Attempted (adversarially trained model): {}'.format(num_attempt_adv))"
   ]
  },
  {
   "cell_type": "code",
   "execution_count": 20,
   "metadata": {
    "id": "sz_m3ysB_Vtg"
   },
   "outputs": [],
   "source": [
    "torch.save(adv_net.state_dict(), dir_path+'adversarially_trained_model.pt')"
   ]
  },
  {
   "cell_type": "markdown",
   "metadata": {
    "id": "F_faTU9ca52W"
   },
   "source": [
    "# Recourse Generation\n"
   ]
  },
  {
   "cell_type": "code",
   "execution_count": null,
   "metadata": {
    "id": "WzOkuTPuUsC3"
   },
   "outputs": [],
   "source": [
    "! pip install carla-recourse"
   ]
  },
  {
   "cell_type": "code",
   "execution_count": 118,
   "metadata": {},
   "outputs": [],
   "source": [
    "from carla.models.catalog import MLModelCatalog\n",
    "from carla.data.catalog import OnlineCatalog\n",
    "# load a catalog dataset\n",
    "data_name = \"adult\"\n",
    "dataset = OnlineCatalog(data_name)"
   ]
  },
  {
   "cell_type": "code",
   "execution_count": 122,
   "metadata": {},
   "outputs": [
    {
     "data": {
      "text/plain": [
       "0        0\n",
       "1        1\n",
       "2        0\n",
       "3        1\n",
       "4        0\n",
       "        ..\n",
       "36619    0\n",
       "36620    0\n",
       "36621    0\n",
       "36622    1\n",
       "36623    0\n",
       "Name: income, Length: 36624, dtype: int64"
      ]
     },
     "execution_count": 122,
     "metadata": {},
     "output_type": "execute_result"
    }
   ],
   "source": [
    "dataset.df_train"
   ]
  },
  {
   "cell_type": "code",
   "execution_count": 10,
   "metadata": {},
   "outputs": [
    {
     "data": {
      "text/plain": [
       "<All keys matched successfully>"
      ]
     },
     "execution_count": 10,
     "metadata": {},
     "output_type": "execute_result"
    }
   ],
   "source": [
    "nat_model_state = torch.load('naturally_trained_model.pt')\n",
    "nat_model = my_net()\n",
    "nat_model.load_state_dict(nat_model_state)\n",
    "\n",
    "adv_model_state = torch.load('adversarially_trained_model.pt')\n",
    "adv_model = my_net()\n",
    "adv_model.load_state_dict(adv_model_state)\n"
   ]
  },
  {
   "cell_type": "code",
   "execution_count": 11,
   "metadata": {
    "id": "G-jzeWIunNRI"
   },
   "outputs": [],
   "source": [
    "import pandas as pd\n",
    "data_source = ACSDataSource(survey_year='2014', horizon='1-Year', survey='person')\n",
    "ca_data = data_source.get_data(states=[\"CA\"], download=True)\n",
    "features, label, group = ACSIncome.df_to_numpy(ca_data)"
   ]
  },
  {
   "cell_type": "code",
   "execution_count": 12,
   "metadata": {},
   "outputs": [],
   "source": [
    "mean = np.mean(features, axis=0)\n",
    "std = np.std(features, axis=0)\n",
    "\n",
    "def normalization(tensor, mean, std):\n",
    "    return (tensor - mean) / std\n",
    "\n",
    "def inverse_normalization(x, mean, std):\n",
    "    return (x*std)+mean\n"
   ]
  },
  {
   "cell_type": "code",
   "execution_count": 13,
   "metadata": {
    "colab": {
     "base_uri": "https://localhost:8080/",
     "height": 168
    },
    "id": "TT1Au4QVnOKN",
    "outputId": "8c925f20-1f7a-48a8-dda4-a59a91d4878a"
   },
   "outputs": [],
   "source": [
    "features_cols = ['AGEP','COW','SCHL','MAR','OCCP','POBP','RELP','WKHP','SEX','RAC1P']\n",
    "\n",
    "feature_cols = ['Age', \n",
    "            'Worker_Type', \n",
    "            'Education_Level', \n",
    "            'Marital_Status', \n",
    "            'Occupation_Code', \n",
    "            'State', \n",
    "            'Relationship', \n",
    "            'Hours_Per_Week', \n",
    "            'Sex', \n",
    "            'Race',\n",
    "            #'Income_Greater_50k'\n",
    "            ]"
   ]
  },
  {
   "cell_type": "code",
   "execution_count": 14,
   "metadata": {
    "id": "7FG7RqAPqTM4"
   },
   "outputs": [
    {
     "data": {
      "text/html": [
       "<div>\n",
       "<style scoped>\n",
       "    .dataframe tbody tr th:only-of-type {\n",
       "        vertical-align: middle;\n",
       "    }\n",
       "\n",
       "    .dataframe tbody tr th {\n",
       "        vertical-align: top;\n",
       "    }\n",
       "\n",
       "    .dataframe thead th {\n",
       "        text-align: right;\n",
       "    }\n",
       "</style>\n",
       "<table border=\"1\" class=\"dataframe\">\n",
       "  <thead>\n",
       "    <tr style=\"text-align: right;\">\n",
       "      <th></th>\n",
       "      <th>Age</th>\n",
       "      <th>Worker_Type</th>\n",
       "      <th>Education_Level</th>\n",
       "      <th>Marital_Status</th>\n",
       "      <th>Occupation_Code</th>\n",
       "      <th>State</th>\n",
       "      <th>Relationship</th>\n",
       "      <th>Hours_Per_Week</th>\n",
       "      <th>Sex</th>\n",
       "      <th>Race</th>\n",
       "      <th>Income_Greater_50k</th>\n",
       "    </tr>\n",
       "  </thead>\n",
       "  <tbody>\n",
       "    <tr>\n",
       "      <th>0</th>\n",
       "      <td>-0.454503</td>\n",
       "      <td>-0.607122</td>\n",
       "      <td>-0.560572</td>\n",
       "      <td>1.317399</td>\n",
       "      <td>2.157138</td>\n",
       "      <td>-0.610681</td>\n",
       "      <td>2.203857</td>\n",
       "      <td>-0.195370</td>\n",
       "      <td>-0.935280</td>\n",
       "      <td>-0.680778</td>\n",
       "      <td>0</td>\n",
       "    </tr>\n",
       "    <tr>\n",
       "      <th>1</th>\n",
       "      <td>0.303462</td>\n",
       "      <td>-0.607122</td>\n",
       "      <td>0.431979</td>\n",
       "      <td>0.222208</td>\n",
       "      <td>0.627915</td>\n",
       "      <td>-0.475040</td>\n",
       "      <td>-0.549273</td>\n",
       "      <td>1.717509</td>\n",
       "      <td>1.069198</td>\n",
       "      <td>-0.680778</td>\n",
       "      <td>0</td>\n",
       "    </tr>\n",
       "    <tr>\n",
       "      <th>2</th>\n",
       "      <td>-1.556996</td>\n",
       "      <td>-0.607122</td>\n",
       "      <td>0.183841</td>\n",
       "      <td>1.317399</td>\n",
       "      <td>0.291564</td>\n",
       "      <td>-0.738343</td>\n",
       "      <td>-0.090418</td>\n",
       "      <td>0.187206</td>\n",
       "      <td>-0.935280</td>\n",
       "      <td>-0.680778</td>\n",
       "      <td>0</td>\n",
       "    </tr>\n",
       "    <tr>\n",
       "      <th>3</th>\n",
       "      <td>-0.799032</td>\n",
       "      <td>-0.607122</td>\n",
       "      <td>0.183841</td>\n",
       "      <td>-0.872984</td>\n",
       "      <td>0.401073</td>\n",
       "      <td>-0.738343</td>\n",
       "      <td>-0.549273</td>\n",
       "      <td>0.569782</td>\n",
       "      <td>1.069198</td>\n",
       "      <td>-0.680778</td>\n",
       "      <td>1</td>\n",
       "    </tr>\n",
       "    <tr>\n",
       "      <th>4</th>\n",
       "      <td>-0.799032</td>\n",
       "      <td>1.531860</td>\n",
       "      <td>0.183841</td>\n",
       "      <td>-0.872984</td>\n",
       "      <td>0.569249</td>\n",
       "      <td>-0.738343</td>\n",
       "      <td>-0.319846</td>\n",
       "      <td>0.187206</td>\n",
       "      <td>-0.935280</td>\n",
       "      <td>-0.680778</td>\n",
       "      <td>0</td>\n",
       "    </tr>\n",
       "  </tbody>\n",
       "</table>\n",
       "</div>"
      ],
      "text/plain": [
       "        Age  Worker_Type  Education_Level  Marital_Status  Occupation_Code  \\\n",
       "0 -0.454503    -0.607122        -0.560572        1.317399         2.157138   \n",
       "1  0.303462    -0.607122         0.431979        0.222208         0.627915   \n",
       "2 -1.556996    -0.607122         0.183841        1.317399         0.291564   \n",
       "3 -0.799032    -0.607122         0.183841       -0.872984         0.401073   \n",
       "4 -0.799032     1.531860         0.183841       -0.872984         0.569249   \n",
       "\n",
       "      State  Relationship  Hours_Per_Week       Sex      Race  \\\n",
       "0 -0.610681      2.203857       -0.195370 -0.935280 -0.680778   \n",
       "1 -0.475040     -0.549273        1.717509  1.069198 -0.680778   \n",
       "2 -0.738343     -0.090418        0.187206 -0.935280 -0.680778   \n",
       "3 -0.738343     -0.549273        0.569782  1.069198 -0.680778   \n",
       "4 -0.738343     -0.319846        0.187206 -0.935280 -0.680778   \n",
       "\n",
       "   Income_Greater_50k  \n",
       "0                   0  \n",
       "1                   0  \n",
       "2                   0  \n",
       "3                   1  \n",
       "4                   0  "
      ]
     },
     "execution_count": 14,
     "metadata": {},
     "output_type": "execute_result"
    }
   ],
   "source": [
    "df = pd.DataFrame(normalization(features, mean, std), columns=feature_cols)\n",
    "df['Income_Greater_50k'] = label\n",
    "df['Income_Greater_50k'] = df['Income_Greater_50k'].astype(int)\n",
    "df.head()"
   ]
  },
  {
   "cell_type": "code",
   "execution_count": 15,
   "metadata": {},
   "outputs": [],
   "source": [
    "SEED = 0\n",
    "BATCH_SIZE = 128 \n",
    "\n",
    "\n",
    "\n",
    "# generate the training data index and validation data index\n",
    "np.random.seed(SEED)\n",
    "random_index = np.random.rand(len(features))  \n",
    "random_index = np.argsort(random_index)\n",
    "train_index = random_index[: int(len(features)*0.8)]  # 80% data for training\n",
    "val_index = random_index[int(len(features)*0.8):]\n",
    "\n",
    "\n",
    "# generate the training data and validation data\n",
    "train_data_df = df.iloc[train_index]\n",
    "val_data_df = df.iloc[val_index]\n"
   ]
  },
  {
   "cell_type": "code",
   "execution_count": 16,
   "metadata": {
    "id": "VpMiiZtdl_tP"
   },
   "outputs": [
    {
     "name": "stderr",
     "output_type": "stream",
     "text": [
      "/opt/anaconda3/envs/myenv/lib/python3.7/site-packages/tensorflow/python/framework/dtypes.py:516: FutureWarning: Passing (type, 1) or '1type' as a synonym of type is deprecated; in a future version of numpy, it will be understood as (type, (1,)) / '(1,)type'.\n",
      "  _np_qint8 = np.dtype([(\"qint8\", np.int8, 1)])\n",
      "/opt/anaconda3/envs/myenv/lib/python3.7/site-packages/tensorflow/python/framework/dtypes.py:517: FutureWarning: Passing (type, 1) or '1type' as a synonym of type is deprecated; in a future version of numpy, it will be understood as (type, (1,)) / '(1,)type'.\n",
      "  _np_quint8 = np.dtype([(\"quint8\", np.uint8, 1)])\n",
      "/opt/anaconda3/envs/myenv/lib/python3.7/site-packages/tensorflow/python/framework/dtypes.py:518: FutureWarning: Passing (type, 1) or '1type' as a synonym of type is deprecated; in a future version of numpy, it will be understood as (type, (1,)) / '(1,)type'.\n",
      "  _np_qint16 = np.dtype([(\"qint16\", np.int16, 1)])\n",
      "/opt/anaconda3/envs/myenv/lib/python3.7/site-packages/tensorflow/python/framework/dtypes.py:519: FutureWarning: Passing (type, 1) or '1type' as a synonym of type is deprecated; in a future version of numpy, it will be understood as (type, (1,)) / '(1,)type'.\n",
      "  _np_quint16 = np.dtype([(\"quint16\", np.uint16, 1)])\n",
      "/opt/anaconda3/envs/myenv/lib/python3.7/site-packages/tensorflow/python/framework/dtypes.py:520: FutureWarning: Passing (type, 1) or '1type' as a synonym of type is deprecated; in a future version of numpy, it will be understood as (type, (1,)) / '(1,)type'.\n",
      "  _np_qint32 = np.dtype([(\"qint32\", np.int32, 1)])\n",
      "/opt/anaconda3/envs/myenv/lib/python3.7/site-packages/tensorflow/python/framework/dtypes.py:525: FutureWarning: Passing (type, 1) or '1type' as a synonym of type is deprecated; in a future version of numpy, it will be understood as (type, (1,)) / '(1,)type'.\n",
      "  np_resource = np.dtype([(\"resource\", np.ubyte, 1)])\n",
      "/opt/anaconda3/envs/myenv/lib/python3.7/site-packages/tensorboard/compat/tensorflow_stub/dtypes.py:541: FutureWarning: Passing (type, 1) or '1type' as a synonym of type is deprecated; in a future version of numpy, it will be understood as (type, (1,)) / '(1,)type'.\n",
      "  _np_qint8 = np.dtype([(\"qint8\", np.int8, 1)])\n",
      "/opt/anaconda3/envs/myenv/lib/python3.7/site-packages/tensorboard/compat/tensorflow_stub/dtypes.py:542: FutureWarning: Passing (type, 1) or '1type' as a synonym of type is deprecated; in a future version of numpy, it will be understood as (type, (1,)) / '(1,)type'.\n",
      "  _np_quint8 = np.dtype([(\"quint8\", np.uint8, 1)])\n",
      "/opt/anaconda3/envs/myenv/lib/python3.7/site-packages/tensorboard/compat/tensorflow_stub/dtypes.py:543: FutureWarning: Passing (type, 1) or '1type' as a synonym of type is deprecated; in a future version of numpy, it will be understood as (type, (1,)) / '(1,)type'.\n",
      "  _np_qint16 = np.dtype([(\"qint16\", np.int16, 1)])\n",
      "/opt/anaconda3/envs/myenv/lib/python3.7/site-packages/tensorboard/compat/tensorflow_stub/dtypes.py:544: FutureWarning: Passing (type, 1) or '1type' as a synonym of type is deprecated; in a future version of numpy, it will be understood as (type, (1,)) / '(1,)type'.\n",
      "  _np_quint16 = np.dtype([(\"quint16\", np.uint16, 1)])\n",
      "/opt/anaconda3/envs/myenv/lib/python3.7/site-packages/tensorboard/compat/tensorflow_stub/dtypes.py:545: FutureWarning: Passing (type, 1) or '1type' as a synonym of type is deprecated; in a future version of numpy, it will be understood as (type, (1,)) / '(1,)type'.\n",
      "  _np_qint32 = np.dtype([(\"qint32\", np.int32, 1)])\n",
      "/opt/anaconda3/envs/myenv/lib/python3.7/site-packages/tensorboard/compat/tensorflow_stub/dtypes.py:550: FutureWarning: Passing (type, 1) or '1type' as a synonym of type is deprecated; in a future version of numpy, it will be understood as (type, (1,)) / '(1,)type'.\n",
      "  np_resource = np.dtype([(\"resource\", np.ubyte, 1)])\n",
      "Using TensorFlow backend.\n"
     ]
    },
    {
     "name": "stdout",
     "output_type": "stream",
     "text": [
      "[INFO] Using Python-MIP package version 1.12.0 [model.py <module>]\n"
     ]
    }
   ],
   "source": [
    "from carla import Data\n",
    "\n",
    "# Custom data set implementations need to inherit from the Data interface\n",
    "class IncomeDataset(Data):\n",
    "\n",
    "    def __init__(self, data, train, val, mean, std):\n",
    "        # The data set can e.g. be loaded in the constructor\n",
    "        self._dataset = data\n",
    "        self._train = train\n",
    "        self._val = val\n",
    "        self._mean = mean\n",
    "        self._std = std\n",
    "\n",
    "    # List of all categorical features\n",
    "    @property\n",
    "    def categorical(self):\n",
    "        return ['Worker_Type','Marital_Status', 'Occupation_Code', 'State', 'Relationship', 'Sex','Race']\n",
    "\n",
    "    # List of all continuous features\n",
    "    @property\n",
    "    def continuous(self):\n",
    "        return ['Age', 'Education_Level', 'Hours_Per_Week']\n",
    "\n",
    "    # List of all immutable features which\n",
    "    # should not be changed by the recourse method\n",
    "    @property\n",
    "    def immutables(self):\n",
    "        return ['Sex','Race', 'State', 'Occupation_Code']\n",
    "\n",
    "    # Feature name of the target column\n",
    "    @property\n",
    "    def target(self):\n",
    "        return 'Income_Greater_50k'\n",
    "    \n",
    "    @property\n",
    "    def df(self):\n",
    "        return self._dataset\n",
    "        pass\n",
    "\n",
    "    @property\n",
    "    def df_train(self):\n",
    "        return self._train\n",
    "\n",
    "    @property\n",
    "    def df_test(self):\n",
    "        return self._val\n",
    "\n",
    "    def transform(self, df):\n",
    "        print('hit')\n",
    "        new_vals = normalization(df.values, self._mean, self._std)\n",
    "        return pd.DataFrame(new_vals, columns=self._dataset.columns)\n",
    "\n",
    "    def inverse_transform(self, df):\n",
    "        new_vals = inverse_normalization(df.values, self._mean, self._std)\n",
    "        return pd.DataFrame(new_vals, columns=self._dataset.columns)\n",
    "    \n",
    "    def normalization(tensor, mean, std):\n",
    "        return ((tensor - mean) / std).float()\n",
    "    \n",
    "    def inverse_normalization(x, mean, std):\n",
    "        return (x*std)+mean\n",
    "    \n",
    "ds = IncomeDataset(df, train_data_df, val_data_df, mean, std)"
   ]
  },
  {
   "cell_type": "code",
   "execution_count": 17,
   "metadata": {},
   "outputs": [],
   "source": [
    "from carla import MLModel\n",
    "\n",
    "# Custom black-box models need to inherit from\n",
    "# the MLModel interface\n",
    "class MyOwnModel(MLModel):\n",
    "    def __init__(self, data, model):\n",
    "        super().__init__(data)\n",
    "        # The constructor can be used to load or build an\n",
    "        # arbitrary black-box-model\n",
    "        self._mymodel = model\n",
    "\n",
    "    # List of the feature order the ml model was trained on\n",
    "    @property\n",
    "    def feature_input_order(self):\n",
    "        return ['Age', 'Worker_Type','Education_Level','Marital_Status','Occupation_Code','State','Relationship','Hours_Per_Week','Sex','Race']\n",
    "\n",
    "    # The ML framework the model was trained on\n",
    "    @property\n",
    "    def backend(self):\n",
    "        return \"pytorch\"\n",
    "\n",
    "    # The black-box model object\n",
    "    @property\n",
    "    def raw_model(self):\n",
    "        return self._mymodel\n",
    "\n",
    "    # The predict function outputs\n",
    "    # the continuous prediction of the model\n",
    "    def predict(self, x):\n",
    "        if isinstance(x, np.ndarray):\n",
    "            x = torch.Tensor(x)\n",
    "        elif isinstance(x, pd.DataFrame):\n",
    "            x = torch.Tensor(x.values)\n",
    "        return self._mymodel(x).max(1).indices\n",
    "\n",
    "    # The predict_proba method outputs\n",
    "    # the prediction as class probabilities\n",
    "    def predict_proba(self, x):\n",
    "        if isinstance(x, np.ndarray):\n",
    "            x = torch.Tensor(x)\n",
    "        elif isinstance(x, pd.DataFrame):\n",
    "            x = torch.Tensor(x.values)\n",
    "        logits = self._mymodel(x)\n",
    "        probs = torch.nn.functional.softmax(logits, dim=1)\n",
    "        return probs.detach().numpy()\n",
    "    \n",
    "nat_model_carla = MyOwnModel(ds, nat_model)\n",
    "adv_model_carla = MyOwnModel(ds, adv_model)"
   ]
  },
  {
   "cell_type": "code",
   "execution_count": 25,
   "metadata": {
    "colab": {
     "base_uri": "https://localhost:8080/",
     "height": 240
    },
    "id": "E9oxOpuDh1DG",
    "outputId": "48222a67-79d6-4431-d876-a24b4c41c75a"
   },
   "outputs": [],
   "source": [
    "#from carla import OnlineCatalog, MLModelCatalog\n",
    "from carla.recourse_methods import GrowingSpheres\n",
    "\n",
    "# # get factuals from the data to generate counterfactual examples\n",
    "factuals = ds.df.iloc[:1000]\n",
    "\n",
    "# # load a recourse model and pass black box model\n",
    "gs_1 = GrowingSpheres(nat_model_carla)\n",
    "\n",
    "# # generate counterfactual examples\n",
    "counterfactuals_1 = gs_1.get_counterfactuals(factuals)\n",
    "\n",
    "# # load a recourse model and pass black box model\n",
    "gs_2 = GrowingSpheres(adv_model_carla)\n",
    "\n",
    "# # generate counterfactual examples\n",
    "counterfactuals_2 = gs_2.get_counterfactuals(factuals)\n"
   ]
  },
  {
   "cell_type": "code",
   "execution_count": 26,
   "metadata": {},
   "outputs": [],
   "source": [
    "transformed_factuals = inverse_normalization(factuals.drop(ds.target, axis=1), mean, std)"
   ]
  },
  {
   "cell_type": "code",
   "execution_count": 27,
   "metadata": {},
   "outputs": [
    {
     "data": {
      "text/html": [
       "<div>\n",
       "<style scoped>\n",
       "    .dataframe tbody tr th:only-of-type {\n",
       "        vertical-align: middle;\n",
       "    }\n",
       "\n",
       "    .dataframe tbody tr th {\n",
       "        vertical-align: top;\n",
       "    }\n",
       "\n",
       "    .dataframe thead th {\n",
       "        text-align: right;\n",
       "    }\n",
       "</style>\n",
       "<table border=\"1\" class=\"dataframe\">\n",
       "  <thead>\n",
       "    <tr style=\"text-align: right;\">\n",
       "      <th></th>\n",
       "      <th>0</th>\n",
       "      <th>1</th>\n",
       "      <th>2</th>\n",
       "      <th>3</th>\n",
       "      <th>4</th>\n",
       "      <th>5</th>\n",
       "      <th>6</th>\n",
       "      <th>7</th>\n",
       "      <th>8</th>\n",
       "      <th>9</th>\n",
       "    </tr>\n",
       "  </thead>\n",
       "  <tbody>\n",
       "    <tr>\n",
       "      <th>Age</th>\n",
       "      <td>36.0</td>\n",
       "      <td>47.0</td>\n",
       "      <td>20.0</td>\n",
       "      <td>31.0</td>\n",
       "      <td>31.0</td>\n",
       "      <td>33.0</td>\n",
       "      <td>44.0</td>\n",
       "      <td>41.0</td>\n",
       "      <td>58.0</td>\n",
       "      <td>35.0</td>\n",
       "    </tr>\n",
       "    <tr>\n",
       "      <th>Worker_Type</th>\n",
       "      <td>1.0</td>\n",
       "      <td>1.0</td>\n",
       "      <td>1.0</td>\n",
       "      <td>1.0</td>\n",
       "      <td>5.0</td>\n",
       "      <td>1.0</td>\n",
       "      <td>1.0</td>\n",
       "      <td>1.0</td>\n",
       "      <td>6.0</td>\n",
       "      <td>2.0</td>\n",
       "    </tr>\n",
       "    <tr>\n",
       "      <th>Education_Level</th>\n",
       "      <td>16.0</td>\n",
       "      <td>20.0</td>\n",
       "      <td>19.0</td>\n",
       "      <td>19.0</td>\n",
       "      <td>19.0</td>\n",
       "      <td>16.0</td>\n",
       "      <td>15.0</td>\n",
       "      <td>9.0</td>\n",
       "      <td>21.0</td>\n",
       "      <td>22.0</td>\n",
       "    </tr>\n",
       "    <tr>\n",
       "      <th>Marital_Status</th>\n",
       "      <td>5.0</td>\n",
       "      <td>3.0</td>\n",
       "      <td>5.0</td>\n",
       "      <td>1.0</td>\n",
       "      <td>1.0</td>\n",
       "      <td>4.0</td>\n",
       "      <td>1.0</td>\n",
       "      <td>4.0</td>\n",
       "      <td>1.0</td>\n",
       "      <td>5.0</td>\n",
       "    </tr>\n",
       "    <tr>\n",
       "      <th>Occupation_Code</th>\n",
       "      <td>9610.0</td>\n",
       "      <td>5700.0</td>\n",
       "      <td>4840.0</td>\n",
       "      <td>5120.0</td>\n",
       "      <td>5550.0</td>\n",
       "      <td>9620.0</td>\n",
       "      <td>9130.0</td>\n",
       "      <td>4110.0</td>\n",
       "      <td>4920.0</td>\n",
       "      <td>420.0</td>\n",
       "    </tr>\n",
       "    <tr>\n",
       "      <th>State</th>\n",
       "      <td>22.0</td>\n",
       "      <td>39.0</td>\n",
       "      <td>6.0</td>\n",
       "      <td>6.0</td>\n",
       "      <td>6.0</td>\n",
       "      <td>6.0</td>\n",
       "      <td>303.0</td>\n",
       "      <td>303.0</td>\n",
       "      <td>29.0</td>\n",
       "      <td>6.0</td>\n",
       "    </tr>\n",
       "    <tr>\n",
       "      <th>Relationship</th>\n",
       "      <td>12.0</td>\n",
       "      <td>0.0</td>\n",
       "      <td>2.0</td>\n",
       "      <td>0.0</td>\n",
       "      <td>1.0</td>\n",
       "      <td>0.0</td>\n",
       "      <td>1.0</td>\n",
       "      <td>10.0</td>\n",
       "      <td>0.0</td>\n",
       "      <td>0.0</td>\n",
       "    </tr>\n",
       "    <tr>\n",
       "      <th>Hours_Per_Week</th>\n",
       "      <td>35.0</td>\n",
       "      <td>60.0</td>\n",
       "      <td>40.0</td>\n",
       "      <td>45.0</td>\n",
       "      <td>40.0</td>\n",
       "      <td>40.0</td>\n",
       "      <td>40.0</td>\n",
       "      <td>40.0</td>\n",
       "      <td>80.0</td>\n",
       "      <td>40.0</td>\n",
       "    </tr>\n",
       "    <tr>\n",
       "      <th>Sex</th>\n",
       "      <td>1.0</td>\n",
       "      <td>2.0</td>\n",
       "      <td>1.0</td>\n",
       "      <td>2.0</td>\n",
       "      <td>1.0</td>\n",
       "      <td>2.0</td>\n",
       "      <td>1.0</td>\n",
       "      <td>2.0</td>\n",
       "      <td>1.0</td>\n",
       "      <td>2.0</td>\n",
       "    </tr>\n",
       "    <tr>\n",
       "      <th>Race</th>\n",
       "      <td>1.0</td>\n",
       "      <td>1.0</td>\n",
       "      <td>1.0</td>\n",
       "      <td>1.0</td>\n",
       "      <td>1.0</td>\n",
       "      <td>8.0</td>\n",
       "      <td>1.0</td>\n",
       "      <td>1.0</td>\n",
       "      <td>1.0</td>\n",
       "      <td>1.0</td>\n",
       "    </tr>\n",
       "  </tbody>\n",
       "</table>\n",
       "</div>"
      ],
      "text/plain": [
       "                      0       1       2       3       4       5       6  \\\n",
       "Age                36.0    47.0    20.0    31.0    31.0    33.0    44.0   \n",
       "Worker_Type         1.0     1.0     1.0     1.0     5.0     1.0     1.0   \n",
       "Education_Level    16.0    20.0    19.0    19.0    19.0    16.0    15.0   \n",
       "Marital_Status      5.0     3.0     5.0     1.0     1.0     4.0     1.0   \n",
       "Occupation_Code  9610.0  5700.0  4840.0  5120.0  5550.0  9620.0  9130.0   \n",
       "State              22.0    39.0     6.0     6.0     6.0     6.0   303.0   \n",
       "Relationship       12.0     0.0     2.0     0.0     1.0     0.0     1.0   \n",
       "Hours_Per_Week     35.0    60.0    40.0    45.0    40.0    40.0    40.0   \n",
       "Sex                 1.0     2.0     1.0     2.0     1.0     2.0     1.0   \n",
       "Race                1.0     1.0     1.0     1.0     1.0     8.0     1.0   \n",
       "\n",
       "                      7       8      9  \n",
       "Age                41.0    58.0   35.0  \n",
       "Worker_Type         1.0     6.0    2.0  \n",
       "Education_Level     9.0    21.0   22.0  \n",
       "Marital_Status      4.0     1.0    5.0  \n",
       "Occupation_Code  4110.0  4920.0  420.0  \n",
       "State             303.0    29.0    6.0  \n",
       "Relationship       10.0     0.0    0.0  \n",
       "Hours_Per_Week     40.0    80.0   40.0  \n",
       "Sex                 2.0     1.0    2.0  \n",
       "Race                1.0     1.0    1.0  "
      ]
     },
     "execution_count": 27,
     "metadata": {},
     "output_type": "execute_result"
    }
   ],
   "source": [
    "transformed_factuals.head(n=10).transpose()"
   ]
  },
  {
   "cell_type": "code",
   "execution_count": 28,
   "metadata": {},
   "outputs": [],
   "source": [
    "transformed_counterfactuals_1 = inverse_normalization(counterfactuals_1.drop(ds.target, axis=1), mean, std)"
   ]
  },
  {
   "cell_type": "code",
   "execution_count": 29,
   "metadata": {},
   "outputs": [],
   "source": [
    "transformed_counterfactuals_2 = inverse_normalization(counterfactuals_2.drop(ds.target, axis=1), mean, std)"
   ]
  },
  {
   "cell_type": "code",
   "execution_count": 30,
   "metadata": {},
   "outputs": [
    {
     "data": {
      "text/html": [
       "<div>\n",
       "<style scoped>\n",
       "    .dataframe tbody tr th:only-of-type {\n",
       "        vertical-align: middle;\n",
       "    }\n",
       "\n",
       "    .dataframe tbody tr th {\n",
       "        vertical-align: top;\n",
       "    }\n",
       "\n",
       "    .dataframe thead th {\n",
       "        text-align: right;\n",
       "    }\n",
       "</style>\n",
       "<table border=\"1\" class=\"dataframe\">\n",
       "  <thead>\n",
       "    <tr style=\"text-align: right;\">\n",
       "      <th></th>\n",
       "      <th>0</th>\n",
       "      <th>1</th>\n",
       "      <th>2</th>\n",
       "      <th>3</th>\n",
       "      <th>4</th>\n",
       "      <th>5</th>\n",
       "      <th>6</th>\n",
       "      <th>7</th>\n",
       "      <th>8</th>\n",
       "      <th>9</th>\n",
       "    </tr>\n",
       "  </thead>\n",
       "  <tbody>\n",
       "    <tr>\n",
       "      <th>Age</th>\n",
       "      <td>43.223984</td>\n",
       "      <td>NaN</td>\n",
       "      <td>33.980849</td>\n",
       "      <td>37.179843</td>\n",
       "      <td>36.335748</td>\n",
       "      <td>35.670484</td>\n",
       "      <td>43.036945</td>\n",
       "      <td>42.674394</td>\n",
       "      <td>NaN</td>\n",
       "      <td>NaN</td>\n",
       "    </tr>\n",
       "    <tr>\n",
       "      <th>Worker_Type</th>\n",
       "      <td>2.135348</td>\n",
       "      <td>NaN</td>\n",
       "      <td>2.135348</td>\n",
       "      <td>2.135348</td>\n",
       "      <td>2.135348</td>\n",
       "      <td>2.135348</td>\n",
       "      <td>2.135348</td>\n",
       "      <td>2.135348</td>\n",
       "      <td>NaN</td>\n",
       "      <td>NaN</td>\n",
       "    </tr>\n",
       "    <tr>\n",
       "      <th>Education_Level</th>\n",
       "      <td>21.190431</td>\n",
       "      <td>NaN</td>\n",
       "      <td>20.896654</td>\n",
       "      <td>21.439011</td>\n",
       "      <td>19.658846</td>\n",
       "      <td>23.762511</td>\n",
       "      <td>21.343389</td>\n",
       "      <td>21.287016</td>\n",
       "      <td>NaN</td>\n",
       "      <td>NaN</td>\n",
       "    </tr>\n",
       "    <tr>\n",
       "      <th>Marital_Status</th>\n",
       "      <td>2.594212</td>\n",
       "      <td>NaN</td>\n",
       "      <td>2.594212</td>\n",
       "      <td>2.594212</td>\n",
       "      <td>2.594212</td>\n",
       "      <td>4.420377</td>\n",
       "      <td>2.594212</td>\n",
       "      <td>4.420377</td>\n",
       "      <td>NaN</td>\n",
       "      <td>NaN</td>\n",
       "    </tr>\n",
       "    <tr>\n",
       "      <th>Occupation_Code</th>\n",
       "      <td>9610.000000</td>\n",
       "      <td>NaN</td>\n",
       "      <td>4840.000000</td>\n",
       "      <td>5120.000000</td>\n",
       "      <td>5550.000000</td>\n",
       "      <td>9620.000000</td>\n",
       "      <td>9130.000000</td>\n",
       "      <td>4110.000000</td>\n",
       "      <td>NaN</td>\n",
       "      <td>NaN</td>\n",
       "    </tr>\n",
       "    <tr>\n",
       "      <th>State</th>\n",
       "      <td>22.000000</td>\n",
       "      <td>NaN</td>\n",
       "      <td>6.000000</td>\n",
       "      <td>6.000000</td>\n",
       "      <td>6.000000</td>\n",
       "      <td>6.000000</td>\n",
       "      <td>303.000000</td>\n",
       "      <td>303.000000</td>\n",
       "      <td>NaN</td>\n",
       "      <td>NaN</td>\n",
       "    </tr>\n",
       "    <tr>\n",
       "      <th>Relationship</th>\n",
       "      <td>2.394105</td>\n",
       "      <td>NaN</td>\n",
       "      <td>2.394105</td>\n",
       "      <td>2.394105</td>\n",
       "      <td>2.394105</td>\n",
       "      <td>2.394105</td>\n",
       "      <td>2.394105</td>\n",
       "      <td>6.752780</td>\n",
       "      <td>NaN</td>\n",
       "      <td>NaN</td>\n",
       "    </tr>\n",
       "    <tr>\n",
       "      <th>Hours_Per_Week</th>\n",
       "      <td>48.742134</td>\n",
       "      <td>NaN</td>\n",
       "      <td>43.719818</td>\n",
       "      <td>46.549600</td>\n",
       "      <td>44.631837</td>\n",
       "      <td>52.680831</td>\n",
       "      <td>48.046049</td>\n",
       "      <td>51.188857</td>\n",
       "      <td>NaN</td>\n",
       "      <td>NaN</td>\n",
       "    </tr>\n",
       "    <tr>\n",
       "      <th>Sex</th>\n",
       "      <td>1.000000</td>\n",
       "      <td>NaN</td>\n",
       "      <td>1.000000</td>\n",
       "      <td>2.000000</td>\n",
       "      <td>1.000000</td>\n",
       "      <td>2.000000</td>\n",
       "      <td>1.000000</td>\n",
       "      <td>2.000000</td>\n",
       "      <td>NaN</td>\n",
       "      <td>NaN</td>\n",
       "    </tr>\n",
       "    <tr>\n",
       "      <th>Race</th>\n",
       "      <td>1.000000</td>\n",
       "      <td>NaN</td>\n",
       "      <td>1.000000</td>\n",
       "      <td>1.000000</td>\n",
       "      <td>1.000000</td>\n",
       "      <td>8.000000</td>\n",
       "      <td>1.000000</td>\n",
       "      <td>1.000000</td>\n",
       "      <td>NaN</td>\n",
       "      <td>NaN</td>\n",
       "    </tr>\n",
       "  </tbody>\n",
       "</table>\n",
       "</div>"
      ],
      "text/plain": [
       "                           0   1            2            3            4  \\\n",
       "Age                43.223984 NaN    33.980849    37.179843    36.335748   \n",
       "Worker_Type         2.135348 NaN     2.135348     2.135348     2.135348   \n",
       "Education_Level    21.190431 NaN    20.896654    21.439011    19.658846   \n",
       "Marital_Status      2.594212 NaN     2.594212     2.594212     2.594212   \n",
       "Occupation_Code  9610.000000 NaN  4840.000000  5120.000000  5550.000000   \n",
       "State              22.000000 NaN     6.000000     6.000000     6.000000   \n",
       "Relationship        2.394105 NaN     2.394105     2.394105     2.394105   \n",
       "Hours_Per_Week     48.742134 NaN    43.719818    46.549600    44.631837   \n",
       "Sex                 1.000000 NaN     1.000000     2.000000     1.000000   \n",
       "Race                1.000000 NaN     1.000000     1.000000     1.000000   \n",
       "\n",
       "                           5            6            7   8   9  \n",
       "Age                35.670484    43.036945    42.674394 NaN NaN  \n",
       "Worker_Type         2.135348     2.135348     2.135348 NaN NaN  \n",
       "Education_Level    23.762511    21.343389    21.287016 NaN NaN  \n",
       "Marital_Status      4.420377     2.594212     4.420377 NaN NaN  \n",
       "Occupation_Code  9620.000000  9130.000000  4110.000000 NaN NaN  \n",
       "State               6.000000   303.000000   303.000000 NaN NaN  \n",
       "Relationship        2.394105     2.394105     6.752780 NaN NaN  \n",
       "Hours_Per_Week     52.680831    48.046049    51.188857 NaN NaN  \n",
       "Sex                 2.000000     1.000000     2.000000 NaN NaN  \n",
       "Race                8.000000     1.000000     1.000000 NaN NaN  "
      ]
     },
     "execution_count": 30,
     "metadata": {},
     "output_type": "execute_result"
    }
   ],
   "source": [
    "transformed_counterfactuals_1.head(n=10).transpose()"
   ]
  },
  {
   "cell_type": "code",
   "execution_count": 31,
   "metadata": {},
   "outputs": [
    {
     "data": {
      "text/html": [
       "<div>\n",
       "<style scoped>\n",
       "    .dataframe tbody tr th:only-of-type {\n",
       "        vertical-align: middle;\n",
       "    }\n",
       "\n",
       "    .dataframe tbody tr th {\n",
       "        vertical-align: top;\n",
       "    }\n",
       "\n",
       "    .dataframe thead th {\n",
       "        text-align: right;\n",
       "    }\n",
       "</style>\n",
       "<table border=\"1\" class=\"dataframe\">\n",
       "  <thead>\n",
       "    <tr style=\"text-align: right;\">\n",
       "      <th></th>\n",
       "      <th>0</th>\n",
       "      <th>1</th>\n",
       "      <th>2</th>\n",
       "      <th>3</th>\n",
       "      <th>4</th>\n",
       "      <th>5</th>\n",
       "      <th>6</th>\n",
       "      <th>7</th>\n",
       "      <th>8</th>\n",
       "      <th>9</th>\n",
       "    </tr>\n",
       "  </thead>\n",
       "  <tbody>\n",
       "    <tr>\n",
       "      <th>Age</th>\n",
       "      <td>41.976163</td>\n",
       "      <td>NaN</td>\n",
       "      <td>31.905148</td>\n",
       "      <td>36.534932</td>\n",
       "      <td>36.612304</td>\n",
       "      <td>48.088057</td>\n",
       "      <td>54.153394</td>\n",
       "      <td>39.380154</td>\n",
       "      <td>NaN</td>\n",
       "      <td>NaN</td>\n",
       "    </tr>\n",
       "    <tr>\n",
       "      <th>Worker_Type</th>\n",
       "      <td>2.135348</td>\n",
       "      <td>NaN</td>\n",
       "      <td>2.135348</td>\n",
       "      <td>2.135348</td>\n",
       "      <td>2.135348</td>\n",
       "      <td>2.135348</td>\n",
       "      <td>2.135348</td>\n",
       "      <td>2.135348</td>\n",
       "      <td>NaN</td>\n",
       "      <td>NaN</td>\n",
       "    </tr>\n",
       "    <tr>\n",
       "      <th>Education_Level</th>\n",
       "      <td>20.781622</td>\n",
       "      <td>NaN</td>\n",
       "      <td>22.543885</td>\n",
       "      <td>21.802005</td>\n",
       "      <td>20.438046</td>\n",
       "      <td>22.638093</td>\n",
       "      <td>21.712661</td>\n",
       "      <td>21.309385</td>\n",
       "      <td>NaN</td>\n",
       "      <td>NaN</td>\n",
       "    </tr>\n",
       "    <tr>\n",
       "      <th>Marital_Status</th>\n",
       "      <td>2.594212</td>\n",
       "      <td>NaN</td>\n",
       "      <td>4.420377</td>\n",
       "      <td>2.594212</td>\n",
       "      <td>2.594212</td>\n",
       "      <td>2.594212</td>\n",
       "      <td>2.594212</td>\n",
       "      <td>4.420377</td>\n",
       "      <td>NaN</td>\n",
       "      <td>NaN</td>\n",
       "    </tr>\n",
       "    <tr>\n",
       "      <th>Occupation_Code</th>\n",
       "      <td>9610.000000</td>\n",
       "      <td>NaN</td>\n",
       "      <td>4840.000000</td>\n",
       "      <td>5120.000000</td>\n",
       "      <td>5550.000000</td>\n",
       "      <td>9620.000000</td>\n",
       "      <td>9130.000000</td>\n",
       "      <td>4110.000000</td>\n",
       "      <td>NaN</td>\n",
       "      <td>NaN</td>\n",
       "    </tr>\n",
       "    <tr>\n",
       "      <th>State</th>\n",
       "      <td>22.000000</td>\n",
       "      <td>NaN</td>\n",
       "      <td>6.000000</td>\n",
       "      <td>6.000000</td>\n",
       "      <td>6.000000</td>\n",
       "      <td>6.000000</td>\n",
       "      <td>303.000000</td>\n",
       "      <td>303.000000</td>\n",
       "      <td>NaN</td>\n",
       "      <td>NaN</td>\n",
       "    </tr>\n",
       "    <tr>\n",
       "      <th>Relationship</th>\n",
       "      <td>2.394105</td>\n",
       "      <td>NaN</td>\n",
       "      <td>2.394105</td>\n",
       "      <td>2.394105</td>\n",
       "      <td>2.394105</td>\n",
       "      <td>2.394105</td>\n",
       "      <td>2.394105</td>\n",
       "      <td>2.394105</td>\n",
       "      <td>NaN</td>\n",
       "      <td>NaN</td>\n",
       "    </tr>\n",
       "    <tr>\n",
       "      <th>Hours_Per_Week</th>\n",
       "      <td>44.234827</td>\n",
       "      <td>NaN</td>\n",
       "      <td>44.360485</td>\n",
       "      <td>49.382288</td>\n",
       "      <td>45.555503</td>\n",
       "      <td>53.222255</td>\n",
       "      <td>51.006740</td>\n",
       "      <td>48.562601</td>\n",
       "      <td>NaN</td>\n",
       "      <td>NaN</td>\n",
       "    </tr>\n",
       "    <tr>\n",
       "      <th>Sex</th>\n",
       "      <td>1.000000</td>\n",
       "      <td>NaN</td>\n",
       "      <td>1.000000</td>\n",
       "      <td>2.000000</td>\n",
       "      <td>1.000000</td>\n",
       "      <td>2.000000</td>\n",
       "      <td>1.000000</td>\n",
       "      <td>2.000000</td>\n",
       "      <td>NaN</td>\n",
       "      <td>NaN</td>\n",
       "    </tr>\n",
       "    <tr>\n",
       "      <th>Race</th>\n",
       "      <td>1.000000</td>\n",
       "      <td>NaN</td>\n",
       "      <td>1.000000</td>\n",
       "      <td>1.000000</td>\n",
       "      <td>1.000000</td>\n",
       "      <td>8.000000</td>\n",
       "      <td>1.000000</td>\n",
       "      <td>1.000000</td>\n",
       "      <td>NaN</td>\n",
       "      <td>NaN</td>\n",
       "    </tr>\n",
       "  </tbody>\n",
       "</table>\n",
       "</div>"
      ],
      "text/plain": [
       "                           0   1            2            3            4  \\\n",
       "Age                41.976163 NaN    31.905148    36.534932    36.612304   \n",
       "Worker_Type         2.135348 NaN     2.135348     2.135348     2.135348   \n",
       "Education_Level    20.781622 NaN    22.543885    21.802005    20.438046   \n",
       "Marital_Status      2.594212 NaN     4.420377     2.594212     2.594212   \n",
       "Occupation_Code  9610.000000 NaN  4840.000000  5120.000000  5550.000000   \n",
       "State              22.000000 NaN     6.000000     6.000000     6.000000   \n",
       "Relationship        2.394105 NaN     2.394105     2.394105     2.394105   \n",
       "Hours_Per_Week     44.234827 NaN    44.360485    49.382288    45.555503   \n",
       "Sex                 1.000000 NaN     1.000000     2.000000     1.000000   \n",
       "Race                1.000000 NaN     1.000000     1.000000     1.000000   \n",
       "\n",
       "                           5            6            7   8   9  \n",
       "Age                48.088057    54.153394    39.380154 NaN NaN  \n",
       "Worker_Type         2.135348     2.135348     2.135348 NaN NaN  \n",
       "Education_Level    22.638093    21.712661    21.309385 NaN NaN  \n",
       "Marital_Status      2.594212     2.594212     4.420377 NaN NaN  \n",
       "Occupation_Code  9620.000000  9130.000000  4110.000000 NaN NaN  \n",
       "State               6.000000   303.000000   303.000000 NaN NaN  \n",
       "Relationship        2.394105     2.394105     2.394105 NaN NaN  \n",
       "Hours_Per_Week     53.222255    51.006740    48.562601 NaN NaN  \n",
       "Sex                 2.000000     1.000000     2.000000 NaN NaN  \n",
       "Race                8.000000     1.000000     1.000000 NaN NaN  "
      ]
     },
     "execution_count": 31,
     "metadata": {},
     "output_type": "execute_result"
    }
   ],
   "source": [
    "transformed_counterfactuals_2.head(n=10).transpose()"
   ]
  },
  {
   "cell_type": "code",
   "execution_count": 32,
   "metadata": {},
   "outputs": [
    {
     "data": {
      "text/plain": [
       "311"
      ]
     },
     "execution_count": 32,
     "metadata": {},
     "output_type": "execute_result"
    }
   ],
   "source": [
    "sum(transformed_counterfactuals_1['Age'].isnull())"
   ]
  },
  {
   "cell_type": "code",
   "execution_count": 33,
   "metadata": {},
   "outputs": [
    {
     "data": {
      "text/plain": [
       "304"
      ]
     },
     "execution_count": 33,
     "metadata": {},
     "output_type": "execute_result"
    }
   ],
   "source": [
    "sum(transformed_counterfactuals_2['Age'].isnull())"
   ]
  },
  {
   "cell_type": "code",
   "execution_count": 61,
   "metadata": {},
   "outputs": [],
   "source": [
    "import numpy as np\n",
    "import pandas as pd\n",
    "from sklearn.neighbors import NearestNeighbors\n",
    "from typing import List\n",
    "\n",
    "from carla.models.api import MLModel\n",
    "from carla.recourse_methods.api import RecourseMethod\n",
    "from carla.evaluation.distances import get_distances\n",
    "\n",
    "\n",
    "def yNN_manifold(\n",
    "    factuals: Data,\n",
    "    counterfactuals: pd.DataFrame,\n",
    "    recourse_method: RecourseMethod,\n",
    "    mlmodel: MLModel,\n",
    "    y: int = 5,\n",
    "    dist_type: int = 1,\n",
    ")-> List[float]:\n",
    "    \"\"\"\n",
    "    TODO\n",
    "    Parameters\n",
    "    ----------\n",
    "    counterfactuals: Generated counterfactual examples\n",
    "    recourse_method: Method we want to benchmark\n",
    "    y: Number of\n",
    "\n",
    "    Returns\n",
    "    -------\n",
    "    List[List[float]]\n",
    "    \"\"\"\n",
    "    distances = []\n",
    "    N = counterfactuals.shape[0]\n",
    "\n",
    "    positive_class = factuals.df.loc[factuals.df.index[factuals.df[factuals.target]==1]]\n",
    "    \n",
    "    nbrs = NearestNeighbors(n_neighbors=y).fit(positive_class.values)\n",
    "\n",
    "    for i, row in counterfactuals.iterrows():\n",
    "        if pd.isna(row).any():\n",
    "            distances.append(np.nan)\n",
    "            continue\n",
    "        knn = nbrs.kneighbors(row.values.reshape((1, -1)), y, return_distance=False)[0]\n",
    "        distances_local = 0\n",
    "        \n",
    "        for idx in knn:\n",
    "            neighbour = positive_class.iloc[idx]\n",
    "            neighbour = neighbour.drop(mlmodel.data.target)\n",
    "            neighbour = neighbour.values.reshape((1, -1))\n",
    "            row_copy = row.drop(mlmodel.data.target)\n",
    "            row_copy = row_copy.values.reshape((1, -1))\n",
    "            \n",
    "            distances_local += get_distances(row_copy, neighbour)[0][dist_type]\n",
    "        distances.append((1 / y) * distances_local)\n",
    "    return distances\n",
    "\n",
    "def sphere_manifold(\n",
    "    counterfactuals: pd.DataFrame,\n",
    "    recourse_method: RecourseMethod,\n",
    "    mlmodel: MLModel,\n",
    "    sphere_factor: float = 0.2,\n",
    "    dist_type: int = 1,\n",
    ")-> List[List[float]]:\n",
    "    \"\"\"\n",
    "    TODO\n",
    "    Parameters\n",
    "    ----------\n",
    "    counterfactuals: Generated counterfactual examples\n",
    "    recourse_method: Method we want to benchmark\n",
    "    y: Number of\n",
    "\n",
    "    Returns\n",
    "    -------\n",
    "    List[List[float]]\n",
    "    \"\"\"\n",
    "    distances = []\n",
    "    N = counterfactuals.shape[0]\n",
    "\n",
    "    df_enc_norm_data = recourse_method.encode_normalize_order_factuals(\n",
    "        mlmodel.data.raw, with_target=True\n",
    "    )\n",
    "    positive_class = df_enc_norm_data.loc[df_enc_norm_data.index[df_enc_norm_data[mlmodel.data.target]==1]]\n",
    "    for i, row in counterfactuals.iterrows():\n",
    "        if pd.isna(row).any():\n",
    "            distances.append(np.nan)\n",
    "            continue\n",
    "        all_deltas = np.asarray(df_enc_norm_data.drop(mlmodel.data.target, axis=1) - row.drop(mlmodel.data.target))\n",
    "        all_dists = np.sum(np.square(np.abs(all_deltas)), axis=1, dtype=np.float)\n",
    "        all_euc_dist = np.sqrt(all_dists)\n",
    "        radius = np.mean(all_euc_dist)*sphere_factor\n",
    "\n",
    "        pos_deltas = np.asarray(positive_class.drop(mlmodel.data.target, axis=1) - row.drop(mlmodel.data.target))\n",
    "        pos_dists = np.sum(np.square(np.abs(pos_deltas)), axis=1, dtype=np.float)\n",
    "        pos_euc_dist = np.sqrt(pos_dists)\n",
    "        relevant_neighbors = np.where(pos_euc_dist < radius)[0]\n",
    "        #print(relevant_neighbors)\n",
    "        if len(relevant_neighbors) == 0:\n",
    "            distances.append(np.nan)\n",
    "        else:\n",
    "            relevant_distances = pos_euc_dist[relevant_neighbors]\n",
    "            distances.append(np.mean(relevant_distances))\n",
    "        \n",
    "    return distances"
   ]
  },
  {
   "cell_type": "code",
   "execution_count": 62,
   "metadata": {},
   "outputs": [],
   "source": [
    "ynn_1 = yNN_manifold(ds, counterfactuals_1, gs_1, nat_model_carla)\n",
    "\n"
   ]
  },
  {
   "cell_type": "code",
   "execution_count": 63,
   "metadata": {},
   "outputs": [],
   "source": [
    "ynn_2 = yNN_manifold(ds, counterfactuals_2, gs_2, adv_model_carla)\n",
    "\n"
   ]
  },
  {
   "cell_type": "code",
   "execution_count": 77,
   "metadata": {},
   "outputs": [],
   "source": [
    "ynn_1 = [val for val in ynn_1 if not pd.isnull(val)]\n",
    "ynn_2 = [val for val in ynn_2 if not pd.isnull(val)]"
   ]
  },
  {
   "cell_type": "code",
   "execution_count": 80,
   "metadata": {},
   "outputs": [
    {
     "data": {
      "image/png": "[encoded data removed]",
      "text/plain": [
       "<Figure size 432x288 with 1 Axes>"
      ]
     },
     "metadata": {
      "needs_background": "light"
     },
     "output_type": "display_data"
    }
   ],
   "source": [
    "import matplotlib.pyplot as plt\n",
    "\n",
    "plt.figure()\n",
    "plt.boxplot([ynn_1, ynn_2])\n",
    "plt.title('')\n",
    "plt.show()"
   ]
  },
  {
   "cell_type": "code",
   "execution_count": 90,
   "metadata": {},
   "outputs": [],
   "source": [
    "def dist(\n",
    "    factuals: Data,\n",
    "    counterfactuals: pd.DataFrame,\n",
    "    recourse_method: RecourseMethod,\n",
    "    mlmodel: MLModel,\n",
    "    y: int = 5,\n",
    "    dist_type: int = 2,\n",
    ")-> List[float]:\n",
    "    \"\"\"\n",
    "    TODO\n",
    "    Parameters\n",
    "    ----------\n",
    "    counterfactuals: Generated counterfactual examples\n",
    "    recourse_method: Method we want to benchmark\n",
    "    y: Number of\n",
    "\n",
    "    Returns\n",
    "    -------\n",
    "    List[List[float]]\n",
    "    \"\"\"\n",
    "    distances = []\n",
    "    N = counterfactuals.shape[0]\n",
    "\n",
    "    for i, row in counterfactuals.iterrows():\n",
    "        if pd.isna(row).any():\n",
    "            distances.append(np.nan)\n",
    "            continue\n",
    "            \n",
    "        original = factuals.df.drop(mlmodel.data.target, axis=1).iloc[i].values.reshape((1,-1))\n",
    "        \n",
    "        row_copy = row.drop(mlmodel.data.target)\n",
    "        row_copy = row_copy.values.reshape((1, -1))\n",
    "        distances.append(get_distances(row_copy, original)[0][dist_type])\n",
    "    return distances\n",
    "\n",
    "dist_1 = dist(ds, counterfactuals_1, gs_1, nat_model_carla)\n",
    "dist_2 = dist(ds, counterfactuals_2, gs_2, adv_model_carla)\n",
    "\n"
   ]
  },
  {
   "cell_type": "code",
   "execution_count": 91,
   "metadata": {},
   "outputs": [],
   "source": [
    "dist_1 = [val for val in dist_1 if not pd.isnull(val)]\n",
    "dist_2 = [val for val in dist_2 if not pd.isnull(val)]\n"
   ]
  },
  {
   "cell_type": "code",
   "execution_count": 92,
   "metadata": {},
   "outputs": [
    {
     "data": {
      "image/png": "[encoded data removed]",
      "text/plain": [
       "<Figure size 432x288 with 1 Axes>"
      ]
     },
     "metadata": {
      "needs_background": "light"
     },
     "output_type": "display_data"
    }
   ],
   "source": [
    "import matplotlib.pyplot as plt\n",
    "\n",
    "plt.figure()\n",
    "plt.boxplot([dist_1, dist_2])\n",
    "plt.title('')\n",
    "plt.show()"
   ]
  },
  {
   "cell_type": "code",
   "execution_count": 70,
   "metadata": {},
   "outputs": [
    {
     "data": {
      "image/png": "[encoded data removed]",
      "text/plain": [
       "<Figure size 432x288 with 1 Axes>"
      ]
     },
     "metadata": {
      "needs_background": "light"
     },
     "output_type": "display_data"
    }
   ],
   "source": [
    "import matplotlib.pyplot as plt\n",
    "\n",
    "plt.figure()\n",
    "plt.hist(ynn_2, bins=50)\n",
    "plt.show()"
   ]
  },
  {
   "cell_type": "code",
   "execution_count": 65,
   "metadata": {},
   "outputs": [
    {
     "data": {
      "text/plain": [
       "nan"
      ]
     },
     "execution_count": 65,
     "metadata": {},
     "output_type": "execute_result"
    }
   ],
   "source": [
    "np.mean(ynn_1)"
   ]
  },
  {
   "cell_type": "code",
   "execution_count": 47,
   "metadata": {},
   "outputs": [
    {
     "data": {
      "text/plain": [
       "0    12.0\n",
       "1     0.0\n",
       "2     2.0\n",
       "3     0.0\n",
       "4     1.0\n",
       "5     0.0\n",
       "6     1.0\n",
       "7    10.0\n",
       "8     0.0\n",
       "9     0.0\n",
       "Name: Relationship, dtype: float64"
      ]
     },
     "execution_count": 47,
     "metadata": {},
     "output_type": "execute_result"
    }
   ],
   "source": [
    "factuals['Relationship']"
   ]
  },
  {
   "cell_type": "code",
   "execution_count": 46,
   "metadata": {},
   "outputs": [
    {
     "data": {
      "text/plain": [
       "Age                     -0.006584\n",
       "Worker_Type              0.000000\n",
       "Education_Level          0.000095\n",
       "Marital_Status           4.000000\n",
       "Occupation_Code       9609.000000\n",
       "State                    0.000000\n",
       "Relationship            11.000000\n",
       "Hours_Per_Week           0.001795\n",
       "Sex                      0.000000\n",
       "Race                     0.000000\n",
       "Income_Greater_50k      -1.000000\n",
       "Name: 0, dtype: float64"
      ]
     },
     "execution_count": 46,
     "metadata": {},
     "output_type": "execute_result"
    }
   ],
   "source": [
    "(factuals-counterfactuals).iloc[0, :]"
   ]
  },
  {
   "cell_type": "code",
   "execution_count": null,
   "metadata": {
    "id": "o2M1TMGLa5El"
   },
   "outputs": [],
   "source": [
    "factuals = \n",
    "gs = GrowingSpheres(our_net)\n",
    "\n",
    "# generate counterfactual examples\n",
    "counterfactuals = gs.get_counterfactuals(factuals)"
   ]
  },
  {
   "cell_type": "code",
   "execution_count": null,
   "metadata": {
    "id": "dcw4q9H5a5IH"
   },
   "outputs": [],
   "source": []
  },
  {
   "cell_type": "code",
   "execution_count": null,
   "metadata": {
    "id": "QvOQjKATa5LF"
   },
   "outputs": [],
   "source": []
  }
 ],
 "metadata": {
  "colab": {
   "collapsed_sections": [],
   "name": "Adversarial-Learning-on-Adult.ipynb",
   "provenance": []
  },
  "kernelspec": {
   "display_name": "myenv",
   "language": "python",
   "name": "myenv"
  },
  "language_info": {
   "codemirror_mode": {
    "name": "ipython",
    "version": 3
   },
   "file_extension": ".py",
   "mimetype": "text/x-python",
   "name": "python",
   "nbconvert_exporter": "python",
   "pygments_lexer": "ipython3",
   "version": "3.7.13"
  }
 },
 "nbformat": 4,
 "nbformat_minor": 1
}
