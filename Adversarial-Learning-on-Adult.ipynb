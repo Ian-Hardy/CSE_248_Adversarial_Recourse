{
 "cells": [
  {
   "cell_type": "markdown",
   "metadata": {
    "pycharm": {
     "name": "#%% md\n"
    }
   },
   "source": [
    "## Load the Adult Data"
   ]
  },
  {
   "cell_type": "code",
   "execution_count": 3,
   "metadata": {
    "pycharm": {
     "is_executing": true,
     "name": "#%%\n"
    }
   },
   "outputs": [
    {
     "name": "stdout",
     "output_type": "stream",
     "text": [
      "Defaulting to user installation because normal site-packages is not writeable\n",
      "Requirement already satisfied: torch in /home/lxh/.local/lib/python3.8/site-packages (1.10.0+cu113)\n",
      "Requirement already satisfied: folktables in /home/lxh/.local/lib/python3.8/site-packages (0.0.11)\n",
      "Requirement already satisfied: typing-extensions in /usr/local/anaconda3/lib/python3.8/site-packages (from torch) (3.7.4.3)\n",
      "Requirement already satisfied: sklearn in /home/lxh/.local/lib/python3.8/site-packages (from folktables) (0.0)\n",
      "Requirement already satisfied: pandas in /usr/local/anaconda3/lib/python3.8/site-packages (from folktables) (1.1.3)\n",
      "Requirement already satisfied: numpy in /usr/local/anaconda3/lib/python3.8/site-packages (from folktables) (1.19.2)\n",
      "Requirement already satisfied: requests in /usr/local/anaconda3/lib/python3.8/site-packages (from folktables) (2.24.0)\n",
      "Requirement already satisfied: scikit-learn in /usr/local/anaconda3/lib/python3.8/site-packages (from sklearn->folktables) (0.23.2)\n",
      "Requirement already satisfied: pytz>=2017.2 in /usr/local/anaconda3/lib/python3.8/site-packages (from pandas->folktables) (2020.1)\n",
      "Requirement already satisfied: python-dateutil>=2.7.3 in /usr/local/anaconda3/lib/python3.8/site-packages (from pandas->folktables) (2.8.1)\n",
      "Requirement already satisfied: certifi>=2017.4.17 in /usr/local/anaconda3/lib/python3.8/site-packages (from requests->folktables) (2020.6.20)\n",
      "Requirement already satisfied: chardet<4,>=3.0.2 in /usr/local/anaconda3/lib/python3.8/site-packages (from requests->folktables) (3.0.4)\n",
      "Requirement already satisfied: idna<3,>=2.5 in /usr/local/anaconda3/lib/python3.8/site-packages (from requests->folktables) (2.10)\n",
      "Requirement already satisfied: urllib3!=1.25.0,!=1.25.1,<1.26,>=1.21.1 in /usr/local/anaconda3/lib/python3.8/site-packages (from requests->folktables) (1.25.11)\n",
      "Requirement already satisfied: scipy>=0.19.1 in /usr/local/anaconda3/lib/python3.8/site-packages (from scikit-learn->sklearn->folktables) (1.5.2)\n",
      "Requirement already satisfied: joblib>=0.11 in /usr/local/anaconda3/lib/python3.8/site-packages (from scikit-learn->sklearn->folktables) (0.17.0)\n",
      "Requirement already satisfied: threadpoolctl>=2.0.0 in /usr/local/anaconda3/lib/python3.8/site-packages (from scikit-learn->sklearn->folktables) (2.1.0)\n",
      "Requirement already satisfied: six>=1.5 in /usr/local/anaconda3/lib/python3.8/site-packages (from python-dateutil>=2.7.3->pandas->folktables) (1.15.0)\n"
     ]
    }
   ],
   "source": [
    "!pip install torch folktables"
   ]
  },
  {
   "cell_type": "code",
   "execution_count": 17,
   "metadata": {
    "pycharm": {
     "name": "#%%\n"
    }
   },
   "outputs": [],
   "source": [
    "import numpy as np\n",
    "import torch\n",
    "from torch.utils.data import TensorDataset, DataLoader\n",
    "from folktables import ACSDataSource, ACSEmployment, ACSIncome"
   ]
  },
  {
   "cell_type": "markdown",
   "metadata": {
    "pycharm": {
     "name": "#%% md\n"
    }
   },
   "source": [
    "Load the Adult dataset as numpy array."
   ]
  },
  {
   "cell_type": "code",
   "execution_count": 54,
   "metadata": {
    "pycharm": {
     "name": "#%%\n"
    }
   },
   "outputs": [],
   "source": [
    "data_source = ACSDataSource(survey_year='2014', horizon='1-Year', survey='person')\n",
    "ca_data = data_source.get_data(states=[\"CA\"], download=True)\n",
    "features, label, group = ACSIncome.df_to_numpy(ca_data)"
   ]
  },
  {
   "cell_type": "markdown",
   "metadata": {
    "pycharm": {
     "name": "#%% md\n"
    }
   },
   "source": [
    "Load the numpy array as torch tensors."
   ]
  },
  {
   "cell_type": "code",
   "execution_count": null,
   "outputs": [],
   "source": [
    "print(features.shape, label.shape , group)\n",
    "label = label.astype(int)\n",
    "print(label)\n",
    "import torchvision\n",
    "mean = np.mean(features)\n",
    "std = np.std(features)\n",
    "\n",
    "transforms=torchvision.transforms.Normalize(mean=mean, std=std)\n",
    "print(mean, std)\n",
    "# torchvision.transforms.Normalize(\n",
    "#       [, meanOfChannel2, meanOfChannel3] \n",
    "#     , [stdOfChannel1, stdOfChannel2, stdOfChannel3] \n",
    "# )"
   ],
   "metadata": {
    "collapsed": false,
    "pycharm": {
     "name": "#%%\n"
    }
   }
  },
  {
   "cell_type": "code",
   "execution_count": null,
   "outputs": [],
   "source": [
    "SEED = 0\n",
    "BATCH_SIZE = 128 \n",
    "\n",
    "\n",
    "\n",
    "# generate the training data index and validation data index\n",
    "np.random.seed(SEED)\n",
    "random_index = np.random.rand(len(features))  \n",
    "random_index = np.argsort(random_index)\n",
    "train_index = random_index[: int(len(features)*0.8)]  # 80% data for training\n",
    "val_index = random_index[int(len(features)*0.8):]\n",
    "\n",
    "\n",
    "# generate the training data and validation data\n",
    "train_data = features[train_index]\n",
    "train_label = label[train_index]\n",
    "val_data = features[val_index]\n",
    "val_label = label[val_index]\n",
    "print('The training data has the size of {} and the val has the size of {}'.format(str(len(train_data)), str(len(val_data))))\n",
    "\n",
    "\n",
    "# prepare the dataloader\n",
    "train_dataset = TensorDataset(torch.Tensor(train_data), torch.Tensor(train_label))\n",
    "val_dataset = TensorDataset(torch.Tensor(val_data), torch.Tensor(val_label))\n",
    "train_loader = DataLoader(train_dataset, batch_size=BATCH_SIZE, shuffle=True, pin_memory=True, num_workers=0) \n",
    "val_loader = DataLoader(val_dataset, batch_size=BATCH_SIZE, shuffle=False, pin_memory=True, num_workers=0, drop_last=False)\n",
    "\n"
   ],
   "metadata": {
    "collapsed": false,
    "pycharm": {
     "name": "#%%\n"
    }
   }
  },
  {
   "cell_type": "code",
   "execution_count": null,
   "outputs": [],
   "source": [
    "import torch.nn as nn\n",
    "\n",
    "# prepare our network\n",
    "class my_net(nn.Module):\n",
    "    def __init__(self, input_dim=10, emb_dim=64, mlp_ratio=4, num_classes=2): \n",
    "        super().__init__()  \n",
    "        \n",
    "        self.embedding = nn.Linear(input_dim, emb_dim)\n",
    "        self.block1 = nn.Sequential(\n",
    "            nn.Linear(emb_dim, emb_dim*mlp_ratio),\n",
    "             nn.GELU(),\n",
    "             nn.Linear(emb_dim*mlp_ratio, emb_dim),\n",
    "             )\n",
    "        self.block2 = nn.Sequential(\n",
    "            nn.Linear(emb_dim, emb_dim*mlp_ratio),\n",
    "             nn.GELU(),\n",
    "             nn.Linear(emb_dim*mlp_ratio, emb_dim),\n",
    "             )\n",
    "        self.cls = nn.Sequential(\n",
    "             nn.LayerNorm(emb_dim),\n",
    "             nn.Linear(emb_dim,  num_classes) \n",
    "        )\n",
    "    \n",
    "    def forward(self, x):\n",
    "        \n",
    "        x = self.embedding(x)\n",
    "        x = self.block1(x)             \n",
    "        x = self.cls(x)\n",
    "        \n",
    "        return x\n",
    "\n",
    "\n",
    "def topk(output, target, ks=(1,)):\n",
    "    \"\"\"Returns one boolean vector for each k, whether the target is within the output's top-k.\"\"\"\n",
    "    batch_size = outputs.size(0)\n",
    "    _, pred = output.topk(max(ks), 1, True, True)\n",
    "    pred = pred.t()\n",
    "    correct = pred.eq(target.view(1, -1).expand_as(pred))\n",
    "    return [correct[:k].max(0)[0].float().mean() for k in ks]\n",
    "\n",
    "def normalization(tensor, mean, std):\n",
    "    return tensor - mean / std"
   ],
   "metadata": {
    "collapsed": false,
    "pycharm": {
     "name": "#%%\n"
    }
   }
  },
  {
   "cell_type": "code",
   "execution_count": null,
   "outputs": [],
   "source": [
    "LR = 0.1\n",
    "NUM_EPOCH = 10\n",
    "LOG_STEP = 200\n",
    "\n",
    "\n",
    "our_net = my_net()\n",
    "criterion = torch.nn.CrossEntropyLoss()\n",
    "optim = torch.optim.SGD(our_net.parameters(), lr=LR, momentum=0.9)\n",
    "scheduler = torch.optim.lr_scheduler.CosineAnnealingLR(optim, T_max=NUM_EPOCH)\n",
    "\n",
    "train_all_loss = []\n",
    "val_all_loss = []\n",
    "train_acc = []\n",
    "val_acc = []\n",
    "\n",
    "for epoch in range(NUM_EPOCH):\n",
    "    our_net.train()\n",
    "    avg_top1 = []\n",
    "    for batch_id, (train_sample, train_labels) in enumerate(train_loader):   \n",
    "        \n",
    "        train_labels = train_labels.long()\n",
    "        output = our_net(normalization(train_sample, mean=mean, std=std))\n",
    "        loss = criterion(output, train_labels)\n",
    "        optim.zero_grad()\n",
    "        loss.backward()\n",
    "        optim.step()\n",
    "        train_all_loss.append(loss.item())\n",
    "        top1 = topk(output, train_labels, ks=(1,))\n",
    "        avg_top1.extend(top1)\n",
    "        if batch_id % LOG_STEP ==0:\n",
    "            print('Epoch {} Current Step {}/{}: loss is {losses:.6f}'\n",
    "                  .format(str(epoch) ,str(batch_id), str(len(train_loader)), losses = loss.item()))\n",
    "    train_acc.append(np.mean(avg_top1))\n",
    "    our_net.eval()\n",
    "    avg_top1 = []\n",
    "    with torch.no_grad():\n",
    "        for  batch_id, (val_sample, val_labels) in enumerate(val_loader):\n",
    "            val_labels = val_labels.long()\n",
    "            outputs = our_net(normalization(val_sample, mean=mean, std=std))\n",
    "            loss = criterion(outputs, val_labels)\n",
    "            val_all_loss.append(loss.item())\n",
    "            top1 = topk(outputs, val_labels, ks=(1,))\n",
    "            avg_top1.extend(top1)\n",
    "        print('------------------------------------------------')\n",
    "        print('Epoch {} Validation acc is {top1:.6f}'\n",
    "                  .format(str(epoch), top1 = np.mean(avg_top1)))\n",
    "    val_acc.append(np.mean(avg_top1))\n",
    "        \n",
    "        "
   ],
   "metadata": {
    "collapsed": false,
    "pycharm": {
     "name": "#%%\n"
    }
   }
  },
  {
   "cell_type": "code",
   "execution_count": null,
   "outputs": [],
   "source": [
    "import matplotlib.pyplot as plt\n",
    "import matplotlib\n",
    "import matplotlib.pylab as pylab\n",
    "import numpy as np\n",
    "import os\n",
    "import matplotlib.pyplot as plt\n",
    "import matplotlib\n",
    "import matplotlib.pylab as pylab\n",
    "import numpy as np\n",
    "import os\n",
    "\n",
    "\n",
    "# plot the loss and acc\n",
    "def plot_loss_fig(train_loss, val_loss):\n",
    "    myparams = {\n",
    "\n",
    "   'axes.labelsize': '20',\n",
    "\n",
    "   'xtick.labelsize': '20',\n",
    "\n",
    "   'ytick.labelsize': '20',\n",
    "\n",
    "   'lines.linewidth': 2,\n",
    "\n",
    "   'legend.fontsize': '15',\n",
    "\n",
    "   'font.family': 'Times New Roman',\n",
    "}\n",
    "\n",
    "    pylab.rcParams.update(myparams) \n",
    "\n",
    "    plt.style.use('ggplot')\n",
    "    fig = plt.figure(figsize=(20,10))\n",
    "\n",
    "    plt.plot(range(len(train_loss)), train_loss, label = 'train loss')\n",
    "    plt.plot(range(len(val_loss)), val_loss, label = 'val loss')\n",
    "    \n",
    "    plt.grid(True)  # add grid\n",
    "    plt.legend()\n",
    "    plt.title(\"Train/Val Loss\")  \n",
    "    plt.ylabel('Loss') \n",
    "    plt.xlabel('Number of Steps ')\n",
    "plot_loss_fig(train_all_loss, val_all_loss)"
   ],
   "metadata": {
    "collapsed": false,
    "pycharm": {
     "name": "#%%\n"
    }
   }
  },
  {
   "cell_type": "code",
   "execution_count": null,
   "outputs": [],
   "source": [
    "import matplotlib.pyplot as plt\n",
    "import matplotlib\n",
    "import matplotlib.pylab as pylab\n",
    "import numpy as np\n",
    "import os\n",
    "import matplotlib.pyplot as plt\n",
    "import matplotlib\n",
    "import matplotlib.pylab as pylab\n",
    "import numpy as np\n",
    "import os\n",
    "\n",
    "\n",
    "# plot the acc and acc\n",
    "def plot_acc_fig(train_acc, val_acc):\n",
    "    myparams = {\n",
    "\n",
    "   'axes.labelsize': '20',\n",
    "\n",
    "   'xtick.labelsize': '20',\n",
    "\n",
    "   'ytick.labelsize': '20',\n",
    "\n",
    "   'lines.linewidth': 2,\n",
    "\n",
    "   'legend.fontsize': '15',\n",
    "\n",
    "   'font.family': 'Times New Roman',\n",
    "}\n",
    "\n",
    "    pylab.rcParams.update(myparams) \n",
    "\n",
    "    plt.style.use('ggplot')\n",
    "    fig = plt.figure(figsize=(20,10))\n",
    "\n",
    "    plt.plot(range(len(train_acc)), train_acc, label = 'train loss')\n",
    "    plt.plot(range(len(val_acc)), val_acc, label = 'val loss')\n",
    "    \n",
    "    plt.grid(True)  # add grid\n",
    "    plt.legend()\n",
    "    plt.title(\"Train/Val Acc\")  \n",
    "    plt.ylabel('Acc') \n",
    "    plt.xlabel('Number of Epochs ')\n",
    "plot_acc_fig(train_acc, val_acc)"
   ],
   "metadata": {
    "collapsed": false,
    "pycharm": {
     "name": "#%%\n"
    }
   }
  },
  {
   "cell_type": "code",
   "execution_count": null,
   "outputs": [],
   "source": [],
   "metadata": {
    "collapsed": false,
    "pycharm": {
     "name": "#%%\n"
    }
   }
  },
  {
   "cell_type": "code",
   "execution_count": 81,
   "metadata": {
    "pycharm": {
     "name": "#%%\n"
    }
   },
   "outputs": [
    {
     "name": "stdout",
     "output_type": "stream",
     "text": [
      "The training data has the size of 147152 and the val has the size of 36789\n"
     ]
    }
   ],
   "source": [
    "SEED = 0\n",
    "BATCH_SIZE = 128 \n",
    "\n",
    "\n",
    "\n",
    "# generate the training data index and validation data index\n",
    "np.random.seed(SEED)\n",
    "random_index = np.random.rand(len(features))  \n",
    "random_index = np.argsort(random_index)\n",
    "train_index = random_index[: int(len(features)*0.8)]  # 80% data for training\n",
    "val_index = random_index[int(len(features)*0.8):]\n",
    "\n",
    "\n",
    "# generate the training data and validation data\n",
    "train_data = features[train_index]\n",
    "train_label = label[train_index]\n",
    "val_data = features[val_index]\n",
    "val_label = label[val_index]\n",
    "print('The training data has the size of {} and the val has the size of {}'.format(str(len(train_data)), str(len(val_data))))\n",
    "\n",
    "\n",
    "# prepare the dataloader\n",
    "train_dataset = TensorDataset(torch.Tensor(train_data), torch.Tensor(train_label))\n",
    "val_dataset = TensorDataset(torch.Tensor(val_data), torch.Tensor(val_label))\n",
    "train_loader = DataLoader(train_dataset, batch_size=BATCH_SIZE, shuffle=True, pin_memory=True, num_workers=0) \n",
    "val_loader = DataLoader(val_dataset, batch_size=BATCH_SIZE, shuffle=False, pin_memory=True, num_workers=0, drop_last=False)\n",
    "\n"
   ]
  },
  {
   "cell_type": "code",
   "execution_count": 105,
   "metadata": {},
   "outputs": [],
   "source": [
    "import torch.nn as nn\n",
    "\n",
    "# prepare our network\n",
    "class my_net(nn.Module):\n",
    "    def __init__(self, input_dim=10, emb_dim=64, mlp_ratio=4, num_classes=2): \n",
    "        super().__init__()  \n",
    "        \n",
    "        self.embedding = nn.Linear(input_dim, emb_dim)\n",
    "        self.block1 = nn.Sequential(\n",
    "            nn.Linear(emb_dim, emb_dim*mlp_ratio),\n",
    "             nn.GELU(),\n",
    "             nn.Linear(emb_dim*mlp_ratio, emb_dim),\n",
    "             )\n",
    "        self.block2 = nn.Sequential(\n",
    "            nn.Linear(emb_dim, emb_dim*mlp_ratio),\n",
    "             nn.GELU(),\n",
    "             nn.Linear(emb_dim*mlp_ratio, emb_dim),\n",
    "             )\n",
    "        self.cls = nn.Sequential(\n",
    "             nn.LayerNorm(emb_dim),\n",
    "             nn.Linear(emb_dim,  num_classes) \n",
    "        )\n",
    "    \n",
    "    def forward(self, x):\n",
    "        \n",
    "        x = self.embedding(x)\n",
    "        x = self.block1(x)             \n",
    "        x = self.cls(x)\n",
    "        \n",
    "        return x\n",
    "\n",
    "\n",
    "def topk(output, target, ks=(1,)):\n",
    "    \"\"\"Returns one boolean vector for each k, whether the target is within the output's top-k.\"\"\"\n",
    "    batch_size = outputs.size(0)\n",
    "    _, pred = output.topk(max(ks), 1, True, True)\n",
    "    pred = pred.t()\n",
    "    correct = pred.eq(target.view(1, -1).expand_as(pred))\n",
    "    return [correct[:k].max(0)[0].float().mean() for k in ks]\n",
    "\n",
    "def normalization(tensor, mean, std):\n",
    "    return tensor - mean / std"
   ]
  },
  {
   "cell_type": "code",
   "execution_count": 106,
   "metadata": {},
   "outputs": [
    {
     "name": "stdout",
     "output_type": "stream",
     "text": [
      "Epoch 0 Current Step 0/1150: loss is 1.178331\n",
      "Epoch 0 Current Step 200/1150: loss is 0.692017\n",
      "Epoch 0 Current Step 400/1150: loss is 0.637004\n",
      "Epoch 0 Current Step 600/1150: loss is 0.608995\n",
      "Epoch 0 Current Step 800/1150: loss is 0.597958\n",
      "Epoch 0 Current Step 1000/1150: loss is 0.577957\n",
      "------------------------------------------------\n",
      "Epoch 0 Validation acc is 0.709921\n",
      "Epoch 1 Current Step 0/1150: loss is 0.557096\n",
      "Epoch 1 Current Step 200/1150: loss is 0.546906\n",
      "Epoch 1 Current Step 400/1150: loss is 0.537218\n",
      "Epoch 1 Current Step 600/1150: loss is 0.617534\n",
      "Epoch 1 Current Step 800/1150: loss is 0.546947\n",
      "Epoch 1 Current Step 1000/1150: loss is 0.588763\n",
      "------------------------------------------------\n",
      "Epoch 1 Validation acc is 0.740341\n",
      "Epoch 2 Current Step 0/1150: loss is 0.599228\n",
      "Epoch 2 Current Step 200/1150: loss is 0.562133\n",
      "Epoch 2 Current Step 400/1150: loss is 0.510716\n",
      "Epoch 2 Current Step 600/1150: loss is 0.537835\n",
      "Epoch 2 Current Step 800/1150: loss is 0.521416\n",
      "Epoch 2 Current Step 1000/1150: loss is 0.540067\n",
      "------------------------------------------------\n",
      "Epoch 2 Validation acc is 0.740922\n",
      "Epoch 3 Current Step 0/1150: loss is 0.570144\n",
      "Epoch 3 Current Step 200/1150: loss is 0.502891\n",
      "Epoch 3 Current Step 400/1150: loss is 0.579447\n",
      "Epoch 3 Current Step 600/1150: loss is 0.469554\n",
      "Epoch 3 Current Step 800/1150: loss is 0.582650\n",
      "Epoch 3 Current Step 1000/1150: loss is 0.580324\n",
      "------------------------------------------------\n",
      "Epoch 3 Validation acc is 0.741942\n",
      "Epoch 4 Current Step 0/1150: loss is 0.589910\n",
      "Epoch 4 Current Step 200/1150: loss is 0.521208\n",
      "Epoch 4 Current Step 400/1150: loss is 0.500688\n",
      "Epoch 4 Current Step 600/1150: loss is 0.558473\n",
      "Epoch 4 Current Step 800/1150: loss is 0.596214\n",
      "Epoch 4 Current Step 1000/1150: loss is 0.481250\n",
      "------------------------------------------------\n",
      "Epoch 4 Validation acc is 0.739240\n",
      "Epoch 5 Current Step 0/1150: loss is 0.469634\n",
      "Epoch 5 Current Step 200/1150: loss is 0.524470\n",
      "Epoch 5 Current Step 400/1150: loss is 0.495470\n",
      "Epoch 5 Current Step 600/1150: loss is 0.525246\n",
      "Epoch 5 Current Step 800/1150: loss is 0.566190\n",
      "Epoch 5 Current Step 1000/1150: loss is 0.504294\n",
      "------------------------------------------------\n",
      "Epoch 5 Validation acc is 0.731812\n",
      "Epoch 6 Current Step 0/1150: loss is 0.527863\n",
      "Epoch 6 Current Step 200/1150: loss is 0.704853\n",
      "Epoch 6 Current Step 400/1150: loss is 0.592954\n",
      "Epoch 6 Current Step 600/1150: loss is 0.547106\n",
      "Epoch 6 Current Step 800/1150: loss is 0.534804\n",
      "Epoch 6 Current Step 1000/1150: loss is 0.560451\n",
      "------------------------------------------------\n",
      "Epoch 6 Validation acc is 0.738687\n",
      "Epoch 7 Current Step 0/1150: loss is 0.526295\n",
      "Epoch 7 Current Step 200/1150: loss is 0.472493\n",
      "Epoch 7 Current Step 400/1150: loss is 0.474702\n",
      "Epoch 7 Current Step 600/1150: loss is 0.574701\n",
      "Epoch 7 Current Step 800/1150: loss is 0.615760\n",
      "Epoch 7 Current Step 1000/1150: loss is 0.525804\n",
      "------------------------------------------------\n",
      "Epoch 7 Validation acc is 0.738632\n",
      "Epoch 8 Current Step 0/1150: loss is 0.498031\n",
      "Epoch 8 Current Step 200/1150: loss is 0.527308\n",
      "Epoch 8 Current Step 400/1150: loss is 0.499493\n",
      "Epoch 8 Current Step 600/1150: loss is 0.504787\n",
      "Epoch 8 Current Step 800/1150: loss is 0.444121\n",
      "Epoch 8 Current Step 1000/1150: loss is 0.524351\n",
      "------------------------------------------------\n",
      "Epoch 8 Validation acc is 0.743488\n",
      "Epoch 9 Current Step 0/1150: loss is 0.595932\n",
      "Epoch 9 Current Step 200/1150: loss is 0.498386\n",
      "Epoch 9 Current Step 400/1150: loss is 0.569926\n",
      "Epoch 9 Current Step 600/1150: loss is 0.575412\n",
      "Epoch 9 Current Step 800/1150: loss is 0.596688\n",
      "Epoch 9 Current Step 1000/1150: loss is 0.549502\n",
      "------------------------------------------------\n",
      "Epoch 9 Validation acc is 0.741752\n"
     ]
    }
   ],
   "source": [
    "LR = 0.1\n",
    "NUM_EPOCH = 10\n",
    "LOG_STEP = 200\n",
    "\n",
    "\n",
    "our_net = my_net()\n",
    "criterion = torch.nn.CrossEntropyLoss()\n",
    "optim = torch.optim.SGD(our_net.parameters(), lr=LR, momentum=0.9)\n",
    "scheduler = torch.optim.lr_scheduler.CosineAnnealingLR(optim, T_max=NUM_EPOCH)\n",
    "\n",
    "train_all_loss = []\n",
    "val_all_loss = []\n",
    "train_acc = []\n",
    "val_acc = []\n",
    "\n",
    "for epoch in range(NUM_EPOCH):\n",
    "    our_net.train()\n",
    "    avg_top1 = []\n",
    "    for batch_id, (train_sample, train_labels) in enumerate(train_loader):   \n",
    "        \n",
    "        train_labels = train_labels.long()\n",
    "        output = our_net(normalization(train_sample, mean=mean, std=std))\n",
    "        loss = criterion(output, train_labels)\n",
    "        optim.zero_grad()\n",
    "        loss.backward()\n",
    "        optim.step()\n",
    "        train_all_loss.append(loss.item())\n",
    "        top1 = topk(output, train_labels, ks=(1,))\n",
    "        avg_top1.extend(top1)\n",
    "        if batch_id % LOG_STEP ==0:\n",
    "            print('Epoch {} Current Step {}/{}: loss is {losses:.6f}'\n",
    "                  .format(str(epoch) ,str(batch_id), str(len(train_loader)), losses = loss.item()))\n",
    "    train_acc.append(np.mean(avg_top1))\n",
    "    our_net.eval()\n",
    "    avg_top1 = []\n",
    "    with torch.no_grad():\n",
    "        for  batch_id, (val_sample, val_labels) in enumerate(val_loader):\n",
    "            val_labels = val_labels.long()\n",
    "            outputs = our_net(normalization(val_sample, mean=mean, std=std))\n",
    "            loss = criterion(outputs, val_labels)\n",
    "            val_all_loss.append(loss.item())\n",
    "            top1 = topk(outputs, val_labels, ks=(1,))\n",
    "            avg_top1.extend(top1)\n",
    "        print('------------------------------------------------')\n",
    "        print('Epoch {} Validation acc is {top1:.6f}'\n",
    "                  .format(str(epoch), top1 = np.mean(avg_top1)))\n",
    "    val_acc.append(np.mean(avg_top1))\n",
    "        \n",
    "        "
   ]
  },
  {
   "cell_type": "code",
   "execution_count": 107,
   "metadata": {},
   "outputs": [
    {
     "data": {
      "image/png": "[encoded data removed]",
      "text/plain": [
       "<Figure size 1440x720 with 1 Axes>"
      ]
     },
     "metadata": {},
     "output_type": "display_data"
    }
   ],
   "source": [
    "import matplotlib.pyplot as plt\n",
    "import matplotlib\n",
    "import matplotlib.pylab as pylab\n",
    "import numpy as np\n",
    "import os\n",
    "import matplotlib.pyplot as plt\n",
    "import matplotlib\n",
    "import matplotlib.pylab as pylab\n",
    "import numpy as np\n",
    "import os\n",
    "\n",
    "\n",
    "# plot the loss and acc\n",
    "def plot_loss_fig(train_loss, val_loss):\n",
    "    myparams = {\n",
    "\n",
    "   'axes.labelsize': '20',\n",
    "\n",
    "   'xtick.labelsize': '20',\n",
    "\n",
    "   'ytick.labelsize': '20',\n",
    "\n",
    "   'lines.linewidth': 2,\n",
    "\n",
    "   'legend.fontsize': '15',\n",
    "\n",
    "   'font.family': 'Times New Roman',\n",
    "}\n",
    "\n",
    "    pylab.rcParams.update(myparams) \n",
    "\n",
    "    plt.style.use('ggplot')\n",
    "    fig = plt.figure(figsize=(20,10))\n",
    "\n",
    "    plt.plot(range(len(train_loss)), train_loss, label = 'train loss')\n",
    "    plt.plot(range(len(val_loss)), val_loss, label = 'val loss')\n",
    "    \n",
    "    plt.grid(True)  # add grid\n",
    "    plt.legend()\n",
    "    plt.title(\"Train/Val Loss\")  \n",
    "    plt.ylabel('Loss') \n",
    "    plt.xlabel('Number of Steps ')\n",
    "plot_loss_fig(train_all_loss, val_all_loss)"
   ]
  },
  {
   "cell_type": "code",
   "execution_count": 108,
   "metadata": {},
   "outputs": [
    {
     "data": {
      "image/png": "[encoded data removed]",
      "text/plain": [
       "<Figure size 1440x720 with 1 Axes>"
      ]
     },
     "metadata": {},
     "output_type": "display_data"
    }
   ],
   "source": [
    "import matplotlib.pyplot as plt\n",
    "import matplotlib\n",
    "import matplotlib.pylab as pylab\n",
    "import numpy as np\n",
    "import os\n",
    "import matplotlib.pyplot as plt\n",
    "import matplotlib\n",
    "import matplotlib.pylab as pylab\n",
    "import numpy as np\n",
    "import os\n",
    "\n",
    "\n",
    "# plot the acc and acc\n",
    "def plot_acc_fig(train_acc, val_acc):\n",
    "    myparams = {\n",
    "\n",
    "   'axes.labelsize': '20',\n",
    "\n",
    "   'xtick.labelsize': '20',\n",
    "\n",
    "   'ytick.labelsize': '20',\n",
    "\n",
    "   'lines.linewidth': 2,\n",
    "\n",
    "   'legend.fontsize': '15',\n",
    "\n",
    "   'font.family': 'Times New Roman',\n",
    "}\n",
    "\n",
    "    pylab.rcParams.update(myparams) \n",
    "\n",
    "    plt.style.use('ggplot')\n",
    "    fig = plt.figure(figsize=(20,10))\n",
    "\n",
    "    plt.plot(range(len(train_acc)), train_acc, label = 'train loss')\n",
    "    plt.plot(range(len(val_acc)), val_acc, label = 'val loss')\n",
    "    \n",
    "    plt.grid(True)  # add grid\n",
    "    plt.legend()\n",
    "    plt.title(\"Train/Val Acc\")  \n",
    "    plt.ylabel('Acc') \n",
    "    plt.xlabel('Number of Epochs ')\n",
    "plot_acc_fig(train_acc, val_acc)"
   ]
  },
  {
   "cell_type": "code",
   "execution_count": null,
   "metadata": {},
   "outputs": [],
   "source": []
  }
 ],
 "metadata": {
  "kernelspec": {
   "display_name": "Python 3",
   "language": "python",
   "name": "python3"
  },
  "language_info": {
   "codemirror_mode": {
    "name": "ipython",
    "version": 3
   },
   "file_extension": ".py",
   "mimetype": "text/x-python",
   "name": "python",
   "nbconvert_exporter": "python",
   "pygments_lexer": "ipython3",
   "version": "3.8.5"
  }
 },
 "nbformat": 4,
 "nbformat_minor": 4
}