{
 "cells": [
  {
   "cell_type": "code",
   "execution_count": 1,
   "id": "d245b5e3",
   "metadata": {},
   "outputs": [
    {
     "name": "stderr",
     "output_type": "stream",
     "text": [
      "/opt/anaconda3/envs/myenv/lib/python3.7/site-packages/tensorflow/python/framework/dtypes.py:516: FutureWarning: Passing (type, 1) or '1type' as a synonym of type is deprecated; in a future version of numpy, it will be understood as (type, (1,)) / '(1,)type'.\n",
      "  _np_qint8 = np.dtype([(\"qint8\", np.int8, 1)])\n",
      "/opt/anaconda3/envs/myenv/lib/python3.7/site-packages/tensorflow/python/framework/dtypes.py:517: FutureWarning: Passing (type, 1) or '1type' as a synonym of type is deprecated; in a future version of numpy, it will be understood as (type, (1,)) / '(1,)type'.\n",
      "  _np_quint8 = np.dtype([(\"quint8\", np.uint8, 1)])\n",
      "/opt/anaconda3/envs/myenv/lib/python3.7/site-packages/tensorflow/python/framework/dtypes.py:518: FutureWarning: Passing (type, 1) or '1type' as a synonym of type is deprecated; in a future version of numpy, it will be understood as (type, (1,)) / '(1,)type'.\n",
      "  _np_qint16 = np.dtype([(\"qint16\", np.int16, 1)])\n",
      "/opt/anaconda3/envs/myenv/lib/python3.7/site-packages/tensorflow/python/framework/dtypes.py:519: FutureWarning: Passing (type, 1) or '1type' as a synonym of type is deprecated; in a future version of numpy, it will be understood as (type, (1,)) / '(1,)type'.\n",
      "  _np_quint16 = np.dtype([(\"quint16\", np.uint16, 1)])\n",
      "/opt/anaconda3/envs/myenv/lib/python3.7/site-packages/tensorflow/python/framework/dtypes.py:520: FutureWarning: Passing (type, 1) or '1type' as a synonym of type is deprecated; in a future version of numpy, it will be understood as (type, (1,)) / '(1,)type'.\n",
      "  _np_qint32 = np.dtype([(\"qint32\", np.int32, 1)])\n",
      "/opt/anaconda3/envs/myenv/lib/python3.7/site-packages/tensorflow/python/framework/dtypes.py:525: FutureWarning: Passing (type, 1) or '1type' as a synonym of type is deprecated; in a future version of numpy, it will be understood as (type, (1,)) / '(1,)type'.\n",
      "  np_resource = np.dtype([(\"resource\", np.ubyte, 1)])\n",
      "/opt/anaconda3/envs/myenv/lib/python3.7/site-packages/tensorboard/compat/tensorflow_stub/dtypes.py:541: FutureWarning: Passing (type, 1) or '1type' as a synonym of type is deprecated; in a future version of numpy, it will be understood as (type, (1,)) / '(1,)type'.\n",
      "  _np_qint8 = np.dtype([(\"qint8\", np.int8, 1)])\n",
      "/opt/anaconda3/envs/myenv/lib/python3.7/site-packages/tensorboard/compat/tensorflow_stub/dtypes.py:542: FutureWarning: Passing (type, 1) or '1type' as a synonym of type is deprecated; in a future version of numpy, it will be understood as (type, (1,)) / '(1,)type'.\n",
      "  _np_quint8 = np.dtype([(\"quint8\", np.uint8, 1)])\n",
      "/opt/anaconda3/envs/myenv/lib/python3.7/site-packages/tensorboard/compat/tensorflow_stub/dtypes.py:543: FutureWarning: Passing (type, 1) or '1type' as a synonym of type is deprecated; in a future version of numpy, it will be understood as (type, (1,)) / '(1,)type'.\n",
      "  _np_qint16 = np.dtype([(\"qint16\", np.int16, 1)])\n",
      "/opt/anaconda3/envs/myenv/lib/python3.7/site-packages/tensorboard/compat/tensorflow_stub/dtypes.py:544: FutureWarning: Passing (type, 1) or '1type' as a synonym of type is deprecated; in a future version of numpy, it will be understood as (type, (1,)) / '(1,)type'.\n",
      "  _np_quint16 = np.dtype([(\"quint16\", np.uint16, 1)])\n",
      "/opt/anaconda3/envs/myenv/lib/python3.7/site-packages/tensorboard/compat/tensorflow_stub/dtypes.py:545: FutureWarning: Passing (type, 1) or '1type' as a synonym of type is deprecated; in a future version of numpy, it will be understood as (type, (1,)) / '(1,)type'.\n",
      "  _np_qint32 = np.dtype([(\"qint32\", np.int32, 1)])\n",
      "/opt/anaconda3/envs/myenv/lib/python3.7/site-packages/tensorboard/compat/tensorflow_stub/dtypes.py:550: FutureWarning: Passing (type, 1) or '1type' as a synonym of type is deprecated; in a future version of numpy, it will be understood as (type, (1,)) / '(1,)type'.\n",
      "  np_resource = np.dtype([(\"resource\", np.ubyte, 1)])\n",
      "Using TensorFlow backend.\n"
     ]
    },
    {
     "name": "stdout",
     "output_type": "stream",
     "text": [
      "[INFO] Using Python-MIP package version 1.12.0 [model.py <module>]\n"
     ]
    }
   ],
   "source": [
    "import numpy as np\n",
    "import pandas as pd\n",
    "import torch\n",
    "import torch.nn as nn\n",
    "import torchvision\n",
    "import torchvision.transforms as transforms\n",
    "import torchvision.models as models\n",
    "import torchvision.datasets as datasets\n",
    "from torch.utils.data import Subset\n",
    "import matplotlib.pyplot as plt\n",
    "from torch import unsqueeze\n",
    "import torchattacks\n",
    "from torch.utils.data import TensorDataset, DataLoader\n",
    "from carla import Data\n",
    "import numpy as np\n",
    "import pandas as pd\n",
    "from sklearn.neighbors import NearestNeighbors\n",
    "from typing import List\n",
    "\n",
    "from carla import MLModel\n",
    "from carla import Data\n",
    "from carla.models.api import MLModel\n",
    "from carla.recourse_methods.api import RecourseMethod\n",
    "from carla.evaluation.distances import get_distances\n",
    "\n",
    "import torch.nn as nn\n",
    "from torch.nn.functional import normalize"
   ]
  },
  {
   "cell_type": "markdown",
   "id": "7fd77693",
   "metadata": {},
   "source": [
    "# Unconstrained-- Fashion MNIST\n"
   ]
  },
  {
   "cell_type": "markdown",
   "id": "3ed7449c",
   "metadata": {},
   "source": [
    "## Growing Spheres\n"
   ]
  },
  {
   "cell_type": "code",
   "execution_count": 2,
   "id": "6f2b5aef",
   "metadata": {},
   "outputs": [],
   "source": [
    "# Load Data, Serialized Model Objects, and Generated Counterfactuals\n",
    "\n",
    "# Data\n",
    "# Image preprocessing modules\n",
    "transform = transforms.Compose([\n",
    "        transforms.Resize(32),\n",
    "        transforms.ToTensor()\n",
    "    ])\n",
    "\n",
    "# Download data \n",
    "train_data = datasets.FashionMNIST(root = '.',\n",
    "                              train = True,\n",
    "                              download = True, \n",
    "                              transform=transform)\n",
    "test_data = datasets.FashionMNIST(root = '.',\n",
    "                             train = False, \n",
    "                             download = True, \n",
    "                             transform=transform)\n",
    "\n",
    "features_train = np.zeros((12000, 32, 32))\n",
    "label_train = np.zeros((12000,))\n",
    "count = 0\n",
    "for i in range(train_data.data.shape[0]):\n",
    "    features, label = train_data.__getitem__(i)\n",
    "    if label == 0 or label == 1:\n",
    "        features_train[count] = features.detach().numpy()\n",
    "        label_train[count] = label\n",
    "        count += 1\n",
    "\n",
    "features_train = np.asarray(features_train)\n",
    "label_train = np.asarray(label_train)\n",
    "\n",
    "features_test = np.zeros((2000, 32, 32))\n",
    "label_test = np.zeros((2000,))\n",
    "count = 0\n",
    "for i in range(test_data.data.shape[0]):\n",
    "    features, label = test_data.__getitem__(i)\n",
    "    if label == 0 or label == 1:\n",
    "        features_test[count] = features.detach().numpy()\n",
    "        label_test[count] = label\n",
    "        count += 1\n",
    "\n",
    "features_test = np.asarray(features_test)\n",
    "label_test = np.asarray(label_test)\n",
    "\n",
    "BATCH_SIZE = 128 \n",
    "# prepare the dataloader\n",
    "train_dataset = TensorDataset(torch.flatten(torch.Tensor(features_train).float(), start_dim=1), torch.Tensor(label_train))\n",
    "val_dataset = TensorDataset(torch.flatten(torch.Tensor(features_test).float(), start_dim=1), torch.Tensor(label_test))\n",
    "train_loader = DataLoader(train_dataset, batch_size=BATCH_SIZE, shuffle=True, pin_memory=True, num_workers=0) \n",
    "val_loader = DataLoader(val_dataset, batch_size=BATCH_SIZE, shuffle=False, pin_memory=True, num_workers=0, drop_last=False)\n",
    "\n",
    "feature_cols = []\n",
    "for i in range(32):\n",
    "    for j in range(32):\n",
    "        feature_cols.append('pixel_{}_{}'.format(i, j))\n",
    "\n",
    "features_train = torch.flatten(torch.Tensor(features_train).float(), start_dim=1).detach().numpy()\n",
    "df = pd.DataFrame(features_train, columns=feature_cols)\n",
    "df['Income_Greater_50k'] = label_train\n",
    "df['Income_Greater_50k'] = df['Income_Greater_50k'].astype(int)\n",
    "df.head()\n",
    "\n",
    "SEED = 0\n",
    "BATCH_SIZE = 128 \n",
    "\n",
    "\n",
    "\n",
    "# generate the training data index and validation data index\n",
    "np.random.seed(SEED)\n",
    "random_index = np.random.rand(len(features_train))  \n",
    "random_index = np.argsort(random_index)\n",
    "train_index = random_index[: int(len(features_train)*0.8)]  # 80% data for training\n",
    "val_index = random_index[int(len(features_train)*0.8):]\n",
    "\n",
    "\n",
    "# generate the training data and validation data\n",
    "train_data_df = df.iloc[train_index]\n",
    "val_data_df = df.iloc[val_index]\n",
    "\n",
    "\n",
    "\n",
    "# Custom data set implementations need to inherit from the Data interface\n",
    "class IncomeDataset(Data):\n",
    "\n",
    "    def __init__(self, data, train, val, feature_cols):\n",
    "        # The data set can e.g. be loaded in the constructor\n",
    "        self._dataset = data\n",
    "        self._train = train\n",
    "        self._val = val\n",
    "        self.feature_cols = feature_cols\n",
    "\n",
    "    # List of all categorical features\n",
    "    @property\n",
    "    def categorical(self):\n",
    "        return []\n",
    "\n",
    "    # List of all continuous features\n",
    "    @property\n",
    "    def continuous(self):\n",
    "        return self.feature_cols\n",
    "\n",
    "    # List of all immutable features which\n",
    "    # should not be changed by the recourse method\n",
    "    @property\n",
    "    def immutables(self):\n",
    "        return []\n",
    "\n",
    "    # Feature name of the target column\n",
    "    @property\n",
    "    def target(self):\n",
    "        return 'Income_Greater_50k'\n",
    "    \n",
    "    @property\n",
    "    def df(self):\n",
    "        return self._dataset\n",
    "        pass\n",
    "\n",
    "    @property\n",
    "    def df_train(self):\n",
    "        return self._train\n",
    "\n",
    "    @property\n",
    "    def df_test(self):\n",
    "        return self._val\n",
    "\n",
    "    def transform(self, df):\n",
    "        new_vals = normalization(df.values, self._mean, self._std)\n",
    "        return pd.DataFrame(new_vals, columns=self._dataset.columns)\n",
    "\n",
    "    def inverse_transform(self, df):\n",
    "        new_vals = inverse_normalization(df.values, self._mean, self._std)\n",
    "        return pd.DataFrame(new_vals, columns=self._dataset.columns)\n",
    "    \n",
    "    def normalization(tensor, mean, std):\n",
    "        return ((tensor - mean) / std).float()\n",
    "    \n",
    "    def inverse_normalization(x, mean, std):\n",
    "        return (x*std)+mean\n",
    "    \n",
    "ds = IncomeDataset(df, train_data_df, val_data_df, feature_cols)\n",
    "\n"
   ]
  },
  {
   "cell_type": "code",
   "execution_count": 3,
   "id": "d2861443",
   "metadata": {},
   "outputs": [],
   "source": [
    "# Model Definition & Load\n",
    "\n",
    "# prepare our network\n",
    "class my_net(nn.Module):\n",
    "    def __init__(self, input_dim=1024, emb_dim=64, mlp_ratio=4, num_classes=2): \n",
    "        super().__init__()  \n",
    "        \n",
    "        self.embedding = nn.Linear(input_dim, emb_dim)\n",
    "        self.block1 = nn.Sequential(\n",
    "            nn.Linear(emb_dim, emb_dim*mlp_ratio),\n",
    "             nn.GELU(),\n",
    "             nn.Linear(emb_dim*mlp_ratio, emb_dim),\n",
    "             )\n",
    "        self.block2 = nn.Sequential(\n",
    "            nn.Linear(emb_dim, emb_dim*mlp_ratio),\n",
    "             nn.GELU(),\n",
    "             nn.Linear(emb_dim*mlp_ratio, emb_dim),\n",
    "             )\n",
    "        self.cls = nn.Sequential(\n",
    "             nn.LayerNorm(emb_dim),\n",
    "             nn.Linear(emb_dim,  num_classes) \n",
    "        )\n",
    "    \n",
    "    def forward(self, x):\n",
    "        \n",
    "        x = self.embedding(x)\n",
    "        x = self.block1(x)             \n",
    "        x = self.cls(x)\n",
    "        \n",
    "        return x\n",
    "\n",
    "\n",
    "def topk(output, target, ks=(1,)):\n",
    "    \"\"\"Returns one boolean vector for each k, whether the target is within the output's top-k.\"\"\"\n",
    "    batch_size = output.size(0)\n",
    "    _, pred = output.topk(max(ks), 1, True, True)\n",
    "    pred = pred.t()\n",
    "    correct = pred.eq(target.view(1, -1).expand_as(pred))\n",
    "    return [correct[:k].max(0)[0].float().mean() for k in ks]\n",
    "\n",
    "def normalization(tensor):\n",
    "    return normalize(tensor, p=2.0, dim = 0)\n",
    "\n",
    "nat_model_state = torch.load('model_artifacts/naturally_trained_model_fashion.pt')\n",
    "nat_model = my_net()\n",
    "nat_model.load_state_dict(nat_model_state)\n",
    "\n",
    "adv_model_state = torch.load('model_artifacts/adversarially_trained_model_fashion.pt')\n",
    "adv_model = my_net()\n",
    "adv_model.load_state_dict(adv_model_state)\n",
    "\n",
    "# Custom black-box models need to inherit from\n",
    "# the MLModel interface\n",
    "class MyOwnModel(MLModel):\n",
    "    def __init__(self, data, model, feature_cols):\n",
    "        super().__init__(data)\n",
    "        # The constructor can be used to load or build an\n",
    "        # arbitrary black-box-model\n",
    "        self._mymodel = model\n",
    "        self.feature_cols = feature_cols\n",
    "\n",
    "    # List of the feature order the ml model was trained on\n",
    "    @property\n",
    "    def feature_input_order(self):\n",
    "        return self.feature_cols\n",
    "    # The ML framework the model was trained on\n",
    "    @property\n",
    "    def backend(self):\n",
    "        return \"pytorch\"\n",
    "\n",
    "    # The black-box model object\n",
    "    @property\n",
    "    def raw_model(self):\n",
    "        return self._mymodel\n",
    "\n",
    "    # The predict function outputs\n",
    "    # the continuous prediction of the model\n",
    "    def predict(self, x):\n",
    "        if isinstance(x, np.ndarray):\n",
    "            x = torch.from_numpy(x)\n",
    "        elif isinstance(x, pd.DataFrame):\n",
    "            x = torch.Tensor(x.values)\n",
    "        return self._mymodel(x).max(1).indices\n",
    "\n",
    "    # The predict_proba method outputs\n",
    "    # the prediction as class probabilities\n",
    "    def predict_proba(self, x):\n",
    "        if isinstance(x, np.ndarray):\n",
    "            x = torch.Tensor(x)\n",
    "        elif isinstance(x, pd.DataFrame):\n",
    "            x = torch.Tensor(x.values)\n",
    "        logits = self._mymodel(x)\n",
    "        probs = torch.nn.functional.softmax(logits, dim=1)\n",
    "        return probs.detach().numpy()\n",
    "    \n",
    "nat_model_carla = MyOwnModel(ds, nat_model, feature_cols)\n",
    "adv_model_carla = MyOwnModel(ds, adv_model, feature_cols)\n"
   ]
  },
  {
   "cell_type": "code",
   "execution_count": 4,
   "id": "28d487a3",
   "metadata": {},
   "outputs": [],
   "source": [
    "# Load Generated Counterfactuals\n",
    "factuals = ds.df[:500]\n",
    "counterfactuals_1 = pd.read_csv('data_artifacts/fashion/gs_cfs_natural_model_fashion.csv').drop('Unnamed: 0', axis=1)\n",
    "counterfactuals_2 = pd.read_csv('data_artifacts/fashion/gs_cfs_adv_model_fashion.csv').drop('Unnamed: 0', axis=1)\n"
   ]
  },
  {
   "cell_type": "markdown",
   "id": "a0068bfb",
   "metadata": {},
   "source": [
    "### Success Rate"
   ]
  },
  {
   "cell_type": "code",
   "execution_count": 5,
   "id": "98e66b89",
   "metadata": {},
   "outputs": [
    {
     "name": "stdout",
     "output_type": "stream",
     "text": [
      "Success Rate of Naturally Trained Model (Growing Spheres, Fashion): 1\n",
      "Success Rate of Adversarially Trained Model (Growing Spheres, Fashion): 1\n"
     ]
    }
   ],
   "source": [
    "print('Success Rate of Naturally Trained Model (Growing Spheres, Fashion): {}'.format(min(1, sum(counterfactuals_1['pixel_0_0'].notnull())/(factuals.shape[0]-sum(factuals['Income_Greater_50k']==1)))))\n",
    "print('Success Rate of Adversarially Trained Model (Growing Spheres, Fashion): {}'.format(min(1, sum(counterfactuals_1['pixel_0_0'].notnull())/(factuals.shape[0]-sum(factuals['Income_Greater_50k']==1)))))\n"
   ]
  },
  {
   "cell_type": "markdown",
   "id": "ac896032",
   "metadata": {},
   "source": [
    "### Distance From Original Point"
   ]
  },
  {
   "cell_type": "code",
   "execution_count": 6,
   "id": "d9d1dabe",
   "metadata": {},
   "outputs": [],
   "source": [
    "def dist(\n",
    "    factuals: Data,\n",
    "    counterfactuals: pd.DataFrame,\n",
    "    mlmodel: MLModel,\n",
    "    dist_type: int = 1,\n",
    ")-> List[float]:\n",
    "    \"\"\"\n",
    "    TODO\n",
    "    Parameters\n",
    "    ----------\n",
    "    counterfactuals: Generated counterfactual examples\n",
    "    recourse_method: Method we want to benchmark\n",
    "    y: Number of\n",
    "\n",
    "    Returns\n",
    "    -------\n",
    "    List[List[float]]\n",
    "    \"\"\"\n",
    "    distances = []\n",
    "    N = counterfactuals.shape[0]\n",
    "\n",
    "    for i, row in counterfactuals.iterrows():\n",
    "        if pd.isna(row).any():\n",
    "            distances.append(np.nan)\n",
    "            continue\n",
    "            \n",
    "        original = factuals.df.drop(mlmodel.data.target, axis=1).iloc[i].values.reshape((1,-1))\n",
    "        row_copy = row.drop(mlmodel.data.target)\n",
    "        row_copy = row_copy.values.reshape((1, -1))\n",
    "        distances.append(get_distances(row_copy, original)[0][dist_type])\n",
    "    return distances\n",
    "\n",
    "dist_1 = dist(ds, counterfactuals_1, nat_model_carla)\n",
    "dist_2 = dist(ds, counterfactuals_2, adv_model_carla)\n"
   ]
  },
  {
   "cell_type": "code",
   "execution_count": 7,
   "id": "c2ec09dd",
   "metadata": {},
   "outputs": [
    {
     "data": {
      "image/png": "[encoded data removed]",
      "text/plain": [
       "<Figure size 432x288 with 1 Axes>"
      ]
     },
     "metadata": {
      "needs_background": "light"
     },
     "output_type": "display_data"
    }
   ],
   "source": [
    "import seaborn as sns\n",
    "thing = ['natural']*len([val for val in dist_1 if not pd.isnull(val)])+['adversarial']*len([val for val in dist_2 if not pd.isnull(val)])\n",
    "df=pd.DataFrame(columns = ['ynn_dist', 'model_type'])\n",
    "df['ynn_dist'] = [val for val in dist_1 if not pd.isnull(val)] + [val for val in dist_2 if not pd.isnull(val)]\n",
    "df['model_type'] = thing\n",
    "colors = [\"#8DC63F\", \"#0F9AD6\", \"#013C5B\", \"#698795\", \"#000000\"]\n",
    "sns.set_palette(sns.color_palette(colors))\n",
    "\n",
    "ax = sns.violinplot(x=\"ynn_dist\", \n",
    "                    y=\"model_type\", \n",
    "                    data=df).set(title='Distance From Original Point to Counterfactual- GS, Fashion')\n"
   ]
  },
  {
   "cell_type": "code",
   "execution_count": 8,
   "id": "91f40a7f",
   "metadata": {},
   "outputs": [
    {
     "data": {
      "image/png": "[encoded data removed]",
      "text/plain": [
       "<Figure size 432x288 with 1 Axes>"
      ]
     },
     "metadata": {
      "needs_background": "light"
     },
     "output_type": "display_data"
    }
   ],
   "source": [
    "plt.figure()\n",
    "plt.boxplot([[val for val in dist_1 if not pd.isnull(val)], [val for val in dist_2 if not pd.isnull(val)]])\n",
    "plt.title('Avg. Distance from Original Point')\n",
    "plt.xticks([1, 2], ['Naturally Trained', 'Adversarially Trained'])\n",
    "plt.show()\n",
    "\n"
   ]
  },
  {
   "cell_type": "markdown",
   "id": "3702a8c7",
   "metadata": {},
   "source": [
    "### Distance to Positive Manifold"
   ]
  },
  {
   "cell_type": "code",
   "execution_count": 9,
   "id": "51289258",
   "metadata": {},
   "outputs": [],
   "source": [
    "def yNN_manifold(\n",
    "    factuals: Data,\n",
    "    counterfactuals: pd.DataFrame,\n",
    "    mlmodel: MLModel,\n",
    "    y: int = 1,\n",
    "    dist_type: int =1,\n",
    ")-> List[float]:\n",
    "    \"\"\"\n",
    "    TODO\n",
    "    Parameters\n",
    "    ----------\n",
    "    counterfactuals: Generated counterfactual examples\n",
    "    recourse_method: Method we want to benchmark\n",
    "    y: Number of\n",
    "\n",
    "    Returns\n",
    "    -------\n",
    "    List[List[float]]\n",
    "    \"\"\"\n",
    "    distances = []\n",
    "    N = counterfactuals.shape[0]\n",
    "\n",
    "    positive_class = factuals.df.loc[factuals.df.index[factuals.df[factuals.target]==1]]\n",
    "    \n",
    "    nbrs = NearestNeighbors(n_neighbors=y).fit(positive_class.values)\n",
    "\n",
    "    for i, row in counterfactuals.iterrows():\n",
    "        if pd.isna(row).any() or factuals.df.iloc[i][mlmodel.data.target]==1:\n",
    "            distances.append(np.nan)\n",
    "            continue\n",
    "        \n",
    "        knn = nbrs.kneighbors(factuals.df.iloc[i].values.reshape((1,-1)), 1, return_distance=False)[0]\n",
    "        original = factuals.df.drop(mlmodel.data.target, axis=1).iloc[i].values.reshape((1,-1))\n",
    "        neighbour = positive_class.iloc[knn[0]]\n",
    "        neighbour = neighbour.drop(mlmodel.data.target)\n",
    "        neighbour = neighbour.values.reshape((1, -1))\n",
    "        distance_original_to_closest_pos = get_distances(original, neighbour)[0][dist_type]\n",
    "        \n",
    "        knn = nbrs.kneighbors(row.values.reshape((1, -1)), y, return_distance=False)[0]\n",
    "        distances_local = 0\n",
    "        \n",
    "        for idx in knn:\n",
    "            neighbour = positive_class.iloc[idx]\n",
    "            neighbour = neighbour.drop(mlmodel.data.target)\n",
    "            neighbour = neighbour.values.reshape((1, -1))\n",
    "            row_copy = row.drop(mlmodel.data.target)\n",
    "            row_copy = row_copy.values.reshape((1, -1))\n",
    "            \n",
    "            distances_local += get_distances(row_copy, neighbour)[0][dist_type]\n",
    "        distances.append(((1 / y) * distances_local)/distance_original_to_closest_pos)\n",
    "    return distances\n",
    "\n",
    "def sphere_manifold(\n",
    "    factuals: Data,\n",
    "    counterfactuals: pd.DataFrame,\n",
    "    mlmodel: MLModel,\n",
    "    sphere_factor: float = 0.8,\n",
    "    dist_type: int = 2,\n",
    ")-> List[List[float]]:\n",
    "    \"\"\"\n",
    "    TODO\n",
    "    Parameters\n",
    "    ----------\n",
    "    counterfactuals: Generated counterfactual examples\n",
    "    recourse_method: Method we want to benchmark\n",
    "    y: Number of\n",
    "\n",
    "    Returns\n",
    "    -------\n",
    "    List[List[float]]\n",
    "    \"\"\"\n",
    "    distances = []\n",
    "    N = counterfactuals.shape[0]\n",
    "\n",
    "    positive_class = factuals.df.loc[factuals.df.index[factuals.df[factuals.target]==1]]\n",
    "    \n",
    "    for i, row in counterfactuals.iterrows():\n",
    "        if pd.isna(row).any() or factuals.df.iloc[i][mlmodel.data.target]==1:\n",
    "            distances.append(np.nan)\n",
    "            continue\n",
    "        all_deltas = np.asarray(factuals.df.drop(mlmodel.data.target, axis=1) - row.drop(mlmodel.data.target))\n",
    "        all_dists = np.sum(np.square(np.abs(all_deltas)), axis=1, dtype=np.float)\n",
    "        all_euc_dist = np.sqrt(all_dists)\n",
    "        radius = np.mean(all_euc_dist)*sphere_factor\n",
    "\n",
    "        pos_deltas = np.asarray(positive_class.drop(mlmodel.data.target, axis=1) - row.drop(mlmodel.data.target))\n",
    "        pos_dists = np.sum(np.square(np.abs(pos_deltas)), axis=1, dtype=np.float)\n",
    "        pos_euc_dist = np.sqrt(pos_dists)\n",
    "        relevant_neighbors = np.where(pos_euc_dist < radius)[0]\n",
    "        #print(relevant_neighbors)\n",
    "        if len(relevant_neighbors) == 0:\n",
    "            distances.append(np.nan)\n",
    "        else:\n",
    "            relevant_distances = pos_euc_dist[relevant_neighbors]\n",
    "            distances.append(np.mean(relevant_distances))\n",
    "        \n",
    "    return distances\n"
   ]
  },
  {
   "cell_type": "code",
   "execution_count": 10,
   "id": "bd0b5c6a",
   "metadata": {},
   "outputs": [],
   "source": [
    "ynn_1 = yNN_manifold(ds, counterfactuals_1, nat_model_carla)\n",
    "ynn_2 = yNN_manifold(ds, counterfactuals_2, adv_model_carla)\n",
    "\n",
    "sphere_1 = sphere_manifold(ds, counterfactuals_1, nat_model_carla)\n",
    "sphere_2 = sphere_manifold(ds, counterfactuals_2, adv_model_carla)"
   ]
  },
  {
   "cell_type": "code",
   "execution_count": 11,
   "id": "66b9a374",
   "metadata": {},
   "outputs": [
    {
     "data": {
      "image/png": "[encoded data removed]",
      "text/plain": [
       "<Figure size 432x288 with 1 Axes>"
      ]
     },
     "metadata": {
      "needs_background": "light"
     },
     "output_type": "display_data"
    }
   ],
   "source": [
    "import seaborn as sns\n",
    "thing = ['natural']*len([val for val in ynn_1 if not pd.isnull(val)])+['adversarial']*len([val for val in ynn_2 if not pd.isnull(val)])\n",
    "df=pd.DataFrame(columns = ['ynn_dist', 'model_type'])\n",
    "df['ynn_dist'] = [val for val in ynn_1 if not pd.isnull(val)] + [val for val in ynn_2 if not pd.isnull(val)]\n",
    "df['model_type'] = thing\n",
    "colors = [\"#8DC63F\", \"#0F9AD6\", \"#013C5B\", \"#698795\", \"#000000\"]\n",
    "sns.set_palette(sns.color_palette(colors))\n",
    "\n",
    "ax = sns.violinplot(x=\"ynn_dist\", \n",
    "                    y=\"model_type\", \n",
    "                    data=df).set(title='Avg. Distance to 5 Nearest Neighbors- Fashion, GS, 5NN')\n"
   ]
  },
  {
   "cell_type": "code",
   "execution_count": 12,
   "id": "c4b0ec26",
   "metadata": {},
   "outputs": [
    {
     "data": {
      "image/png": "[encoded data removed]",
      "text/plain": [
       "<Figure size 432x288 with 1 Axes>"
      ]
     },
     "metadata": {
      "needs_background": "light"
     },
     "output_type": "display_data"
    }
   ],
   "source": [
    "import matplotlib.pyplot as plt\n",
    "\n",
    "plt.figure()\n",
    "plt.boxplot([[val for val in ynn_1 if not pd.isnull(val)], [val for val in ynn_2 if not pd.isnull(val)]])\n",
    "plt.title('Avg. Distance to 5 Nearest Neighbors- Fashion')\n",
    "plt.xticks([1, 2], ['Naturally Trained', 'Adversarially Trained'])\n",
    "plt.show()"
   ]
  },
  {
   "cell_type": "code",
   "execution_count": 13,
   "id": "ce85740a",
   "metadata": {},
   "outputs": [
    {
     "data": {
      "image/png": "[encoded data removed]",
      "text/plain": [
       "<Figure size 432x288 with 1 Axes>"
      ]
     },
     "metadata": {
      "needs_background": "light"
     },
     "output_type": "display_data"
    }
   ],
   "source": [
    "import seaborn as sns\n",
    "thing = ['natural']*len([val for val in sphere_1 if not pd.isnull(val)])+['adversarial']*len([val for val in sphere_2 if not pd.isnull(val)])\n",
    "df=pd.DataFrame(columns = ['ynn_dist', 'model_type'])\n",
    "df['ynn_dist'] = [val for val in sphere_1 if not pd.isnull(val)] + [val for val in sphere_2 if not pd.isnull(val)]\n",
    "df['model_type'] = thing\n",
    "colors = [\"#8DC63F\", \"#0F9AD6\", \"#013C5B\", \"#698795\", \"#000000\"]\n",
    "sns.set_palette(sns.color_palette(colors))\n",
    "\n",
    "ax = sns.violinplot(x=\"ynn_dist\", \n",
    "                    y=\"model_type\", \n",
    "                    data=df).set(title='Avg. Distance to 5 Nearest Neighbors- Fashion, GS, Sphere')\n"
   ]
  },
  {
   "cell_type": "code",
   "execution_count": 14,
   "id": "f6e91f3d",
   "metadata": {},
   "outputs": [
    {
     "data": {
      "image/png": "[encoded data removed]",
      "text/plain": [
       "<Figure size 432x288 with 1 Axes>"
      ]
     },
     "metadata": {
      "needs_background": "light"
     },
     "output_type": "display_data"
    }
   ],
   "source": [
    "import matplotlib.pyplot as plt\n",
    "\n",
    "plt.figure()\n",
    "plt.boxplot([[val for val in sphere_1 if not pd.isnull(val)], [val for val in sphere_2 if not pd.isnull(val)]])\n",
    "plt.title('Avg. Distance to Nearest Neighbors in L2 Sphere- MNIST')\n",
    "plt.xticks([1, 2], ['Naturally Trained', 'Adversarially Trained'])\n",
    "plt.show()"
   ]
  },
  {
   "cell_type": "markdown",
   "id": "19ebe06b",
   "metadata": {},
   "source": [
    "### Normalized Distance from Original Point"
   ]
  },
  {
   "cell_type": "code",
   "execution_count": 15,
   "id": "2005c648",
   "metadata": {},
   "outputs": [],
   "source": [
    "def norm_dist(\n",
    "    factuals: Data,\n",
    "    counterfactuals: pd.DataFrame,\n",
    "    mlmodel: MLModel,\n",
    "    dist_type: int = 1,\n",
    ")-> List[float]:\n",
    "    \"\"\"\n",
    "    TODO\n",
    "    Parameters\n",
    "    ----------\n",
    "    counterfactuals: Generated counterfactual examples\n",
    "    recourse_method: Method we want to benchmark\n",
    "    y: Number of\n",
    "\n",
    "    Returns\n",
    "    -------\n",
    "    List[List[float]]\n",
    "    \"\"\"\n",
    "    distances = []\n",
    "    N = counterfactuals.shape[0]\n",
    "    \n",
    "    positive_class = factuals.df.loc[factuals.df.index[factuals.df[factuals.target]==1]]\n",
    "    \n",
    "    nbrs = NearestNeighbors(n_neighbors=1).fit(positive_class.values)\n",
    "    \n",
    "\n",
    "    for i, row in counterfactuals.iterrows():\n",
    "        if pd.isna(row).any() or factuals.df.iloc[i][mlmodel.data.target]==1:\n",
    "            distances.append(np.nan)\n",
    "            continue\n",
    "        knn = nbrs.kneighbors(factuals.df.iloc[i].values.reshape((1,-1)), 1, return_distance=False)[0]\n",
    "        original = factuals.df.drop(mlmodel.data.target, axis=1).iloc[i].values.reshape((1,-1))\n",
    "        neighbour = positive_class.iloc[knn[0]]\n",
    "        neighbour = neighbour.drop(mlmodel.data.target)\n",
    "        neighbour = neighbour.values.reshape((1, -1))\n",
    "        \n",
    "        distance_original_to_closest_pos = get_distances(original, neighbour)[0][dist_type]\n",
    "        \n",
    "            \n",
    "        row_copy = row.drop(mlmodel.data.target)\n",
    "        row_copy = row_copy.values.reshape((1, -1))\n",
    "        \n",
    "        distance_cf_to_original = get_distances(row_copy, original)[0][dist_type]\n",
    "        \n",
    "        distances.append(distance_cf_to_original/distance_original_to_closest_pos)\n",
    "    return distances\n",
    "\n",
    "norm_dist_1 = norm_dist(ds, counterfactuals_1, nat_model_carla)\n",
    "norm_dist_2 = norm_dist(ds, counterfactuals_2, adv_model_carla)"
   ]
  },
  {
   "cell_type": "code",
   "execution_count": 16,
   "id": "93637cd6",
   "metadata": {},
   "outputs": [
    {
     "data": {
      "image/png": "[encoded data removed]",
      "text/plain": [
       "<Figure size 432x288 with 1 Axes>"
      ]
     },
     "metadata": {
      "needs_background": "light"
     },
     "output_type": "display_data"
    }
   ],
   "source": [
    "plt.figure()\n",
    "plt.boxplot([[val for val in norm_dist_1 if not pd.isnull(val)], [val for val in norm_dist_2 if not pd.isnull(val)]])\n",
    "plt.title('Avg. Normalized Distance from Original Point')\n",
    "plt.xticks([1, 2], ['Naturally Trained', 'Adversarially Trained'])\n",
    "plt.show()"
   ]
  },
  {
   "cell_type": "markdown",
   "id": "696ef940",
   "metadata": {},
   "source": [
    "### Plotting Normalized Distance From Original vs. Manifold Proximity"
   ]
  },
  {
   "cell_type": "code",
   "execution_count": 17,
   "id": "aa6eeb74",
   "metadata": {
    "scrolled": true
   },
   "outputs": [
    {
     "data": {
      "text/plain": [
       "Text(0, 0.5, 'Proximity to Positive Manifold')"
      ]
     },
     "execution_count": 17,
     "metadata": {},
     "output_type": "execute_result"
    },
    {
     "data": {
      "image/png": "[encoded data removed]",
      "text/plain": [
       "<Figure size 432x288 with 1 Axes>"
      ]
     },
     "metadata": {
      "needs_background": "light"
     },
     "output_type": "display_data"
    }
   ],
   "source": [
    "plt.scatter(norm_dist_1, ynn_1)\n",
    "plt.title('Natural Model')\n",
    "plt.xlabel('Distance from Original Point')\n",
    "plt.ylabel('Proximity to Positive Manifold')\n"
   ]
  },
  {
   "cell_type": "code",
   "execution_count": 18,
   "id": "369da0c0",
   "metadata": {},
   "outputs": [
    {
     "data": {
      "image/png": "[encoded data removed]",
      "text/plain": [
       "<Figure size 432x288 with 1 Axes>"
      ]
     },
     "metadata": {
      "needs_background": "light"
     },
     "output_type": "display_data"
    }
   ],
   "source": [
    "x = [val for val in norm_dist_1 if not pd.isnull(val)]\n",
    "y = [val for val in ynn_1 if not pd.isnull(val)]\n",
    "heatmap, xedges, yedges = np.histogram2d(x, y, bins=50)\n",
    "extent = [xedges[0], xedges[-1], yedges[0], yedges[-1]]\n",
    "\n",
    "plt.clf()\n",
    "plt.imshow(heatmap.T, extent=extent, origin='lower')\n",
    "plt.show()"
   ]
  },
  {
   "cell_type": "code",
   "execution_count": 19,
   "id": "683cf8ae",
   "metadata": {},
   "outputs": [
    {
     "data": {
      "text/plain": [
       "Text(0, 0.5, 'Proximity to Positive Manifold')"
      ]
     },
     "execution_count": 19,
     "metadata": {},
     "output_type": "execute_result"
    },
    {
     "data": {
      "image/png": "[encoded data removed]",
      "text/plain": [
       "<Figure size 432x288 with 1 Axes>"
      ]
     },
     "metadata": {
      "needs_background": "light"
     },
     "output_type": "display_data"
    }
   ],
   "source": [
    "plt.scatter(norm_dist_2, ynn_2)\n",
    "plt.title('Adversarial Model')\n",
    "plt.xlabel('Distance from Original Point')\n",
    "plt.ylabel('Proximity to Positive Manifold')\n"
   ]
  },
  {
   "cell_type": "code",
   "execution_count": 20,
   "id": "7c14b657",
   "metadata": {},
   "outputs": [
    {
     "data": {
      "image/png": "[encoded data removed]",
      "text/plain": [
       "<Figure size 432x288 with 1 Axes>"
      ]
     },
     "metadata": {
      "needs_background": "light"
     },
     "output_type": "display_data"
    }
   ],
   "source": [
    "x = [val for val in norm_dist_2 if not pd.isnull(val)]\n",
    "y = [val for val in ynn_2 if not pd.isnull(val)]\n",
    "heatmap, xedges, yedges = np.histogram2d(x, y, bins=50)\n",
    "extent = [xedges[0], xedges[-1], yedges[0], yedges[-1]]\n",
    "\n",
    "plt.clf()\n",
    "plt.imshow(heatmap.T, extent=extent, origin='lower')\n",
    "plt.show()"
   ]
  },
  {
   "cell_type": "markdown",
   "id": "ca4f3d87",
   "metadata": {},
   "source": [
    "### Connectedness"
   ]
  },
  {
   "cell_type": "code",
   "execution_count": 21,
   "id": "16178a36",
   "metadata": {},
   "outputs": [],
   "source": [
    "def connectedness(\n",
    "    factuals: Data,\n",
    "    counterfactuals: pd.DataFrame,\n",
    "    mlmodel: MLModel,\n",
    "    dist_type: int =1,\n",
    "):#-> List[float]:\n",
    "    \"\"\"\n",
    "    TODO\n",
    "    Parameters\n",
    "    ----------\n",
    "    counterfactuals: Generated counterfactual examples\n",
    "    recourse_method: Method we want to benchmark\n",
    "    y: Number of\n",
    "\n",
    "    Returns\n",
    "    -------\n",
    "    List[List[float]]\n",
    "    \"\"\"\n",
    "    crosses = []\n",
    "    N = counterfactuals.shape[0]\n",
    "\n",
    "    positive_class = factuals.df.loc[factuals.df.index[factuals.df[factuals.target]==1]]\n",
    "    \n",
    "    nbrs = NearestNeighbors(n_neighbors=1).fit(positive_class.values)\n",
    "\n",
    "    for i, row in counterfactuals.iterrows():\n",
    "        if pd.isna(row).any():\n",
    "            crosses.append(np.nan)\n",
    "            continue\n",
    "        knn = nbrs.kneighbors(row.values.reshape((1, -1)), 1, return_distance=False)[0]\n",
    "        cross = 0\n",
    "        row = row.drop(mlmodel.data.target)\n",
    "        for idx in knn:\n",
    "            neighbour = positive_class.iloc[idx]\n",
    "            neighbour = neighbour.drop(mlmodel.data.target)\n",
    "            step = (neighbour-row)/100\n",
    "            step_df = pd.DataFrame(columns = row.index, index = np.arange(100)).astype(neighbour.dtypes)\n",
    "            for j in range(100):\n",
    "                step_df.iloc[j] = (row+step*(j+1)).astype(np.float64)\n",
    "            preds = []\n",
    "            preds = mlmodel.predict_proba(step_df).argmax(1)\n",
    "            for j, pred in enumerate(preds):\n",
    "                if j < len(preds)-1:\n",
    "                    if pred == 1 and preds[j+1] == 0:\n",
    "                        cross += 1\n",
    "        crosses.append(cross)\n",
    "    return crosses"
   ]
  },
  {
   "cell_type": "code",
   "execution_count": 22,
   "id": "db0567e0",
   "metadata": {},
   "outputs": [],
   "source": [
    "con_gs_1 = connectedness(ds, counterfactuals_1, nat_model_carla)\n",
    "con_gs_2 = connectedness(ds, counterfactuals_2, adv_model_carla)\n"
   ]
  },
  {
   "cell_type": "code",
   "execution_count": 23,
   "id": "3a97b981",
   "metadata": {},
   "outputs": [
    {
     "data": {
      "image/png": "[encoded data removed]",
      "text/plain": [
       "<Figure size 432x288 with 1 Axes>"
      ]
     },
     "metadata": {
      "needs_background": "light"
     },
     "output_type": "display_data"
    },
    {
     "data": {
      "image/png": "[encoded data removed]",
      "text/plain": [
       "<Figure size 432x288 with 1 Axes>"
      ]
     },
     "metadata": {
      "needs_background": "light"
     },
     "output_type": "display_data"
    }
   ],
   "source": [
    "plt.figure()\n",
    "plt.hist(con_gs_1)\n",
    "plt.xlabel('Connectedness Of Natural Model- Fashion MNIST')\n",
    "plt.show()\n",
    "\n",
    "plt.figure()\n",
    "plt.hist(con_gs_2)\n",
    "plt.xlabel('Connectedness Of Adversarial Model- Fashion MNIST')\n",
    "plt.show()"
   ]
  },
  {
   "cell_type": "code",
   "execution_count": 24,
   "id": "af8d570f",
   "metadata": {},
   "outputs": [
    {
     "data": {
      "text/plain": [
       "185"
      ]
     },
     "execution_count": 24,
     "metadata": {},
     "output_type": "execute_result"
    }
   ],
   "source": [
    "sum([1 if val == 0 else 0 for val in con_gs_1])"
   ]
  },
  {
   "cell_type": "code",
   "execution_count": 25,
   "id": "f9588e79",
   "metadata": {},
   "outputs": [
    {
     "data": {
      "image/png": "[encoded data removed]",
      "text/plain": [
       "<Figure size 720x360 with 1 Axes>"
      ]
     },
     "metadata": {
      "needs_background": "light"
     },
     "output_type": "display_data"
    }
   ],
   "source": [
    "# Numbers of pairs of bars you want\n",
    "N = 2\n",
    "\n",
    "# Data on X-axis\n",
    "\n",
    "# Specify the values of blue bars (height)\n",
    "blue_bar = (sum([1 if val == 0 else 0 for val in con_gs_1]), sum([1 if val == 1 else 0 for val in con_gs_1]))\n",
    "# Specify the values of orange bars (height)\n",
    "orange_bar = (sum([1 if val == 0 else 0 for val in con_gs_2]), sum([1 if val == 1 else 0 for val in con_gs_2]))\n",
    "\n",
    "# Position of bars on x-axis\n",
    "ind = np.arange(N)\n",
    "\n",
    "# Figure size\n",
    "plt.figure(figsize=(10,5))\n",
    "\n",
    "# Width of a bar \n",
    "width = 0.3       \n",
    "\n",
    "# Plotting\n",
    "plt.bar(ind, blue_bar , width, label='Natural')\n",
    "plt.bar(ind + width, orange_bar, width, label='Adversarial')\n",
    "\n",
    "plt.xlabel('Number of Discontinuities')\n",
    "plt.title('Connectedness of Natural vs. Adversarial Counterfactuals')\n",
    "\n",
    "# xticks()\n",
    "# First argument - A list of positions at which ticks should be placed\n",
    "# Second argument -  A list of labels to place at the given locations\n",
    "plt.xticks(ind + width / 2, ('0', '1'))\n",
    "\n",
    "# Finding the best position for legends and putting it\n",
    "plt.legend(loc='best')\n",
    "plt.show()"
   ]
  },
  {
   "cell_type": "markdown",
   "id": "9dd60a29",
   "metadata": {},
   "source": [
    "# Constrained-- Adult\n"
   ]
  },
  {
   "cell_type": "markdown",
   "id": "dddc7a38",
   "metadata": {},
   "source": [
    "## Growing Spheres"
   ]
  },
  {
   "cell_type": "code",
   "execution_count": 26,
   "id": "812d23df",
   "metadata": {},
   "outputs": [],
   "source": [
    "# Load Data and Generated Counterfactuals ()"
   ]
  },
  {
   "cell_type": "code",
   "execution_count": null,
   "id": "e867d083",
   "metadata": {},
   "outputs": [],
   "source": []
  },
  {
   "cell_type": "code",
   "execution_count": null,
   "id": "bc7d1070",
   "metadata": {},
   "outputs": [],
   "source": []
  },
  {
   "cell_type": "markdown",
   "id": "8af7f7bb",
   "metadata": {},
   "source": [
    "### Success Rate"
   ]
  },
  {
   "cell_type": "code",
   "execution_count": null,
   "id": "4c2b173f",
   "metadata": {},
   "outputs": [],
   "source": []
  },
  {
   "cell_type": "markdown",
   "id": "539f4ce3",
   "metadata": {},
   "source": [
    "### Distance From Original Point"
   ]
  },
  {
   "cell_type": "code",
   "execution_count": null,
   "id": "bc1b1b2f",
   "metadata": {},
   "outputs": [],
   "source": []
  },
  {
   "cell_type": "markdown",
   "id": "42114d32",
   "metadata": {},
   "source": [
    "### Normalized Distance from Original Point"
   ]
  },
  {
   "cell_type": "code",
   "execution_count": null,
   "id": "3daf8acc",
   "metadata": {},
   "outputs": [],
   "source": []
  },
  {
   "cell_type": "markdown",
   "id": "96bd09d1",
   "metadata": {},
   "source": [
    "### Distance to Positive Manifold"
   ]
  },
  {
   "cell_type": "code",
   "execution_count": null,
   "id": "b88c04d5",
   "metadata": {},
   "outputs": [],
   "source": []
  },
  {
   "cell_type": "markdown",
   "id": "08ec4fb0",
   "metadata": {},
   "source": [
    "### Continuity"
   ]
  },
  {
   "cell_type": "code",
   "execution_count": null,
   "id": "7d7a44df",
   "metadata": {},
   "outputs": [],
   "source": []
  },
  {
   "cell_type": "code",
   "execution_count": null,
   "id": "487e05d3",
   "metadata": {},
   "outputs": [],
   "source": []
  },
  {
   "cell_type": "code",
   "execution_count": null,
   "id": "b4e4cd4a",
   "metadata": {},
   "outputs": [],
   "source": []
  },
  {
   "cell_type": "markdown",
   "id": "6cc01195",
   "metadata": {},
   "source": [
    "## Actionable Recourse"
   ]
  },
  {
   "cell_type": "markdown",
   "id": "042cbe7c",
   "metadata": {},
   "source": [
    "### Success Rate"
   ]
  },
  {
   "cell_type": "code",
   "execution_count": null,
   "id": "96567322",
   "metadata": {},
   "outputs": [],
   "source": []
  },
  {
   "cell_type": "code",
   "execution_count": null,
   "id": "9a14ffd5",
   "metadata": {},
   "outputs": [],
   "source": []
  },
  {
   "cell_type": "markdown",
   "id": "2d2653be",
   "metadata": {},
   "source": [
    "### Distance From Original Point"
   ]
  },
  {
   "cell_type": "code",
   "execution_count": null,
   "id": "a6df4d7d",
   "metadata": {},
   "outputs": [],
   "source": []
  },
  {
   "cell_type": "markdown",
   "id": "b5dcc782",
   "metadata": {},
   "source": [
    "### Normalized Distance from Original Point"
   ]
  },
  {
   "cell_type": "code",
   "execution_count": null,
   "id": "05b89465",
   "metadata": {},
   "outputs": [],
   "source": []
  },
  {
   "cell_type": "markdown",
   "id": "47fb694a",
   "metadata": {},
   "source": [
    "### Distance to Positive Manifold"
   ]
  },
  {
   "cell_type": "code",
   "execution_count": null,
   "id": "fb865873",
   "metadata": {},
   "outputs": [],
   "source": []
  },
  {
   "cell_type": "markdown",
   "id": "dfec411b",
   "metadata": {},
   "source": [
    "### Continuity"
   ]
  },
  {
   "cell_type": "code",
   "execution_count": null,
   "id": "56f5d730",
   "metadata": {},
   "outputs": [],
   "source": []
  },
  {
   "cell_type": "code",
   "execution_count": null,
   "id": "2a99adc1",
   "metadata": {},
   "outputs": [],
   "source": []
  },
  {
   "cell_type": "code",
   "execution_count": null,
   "id": "61ddc095",
   "metadata": {},
   "outputs": [],
   "source": []
  }
 ],
 "metadata": {
  "kernelspec": {
   "display_name": "myenv",
   "language": "python",
   "name": "myenv"
  },
  "language_info": {
   "codemirror_mode": {
    "name": "ipython",
    "version": 3
   },
   "file_extension": ".py",
   "mimetype": "text/x-python",
   "name": "python",
   "nbconvert_exporter": "python",
   "pygments_lexer": "ipython3",
   "version": "3.7.13"
  }
 },
 "nbformat": 4,
 "nbformat_minor": 5
}
